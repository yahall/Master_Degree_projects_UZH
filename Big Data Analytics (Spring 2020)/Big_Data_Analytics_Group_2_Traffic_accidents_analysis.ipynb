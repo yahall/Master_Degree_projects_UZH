{
 "cells": [
  {
   "cell_type": "markdown",
   "metadata": {
    "colab_type": "text",
    "id": "HznjOew_Q6aP"
   },
   "source": [
    "# Big-Data Analytics: Traffic accidents in United Kingdom from 2005 to 2018"
   ]
  },
  {
   "cell_type": "markdown",
   "metadata": {
    "colab_type": "text",
    "id": "VTTl1Dd9Q6aQ"
   },
   "source": [
    "The aim of this project is to analyze the traffic accidents dataset of the United Kingdom for the period 2008 until 2018. The dataset contains granular information about accidents, involved vehicles, and casualties over a period of 14 years. We want to gain insights into various interesting questions, e.g. which age-group causes most accidents, what time of the day is especially prone to accidents, how do speed limits relate to accident severity, and many more interesting questions. We try to follow a more scientific approach by stating hypotheses first, and then using the data to answer our hypotheses, where most of the times simple plots are sufficient."
   ]
  },
  {
   "cell_type": "markdown",
   "metadata": {
    "colab_type": "text",
    "id": "82au83XyQ6aT"
   },
   "source": [
    "**Course**: Big-Data Analytics, University of Zurich, Spring 2020\n",
    "\n",
    "**Instructor**: Dr. Sven Helmer\n",
    "\n",
    "**Authors**: Rino Beeli (15-709-371), Yannik Haller (12-918-645), Wenxi Feng (18-745-257)\n",
    "\n",
    "**Group**: 2"
   ]
  },
  {
   "cell_type": "markdown",
   "metadata": {
    "colab_type": "text",
    "id": "yFsXRk6G8mui"
   },
   "source": [
    "---"
   ]
  },
  {
   "cell_type": "markdown",
   "metadata": {
    "colab_type": "text",
    "id": "TZQSgTbhIk7U"
   },
   "source": [
    "We first make sure that all packages used throughout this Jupyter notebook are installed and loaded (expect for the last parts using kepler.gl, TensorFlow and Keras)."
   ]
  },
  {
   "cell_type": "code",
   "execution_count": 5,
   "metadata": {
    "colab": {
     "base_uri": "https://localhost:8080/",
     "height": 56
    },
    "colab_type": "code",
    "id": "9MzzAmsUInhh",
    "outputId": "7d1f8d77-cdb2-4e78-869d-9d8df4c4bc3f"
   },
   "outputs": [
    {
     "name": "stdout",
     "output_type": "stream",
     "text": [
      "Requirement already satisfied: pandas in ./env/lib/python3.6/site-packages\n",
      "Requirement already satisfied: numpy in ./env/lib/python3.6/site-packages\n",
      "Requirement already satisfied: matplotlib in ./env/lib/python3.6/site-packages\n",
      "Requirement already satisfied: sklearn in ./env/lib/python3.6/site-packages\n",
      "Requirement already satisfied: pytz>=2017.2 in ./env/lib/python3.6/site-packages (from pandas)\n",
      "Requirement already satisfied: python-dateutil>=2.6.1 in ./env/lib/python3.6/site-packages (from pandas)\n",
      "Requirement already satisfied: cycler>=0.10 in ./env/lib/python3.6/site-packages (from matplotlib)\n",
      "Requirement already satisfied: pyparsing!=2.0.4,!=2.1.2,!=2.1.6,>=2.0.1 in ./env/lib/python3.6/site-packages (from matplotlib)\n",
      "Requirement already satisfied: kiwisolver>=1.0.1 in ./env/lib/python3.6/site-packages (from matplotlib)\n",
      "Requirement already satisfied: scikit-learn in ./env/lib/python3.6/site-packages (from sklearn)\n",
      "Requirement already satisfied: six>=1.5 in ./env/lib/python3.6/site-packages (from python-dateutil>=2.6.1->pandas)\n",
      "Requirement already satisfied: joblib>=0.11 in ./env/lib/python3.6/site-packages (from scikit-learn->sklearn)\n",
      "Requirement already satisfied: threadpoolctl>=2.0.0 in ./env/lib/python3.6/site-packages (from scikit-learn->sklearn)\n",
      "Requirement already satisfied: scipy>=0.19.1 in ./env/lib/python3.6/site-packages (from scikit-learn->sklearn)\n"
     ]
    }
   ],
   "source": [
    "!pip install pandas numpy matplotlib sklearn\n",
    "import os\n",
    "import sys\n",
    "import glob\n",
    "import pandas as pd\n",
    "import numpy as np\n",
    "import urllib.request                     # HTTP downloader\n",
    "from zipfile import ZipFile               # ZIP file decompressor\n",
    "import matplotlib.pyplot as plt           # plotting"
   ]
  },
  {
   "cell_type": "code",
   "execution_count": 6,
   "metadata": {},
   "outputs": [
    {
     "name": "stdout",
     "output_type": "stream",
     "text": [
      "3.6.9 (default, Apr 18 2020, 01:56:04) \n",
      "[GCC 8.4.0]\n"
     ]
    }
   ],
   "source": [
    "print (sys.version)"
   ]
  },
  {
   "cell_type": "markdown",
   "metadata": {
    "colab_type": "text",
    "id": "3x9L14XCeA9B"
   },
   "source": [
    "We have implemented and tested this notebook using **Python 3.6.9** and **Jupyter Lab 2.1.3**, therefore recommend to use the same/compatible versions of Python/Jupyter Lab."
   ]
  },
  {
   "cell_type": "markdown",
   "metadata": {
    "colab_type": "text",
    "id": "MCuLDMPAQ6aW"
   },
   "source": [
    "# Raw data collection"
   ]
  },
  {
   "cell_type": "markdown",
   "metadata": {
    "colab_type": "text",
    "id": "BSYZcNQSbS0N"
   },
   "source": [
    "The **raw data files** are automatically downloaded from the website of the [Department for Transport of the United Kingdom](https://www.gov.uk/government/organisations/department-for-transport) into the file system folder **uktraffic** of your current working directory, if they haven't been loaded already (684 MB uncompressed):"
   ]
  },
  {
   "cell_type": "code",
   "execution_count": 7,
   "metadata": {
    "colab": {
     "base_uri": "https://localhost:8080/",
     "height": 56
    },
    "colab_type": "code",
    "id": "VQouuKz_Q6aZ",
    "outputId": "7b6ce658-4951-45db-f684-86d38cbdebad"
   },
   "outputs": [
    {
     "name": "stdout",
     "output_type": "stream",
     "text": [
      "Working directory: \t /home/rino/bigdataroot\n",
      "Data directory: \t /home/rino/bigdataroot/uktraffic/\n"
     ]
    }
   ],
   "source": [
    "# folder containing all csv files\n",
    "path = 'uktraffic/'\n",
    "print(f'Working directory: \\t {os.getcwd()}')\n",
    "print(f'Data directory: \\t {os.getcwd()}/{path}')"
   ]
  },
  {
   "cell_type": "markdown",
   "metadata": {
    "colab_type": "text",
    "id": "o2a-kdLE9QAa"
   },
   "source": [
    "Download ZIP data files:"
   ]
  },
  {
   "cell_type": "code",
   "execution_count": 8,
   "metadata": {
    "colab": {
     "base_uri": "https://localhost:8080/",
     "height": 308
    },
    "colab_type": "code",
    "id": "t86r8buCa3lT",
    "outputId": "e4095cf9-01fa-4e24-f98c-e802c8bb06b0"
   },
   "outputs": [
    {
     "data": {
      "text/plain": [
       "['uktraffic/2015/Accidents_2015.csv',\n",
       " 'uktraffic/2015/Vehicles_2015.csv',\n",
       " 'uktraffic/2015/Casualties_2015.csv',\n",
       " 'uktraffic/0514/Vehicles0514.csv',\n",
       " 'uktraffic/0514/Casualties0514.csv',\n",
       " 'uktraffic/0514/Accidents0514.csv',\n",
       " 'uktraffic/2016/dftRoadSafety_Accidents_2016.csv',\n",
       " 'uktraffic/2016/Veh.csv',\n",
       " 'uktraffic/2016/Cas.csv',\n",
       " 'uktraffic/2018/dftRoadSafetyData_Accidents_2018.csv',\n",
       " 'uktraffic/2018/dftRoadSafetyData_Casualties_2018.csv',\n",
       " 'uktraffic/2018/dftRoadSafetyData_Vehicles_2018.csv',\n",
       " 'uktraffic/2017/Acc.csv',\n",
       " 'uktraffic/2017/Veh.csv',\n",
       " 'uktraffic/2017/Cas.csv']"
      ]
     },
     "execution_count": 8,
     "metadata": {},
     "output_type": "execute_result"
    }
   ],
   "source": [
    "# create data folder\n",
    "os.makedirs(path, exist_ok=True)\n",
    "\n",
    "def download(url, target):\n",
    "    \"\"\" URL download function - stores the file into the `uktraffic` folder. \"\"\"\n",
    "    filename = os.path.split(url)\n",
    "    target = os.path.join(target, filename[1])\n",
    "    urllib.request.urlretrieve(url, target)\n",
    "    return target\n",
    "    \n",
    "# download ZIP files and decompress if not already done\n",
    "if not os.path.isfile(path + '2018/dftRoadSafetyData_Accidents_2018.csv'):\n",
    "    zips = [\n",
    "        # 2005-2014\n",
    "        ['0514', download('http://data.dft.gov.uk.s3.amazonaws.com/road-accidents-safety-data/Stats19_Data_2005-2014.zip', path)],\n",
    "        # 2015\n",
    "        ['2015', download('http://data.dft.gov.uk/road-accidents-safety-data/RoadSafetyData_2015.zip', path)],\n",
    "        # 2016\n",
    "        ['2016', download('http://data.dft.gov.uk/road-accidents-safety-data/dftRoadSafetyData_Casualties_2016.zip', path)],\n",
    "        ['2016', download('http://data.dft.gov.uk/road-accidents-safety-data/dftRoadSafetyData_Vehicles_2016.zip', path)],\n",
    "        ['2016', download('http://data.dft.gov.uk/road-accidents-safety-data/dftRoadSafety_Accidents_2016.zip', path)],\n",
    "        # 2017\n",
    "        ['2017', download('http://data.dft.gov.uk.s3.amazonaws.com/road-accidents-safety-data/dftRoadSafetyData_Vehicles_2017.zip', path)],\n",
    "        ['2017', download('http://data.dft.gov.uk.s3.amazonaws.com/road-accidents-safety-data/dftRoadSafetyData_Casualties_2017.zip', path)],\n",
    "        ['2017', download('http://data.dft.gov.uk.s3.amazonaws.com/road-accidents-safety-data/dftRoadSafetyData_Accidents_2017.zip', path)]\n",
    "    ]\n",
    "    \n",
    "    # 2018\n",
    "    os.makedirs(path + '2018', exist_ok=True)\n",
    "    download('http://data.dft.gov.uk/road-accidents-safety-data/dftRoadSafetyData_Accidents_2018.csv', path + '2018')\n",
    "    download('http://data.dft.gov.uk/road-accidents-safety-data/dftRoadSafetyData_Casualties_2018.csv', path + '2018')\n",
    "    download('http://data.dft.gov.uk/road-accidents-safety-data/dftRoadSafetyData_Vehicles_2018.csv', path + '2018')\n",
    "    \n",
    "    # unzip files\n",
    "    for item in zips:\n",
    "        os.makedirs(path + item[0], exist_ok=True)\n",
    "        with ZipFile(item[1], 'r') as z: z.extractall(path + item[0])  # extract zip\n",
    "        os.remove(item[1])  # delete zip file\n",
    "        \n",
    "# list all CSV files\n",
    "glob.glob(path + '/**/*.csv', recursive=True)"
   ]
  },
  {
   "cell_type": "markdown",
   "metadata": {
    "colab_type": "text",
    "id": "x4AzNrnmQ6a2"
   },
   "source": [
    "# Data processing (parse, merge)"
   ]
  },
  {
   "cell_type": "markdown",
   "metadata": {
    "colab_type": "text",
    "id": "duZu8-N-b-8_"
   },
   "source": [
    "The next step is to load the data files with the columns of interest, and merge the files for all years. Note that the files downloaded have very different filenames, therefore we manually concat them:"
   ]
  },
  {
   "cell_type": "markdown",
   "metadata": {
    "colab_type": "text",
    "id": "np3atk8UQ6a5"
   },
   "source": [
    "## Accidents"
   ]
  },
  {
   "cell_type": "code",
   "execution_count": 9,
   "metadata": {
    "colab": {},
    "colab_type": "code",
    "id": "8c-zGYdocLyQ"
   },
   "outputs": [],
   "source": [
    "import pandas as pd\n",
    "\n",
    "cols = {'Accident_Index': str,\n",
    "        'Longitude': float,\n",
    "        'Latitude': float,\n",
    "        'Accident_Severity': int,\n",
    "        'Number_of_Vehicles': int,\n",
    "        'Number_of_Casualties': int,\n",
    "        'Date': str,\n",
    "        'Time': str,\n",
    "        '1st_Road_Class': int,\n",
    "        '1st_Road_Number': int,\n",
    "        'Road_Type': int,\n",
    "        'Speed_limit': float,\n",
    "        'Junction_Detail': int,\n",
    "        'Junction_Control': int,\n",
    "        '2nd_Road_Class': int,\n",
    "        '2nd_Road_Number': int,\n",
    "        'Light_Conditions': int,\n",
    "        'Weather_Conditions': int,\n",
    "        'Road_Surface_Conditions': int,\n",
    "        'Special_Conditions_at_Site': int,\n",
    "        'Urban_or_Rural_Area': int}\n",
    "\n",
    "files = [\n",
    "    path + '0514/Accidents0514.csv',\n",
    "    path + '2015/Accidents_2015.csv',\n",
    "    path + '2016/dftRoadSafety_Accidents_2016.csv',\n",
    "    path + '2017/Acc.csv',\n",
    "    path + '2018/dftRoadSafetyData_Accidents_2018.csv'\n",
    "]\n",
    "\n",
    "# load files as pandas.DataFrame\n",
    "pds = [pd.read_csv(f, usecols=list(cols.keys()), dtype=cols, parse_dates=['Date'], dayfirst=True) for f in files]\n",
    "\n",
    "# merge accidents files for all years\n",
    "acc = pd.concat(pds, ignore_index=True)"
   ]
  },
  {
   "cell_type": "markdown",
   "metadata": {
    "colab_type": "text",
    "id": "lENYwQP4Q6bD"
   },
   "source": [
    "## Casualties"
   ]
  },
  {
   "cell_type": "code",
   "execution_count": 10,
   "metadata": {
    "colab": {},
    "colab_type": "code",
    "id": "QxS1U6CvQ6bE"
   },
   "outputs": [],
   "source": [
    "cols = {'Accident_Index': str,\n",
    "        'Vehicle_Reference': int,\n",
    "        'Casualty_Reference': int,\n",
    "        'Casualty_Class': int,\n",
    "        'Sex_of_Casualty': int,\n",
    "        'Age_of_Casualty': int,\n",
    "        'Casualty_Severity': int,\n",
    "        'Car_Passenger': int,\n",
    "        'Casualty_Type': int,\n",
    "        'Casualty_Home_Area_Type': int}\n",
    "\n",
    "files = [\n",
    "    path + '0514/Casualties0514.csv',\n",
    "    path + '2015/Casualties_2015.csv',\n",
    "    path + '2016/Cas.csv',\n",
    "    path + '2017/Cas.csv',\n",
    "    path + '2018/dftRoadSafetyData_Casualties_2018.csv'\n",
    "]\n",
    "\n",
    "# load files as pandas.DataFrame\n",
    "pds = [pd.read_csv(f, usecols=list(cols.keys()), dtype=cols) for f in files]\n",
    "\n",
    "# merge casualties files for all years\n",
    "cas = pd.concat(pds, ignore_index=True)"
   ]
  },
  {
   "cell_type": "markdown",
   "metadata": {
    "colab_type": "text",
    "id": "lGCPYRNoQ6bL"
   },
   "source": [
    "## Vehicles"
   ]
  },
  {
   "cell_type": "code",
   "execution_count": 11,
   "metadata": {
    "colab": {},
    "colab_type": "code",
    "id": "FZ3e1F6MQ6bN"
   },
   "outputs": [],
   "source": [
    "cols = {'Accident_Index': str,\n",
    "        'Vehicle_Reference': int,\n",
    "        'Vehicle_Type': int,\n",
    "        'Vehicle_Manoeuvre': int,\n",
    "        'Junction_Location': int,\n",
    "        'Skidding_and_Overturning': int,\n",
    "        'Was_Vehicle_Left_Hand_Drive?': int,\n",
    "        'Journey_Purpose_of_Driver': int,\n",
    "        'Sex_of_Driver': int,\n",
    "        'Age_of_Driver': int,\n",
    "        'Engine_Capacity_(CC)': int,\n",
    "        'Propulsion_Code': int,\n",
    "        'Age_of_Vehicle': int}\n",
    "\n",
    "files = [\n",
    "    path + '0514/Vehicles0514.csv',\n",
    "    path + '2015/Vehicles_2015.csv',\n",
    "    path + '2016/Veh.csv',\n",
    "    path + '2017/Veh.csv',\n",
    "    path + '2018/dftRoadSafetyData_Vehicles_2018.csv'\n",
    "]\n",
    "\n",
    "# load files as pandas.DataFrame\n",
    "pds = [pd.read_csv(f, usecols=list(cols.keys()), dtype=cols) for f in files]\n",
    "\n",
    "# merge vehicles files for all years\n",
    "veh = pd.concat(pds, ignore_index=True)"
   ]
  },
  {
   "cell_type": "markdown",
   "metadata": {
    "colab_type": "text",
    "id": "kof3ILY4v_nV"
   },
   "source": [
    "## Miscellaneous"
   ]
  },
  {
   "cell_type": "markdown",
   "metadata": {
    "colab": {},
    "colab_type": "code",
    "id": "ALBxdPa1wB61"
   },
   "source": [
    "We define labels and abbreviations used throughout the analysis here."
   ]
  },
  {
   "cell_type": "code",
   "execution_count": 12,
   "metadata": {
    "colab": {},
    "colab_type": "code",
    "id": "ALBxdPa1wB61"
   },
   "outputs": [],
   "source": [
    "weekdays = ['Monday', 'Tuesday', 'Wednesday', 'Thursday', 'Friday', 'Saturday', 'Sunday']\n",
    "weekdays_abbr = ['Mon', 'Tue', 'Wed', 'Thu', 'Fri', 'Sat', 'Sun']"
   ]
  },
  {
   "cell_type": "markdown",
   "metadata": {
    "colab_type": "text",
    "id": "NjMZCobLQ6ba"
   },
   "source": [
    "# Data cleaning"
   ]
  },
  {
   "cell_type": "markdown",
   "metadata": {
    "colab_type": "text",
    "id": "-DSMMnZo-BHE"
   },
   "source": [
    "The goal of this step is to remove erroneous records, rectify possible artifacts, and ensure that all fields have the correct data type and representation (unit, format). The value `-1` for categorical variables means **Value missing or out of range**, but we will not remove it in this process and instead consider it depending on the analysis later on. Also, the value `0` for categorical variables usually denotes *None* or *Not applicable*."
   ]
  },
  {
   "cell_type": "markdown",
   "metadata": {
    "colab_type": "text",
    "id": "dxb_ttc1_0p3"
   },
   "source": [
    "## Accidents"
   ]
  },
  {
   "cell_type": "code",
   "execution_count": 13,
   "metadata": {
    "colab": {
     "base_uri": "https://localhost:8080/",
     "height": 444
    },
    "colab_type": "code",
    "id": "l6SVz2vu-akC",
    "outputId": "2ea28bac-258d-4738-ad64-18eff59a2a48"
   },
   "outputs": [
    {
     "data": {
      "text/html": [
       "<div>\n",
       "<style scoped>\n",
       "    .dataframe tbody tr th:only-of-type {\n",
       "        vertical-align: middle;\n",
       "    }\n",
       "\n",
       "    .dataframe tbody tr th {\n",
       "        vertical-align: top;\n",
       "    }\n",
       "\n",
       "    .dataframe thead th {\n",
       "        text-align: right;\n",
       "    }\n",
       "</style>\n",
       "<table border=\"1\" class=\"dataframe\">\n",
       "  <thead>\n",
       "    <tr style=\"text-align: right;\">\n",
       "      <th></th>\n",
       "      <th>Accident_Index</th>\n",
       "      <th>Longitude</th>\n",
       "      <th>Latitude</th>\n",
       "      <th>Accident_Severity</th>\n",
       "      <th>Number_of_Vehicles</th>\n",
       "      <th>Number_of_Casualties</th>\n",
       "      <th>Date</th>\n",
       "      <th>Time</th>\n",
       "      <th>1st_Road_Class</th>\n",
       "      <th>1st_Road_Number</th>\n",
       "      <th>...</th>\n",
       "      <th>Speed_limit</th>\n",
       "      <th>Junction_Detail</th>\n",
       "      <th>Junction_Control</th>\n",
       "      <th>2nd_Road_Class</th>\n",
       "      <th>2nd_Road_Number</th>\n",
       "      <th>Light_Conditions</th>\n",
       "      <th>Weather_Conditions</th>\n",
       "      <th>Road_Surface_Conditions</th>\n",
       "      <th>Special_Conditions_at_Site</th>\n",
       "      <th>Urban_or_Rural_Area</th>\n",
       "    </tr>\n",
       "  </thead>\n",
       "  <tbody>\n",
       "    <tr>\n",
       "      <th>0</th>\n",
       "      <td>200501BS00001</td>\n",
       "      <td>-0.191170</td>\n",
       "      <td>51.489096</td>\n",
       "      <td>2</td>\n",
       "      <td>1</td>\n",
       "      <td>1</td>\n",
       "      <td>2005-01-04</td>\n",
       "      <td>17:42</td>\n",
       "      <td>3</td>\n",
       "      <td>3218</td>\n",
       "      <td>...</td>\n",
       "      <td>30.0</td>\n",
       "      <td>0</td>\n",
       "      <td>-1</td>\n",
       "      <td>-1</td>\n",
       "      <td>0</td>\n",
       "      <td>1</td>\n",
       "      <td>2</td>\n",
       "      <td>2</td>\n",
       "      <td>0</td>\n",
       "      <td>1</td>\n",
       "    </tr>\n",
       "    <tr>\n",
       "      <th>1</th>\n",
       "      <td>200501BS00002</td>\n",
       "      <td>-0.211708</td>\n",
       "      <td>51.520075</td>\n",
       "      <td>3</td>\n",
       "      <td>1</td>\n",
       "      <td>1</td>\n",
       "      <td>2005-01-05</td>\n",
       "      <td>17:36</td>\n",
       "      <td>4</td>\n",
       "      <td>450</td>\n",
       "      <td>...</td>\n",
       "      <td>30.0</td>\n",
       "      <td>6</td>\n",
       "      <td>2</td>\n",
       "      <td>5</td>\n",
       "      <td>0</td>\n",
       "      <td>4</td>\n",
       "      <td>1</td>\n",
       "      <td>1</td>\n",
       "      <td>0</td>\n",
       "      <td>1</td>\n",
       "    </tr>\n",
       "    <tr>\n",
       "      <th>2</th>\n",
       "      <td>200501BS00003</td>\n",
       "      <td>-0.206458</td>\n",
       "      <td>51.525301</td>\n",
       "      <td>3</td>\n",
       "      <td>2</td>\n",
       "      <td>1</td>\n",
       "      <td>2005-01-06</td>\n",
       "      <td>00:15</td>\n",
       "      <td>5</td>\n",
       "      <td>0</td>\n",
       "      <td>...</td>\n",
       "      <td>30.0</td>\n",
       "      <td>0</td>\n",
       "      <td>-1</td>\n",
       "      <td>-1</td>\n",
       "      <td>0</td>\n",
       "      <td>4</td>\n",
       "      <td>1</td>\n",
       "      <td>1</td>\n",
       "      <td>0</td>\n",
       "      <td>1</td>\n",
       "    </tr>\n",
       "    <tr>\n",
       "      <th>3</th>\n",
       "      <td>200501BS00004</td>\n",
       "      <td>-0.173862</td>\n",
       "      <td>51.482442</td>\n",
       "      <td>3</td>\n",
       "      <td>1</td>\n",
       "      <td>1</td>\n",
       "      <td>2005-01-07</td>\n",
       "      <td>10:35</td>\n",
       "      <td>3</td>\n",
       "      <td>3220</td>\n",
       "      <td>...</td>\n",
       "      <td>30.0</td>\n",
       "      <td>0</td>\n",
       "      <td>-1</td>\n",
       "      <td>-1</td>\n",
       "      <td>0</td>\n",
       "      <td>1</td>\n",
       "      <td>1</td>\n",
       "      <td>1</td>\n",
       "      <td>0</td>\n",
       "      <td>1</td>\n",
       "    </tr>\n",
       "    <tr>\n",
       "      <th>4</th>\n",
       "      <td>200501BS00005</td>\n",
       "      <td>-0.156618</td>\n",
       "      <td>51.495752</td>\n",
       "      <td>3</td>\n",
       "      <td>1</td>\n",
       "      <td>1</td>\n",
       "      <td>2005-01-10</td>\n",
       "      <td>21:13</td>\n",
       "      <td>6</td>\n",
       "      <td>0</td>\n",
       "      <td>...</td>\n",
       "      <td>30.0</td>\n",
       "      <td>0</td>\n",
       "      <td>-1</td>\n",
       "      <td>-1</td>\n",
       "      <td>0</td>\n",
       "      <td>7</td>\n",
       "      <td>1</td>\n",
       "      <td>2</td>\n",
       "      <td>0</td>\n",
       "      <td>1</td>\n",
       "    </tr>\n",
       "    <tr>\n",
       "      <th>...</th>\n",
       "      <td>...</td>\n",
       "      <td>...</td>\n",
       "      <td>...</td>\n",
       "      <td>...</td>\n",
       "      <td>...</td>\n",
       "      <td>...</td>\n",
       "      <td>...</td>\n",
       "      <td>...</td>\n",
       "      <td>...</td>\n",
       "      <td>...</td>\n",
       "      <td>...</td>\n",
       "      <td>...</td>\n",
       "      <td>...</td>\n",
       "      <td>...</td>\n",
       "      <td>...</td>\n",
       "      <td>...</td>\n",
       "      <td>...</td>\n",
       "      <td>...</td>\n",
       "      <td>...</td>\n",
       "      <td>...</td>\n",
       "      <td>...</td>\n",
       "    </tr>\n",
       "    <tr>\n",
       "      <th>2169886</th>\n",
       "      <td>2018984115718</td>\n",
       "      <td>-3.461918</td>\n",
       "      <td>55.232746</td>\n",
       "      <td>3</td>\n",
       "      <td>2</td>\n",
       "      <td>1</td>\n",
       "      <td>2018-12-23</td>\n",
       "      <td>13:45</td>\n",
       "      <td>3</td>\n",
       "      <td>701</td>\n",
       "      <td>...</td>\n",
       "      <td>60.0</td>\n",
       "      <td>0</td>\n",
       "      <td>-1</td>\n",
       "      <td>-1</td>\n",
       "      <td>0</td>\n",
       "      <td>1</td>\n",
       "      <td>1</td>\n",
       "      <td>2</td>\n",
       "      <td>0</td>\n",
       "      <td>2</td>\n",
       "    </tr>\n",
       "    <tr>\n",
       "      <th>2169887</th>\n",
       "      <td>2018984115918</td>\n",
       "      <td>-3.360440</td>\n",
       "      <td>55.116374</td>\n",
       "      <td>3</td>\n",
       "      <td>2</td>\n",
       "      <td>1</td>\n",
       "      <td>2018-12-24</td>\n",
       "      <td>10:45</td>\n",
       "      <td>2</td>\n",
       "      <td>74</td>\n",
       "      <td>...</td>\n",
       "      <td>70.0</td>\n",
       "      <td>0</td>\n",
       "      <td>-1</td>\n",
       "      <td>-1</td>\n",
       "      <td>0</td>\n",
       "      <td>1</td>\n",
       "      <td>1</td>\n",
       "      <td>1</td>\n",
       "      <td>0</td>\n",
       "      <td>1</td>\n",
       "    </tr>\n",
       "    <tr>\n",
       "      <th>2169888</th>\n",
       "      <td>2018984116018</td>\n",
       "      <td>-3.264352</td>\n",
       "      <td>55.058510</td>\n",
       "      <td>3</td>\n",
       "      <td>3</td>\n",
       "      <td>1</td>\n",
       "      <td>2018-12-20</td>\n",
       "      <td>18:00</td>\n",
       "      <td>4</td>\n",
       "      <td>7076</td>\n",
       "      <td>...</td>\n",
       "      <td>30.0</td>\n",
       "      <td>0</td>\n",
       "      <td>-1</td>\n",
       "      <td>-1</td>\n",
       "      <td>0</td>\n",
       "      <td>4</td>\n",
       "      <td>1</td>\n",
       "      <td>2</td>\n",
       "      <td>0</td>\n",
       "      <td>2</td>\n",
       "    </tr>\n",
       "    <tr>\n",
       "      <th>2169889</th>\n",
       "      <td>2018984116318</td>\n",
       "      <td>-3.269695</td>\n",
       "      <td>54.990344</td>\n",
       "      <td>2</td>\n",
       "      <td>1</td>\n",
       "      <td>1</td>\n",
       "      <td>2018-12-24</td>\n",
       "      <td>11:50</td>\n",
       "      <td>5</td>\n",
       "      <td>50</td>\n",
       "      <td>...</td>\n",
       "      <td>60.0</td>\n",
       "      <td>3</td>\n",
       "      <td>4</td>\n",
       "      <td>6</td>\n",
       "      <td>552</td>\n",
       "      <td>1</td>\n",
       "      <td>1</td>\n",
       "      <td>4</td>\n",
       "      <td>0</td>\n",
       "      <td>2</td>\n",
       "    </tr>\n",
       "    <tr>\n",
       "      <th>2169890</th>\n",
       "      <td>2018984116418</td>\n",
       "      <td>-3.314764</td>\n",
       "      <td>55.006392</td>\n",
       "      <td>3</td>\n",
       "      <td>1</td>\n",
       "      <td>1</td>\n",
       "      <td>2018-12-31</td>\n",
       "      <td>07:10</td>\n",
       "      <td>4</td>\n",
       "      <td>7020</td>\n",
       "      <td>...</td>\n",
       "      <td>60.0</td>\n",
       "      <td>0</td>\n",
       "      <td>-1</td>\n",
       "      <td>-1</td>\n",
       "      <td>0</td>\n",
       "      <td>6</td>\n",
       "      <td>1</td>\n",
       "      <td>1</td>\n",
       "      <td>0</td>\n",
       "      <td>2</td>\n",
       "    </tr>\n",
       "  </tbody>\n",
       "</table>\n",
       "<p>2169891 rows × 21 columns</p>\n",
       "</div>"
      ],
      "text/plain": [
       "        Accident_Index  Longitude   Latitude  Accident_Severity  \\\n",
       "0        200501BS00001  -0.191170  51.489096                  2   \n",
       "1        200501BS00002  -0.211708  51.520075                  3   \n",
       "2        200501BS00003  -0.206458  51.525301                  3   \n",
       "3        200501BS00004  -0.173862  51.482442                  3   \n",
       "4        200501BS00005  -0.156618  51.495752                  3   \n",
       "...                ...        ...        ...                ...   \n",
       "2169886  2018984115718  -3.461918  55.232746                  3   \n",
       "2169887  2018984115918  -3.360440  55.116374                  3   \n",
       "2169888  2018984116018  -3.264352  55.058510                  3   \n",
       "2169889  2018984116318  -3.269695  54.990344                  2   \n",
       "2169890  2018984116418  -3.314764  55.006392                  3   \n",
       "\n",
       "         Number_of_Vehicles  Number_of_Casualties       Date   Time  \\\n",
       "0                         1                     1 2005-01-04  17:42   \n",
       "1                         1                     1 2005-01-05  17:36   \n",
       "2                         2                     1 2005-01-06  00:15   \n",
       "3                         1                     1 2005-01-07  10:35   \n",
       "4                         1                     1 2005-01-10  21:13   \n",
       "...                     ...                   ...        ...    ...   \n",
       "2169886                   2                     1 2018-12-23  13:45   \n",
       "2169887                   2                     1 2018-12-24  10:45   \n",
       "2169888                   3                     1 2018-12-20  18:00   \n",
       "2169889                   1                     1 2018-12-24  11:50   \n",
       "2169890                   1                     1 2018-12-31  07:10   \n",
       "\n",
       "         1st_Road_Class  1st_Road_Number  ...  Speed_limit  Junction_Detail  \\\n",
       "0                     3             3218  ...         30.0                0   \n",
       "1                     4              450  ...         30.0                6   \n",
       "2                     5                0  ...         30.0                0   \n",
       "3                     3             3220  ...         30.0                0   \n",
       "4                     6                0  ...         30.0                0   \n",
       "...                 ...              ...  ...          ...              ...   \n",
       "2169886               3              701  ...         60.0                0   \n",
       "2169887               2               74  ...         70.0                0   \n",
       "2169888               4             7076  ...         30.0                0   \n",
       "2169889               5               50  ...         60.0                3   \n",
       "2169890               4             7020  ...         60.0                0   \n",
       "\n",
       "         Junction_Control  2nd_Road_Class  2nd_Road_Number  Light_Conditions  \\\n",
       "0                      -1              -1                0                 1   \n",
       "1                       2               5                0                 4   \n",
       "2                      -1              -1                0                 4   \n",
       "3                      -1              -1                0                 1   \n",
       "4                      -1              -1                0                 7   \n",
       "...                   ...             ...              ...               ...   \n",
       "2169886                -1              -1                0                 1   \n",
       "2169887                -1              -1                0                 1   \n",
       "2169888                -1              -1                0                 4   \n",
       "2169889                 4               6              552                 1   \n",
       "2169890                -1              -1                0                 6   \n",
       "\n",
       "         Weather_Conditions  Road_Surface_Conditions  \\\n",
       "0                         2                        2   \n",
       "1                         1                        1   \n",
       "2                         1                        1   \n",
       "3                         1                        1   \n",
       "4                         1                        2   \n",
       "...                     ...                      ...   \n",
       "2169886                   1                        2   \n",
       "2169887                   1                        1   \n",
       "2169888                   1                        2   \n",
       "2169889                   1                        4   \n",
       "2169890                   1                        1   \n",
       "\n",
       "         Special_Conditions_at_Site  Urban_or_Rural_Area  \n",
       "0                                 0                    1  \n",
       "1                                 0                    1  \n",
       "2                                 0                    1  \n",
       "3                                 0                    1  \n",
       "4                                 0                    1  \n",
       "...                             ...                  ...  \n",
       "2169886                           0                    2  \n",
       "2169887                           0                    1  \n",
       "2169888                           0                    2  \n",
       "2169889                           0                    2  \n",
       "2169890                           0                    2  \n",
       "\n",
       "[2169891 rows x 21 columns]"
      ]
     },
     "execution_count": 13,
     "metadata": {},
     "output_type": "execute_result"
    }
   ],
   "source": [
    "acc"
   ]
  },
  {
   "cell_type": "code",
   "execution_count": 15,
   "metadata": {
    "colab": {
     "base_uri": "https://localhost:8080/",
     "height": 36
    },
    "colab_type": "code",
    "id": "n-R66wx9mKMI",
    "outputId": "72ae5d8b-d4a9-446c-9232-95be78adc6c7"
   },
   "outputs": [
    {
     "name": "stdout",
     "output_type": "stream",
     "text": [
      "Removed 0 rows because of missing Time values\n"
     ]
    }
   ],
   "source": [
    "# remove rows without time (only 169 out of ~2.1M)\n",
    "rm_acc_idxs = acc[acc['Time'].isnull()]['Accident_Index']\n",
    "\n",
    "acc = acc[~acc['Accident_Index'].isin(rm_acc_idxs)].copy()\n",
    "cas = cas[~cas['Accident_Index'].isin(rm_acc_idxs)].copy()\n",
    "veh = veh[~veh['Accident_Index'].isin(rm_acc_idxs)].copy()\n",
    "\n",
    "print(f'Removed {rm_acc_idxs.shape[0]} rows because of missing Time values')"
   ]
  },
  {
   "cell_type": "markdown",
   "metadata": {
    "colab_type": "text",
    "id": "8uX0bbxO-hMf"
   },
   "source": [
    "The **`Time`** column is given as a string and formatted as `HH:MM`, we want it as a decimal number representing hours (new column **`Time Hours`**):"
   ]
  },
  {
   "cell_type": "code",
   "execution_count": 16,
   "metadata": {
    "colab": {},
    "colab_type": "code",
    "id": "ThOqxwzI-_PN"
   },
   "outputs": [],
   "source": [
    "acc['Time Hours'] = pd.to_datetime(acc['Time'], format='%H:%M').dt.time.apply(lambda x: x.hour + x.minute/60).astype(float)"
   ]
  },
  {
   "cell_type": "markdown",
   "metadata": {
    "colab_type": "text",
    "id": "Y--P4POgPvPz"
   },
   "source": [
    "Also, we want the hour as an integer for grouping purposes. To do so, we create a new column called **`Hour of Day`**:"
   ]
  },
  {
   "cell_type": "code",
   "execution_count": 17,
   "metadata": {
    "colab": {},
    "colab_type": "code",
    "id": "zFTS0SZ1P8eD"
   },
   "outputs": [],
   "source": [
    "acc['Hour of Day'] = acc['Time Hours'].astype(int)"
   ]
  },
  {
   "cell_type": "markdown",
   "metadata": {
    "colab_type": "text",
    "id": "iC-yFM1xQCWW"
   },
   "source": [
    "Analogously, we do the same for the weekdays and years:"
   ]
  },
  {
   "cell_type": "code",
   "execution_count": 18,
   "metadata": {
    "colab": {},
    "colab_type": "code",
    "id": "vSgHzt2sPot6"
   },
   "outputs": [],
   "source": [
    "acc['Year'] = acc['Date'].dt.year.astype(int)\n",
    "acc['Day of Week'] = acc['Date'].dt.weekday + 1  # 1 = Monday, 7 = Sunday"
   ]
  },
  {
   "cell_type": "markdown",
   "metadata": {
    "colab_type": "text",
    "id": "Yx_JSkwrG40h"
   },
   "source": [
    "The **`Accident_Severity`** column takes the values `1 = Fatal`, `2 = Serious`, `3 = Slight`. We reverse the numbering to get more meaningful values for a more intuitive interpretation: `1 = Slight`, `2 = Serious`, `3 = Fatal`.\n",
    "\n"
   ]
  },
  {
   "cell_type": "code",
   "execution_count": 19,
   "metadata": {
    "colab": {},
    "colab_type": "code",
    "id": "Mtw5hZODHeAv"
   },
   "outputs": [],
   "source": [
    "acc['Accident_Severity'] = 4 - acc['Accident_Severity']"
   ]
  },
  {
   "cell_type": "code",
   "execution_count": 20,
   "metadata": {
    "colab": {
     "base_uri": "https://localhost:8080/",
     "height": 521
    },
    "colab_type": "code",
    "id": "sst1BWxjL5j8",
    "outputId": "834674cb-27b4-4707-84b3-cffcc6c908dd"
   },
   "outputs": [
    {
     "data": {
      "text/plain": [
       "Accident_Index                        object\n",
       "Longitude                            float64\n",
       "Latitude                             float64\n",
       "Accident_Severity                      int64\n",
       "Number_of_Vehicles                     int64\n",
       "Number_of_Casualties                   int64\n",
       "Date                          datetime64[ns]\n",
       "Time                                  object\n",
       "1st_Road_Class                         int64\n",
       "1st_Road_Number                        int64\n",
       "Road_Type                              int64\n",
       "Speed_limit                          float64\n",
       "Junction_Detail                        int64\n",
       "Junction_Control                       int64\n",
       "2nd_Road_Class                         int64\n",
       "2nd_Road_Number                        int64\n",
       "Light_Conditions                       int64\n",
       "Weather_Conditions                     int64\n",
       "Road_Surface_Conditions                int64\n",
       "Special_Conditions_at_Site             int64\n",
       "Urban_or_Rural_Area                    int64\n",
       "Time Hours                           float64\n",
       "Hour of Day                            int64\n",
       "Year                                   int64\n",
       "Day of Week                            int64\n",
       "dtype: object"
      ]
     },
     "execution_count": 20,
     "metadata": {},
     "output_type": "execute_result"
    }
   ],
   "source": [
    "acc.dtypes"
   ]
  },
  {
   "cell_type": "markdown",
   "metadata": {},
   "source": [
    "After careful inspection, we are sure that all variables have the correct data types."
   ]
  },
  {
   "cell_type": "markdown",
   "metadata": {
    "colab_type": "text",
    "id": "_VHKK8rH_5Gf"
   },
   "source": [
    "## Casualties"
   ]
  },
  {
   "cell_type": "code",
   "execution_count": 21,
   "metadata": {
    "colab": {
     "base_uri": "https://localhost:8080/",
     "height": 424
    },
    "colab_type": "code",
    "id": "izMwHzSw82tm",
    "outputId": "e6007383-e0eb-4307-e54e-31a1614cbd9e"
   },
   "outputs": [
    {
     "data": {
      "text/html": [
       "<div>\n",
       "<style scoped>\n",
       "    .dataframe tbody tr th:only-of-type {\n",
       "        vertical-align: middle;\n",
       "    }\n",
       "\n",
       "    .dataframe tbody tr th {\n",
       "        vertical-align: top;\n",
       "    }\n",
       "\n",
       "    .dataframe thead th {\n",
       "        text-align: right;\n",
       "    }\n",
       "</style>\n",
       "<table border=\"1\" class=\"dataframe\">\n",
       "  <thead>\n",
       "    <tr style=\"text-align: right;\">\n",
       "      <th></th>\n",
       "      <th>Accident_Index</th>\n",
       "      <th>Vehicle_Reference</th>\n",
       "      <th>Casualty_Reference</th>\n",
       "      <th>Casualty_Class</th>\n",
       "      <th>Sex_of_Casualty</th>\n",
       "      <th>Age_of_Casualty</th>\n",
       "      <th>Casualty_Severity</th>\n",
       "      <th>Car_Passenger</th>\n",
       "      <th>Casualty_Type</th>\n",
       "      <th>Casualty_Home_Area_Type</th>\n",
       "    </tr>\n",
       "  </thead>\n",
       "  <tbody>\n",
       "    <tr>\n",
       "      <th>0</th>\n",
       "      <td>200501BS00001</td>\n",
       "      <td>1</td>\n",
       "      <td>1</td>\n",
       "      <td>3</td>\n",
       "      <td>1</td>\n",
       "      <td>37</td>\n",
       "      <td>2</td>\n",
       "      <td>0</td>\n",
       "      <td>0</td>\n",
       "      <td>1</td>\n",
       "    </tr>\n",
       "    <tr>\n",
       "      <th>1</th>\n",
       "      <td>200501BS00002</td>\n",
       "      <td>1</td>\n",
       "      <td>1</td>\n",
       "      <td>2</td>\n",
       "      <td>1</td>\n",
       "      <td>37</td>\n",
       "      <td>3</td>\n",
       "      <td>0</td>\n",
       "      <td>11</td>\n",
       "      <td>1</td>\n",
       "    </tr>\n",
       "    <tr>\n",
       "      <th>2</th>\n",
       "      <td>200501BS00003</td>\n",
       "      <td>2</td>\n",
       "      <td>1</td>\n",
       "      <td>1</td>\n",
       "      <td>1</td>\n",
       "      <td>62</td>\n",
       "      <td>3</td>\n",
       "      <td>0</td>\n",
       "      <td>9</td>\n",
       "      <td>1</td>\n",
       "    </tr>\n",
       "    <tr>\n",
       "      <th>3</th>\n",
       "      <td>200501BS00004</td>\n",
       "      <td>1</td>\n",
       "      <td>1</td>\n",
       "      <td>3</td>\n",
       "      <td>1</td>\n",
       "      <td>30</td>\n",
       "      <td>3</td>\n",
       "      <td>0</td>\n",
       "      <td>0</td>\n",
       "      <td>1</td>\n",
       "    </tr>\n",
       "    <tr>\n",
       "      <th>4</th>\n",
       "      <td>200501BS00005</td>\n",
       "      <td>1</td>\n",
       "      <td>1</td>\n",
       "      <td>1</td>\n",
       "      <td>1</td>\n",
       "      <td>49</td>\n",
       "      <td>3</td>\n",
       "      <td>0</td>\n",
       "      <td>3</td>\n",
       "      <td>-1</td>\n",
       "    </tr>\n",
       "    <tr>\n",
       "      <th>...</th>\n",
       "      <td>...</td>\n",
       "      <td>...</td>\n",
       "      <td>...</td>\n",
       "      <td>...</td>\n",
       "      <td>...</td>\n",
       "      <td>...</td>\n",
       "      <td>...</td>\n",
       "      <td>...</td>\n",
       "      <td>...</td>\n",
       "      <td>...</td>\n",
       "    </tr>\n",
       "    <tr>\n",
       "      <th>2915878</th>\n",
       "      <td>2018984115718</td>\n",
       "      <td>2</td>\n",
       "      <td>1</td>\n",
       "      <td>2</td>\n",
       "      <td>2</td>\n",
       "      <td>59</td>\n",
       "      <td>3</td>\n",
       "      <td>1</td>\n",
       "      <td>9</td>\n",
       "      <td>3</td>\n",
       "    </tr>\n",
       "    <tr>\n",
       "      <th>2915879</th>\n",
       "      <td>2018984115918</td>\n",
       "      <td>1</td>\n",
       "      <td>1</td>\n",
       "      <td>3</td>\n",
       "      <td>1</td>\n",
       "      <td>39</td>\n",
       "      <td>3</td>\n",
       "      <td>0</td>\n",
       "      <td>0</td>\n",
       "      <td>1</td>\n",
       "    </tr>\n",
       "    <tr>\n",
       "      <th>2915880</th>\n",
       "      <td>2018984116018</td>\n",
       "      <td>2</td>\n",
       "      <td>1</td>\n",
       "      <td>2</td>\n",
       "      <td>1</td>\n",
       "      <td>18</td>\n",
       "      <td>3</td>\n",
       "      <td>1</td>\n",
       "      <td>9</td>\n",
       "      <td>2</td>\n",
       "    </tr>\n",
       "    <tr>\n",
       "      <th>2915881</th>\n",
       "      <td>2018984116318</td>\n",
       "      <td>1</td>\n",
       "      <td>1</td>\n",
       "      <td>1</td>\n",
       "      <td>1</td>\n",
       "      <td>60</td>\n",
       "      <td>2</td>\n",
       "      <td>0</td>\n",
       "      <td>2</td>\n",
       "      <td>3</td>\n",
       "    </tr>\n",
       "    <tr>\n",
       "      <th>2915882</th>\n",
       "      <td>2018984116418</td>\n",
       "      <td>1</td>\n",
       "      <td>1</td>\n",
       "      <td>1</td>\n",
       "      <td>2</td>\n",
       "      <td>21</td>\n",
       "      <td>3</td>\n",
       "      <td>0</td>\n",
       "      <td>9</td>\n",
       "      <td>2</td>\n",
       "    </tr>\n",
       "  </tbody>\n",
       "</table>\n",
       "<p>2915682 rows × 10 columns</p>\n",
       "</div>"
      ],
      "text/plain": [
       "        Accident_Index  Vehicle_Reference  Casualty_Reference  Casualty_Class  \\\n",
       "0        200501BS00001                  1                   1               3   \n",
       "1        200501BS00002                  1                   1               2   \n",
       "2        200501BS00003                  2                   1               1   \n",
       "3        200501BS00004                  1                   1               3   \n",
       "4        200501BS00005                  1                   1               1   \n",
       "...                ...                ...                 ...             ...   \n",
       "2915878  2018984115718                  2                   1               2   \n",
       "2915879  2018984115918                  1                   1               3   \n",
       "2915880  2018984116018                  2                   1               2   \n",
       "2915881  2018984116318                  1                   1               1   \n",
       "2915882  2018984116418                  1                   1               1   \n",
       "\n",
       "         Sex_of_Casualty  Age_of_Casualty  Casualty_Severity  Car_Passenger  \\\n",
       "0                      1               37                  2              0   \n",
       "1                      1               37                  3              0   \n",
       "2                      1               62                  3              0   \n",
       "3                      1               30                  3              0   \n",
       "4                      1               49                  3              0   \n",
       "...                  ...              ...                ...            ...   \n",
       "2915878                2               59                  3              1   \n",
       "2915879                1               39                  3              0   \n",
       "2915880                1               18                  3              1   \n",
       "2915881                1               60                  2              0   \n",
       "2915882                2               21                  3              0   \n",
       "\n",
       "         Casualty_Type  Casualty_Home_Area_Type  \n",
       "0                    0                        1  \n",
       "1                   11                        1  \n",
       "2                    9                        1  \n",
       "3                    0                        1  \n",
       "4                    3                       -1  \n",
       "...                ...                      ...  \n",
       "2915878              9                        3  \n",
       "2915879              0                        1  \n",
       "2915880              9                        2  \n",
       "2915881              2                        3  \n",
       "2915882              9                        2  \n",
       "\n",
       "[2915682 rows x 10 columns]"
      ]
     },
     "execution_count": 21,
     "metadata": {},
     "output_type": "execute_result"
    }
   ],
   "source": [
    "cas"
   ]
  },
  {
   "cell_type": "code",
   "execution_count": 22,
   "metadata": {
    "colab": {
     "base_uri": "https://localhost:8080/",
     "height": 230
    },
    "colab_type": "code",
    "id": "qb2Y8RYIL9b4",
    "outputId": "645c3816-93aa-4d0a-d7c2-d85e4add371b"
   },
   "outputs": [
    {
     "data": {
      "text/plain": [
       "Accident_Index             object\n",
       "Vehicle_Reference           int64\n",
       "Casualty_Reference          int64\n",
       "Casualty_Class              int64\n",
       "Sex_of_Casualty             int64\n",
       "Age_of_Casualty             int64\n",
       "Casualty_Severity           int64\n",
       "Car_Passenger               int64\n",
       "Casualty_Type               int64\n",
       "Casualty_Home_Area_Type     int64\n",
       "dtype: object"
      ]
     },
     "execution_count": 22,
     "metadata": {},
     "output_type": "execute_result"
    }
   ],
   "source": [
    "cas.dtypes"
   ]
  },
  {
   "cell_type": "markdown",
   "metadata": {
    "colab_type": "text",
    "id": "hYh9ppuBMBY8"
   },
   "source": [
    "The variables are properly formatted and have the correct type, hence nothing to do here."
   ]
  },
  {
   "cell_type": "markdown",
   "metadata": {
    "colab_type": "text",
    "id": "xvVLAN39_-Mg"
   },
   "source": [
    "## Vehicles"
   ]
  },
  {
   "cell_type": "code",
   "execution_count": 23,
   "metadata": {
    "colab": {
     "base_uri": "https://localhost:8080/",
     "height": 444
    },
    "colab_type": "code",
    "id": "Y_wOVfgx__iW",
    "outputId": "e0fe5ac0-370e-4d88-82fd-6e35c99cf3df"
   },
   "outputs": [
    {
     "data": {
      "text/html": [
       "<div>\n",
       "<style scoped>\n",
       "    .dataframe tbody tr th:only-of-type {\n",
       "        vertical-align: middle;\n",
       "    }\n",
       "\n",
       "    .dataframe tbody tr th {\n",
       "        vertical-align: top;\n",
       "    }\n",
       "\n",
       "    .dataframe thead th {\n",
       "        text-align: right;\n",
       "    }\n",
       "</style>\n",
       "<table border=\"1\" class=\"dataframe\">\n",
       "  <thead>\n",
       "    <tr style=\"text-align: right;\">\n",
       "      <th></th>\n",
       "      <th>Accident_Index</th>\n",
       "      <th>Vehicle_Reference</th>\n",
       "      <th>Vehicle_Type</th>\n",
       "      <th>Vehicle_Manoeuvre</th>\n",
       "      <th>Junction_Location</th>\n",
       "      <th>Skidding_and_Overturning</th>\n",
       "      <th>Was_Vehicle_Left_Hand_Drive?</th>\n",
       "      <th>Journey_Purpose_of_Driver</th>\n",
       "      <th>Sex_of_Driver</th>\n",
       "      <th>Age_of_Driver</th>\n",
       "      <th>Engine_Capacity_(CC)</th>\n",
       "      <th>Propulsion_Code</th>\n",
       "      <th>Age_of_Vehicle</th>\n",
       "    </tr>\n",
       "  </thead>\n",
       "  <tbody>\n",
       "    <tr>\n",
       "      <th>0</th>\n",
       "      <td>200501BS00001</td>\n",
       "      <td>1</td>\n",
       "      <td>9</td>\n",
       "      <td>18</td>\n",
       "      <td>0</td>\n",
       "      <td>0</td>\n",
       "      <td>1</td>\n",
       "      <td>15</td>\n",
       "      <td>2</td>\n",
       "      <td>74</td>\n",
       "      <td>-1</td>\n",
       "      <td>-1</td>\n",
       "      <td>-1</td>\n",
       "    </tr>\n",
       "    <tr>\n",
       "      <th>1</th>\n",
       "      <td>200501BS00002</td>\n",
       "      <td>1</td>\n",
       "      <td>11</td>\n",
       "      <td>4</td>\n",
       "      <td>3</td>\n",
       "      <td>0</td>\n",
       "      <td>1</td>\n",
       "      <td>1</td>\n",
       "      <td>1</td>\n",
       "      <td>42</td>\n",
       "      <td>8268</td>\n",
       "      <td>2</td>\n",
       "      <td>3</td>\n",
       "    </tr>\n",
       "    <tr>\n",
       "      <th>2</th>\n",
       "      <td>200501BS00003</td>\n",
       "      <td>1</td>\n",
       "      <td>11</td>\n",
       "      <td>17</td>\n",
       "      <td>0</td>\n",
       "      <td>0</td>\n",
       "      <td>1</td>\n",
       "      <td>1</td>\n",
       "      <td>1</td>\n",
       "      <td>35</td>\n",
       "      <td>8300</td>\n",
       "      <td>2</td>\n",
       "      <td>5</td>\n",
       "    </tr>\n",
       "    <tr>\n",
       "      <th>3</th>\n",
       "      <td>200501BS00003</td>\n",
       "      <td>2</td>\n",
       "      <td>9</td>\n",
       "      <td>2</td>\n",
       "      <td>0</td>\n",
       "      <td>0</td>\n",
       "      <td>1</td>\n",
       "      <td>15</td>\n",
       "      <td>1</td>\n",
       "      <td>62</td>\n",
       "      <td>1762</td>\n",
       "      <td>1</td>\n",
       "      <td>6</td>\n",
       "    </tr>\n",
       "    <tr>\n",
       "      <th>4</th>\n",
       "      <td>200501BS00004</td>\n",
       "      <td>1</td>\n",
       "      <td>9</td>\n",
       "      <td>18</td>\n",
       "      <td>0</td>\n",
       "      <td>0</td>\n",
       "      <td>1</td>\n",
       "      <td>15</td>\n",
       "      <td>2</td>\n",
       "      <td>49</td>\n",
       "      <td>1769</td>\n",
       "      <td>1</td>\n",
       "      <td>4</td>\n",
       "    </tr>\n",
       "    <tr>\n",
       "      <th>...</th>\n",
       "      <td>...</td>\n",
       "      <td>...</td>\n",
       "      <td>...</td>\n",
       "      <td>...</td>\n",
       "      <td>...</td>\n",
       "      <td>...</td>\n",
       "      <td>...</td>\n",
       "      <td>...</td>\n",
       "      <td>...</td>\n",
       "      <td>...</td>\n",
       "      <td>...</td>\n",
       "      <td>...</td>\n",
       "      <td>...</td>\n",
       "    </tr>\n",
       "    <tr>\n",
       "      <th>3980100</th>\n",
       "      <td>2018984116018</td>\n",
       "      <td>1</td>\n",
       "      <td>9</td>\n",
       "      <td>9</td>\n",
       "      <td>0</td>\n",
       "      <td>0</td>\n",
       "      <td>1</td>\n",
       "      <td>6</td>\n",
       "      <td>1</td>\n",
       "      <td>67</td>\n",
       "      <td>998</td>\n",
       "      <td>1</td>\n",
       "      <td>4</td>\n",
       "    </tr>\n",
       "    <tr>\n",
       "      <th>3980101</th>\n",
       "      <td>2018984116018</td>\n",
       "      <td>2</td>\n",
       "      <td>9</td>\n",
       "      <td>15</td>\n",
       "      <td>0</td>\n",
       "      <td>1</td>\n",
       "      <td>1</td>\n",
       "      <td>6</td>\n",
       "      <td>1</td>\n",
       "      <td>24</td>\n",
       "      <td>3000</td>\n",
       "      <td>2</td>\n",
       "      <td>21</td>\n",
       "    </tr>\n",
       "    <tr>\n",
       "      <th>3980102</th>\n",
       "      <td>2018984116018</td>\n",
       "      <td>3</td>\n",
       "      <td>9</td>\n",
       "      <td>2</td>\n",
       "      <td>0</td>\n",
       "      <td>0</td>\n",
       "      <td>1</td>\n",
       "      <td>6</td>\n",
       "      <td>3</td>\n",
       "      <td>-1</td>\n",
       "      <td>2400</td>\n",
       "      <td>2</td>\n",
       "      <td>5</td>\n",
       "    </tr>\n",
       "    <tr>\n",
       "      <th>3980103</th>\n",
       "      <td>2018984116318</td>\n",
       "      <td>1</td>\n",
       "      <td>2</td>\n",
       "      <td>18</td>\n",
       "      <td>1</td>\n",
       "      <td>1</td>\n",
       "      <td>1</td>\n",
       "      <td>1</td>\n",
       "      <td>1</td>\n",
       "      <td>60</td>\n",
       "      <td>49</td>\n",
       "      <td>1</td>\n",
       "      <td>10</td>\n",
       "    </tr>\n",
       "    <tr>\n",
       "      <th>3980104</th>\n",
       "      <td>2018984116418</td>\n",
       "      <td>1</td>\n",
       "      <td>9</td>\n",
       "      <td>18</td>\n",
       "      <td>0</td>\n",
       "      <td>0</td>\n",
       "      <td>1</td>\n",
       "      <td>2</td>\n",
       "      <td>2</td>\n",
       "      <td>21</td>\n",
       "      <td>899</td>\n",
       "      <td>1</td>\n",
       "      <td>5</td>\n",
       "    </tr>\n",
       "  </tbody>\n",
       "</table>\n",
       "<p>3979820 rows × 13 columns</p>\n",
       "</div>"
      ],
      "text/plain": [
       "        Accident_Index  Vehicle_Reference  Vehicle_Type  Vehicle_Manoeuvre  \\\n",
       "0        200501BS00001                  1             9                 18   \n",
       "1        200501BS00002                  1            11                  4   \n",
       "2        200501BS00003                  1            11                 17   \n",
       "3        200501BS00003                  2             9                  2   \n",
       "4        200501BS00004                  1             9                 18   \n",
       "...                ...                ...           ...                ...   \n",
       "3980100  2018984116018                  1             9                  9   \n",
       "3980101  2018984116018                  2             9                 15   \n",
       "3980102  2018984116018                  3             9                  2   \n",
       "3980103  2018984116318                  1             2                 18   \n",
       "3980104  2018984116418                  1             9                 18   \n",
       "\n",
       "         Junction_Location  Skidding_and_Overturning  \\\n",
       "0                        0                         0   \n",
       "1                        3                         0   \n",
       "2                        0                         0   \n",
       "3                        0                         0   \n",
       "4                        0                         0   \n",
       "...                    ...                       ...   \n",
       "3980100                  0                         0   \n",
       "3980101                  0                         1   \n",
       "3980102                  0                         0   \n",
       "3980103                  1                         1   \n",
       "3980104                  0                         0   \n",
       "\n",
       "         Was_Vehicle_Left_Hand_Drive?  Journey_Purpose_of_Driver  \\\n",
       "0                                   1                         15   \n",
       "1                                   1                          1   \n",
       "2                                   1                          1   \n",
       "3                                   1                         15   \n",
       "4                                   1                         15   \n",
       "...                               ...                        ...   \n",
       "3980100                             1                          6   \n",
       "3980101                             1                          6   \n",
       "3980102                             1                          6   \n",
       "3980103                             1                          1   \n",
       "3980104                             1                          2   \n",
       "\n",
       "         Sex_of_Driver  Age_of_Driver  Engine_Capacity_(CC)  Propulsion_Code  \\\n",
       "0                    2             74                    -1               -1   \n",
       "1                    1             42                  8268                2   \n",
       "2                    1             35                  8300                2   \n",
       "3                    1             62                  1762                1   \n",
       "4                    2             49                  1769                1   \n",
       "...                ...            ...                   ...              ...   \n",
       "3980100              1             67                   998                1   \n",
       "3980101              1             24                  3000                2   \n",
       "3980102              3             -1                  2400                2   \n",
       "3980103              1             60                    49                1   \n",
       "3980104              2             21                   899                1   \n",
       "\n",
       "         Age_of_Vehicle  \n",
       "0                    -1  \n",
       "1                     3  \n",
       "2                     5  \n",
       "3                     6  \n",
       "4                     4  \n",
       "...                 ...  \n",
       "3980100               4  \n",
       "3980101              21  \n",
       "3980102               5  \n",
       "3980103              10  \n",
       "3980104               5  \n",
       "\n",
       "[3979820 rows x 13 columns]"
      ]
     },
     "execution_count": 23,
     "metadata": {},
     "output_type": "execute_result"
    }
   ],
   "source": [
    "veh"
   ]
  },
  {
   "cell_type": "code",
   "execution_count": 24,
   "metadata": {
    "colab": {
     "base_uri": "https://localhost:8080/",
     "height": 288
    },
    "colab_type": "code",
    "id": "i5i_UsvlMSBX",
    "outputId": "80f0ee9e-4d2f-4ec8-9db1-24c8d4f9e2d4"
   },
   "outputs": [
    {
     "data": {
      "text/plain": [
       "Accident_Index                  object\n",
       "Vehicle_Reference                int64\n",
       "Vehicle_Type                     int64\n",
       "Vehicle_Manoeuvre                int64\n",
       "Junction_Location                int64\n",
       "Skidding_and_Overturning         int64\n",
       "Was_Vehicle_Left_Hand_Drive?     int64\n",
       "Journey_Purpose_of_Driver        int64\n",
       "Sex_of_Driver                    int64\n",
       "Age_of_Driver                    int64\n",
       "Engine_Capacity_(CC)             int64\n",
       "Propulsion_Code                  int64\n",
       "Age_of_Vehicle                   int64\n",
       "dtype: object"
      ]
     },
     "execution_count": 24,
     "metadata": {},
     "output_type": "execute_result"
    }
   ],
   "source": [
    "veh.dtypes"
   ]
  },
  {
   "cell_type": "markdown",
   "metadata": {
    "colab_type": "text",
    "id": "auHtBNFbMZSP"
   },
   "source": [
    "In the next step we remove all accidents and related rows for which the field *Vehicle_Type* has no value. We first check the fraction of missing `Vehicle_Type` values per year. It should be approximately constant/small over the time, otherwise a systematic data collection change has been made, which would bias our results."
   ]
  },
  {
   "cell_type": "code",
   "execution_count": 25,
   "metadata": {
    "colab": {
     "base_uri": "https://localhost:8080/",
     "height": 327
    },
    "colab_type": "code",
    "id": "eZk_vgEQQ-4R",
    "outputId": "1c37d05a-474e-4eec-ead5-8f9395fc93fd"
   },
   "outputs": [
    {
     "data": {
      "text/plain": [
       "Year\n",
       "2005    0.000270\n",
       "2006    0.000132\n",
       "2007    0.000137\n",
       "2008    0.000273\n",
       "2009    0.000154\n",
       "2010    0.000135\n",
       "2011    0.000080\n",
       "2012    0.000135\n",
       "2013    0.000158\n",
       "2014    0.000056\n",
       "2015    0.000225\n",
       "2016    0.001331\n",
       "2017    0.001226\n",
       "2018    0.001241\n",
       "Name: Vehicle_Type, dtype: float64"
      ]
     },
     "execution_count": 25,
     "metadata": {},
     "output_type": "execute_result"
    }
   ],
   "source": [
    "merged = pd.merge(acc[['Accident_Index', 'Year']], veh[['Accident_Index', 'Vehicle_Type']], on='Accident_Index')\n",
    "a = merged[merged['Vehicle_Type'] == -1].groupby(['Year'])['Vehicle_Type'].count()\n",
    "b = merged.groupby(['Year'])['Vehicle_Type'].count()\n",
    "a / b"
   ]
  },
  {
   "cell_type": "markdown",
   "metadata": {
    "colab_type": "text",
    "id": "tORINlNqpBB-"
   },
   "source": [
    "On average per year, less than 1% of all vehicles involved in an accident have a missing `Vehicle_Type` value, hence we can safely omit those:"
   ]
  },
  {
   "cell_type": "code",
   "execution_count": 26,
   "metadata": {
    "colab": {
     "base_uri": "https://localhost:8080/",
     "height": 56
    },
    "colab_type": "code",
    "id": "DGqd0SkIVibC",
    "outputId": "44d0047a-5cb5-43f9-c7cc-f0458ae5795d"
   },
   "outputs": [
    {
     "name": "stdout",
     "output_type": "stream",
     "text": [
      "Removed 1419 rows because of missing Vehicle_Type values\n",
      "[ 9 11  3 90  5  1 19  4  8 21 20  2 10 17 18 16 97 22 98 23]\n"
     ]
    }
   ],
   "source": [
    "rm_acc_idxs = veh[veh['Vehicle_Type'] == -1]['Accident_Index'].unique()\n",
    "\n",
    "veh = veh[~veh['Accident_Index'].isin(rm_acc_idxs)]\n",
    "acc = acc[~acc['Accident_Index'].isin(rm_acc_idxs)]\n",
    "cas = cas[~cas['Accident_Index'].isin(rm_acc_idxs)]\n",
    "\n",
    "print(f'Removed {rm_acc_idxs.shape[0]} rows because of missing Vehicle_Type values')\n",
    "print(veh['Vehicle_Type'].unique())"
   ]
  },
  {
   "cell_type": "code",
   "execution_count": 27,
   "metadata": {
    "colab": {
     "base_uri": "https://localhost:8080/",
     "height": 75
    },
    "colab_type": "code",
    "id": "k83TTu4nQ6bS",
    "outputId": "94109516-c874-4c82-9c40-c72ad569e062"
   },
   "outputs": [
    {
     "name": "stdout",
     "output_type": "stream",
     "text": [
      "(2168303, 25)\n",
      "(2914051, 10)\n",
      "(3977118, 13)\n"
     ]
    }
   ],
   "source": [
    "print(acc.shape)\n",
    "print(cas.shape)\n",
    "print(veh.shape)"
   ]
  },
  {
   "cell_type": "markdown",
   "metadata": {
    "colab_type": "text",
    "id": "PlZ56CZuQ6bZ"
   },
   "source": [
    "We see that the three datasets have different number of rows, because an **accident** can have multiple **casualties** and multiple **vehicles** involved. This means that the data has to be joined and aggregated depending on the analysis/test conducted."
   ]
  },
  {
   "cell_type": "markdown",
   "metadata": {
    "colab_type": "text",
    "id": "Xorb8nyHQ6bc"
   },
   "source": [
    "# Exploratory data analysis"
   ]
  },
  {
   "cell_type": "markdown",
   "metadata": {
    "colab_type": "text",
    "id": "I_1FW3S4BEt4"
   },
   "source": [
    "## Variable distributions"
   ]
  },
  {
   "cell_type": "markdown",
   "metadata": {
    "colab_type": "text",
    "id": "AlELGz184rem"
   },
   "source": [
    "### Accidents"
   ]
  },
  {
   "cell_type": "code",
   "execution_count": 28,
   "metadata": {
    "colab": {
     "base_uri": "https://localhost:8080/",
     "height": 552
    },
    "colab_type": "code",
    "id": "gGUvVza64VrP",
    "outputId": "77367d53-76fa-4f5e-8342-641c8bdcf1d1"
   },
   "outputs": [
    {
     "data": {
      "image/png": "[encoded data removed]",
      "text/plain": [
       "<Figure size 1080x648 with 25 Axes>"
      ]
     },
     "metadata": {
      "needs_background": "light"
     },
     "output_type": "display_data"
    }
   ],
   "source": [
    "acc.hist(bins=30, xlabelsize=8, ylabelsize=8, figsize=(15,9));"
   ]
  },
  {
   "cell_type": "markdown",
   "metadata": {
    "colab_type": "text",
    "id": "jBBR0vZSC4ZD"
   },
   "source": [
    "At a first glance, we can already spot clusters for the field `Time Hours`, and a trend for the `Day of Week`, which is what we were expecting. Also, the majority of `Accident_Severity` are of type *Slight* (vs. *Serious* and *Fatal*). Location-wise (`Longitude`, `Latitude`), we see that the accidents are not uniformly distributed, which of course is obvious considering different population densities across the UK---we will analyze this further later on. The histogram for `Year` shows that the number of traffic accidents is decreasing over time, which is a pleasant discovery."
   ]
  },
  {
   "cell_type": "markdown",
   "metadata": {
    "colab_type": "text",
    "id": "EwNldSjs4vGG"
   },
   "source": [
    "### Vehicles"
   ]
  },
  {
   "cell_type": "code",
   "execution_count": 29,
   "metadata": {
    "colab": {
     "base_uri": "https://localhost:8080/",
     "height": 552
    },
    "colab_type": "code",
    "id": "szRksAux66qI",
    "outputId": "e77fce90-6e21-4e8b-8693-3bd2e269c450"
   },
   "outputs": [
    {
     "data": {
      "image/png": "[encoded data removed]",
      "text/plain": [
       "<Figure size 1080x648 with 12 Axes>"
      ]
     },
     "metadata": {
      "needs_background": "light"
     },
     "output_type": "display_data"
    }
   ],
   "source": [
    "veh.hist(bins=30, xlabelsize=8, ylabelsize=8, figsize=(15,9));"
   ]
  },
  {
   "cell_type": "markdown",
   "metadata": {
    "colab_type": "text",
    "id": "aMzoebTVEiJR"
   },
   "source": [
    "Somewhat unsurprising, the most accidents are caused by 25 year old people, partially the reason why car insurance and rental companies have this age threshold for their pricing policy. The majority of the accidents are caused by men, which doesn't necessarily mean that they are worse drivers than women though, because they could just on average drive more often, or there are just more male car owners in general. In fact, according to a survey conducted in 2017 in the UK, 76% of the male participants, and 69% of the female participants own a motor vehicle."
   ]
  },
  {
   "cell_type": "markdown",
   "metadata": {
    "colab_type": "text",
    "id": "tid350yX403A"
   },
   "source": [
    "### Casualties"
   ]
  },
  {
   "cell_type": "code",
   "execution_count": 30,
   "metadata": {
    "colab": {
     "base_uri": "https://localhost:8080/",
     "height": 552
    },
    "colab_type": "code",
    "id": "47zxVrlW43cl",
    "outputId": "8b11dcbf-de18-4b95-9dca-9bc280c85f72"
   },
   "outputs": [
    {
     "data": {
      "image/png": "[encoded data removed]",
      "text/plain": [
       "<Figure size 1080x648 with 9 Axes>"
      ]
     },
     "metadata": {
      "needs_background": "light"
     },
     "output_type": "display_data"
    }
   ],
   "source": [
    "cas.hist(bins=50, xlabelsize=8, ylabelsize=8, figsize=(15,9));"
   ]
  },
  {
   "cell_type": "markdown",
   "metadata": {
    "colab_type": "text",
    "id": "z3jx8GOQqH5P"
   },
   "source": [
    "The distribution of `Age_of_Casualty` paints a surprising picture. The peak is at around 20+ years old, which might be due to lack of experience and driving skills."
   ]
  },
  {
   "cell_type": "markdown",
   "metadata": {
    "colab_type": "text",
    "id": "YpqnjIwISqa5"
   },
   "source": [
    "## Frequency & Severity Analyses"
   ]
  },
  {
   "cell_type": "markdown",
   "metadata": {
    "colab_type": "text",
    "id": "GHpOCIOeicgT"
   },
   "source": [
    "In this section, we conduct analyses considering the following guiding topics:\n",
    "1. Analyze the distribution of accidents over time (i.e. accident frequency per year, weekday, hour of day)\n",
    "2. Analyze how the severity of accidents depends on certain conditions (e.g. time, weather, roadtype, drivers' characteristics)\n",
    "\n",
    "In the following, we provide a quick overview of all the analyses we apply in this part:\n",
    "- Time trend analysis: development of accident frequency and severity over the years 2005-2018\n",
    "- Severity & Frequency by hour of day\n",
    "- Severity & Frequency by weekday\n",
    "- Severity by weather condition\n",
    "- Severity by road surface condition\n",
    "- Severity by speed limits\n",
    "- Severity by roadtype\n",
    "- Severity by age group\n",
    "- Severity by gender\n",
    "\n",
    "Note that we apply the frequency analyses only on time variables. This is due to the reason that we do not reliably observe the base probabilities of variables like weather conditions, age groups or speed limits, which would be required to draw meaningful conclusions from a frequency analysis of such variables. However, since we only compare equally large time periods with each other (years with years, days with days, hours with hours) this is not a concern in frequency anlayses with time variables. Furthermore, to evaluate how the severity of accidents depend on certain variables, we calculate the share of total accidents occuring under the respective circumstances (e.g. speedlimit = 60mph, weather condition = snow, weekday = sunday) for each severity level (i.e. slight, serious or fatal). However, we have to bear in mind that for some variables/circumstances we analyze (e.g. speed limit = 10mph) the sample size (i.e. number of accidents) is not very large. Thus, we need to be cautious when interpreting those results because they clearly are subject to the so called \"small sample bias\" and are therefore probably not representative for the total population. However, since the sample sizes are large enough for most of our analyses, this appears to be a minor problem."
   ]
  },
  {
   "cell_type": "markdown",
   "metadata": {
    "colab_type": "text",
    "id": "SnQbuAGF9bhk"
   },
   "source": [
    "### Time trend analysis: Development of accident frequency & severity over the years 2005-2018"
   ]
  },
  {
   "cell_type": "markdown",
   "metadata": {
    "colab_type": "text",
    "id": "o-r_tRVsej1H"
   },
   "source": [
    "**Hypothesis #1**: Accidents get less frequent over the years, since the technology of intelligent accident prevention devices, programs used in vehicles, road safety measures are steadily improving and becoming more widespread.\n",
    "\n",
    "**Hypothesis #2**: Fraction of fatal accidents decreases over the years, since roads are directed more efficiently, and security technology is improving."
   ]
  },
  {
   "cell_type": "code",
   "execution_count": 31,
   "metadata": {
    "colab": {
     "base_uri": "https://localhost:8080/",
     "height": 798
    },
    "colab_type": "code",
    "id": "aanPU2abbT1O",
    "outputId": "22c6c5c9-fa4c-46f6-993d-0d538d8f6225"
   },
   "outputs": [
    {
     "data": {
      "text/html": [
       "<div>\n",
       "<style scoped>\n",
       "    .dataframe tbody tr th:only-of-type {\n",
       "        vertical-align: middle;\n",
       "    }\n",
       "\n",
       "    .dataframe tbody tr th {\n",
       "        vertical-align: top;\n",
       "    }\n",
       "\n",
       "    .dataframe thead th {\n",
       "        text-align: right;\n",
       "    }\n",
       "</style>\n",
       "<table border=\"1\" class=\"dataframe\">\n",
       "  <thead>\n",
       "    <tr style=\"text-align: right;\">\n",
       "      <th></th>\n",
       "      <th>Total Accidents</th>\n",
       "      <th>Slight</th>\n",
       "      <th>Serious</th>\n",
       "      <th>Fatal</th>\n",
       "    </tr>\n",
       "    <tr>\n",
       "      <th>Year</th>\n",
       "      <th></th>\n",
       "      <th></th>\n",
       "      <th></th>\n",
       "      <th></th>\n",
       "    </tr>\n",
       "  </thead>\n",
       "  <tbody>\n",
       "    <tr>\n",
       "      <th>2005</th>\n",
       "      <td>198610</td>\n",
       "      <td>0.859368</td>\n",
       "      <td>0.125976</td>\n",
       "      <td>0.014657</td>\n",
       "    </tr>\n",
       "    <tr>\n",
       "      <th>2006</th>\n",
       "      <td>189097</td>\n",
       "      <td>0.852642</td>\n",
       "      <td>0.131885</td>\n",
       "      <td>0.015474</td>\n",
       "    </tr>\n",
       "    <tr>\n",
       "      <th>2007</th>\n",
       "      <td>182049</td>\n",
       "      <td>0.851540</td>\n",
       "      <td>0.133557</td>\n",
       "      <td>0.014903</td>\n",
       "    </tr>\n",
       "    <tr>\n",
       "      <th>2008</th>\n",
       "      <td>170490</td>\n",
       "      <td>0.850730</td>\n",
       "      <td>0.135550</td>\n",
       "      <td>0.013719</td>\n",
       "    </tr>\n",
       "    <tr>\n",
       "      <th>2009</th>\n",
       "      <td>163492</td>\n",
       "      <td>0.852898</td>\n",
       "      <td>0.134520</td>\n",
       "      <td>0.012582</td>\n",
       "    </tr>\n",
       "    <tr>\n",
       "      <th>2010</th>\n",
       "      <td>154368</td>\n",
       "      <td>0.856395</td>\n",
       "      <td>0.132391</td>\n",
       "      <td>0.011213</td>\n",
       "    </tr>\n",
       "    <tr>\n",
       "      <th>2011</th>\n",
       "      <td>151441</td>\n",
       "      <td>0.849598</td>\n",
       "      <td>0.138536</td>\n",
       "      <td>0.011866</td>\n",
       "    </tr>\n",
       "    <tr>\n",
       "      <th>2012</th>\n",
       "      <td>145530</td>\n",
       "      <td>0.845152</td>\n",
       "      <td>0.143599</td>\n",
       "      <td>0.011249</td>\n",
       "    </tr>\n",
       "    <tr>\n",
       "      <th>2013</th>\n",
       "      <td>138612</td>\n",
       "      <td>0.846868</td>\n",
       "      <td>0.141546</td>\n",
       "      <td>0.011586</td>\n",
       "    </tr>\n",
       "    <tr>\n",
       "      <th>2014</th>\n",
       "      <td>146307</td>\n",
       "      <td>0.847362</td>\n",
       "      <td>0.141306</td>\n",
       "      <td>0.011332</td>\n",
       "    </tr>\n",
       "    <tr>\n",
       "      <th>2015</th>\n",
       "      <td>139980</td>\n",
       "      <td>0.845414</td>\n",
       "      <td>0.143056</td>\n",
       "      <td>0.011530</td>\n",
       "    </tr>\n",
       "    <tr>\n",
       "      <th>2016</th>\n",
       "      <td>136290</td>\n",
       "      <td>0.828476</td>\n",
       "      <td>0.159109</td>\n",
       "      <td>0.012415</td>\n",
       "    </tr>\n",
       "    <tr>\n",
       "      <th>2017</th>\n",
       "      <td>129687</td>\n",
       "      <td>0.813767</td>\n",
       "      <td>0.173325</td>\n",
       "      <td>0.012908</td>\n",
       "    </tr>\n",
       "    <tr>\n",
       "      <th>2018</th>\n",
       "      <td>122350</td>\n",
       "      <td>0.797401</td>\n",
       "      <td>0.188966</td>\n",
       "      <td>0.013633</td>\n",
       "    </tr>\n",
       "  </tbody>\n",
       "</table>\n",
       "</div>"
      ],
      "text/plain": [
       "      Total Accidents    Slight   Serious     Fatal\n",
       "Year                                               \n",
       "2005           198610  0.859368  0.125976  0.014657\n",
       "2006           189097  0.852642  0.131885  0.015474\n",
       "2007           182049  0.851540  0.133557  0.014903\n",
       "2008           170490  0.850730  0.135550  0.013719\n",
       "2009           163492  0.852898  0.134520  0.012582\n",
       "2010           154368  0.856395  0.132391  0.011213\n",
       "2011           151441  0.849598  0.138536  0.011866\n",
       "2012           145530  0.845152  0.143599  0.011249\n",
       "2013           138612  0.846868  0.141546  0.011586\n",
       "2014           146307  0.847362  0.141306  0.011332\n",
       "2015           139980  0.845414  0.143056  0.011530\n",
       "2016           136290  0.828476  0.159109  0.012415\n",
       "2017           129687  0.813767  0.173325  0.012908\n",
       "2018           122350  0.797401  0.188966  0.013633"
      ]
     },
     "execution_count": 31,
     "metadata": {},
     "output_type": "execute_result"
    },
    {
     "data": {
      "image/png": "[encoded data removed]",
      "text/plain": [
       "<Figure size 432x288 with 1 Axes>"
      ]
     },
     "metadata": {
      "needs_background": "light"
     },
     "output_type": "display_data"
    }
   ],
   "source": [
    "# copy variables of interest into a new dataframe\n",
    "dat = acc[['Accident_Severity', 'Year']].dropna()\n",
    "\n",
    "grp_year = dat.groupby(['Year'])['Accident_Severity'].count()\n",
    "grp_year_s1 = dat[dat['Accident_Severity'] == 1].groupby(['Year'])['Accident_Severity'].count()\n",
    "grp_year_s2 = dat[dat['Accident_Severity'] == 2].groupby(['Year'])['Accident_Severity'].count()\n",
    "grp_year_s3 = dat[dat['Accident_Severity'] == 3].groupby(['Year'])['Accident_Severity'].count()\n",
    "\n",
    "# grouped by severity\n",
    "grp_pct0 = pd.concat([grp_year, grp_year_s1 / grp_year, grp_year_s2 / grp_year, grp_year_s3 / grp_year], axis=1)\n",
    "grp_pct0.columns = ['Total Accidents', 'Slight', 'Serious', 'Fatal']\n",
    "\n",
    "# plot overall time trend\n",
    "grp_pct1 = pd.concat([grp_year, grp_year_s1, grp_year_s2, grp_year_s3], axis=1)\n",
    "grp_pct1.columns = ['Total Accidents', 'Slight', 'Serious', 'Fatal']\n",
    "grp_pct1[['Slight', 'Serious', 'Fatal']].plot.area(title='Number of traffic accidents over time');\n",
    "\n",
    "# print table\n",
    "grp_pct0"
   ]
  },
  {
   "cell_type": "code",
   "execution_count": 32,
   "metadata": {
    "colab": {
     "base_uri": "https://localhost:8080/",
     "height": 369
    },
    "colab_type": "code",
    "id": "XoV_BbMEjm5L",
    "outputId": "0dba1f4d-fa47-4c54-a2c1-8606252c363d"
   },
   "outputs": [
    {
     "data": {
      "image/png": "[encoded data removed]",
      "text/plain": [
       "<Figure size 1296x360 with 3 Axes>"
      ]
     },
     "metadata": {
      "needs_background": "light"
     },
     "output_type": "display_data"
    }
   ],
   "source": [
    "# plots\n",
    "fig, (ax1,ax2,ax3) = plt.subplots(1,3, figsize=(18,5))\n",
    "grp_pct0[['Slight']].plot.line(ax=ax1, rot=90, title='Fraction of minor accidents by year', ylim=(0, 1.1*grp_pct0['Slight'].max()));\n",
    "grp_pct0[['Serious']].plot.line(ax=ax2, rot=90, title='Fraction of serious accidents by year', ylim=(0, 1.1*grp_pct0['Serious'].max()));\n",
    "grp_pct0[['Fatal']].plot.line(ax=ax3, rot=90, title='Fraction of fatal accidents by year', ylim=(0, 1.1*grp_pct0['Fatal'].max()));\n",
    "plt.tight_layout()"
   ]
  },
  {
   "cell_type": "markdown",
   "metadata": {
    "colab_type": "text",
    "id": "EHn6P_QzXIPe"
   },
   "source": [
    "By looking at the development of accident frequency over time, we observe that the number of yearly accidents reveals a decreasing trend. This observation supports our first hypothesis. Furthermore, we observe that the fraction of fatal accidents decreases from 2005 to 2011, then remains on a more or less stable level until 2015 and then starts to slightly increase again. This pattern contradicts the one we hypothesize with Hypothesis #2 (see above). A possible explaination could be that in addition to the traditional sources that can divert one’s attention from the road, such as eating, speaking to passengers or chatting on the cellphone, new dangers are also emerging as people become more reliant on technology. Distracted driving from new sources (think of checking Facebook, Instagram, Twitter or Snapchat on your phone) have also been blamed for part of this increase. In conclusion, the number of yearly accidents has decreased (supporting Hypothesis #1), while the relative proportions regarding accidents severity have stayed more or less constant, with \"serious\" accidents showing a slight increasing trend (contradicting Hypothesis #2)."
   ]
  },
  {
   "cell_type": "markdown",
   "metadata": {
    "colab_type": "text",
    "id": "kLti_sUjX8dZ"
   },
   "source": [
    "### Severity & Frequency by hour of day"
   ]
  },
  {
   "cell_type": "markdown",
   "metadata": {
    "colab_type": "text",
    "id": "bGIsEWjbesd_"
   },
   "source": [
    "**Hypothesis #3**: Accidents are most frequent during the rush hour (i.e. at 8 am and 5 pm).\n",
    "\n",
    "**Hypothesis #4**: Accidents occuring during the rush hour are in turn the least severe ones due to the heavy traffic which impedes riders from speeding and aggressive driving.\n",
    "\n",
    "**Hypothesis #5**: Accidents are less frequent by night.\n",
    "\n",
    "**Hypothesis #6**: Accidents occuring by night are in turn more severe than those occuring during the daytime, because the attainable speeds are higher."
   ]
  },
  {
   "cell_type": "code",
   "execution_count": 33,
   "metadata": {
    "colab": {
     "base_uri": "https://localhost:8080/",
     "height": 404
    },
    "colab_type": "code",
    "id": "2U1PwGACUXut",
    "outputId": "993b92fa-9273-4787-c6f1-f59e708b66f3"
   },
   "outputs": [
    {
     "data": {
      "image/png": "[encoded data removed]",
      "text/plain": [
       "<Figure size 576x432 with 1 Axes>"
      ]
     },
     "metadata": {
      "needs_background": "light"
     },
     "output_type": "display_data"
    }
   ],
   "source": [
    "fig, ax = plt.subplots(figsize=(8,6))\n",
    "ax.hist(x=acc['Hour of Day'], bins=range(0, 25, 1), rwidth=0.7)\n",
    "ax.set_xticks(np.arange(0.5, 24, 1))\n",
    "ax.set_xticklabels(range(0, 24))\n",
    "plt.xlabel('Hour of day')\n",
    "plt.ylabel('Number of accidents')\n",
    "plt.title('Accidents distribution by hour of day');"
   ]
  },
  {
   "cell_type": "markdown",
   "metadata": {
    "colab_type": "text",
    "id": "vu1ClmgfEhap"
   },
   "source": [
    "We observe a bimodal distribution, hence two distinct peaks: the first one at the 9th hour of a day (i.e. between 8:00 and 9:00) and the second one at the 18th hour of a day (i.e. between 17:00 and 18:00). This pattern provides evidence for Hypothesis #3, since it indicates that most accidents indeed occur during the rush hour. During the rush hour, there are clearly more vehicles on the road, which consequently leads to more accidents. Furthermore, we observe that during the night considerably fewer accidents occur than during the day, which provides support for Hypothesis #5. This is also intuitively explainable, since there is obviously less traffic by night. Overall, we can conclude that the accident frequency depicts an oscillating trend, with the lowest point between 4:00 and 5:00 in the morning and the peak between 17:00 and 18:00 (if we flatten out the rush hour peak in the morning), strongly correlating to the actual traffic volume."
   ]
  },
  {
   "cell_type": "code",
   "execution_count": 34,
   "metadata": {
    "colab": {
     "base_uri": "https://localhost:8080/",
     "height": 834
    },
    "colab_type": "code",
    "id": "-FqVo4NLgRlX",
    "outputId": "03edef0c-0d6d-40cc-eca3-fcb2e90fa81b"
   },
   "outputs": [
    {
     "data": {
      "text/html": [
       "<div>\n",
       "<style scoped>\n",
       "    .dataframe tbody tr th:only-of-type {\n",
       "        vertical-align: middle;\n",
       "    }\n",
       "\n",
       "    .dataframe tbody tr th {\n",
       "        vertical-align: top;\n",
       "    }\n",
       "\n",
       "    .dataframe thead th {\n",
       "        text-align: right;\n",
       "    }\n",
       "</style>\n",
       "<table border=\"1\" class=\"dataframe\">\n",
       "  <thead>\n",
       "    <tr style=\"text-align: right;\">\n",
       "      <th></th>\n",
       "      <th>Total Accidents</th>\n",
       "      <th>Slight</th>\n",
       "      <th>Serious</th>\n",
       "      <th>Fatal</th>\n",
       "    </tr>\n",
       "    <tr>\n",
       "      <th>Hour of Day</th>\n",
       "      <th></th>\n",
       "      <th></th>\n",
       "      <th></th>\n",
       "      <th></th>\n",
       "    </tr>\n",
       "  </thead>\n",
       "  <tbody>\n",
       "    <tr>\n",
       "      <th>0</th>\n",
       "      <td>32890</td>\n",
       "      <td>0.776953</td>\n",
       "      <td>0.192794</td>\n",
       "      <td>0.030252</td>\n",
       "    </tr>\n",
       "    <tr>\n",
       "      <th>1</th>\n",
       "      <td>23994</td>\n",
       "      <td>0.768650</td>\n",
       "      <td>0.199342</td>\n",
       "      <td>0.032008</td>\n",
       "    </tr>\n",
       "    <tr>\n",
       "      <th>2</th>\n",
       "      <td>19072</td>\n",
       "      <td>0.756502</td>\n",
       "      <td>0.208001</td>\n",
       "      <td>0.035497</td>\n",
       "    </tr>\n",
       "    <tr>\n",
       "      <th>3</th>\n",
       "      <td>15469</td>\n",
       "      <td>0.757709</td>\n",
       "      <td>0.203827</td>\n",
       "      <td>0.038464</td>\n",
       "    </tr>\n",
       "    <tr>\n",
       "      <th>4</th>\n",
       "      <td>12192</td>\n",
       "      <td>0.759843</td>\n",
       "      <td>0.201280</td>\n",
       "      <td>0.038878</td>\n",
       "    </tr>\n",
       "    <tr>\n",
       "      <th>5</th>\n",
       "      <td>18039</td>\n",
       "      <td>0.779034</td>\n",
       "      <td>0.188370</td>\n",
       "      <td>0.032596</td>\n",
       "    </tr>\n",
       "    <tr>\n",
       "      <th>6</th>\n",
       "      <td>39038</td>\n",
       "      <td>0.815154</td>\n",
       "      <td>0.165224</td>\n",
       "      <td>0.019622</td>\n",
       "    </tr>\n",
       "    <tr>\n",
       "      <th>7</th>\n",
       "      <td>92484</td>\n",
       "      <td>0.849671</td>\n",
       "      <td>0.138619</td>\n",
       "      <td>0.011710</td>\n",
       "    </tr>\n",
       "    <tr>\n",
       "      <th>8</th>\n",
       "      <td>157917</td>\n",
       "      <td>0.882198</td>\n",
       "      <td>0.111381</td>\n",
       "      <td>0.006421</td>\n",
       "    </tr>\n",
       "    <tr>\n",
       "      <th>9</th>\n",
       "      <td>107046</td>\n",
       "      <td>0.873083</td>\n",
       "      <td>0.117576</td>\n",
       "      <td>0.009342</td>\n",
       "    </tr>\n",
       "    <tr>\n",
       "      <th>10</th>\n",
       "      <td>97917</td>\n",
       "      <td>0.854683</td>\n",
       "      <td>0.132418</td>\n",
       "      <td>0.012899</td>\n",
       "    </tr>\n",
       "    <tr>\n",
       "      <th>11</th>\n",
       "      <td>111728</td>\n",
       "      <td>0.856992</td>\n",
       "      <td>0.131256</td>\n",
       "      <td>0.011752</td>\n",
       "    </tr>\n",
       "    <tr>\n",
       "      <th>12</th>\n",
       "      <td>127321</td>\n",
       "      <td>0.859363</td>\n",
       "      <td>0.130308</td>\n",
       "      <td>0.010328</td>\n",
       "    </tr>\n",
       "    <tr>\n",
       "      <th>13</th>\n",
       "      <td>130561</td>\n",
       "      <td>0.855998</td>\n",
       "      <td>0.132750</td>\n",
       "      <td>0.011251</td>\n",
       "    </tr>\n",
       "    <tr>\n",
       "      <th>14</th>\n",
       "      <td>131686</td>\n",
       "      <td>0.850645</td>\n",
       "      <td>0.138116</td>\n",
       "      <td>0.011239</td>\n",
       "    </tr>\n",
       "    <tr>\n",
       "      <th>15</th>\n",
       "      <td>167431</td>\n",
       "      <td>0.850565</td>\n",
       "      <td>0.139717</td>\n",
       "      <td>0.009717</td>\n",
       "    </tr>\n",
       "    <tr>\n",
       "      <th>16</th>\n",
       "      <td>175832</td>\n",
       "      <td>0.847986</td>\n",
       "      <td>0.141544</td>\n",
       "      <td>0.010470</td>\n",
       "    </tr>\n",
       "    <tr>\n",
       "      <th>17</th>\n",
       "      <td>192383</td>\n",
       "      <td>0.851177</td>\n",
       "      <td>0.139035</td>\n",
       "      <td>0.009788</td>\n",
       "    </tr>\n",
       "    <tr>\n",
       "      <th>18</th>\n",
       "      <td>151208</td>\n",
       "      <td>0.844869</td>\n",
       "      <td>0.144794</td>\n",
       "      <td>0.010337</td>\n",
       "    </tr>\n",
       "    <tr>\n",
       "      <th>19</th>\n",
       "      <td>112598</td>\n",
       "      <td>0.834464</td>\n",
       "      <td>0.151761</td>\n",
       "      <td>0.013775</td>\n",
       "    </tr>\n",
       "    <tr>\n",
       "      <th>20</th>\n",
       "      <td>82598</td>\n",
       "      <td>0.825783</td>\n",
       "      <td>0.159023</td>\n",
       "      <td>0.015194</td>\n",
       "    </tr>\n",
       "    <tr>\n",
       "      <th>21</th>\n",
       "      <td>65843</td>\n",
       "      <td>0.815941</td>\n",
       "      <td>0.165955</td>\n",
       "      <td>0.018104</td>\n",
       "    </tr>\n",
       "    <tr>\n",
       "      <th>22</th>\n",
       "      <td>57433</td>\n",
       "      <td>0.807706</td>\n",
       "      <td>0.171156</td>\n",
       "      <td>0.021138</td>\n",
       "    </tr>\n",
       "    <tr>\n",
       "      <th>23</th>\n",
       "      <td>45623</td>\n",
       "      <td>0.798260</td>\n",
       "      <td>0.177695</td>\n",
       "      <td>0.024045</td>\n",
       "    </tr>\n",
       "  </tbody>\n",
       "</table>\n",
       "</div>"
      ],
      "text/plain": [
       "             Total Accidents    Slight   Serious     Fatal\n",
       "Hour of Day                                               \n",
       "0                      32890  0.776953  0.192794  0.030252\n",
       "1                      23994  0.768650  0.199342  0.032008\n",
       "2                      19072  0.756502  0.208001  0.035497\n",
       "3                      15469  0.757709  0.203827  0.038464\n",
       "4                      12192  0.759843  0.201280  0.038878\n",
       "5                      18039  0.779034  0.188370  0.032596\n",
       "6                      39038  0.815154  0.165224  0.019622\n",
       "7                      92484  0.849671  0.138619  0.011710\n",
       "8                     157917  0.882198  0.111381  0.006421\n",
       "9                     107046  0.873083  0.117576  0.009342\n",
       "10                     97917  0.854683  0.132418  0.012899\n",
       "11                    111728  0.856992  0.131256  0.011752\n",
       "12                    127321  0.859363  0.130308  0.010328\n",
       "13                    130561  0.855998  0.132750  0.011251\n",
       "14                    131686  0.850645  0.138116  0.011239\n",
       "15                    167431  0.850565  0.139717  0.009717\n",
       "16                    175832  0.847986  0.141544  0.010470\n",
       "17                    192383  0.851177  0.139035  0.009788\n",
       "18                    151208  0.844869  0.144794  0.010337\n",
       "19                    112598  0.834464  0.151761  0.013775\n",
       "20                     82598  0.825783  0.159023  0.015194\n",
       "21                     65843  0.815941  0.165955  0.018104\n",
       "22                     57433  0.807706  0.171156  0.021138\n",
       "23                     45623  0.798260  0.177695  0.024045"
      ]
     },
     "execution_count": 34,
     "metadata": {},
     "output_type": "execute_result"
    },
    {
     "data": {
      "image/png": "[encoded data removed]",
      "text/plain": [
       "<Figure size 1296x360 with 3 Axes>"
      ]
     },
     "metadata": {
      "needs_background": "light"
     },
     "output_type": "display_data"
    }
   ],
   "source": [
    "# copy variables of interest into a new dataframe\n",
    "dat = acc[['Accident_Severity', 'Hour of Day']].dropna()\n",
    "\n",
    "grp_year = dat.groupby(['Hour of Day'])['Accident_Severity'].count()\n",
    "grp_year1 = dat[dat['Accident_Severity'] == 1].groupby(['Hour of Day'])['Accident_Severity'].count()\n",
    "grp_year2 = dat[dat['Accident_Severity'] == 2].groupby(['Hour of Day'])['Accident_Severity'].count()\n",
    "grp_year3 = dat[dat['Accident_Severity'] == 3].groupby(['Hour of Day'])['Accident_Severity'].count()\n",
    "\n",
    "# create dataframe\n",
    "grp_pct1 = pd.concat([grp_year, grp_year1 / grp_year, grp_year2 / grp_year, grp_year3 / grp_year], axis=1)\n",
    "grp_pct1.columns = ['Total Accidents', 'Slight', 'Serious', 'Fatal']\n",
    "\n",
    "# plots\n",
    "fig, (ax1,ax2,ax3) = plt.subplots(1,3, figsize=(18,5))\n",
    "grp_pct1[['Slight']].plot.bar(ax=ax1, rot=0, title='Fraction of minor accidents by hour of day');\n",
    "grp_pct1[['Serious']].plot.bar(ax=ax2, rot=0, title='Fraction of serious accidents by hour of day');\n",
    "grp_pct1[['Fatal']].plot.bar(ax=ax3, rot=0, title='Fraction of fatal accidents by hour of day');\n",
    "plt.tight_layout()\n",
    "\n",
    "# print table\n",
    "grp_pct1"
   ]
  },
  {
   "cell_type": "markdown",
   "metadata": {
    "colab_type": "text",
    "id": "cEmolaBwd1H0"
   },
   "source": [
    "Looking at the barplots, we see that accidents by night have a much higher portion of serious and fatal accidents than accidents occuring during the day. Intuitively, this makes sense due to several reasons:\n",
    "\n",
    "- The probability of icy road surfaces and cold weather conditions is higher by night due to lack of sunlight.\n",
    "- By night, bad light conditions makes it harder to drive safely and see obstacles and danger far ahead.\n",
    "- The low traffic allows for speeding and risky driving.\n",
    "- The protion of drivers which drive under the influence of alcohol and other impairing substances is most likely higher by night.\n",
    "\n",
    "All these insights provide quite strong support for Hypothesis #6.\n",
    "\n",
    "Moreover, we observe that the hour of day with the smallest fraction of serious and fatal accidents is exactly the one during the morning rush hour. The evening rush hour between 5 pm and 6 pm also shows a rather small fraction of fatal accidents. Hence, we can conclude that accidents occuring during the rush hour indeed tend to be less severe than those happening during other hours of the day or by night, which provides support for Hypothesis #4."
   ]
  },
  {
   "cell_type": "markdown",
   "metadata": {
    "colab_type": "text",
    "id": "1CBJv6r9YE8I"
   },
   "source": [
    "### Severity & Frequency by weekday"
   ]
  },
  {
   "cell_type": "markdown",
   "metadata": {
    "colab_type": "text",
    "id": "XOC4m7F7JqtE"
   },
   "source": [
    "**Hypothesis #7**: Accidents are less frequent on the weekends.\n",
    "\n",
    "**Hypothesis #8**: Accidents are in turn more severe on weekends.\n",
    "\n",
    "**Hypothesis #9**: The effect of accidents being more severe on weekends is stronger for motorcycles than for other vehicles."
   ]
  },
  {
   "cell_type": "code",
   "execution_count": 35,
   "metadata": {
    "colab": {
     "base_uri": "https://localhost:8080/",
     "height": 404
    },
    "colab_type": "code",
    "id": "rAHnMgBOS3yB",
    "outputId": "a9f88a99-ff8c-46ec-e796-fd9c638c95b6"
   },
   "outputs": [
    {
     "data": {
      "image/png": "[encoded data removed]",
      "text/plain": [
       "<Figure size 576x432 with 1 Axes>"
      ]
     },
     "metadata": {
      "needs_background": "light"
     },
     "output_type": "display_data"
    }
   ],
   "source": [
    "# count the number of accidents on each weekday\n",
    "acc_weekday = acc.groupby(['Day of Week'])['Accident_Index'].count()\n",
    "\n",
    "# plot\n",
    "fig, ax = plt.subplots(figsize=(8,6))\n",
    "ax.bar(acc_weekday.index, height=acc_weekday)\n",
    "ax.set_xticks(np.arange(1, 8))\n",
    "ax.set_xticklabels(weekdays_abbr)\n",
    "plt.xlabel('Day of week')\n",
    "plt.ylabel('Number of accidents')\n",
    "plt.title('Frequency by weekday');"
   ]
  },
  {
   "cell_type": "markdown",
   "metadata": {
    "colab_type": "text",
    "id": "lisfnyy4Uj0H"
   },
   "source": [
    "We observe that on weekends, considerably less accidents occur, which provides support for Hypothesis #7. This is intuitive, since on weekends, there is generally less traffic on the roads than during the week. Furthermore, we can see that most accidents happen on Fridays. A possible explanation for this pattern is that people are tired because of the work week, and probably tend to drive more aggressively with the weekend in sight. However, we think that one could reasonably argue that those accidents which happen on weekends in turn are more severe (i.e. Hypothesis #8). Furthermore, we hypothesize that weekend accidents are even more severe for motorcyclists than for other vehicles (i.e. Hypothesis #9). We analyse these hypotheses in the following."
   ]
  },
  {
   "cell_type": "markdown",
   "metadata": {
    "colab_type": "text",
    "id": "B-Hm7Gz_IA8g"
   },
   "source": [
    "#### Severity by weekday: all vehicles"
   ]
  },
  {
   "cell_type": "code",
   "execution_count": 36,
   "metadata": {
    "colab": {
     "base_uri": "https://localhost:8080/",
     "height": 621
    },
    "colab_type": "code",
    "id": "LtWCrHdzH7_w",
    "outputId": "19390956-d21a-41a0-ab84-cca83275f129"
   },
   "outputs": [
    {
     "data": {
      "text/html": [
       "<div>\n",
       "<style scoped>\n",
       "    .dataframe tbody tr th:only-of-type {\n",
       "        vertical-align: middle;\n",
       "    }\n",
       "\n",
       "    .dataframe tbody tr th {\n",
       "        vertical-align: top;\n",
       "    }\n",
       "\n",
       "    .dataframe thead th {\n",
       "        text-align: right;\n",
       "    }\n",
       "</style>\n",
       "<table border=\"1\" class=\"dataframe\">\n",
       "  <thead>\n",
       "    <tr style=\"text-align: right;\">\n",
       "      <th></th>\n",
       "      <th>Total Accidents</th>\n",
       "      <th>Slight</th>\n",
       "      <th>Serious</th>\n",
       "      <th>Fatal</th>\n",
       "    </tr>\n",
       "  </thead>\n",
       "  <tbody>\n",
       "    <tr>\n",
       "      <th>Monday</th>\n",
       "      <td>307965</td>\n",
       "      <td>0.852516</td>\n",
       "      <td>0.135704</td>\n",
       "      <td>0.011781</td>\n",
       "    </tr>\n",
       "    <tr>\n",
       "      <th>Tuesday</th>\n",
       "      <td>324020</td>\n",
       "      <td>0.853830</td>\n",
       "      <td>0.135149</td>\n",
       "      <td>0.011021</td>\n",
       "    </tr>\n",
       "    <tr>\n",
       "      <th>Wednesday</th>\n",
       "      <td>326764</td>\n",
       "      <td>0.854240</td>\n",
       "      <td>0.134843</td>\n",
       "      <td>0.010916</td>\n",
       "    </tr>\n",
       "    <tr>\n",
       "      <th>Thursday</th>\n",
       "      <td>326642</td>\n",
       "      <td>0.851593</td>\n",
       "      <td>0.137006</td>\n",
       "      <td>0.011401</td>\n",
       "    </tr>\n",
       "    <tr>\n",
       "      <th>Friday</th>\n",
       "      <td>354934</td>\n",
       "      <td>0.848439</td>\n",
       "      <td>0.139513</td>\n",
       "      <td>0.012047</td>\n",
       "    </tr>\n",
       "    <tr>\n",
       "      <th>Saturday</th>\n",
       "      <td>289013</td>\n",
       "      <td>0.827129</td>\n",
       "      <td>0.156277</td>\n",
       "      <td>0.016594</td>\n",
       "    </tr>\n",
       "    <tr>\n",
       "      <th>Sunday</th>\n",
       "      <td>238965</td>\n",
       "      <td>0.813056</td>\n",
       "      <td>0.168276</td>\n",
       "      <td>0.018668</td>\n",
       "    </tr>\n",
       "  </tbody>\n",
       "</table>\n",
       "</div>"
      ],
      "text/plain": [
       "           Total Accidents    Slight   Serious     Fatal\n",
       "Monday              307965  0.852516  0.135704  0.011781\n",
       "Tuesday             324020  0.853830  0.135149  0.011021\n",
       "Wednesday           326764  0.854240  0.134843  0.010916\n",
       "Thursday            326642  0.851593  0.137006  0.011401\n",
       "Friday              354934  0.848439  0.139513  0.012047\n",
       "Saturday            289013  0.827129  0.156277  0.016594\n",
       "Sunday              238965  0.813056  0.168276  0.018668"
      ]
     },
     "execution_count": 36,
     "metadata": {},
     "output_type": "execute_result"
    },
    {
     "data": {
      "image/png": "[encoded data removed]",
      "text/plain": [
       "<Figure size 1152x360 with 3 Axes>"
      ]
     },
     "metadata": {
      "needs_background": "light"
     },
     "output_type": "display_data"
    }
   ],
   "source": [
    "# copy the variables of interest into a new dataframe\n",
    "dat = acc[['Accident_Severity', 'Day of Week']].dropna()\n",
    "\n",
    "# calculate the fraction of each severity level per weekday\n",
    "dat_count = dat.groupby(['Day of Week'])['Accident_Severity'].count()\n",
    "dat_s1 = dat[dat['Accident_Severity'] == 1].groupby(['Day of Week'])['Accident_Severity'].count()\n",
    "dat_s2 = dat[dat['Accident_Severity'] == 2].groupby(['Day of Week'])['Accident_Severity'].count()\n",
    "dat_s3 = dat[dat['Accident_Severity'] == 3].groupby(['Day of Week'])['Accident_Severity'].count()\n",
    "\n",
    "# create dataframe\n",
    "grp_pct2 = pd.concat([dat_count, dat_s1 / dat_count, dat_s2 / dat_count, dat_s3 / dat_count], axis=1)\n",
    "grp_pct2.columns = ['Total Accidents', 'Slight', 'Serious', 'Fatal']\n",
    "grp_pct2.index = weekdays\n",
    "\n",
    "# plots\n",
    "fig, (ax1,ax2,ax3) = plt.subplots(1,3, figsize=(16,5))\n",
    "grp_pct2[['Slight']].plot.bar(ax=ax1, rot=30, title='Fraction of minor accidents by weekday');\n",
    "grp_pct2[['Serious']].plot.bar(ax=ax2, rot=30, title='Fraction of serious accidents by weekday');\n",
    "grp_pct2[['Fatal']].plot.bar(ax=ax3, rot=30, title='Fraction of fatal accidents by weekday');\n",
    "plt.tight_layout()\n",
    "\n",
    "# print table\n",
    "grp_pct2"
   ]
  },
  {
   "cell_type": "markdown",
   "metadata": {
    "colab_type": "text",
    "id": "_JuoxhypW5MO"
   },
   "source": [
    "We observe that on weekends, the portions of serious and fatal accidents are indeed higher than during the week. This pattern supports Hypothesis #8. Comparing to more frequent, but less severe accidents happend during weekdays, the higher portions of more severe accidents could be resulting from two reasons:\n",
    "- More car drivers are related to driving under the influence of alcohol on weekends, which is a key reason so many crash-related deaths occur.\n",
    "- Speeding is another factor that people are inclined to drive faster on holiday since they are usually more relaxed, careless and fun-driven (pun intended) on weekends."
   ]
  },
  {
   "cell_type": "markdown",
   "metadata": {
    "colab_type": "text",
    "id": "-TB5RDPdGiz_"
   },
   "source": [
    "#### Severity by weekday: only motorbikes"
   ]
  },
  {
   "cell_type": "code",
   "execution_count": 37,
   "metadata": {
    "colab": {
     "base_uri": "https://localhost:8080/",
     "height": 621
    },
    "colab_type": "code",
    "id": "t7nZ9IPdGmLm",
    "outputId": "6a2268ef-658a-4961-b477-91ffad110bdd"
   },
   "outputs": [
    {
     "data": {
      "text/html": [
       "<div>\n",
       "<style scoped>\n",
       "    .dataframe tbody tr th:only-of-type {\n",
       "        vertical-align: middle;\n",
       "    }\n",
       "\n",
       "    .dataframe tbody tr th {\n",
       "        vertical-align: top;\n",
       "    }\n",
       "\n",
       "    .dataframe thead th {\n",
       "        text-align: right;\n",
       "    }\n",
       "</style>\n",
       "<table border=\"1\" class=\"dataframe\">\n",
       "  <thead>\n",
       "    <tr style=\"text-align: right;\">\n",
       "      <th></th>\n",
       "      <th>Total Accidents</th>\n",
       "      <th>Slight</th>\n",
       "      <th>Serious</th>\n",
       "      <th>Fatal</th>\n",
       "    </tr>\n",
       "  </thead>\n",
       "  <tbody>\n",
       "    <tr>\n",
       "      <th>Monday</th>\n",
       "      <td>40030</td>\n",
       "      <td>0.731676</td>\n",
       "      <td>0.251062</td>\n",
       "      <td>0.017262</td>\n",
       "    </tr>\n",
       "    <tr>\n",
       "      <th>Tuesday</th>\n",
       "      <td>43707</td>\n",
       "      <td>0.737433</td>\n",
       "      <td>0.246048</td>\n",
       "      <td>0.016519</td>\n",
       "    </tr>\n",
       "    <tr>\n",
       "      <th>Wednesday</th>\n",
       "      <td>44110</td>\n",
       "      <td>0.735434</td>\n",
       "      <td>0.248152</td>\n",
       "      <td>0.016414</td>\n",
       "    </tr>\n",
       "    <tr>\n",
       "      <th>Thursday</th>\n",
       "      <td>44357</td>\n",
       "      <td>0.734923</td>\n",
       "      <td>0.248191</td>\n",
       "      <td>0.016886</td>\n",
       "    </tr>\n",
       "    <tr>\n",
       "      <th>Friday</th>\n",
       "      <td>46872</td>\n",
       "      <td>0.726468</td>\n",
       "      <td>0.255462</td>\n",
       "      <td>0.018070</td>\n",
       "    </tr>\n",
       "    <tr>\n",
       "      <th>Saturday</th>\n",
       "      <td>37626</td>\n",
       "      <td>0.676580</td>\n",
       "      <td>0.295726</td>\n",
       "      <td>0.027694</td>\n",
       "    </tr>\n",
       "    <tr>\n",
       "      <th>Sunday</th>\n",
       "      <td>34954</td>\n",
       "      <td>0.635750</td>\n",
       "      <td>0.328374</td>\n",
       "      <td>0.035876</td>\n",
       "    </tr>\n",
       "  </tbody>\n",
       "</table>\n",
       "</div>"
      ],
      "text/plain": [
       "           Total Accidents    Slight   Serious     Fatal\n",
       "Monday               40030  0.731676  0.251062  0.017262\n",
       "Tuesday              43707  0.737433  0.246048  0.016519\n",
       "Wednesday            44110  0.735434  0.248152  0.016414\n",
       "Thursday             44357  0.734923  0.248191  0.016886\n",
       "Friday               46872  0.726468  0.255462  0.018070\n",
       "Saturday             37626  0.676580  0.295726  0.027694\n",
       "Sunday               34954  0.635750  0.328374  0.035876"
      ]
     },
     "execution_count": 37,
     "metadata": {},
     "output_type": "execute_result"
    },
    {
     "data": {
      "image/png": "[encoded data removed]",
      "text/plain": [
       "<Figure size 1152x360 with 3 Axes>"
      ]
     },
     "metadata": {
      "needs_background": "light"
     },
     "output_type": "display_data"
    }
   ],
   "source": [
    "# copy the observations of interest into a new data frame (only motorbikes)\n",
    "acc_idxs = veh[veh['Vehicle_Type'].isin([2,3,4,5,23,97])]['Accident_Index'].unique()\n",
    "dat = acc[acc['Accident_Index'].isin(acc_idxs)]\n",
    "\n",
    "# copy the variables of interest into a new dataframe\n",
    "dat = dat[['Accident_Severity', 'Day of Week']].dropna()\n",
    "\n",
    "# calculate the fraction of each severity level per weekday\n",
    "dat_count = dat.groupby(['Day of Week'])['Accident_Severity'].count()\n",
    "dat_s1 = dat[dat['Accident_Severity'] == 1].groupby(['Day of Week'])['Accident_Severity'].count()\n",
    "dat_s2 = dat[dat['Accident_Severity'] == 2].groupby(['Day of Week'])['Accident_Severity'].count()\n",
    "dat_s3 = dat[dat['Accident_Severity'] == 3].groupby(['Day of Week'])['Accident_Severity'].count()\n",
    "\n",
    "# create dataframe\n",
    "grp_pct3 = pd.concat([dat_count, dat_s1 / dat_count, dat_s2 / dat_count, dat_s3 / dat_count], axis=1)\n",
    "grp_pct3.columns = ['Total Accidents', 'Slight', 'Serious', 'Fatal']\n",
    "grp_pct3.index = weekdays\n",
    "\n",
    "# plots\n",
    "fig, (ax1,ax2,ax3) = plt.subplots(1,3, figsize=(16,5))\n",
    "grp_pct3[['Slight']].plot.bar(ax=ax1, rot=30, title='Fraction of minor accidents by weekday (motorbikes)');\n",
    "grp_pct3[['Serious']].plot.bar(ax=ax2, rot=30, title='Fraction of serious accidents by weekday (motorbikes)');\n",
    "grp_pct3[['Fatal']].plot.bar(ax=ax3, rot=30, title='Fraction of fatal accidents by weekday (motorbikes)');\n",
    "plt.tight_layout()\n",
    "\n",
    "# print table\n",
    "grp_pct3"
   ]
  },
  {
   "cell_type": "markdown",
   "metadata": {
    "colab_type": "text",
    "id": "nIcOqJ1jazAo"
   },
   "source": [
    "Comparing the barplots, we see that the fraction of fatal accidents for motorbikes by weekday is higher than for all other vehicle types, hence providing support for Hypothesis #9.\n",
    "- Traffic is usually less heavy on weekends, so motorbike drivers can drive at higher speeds which increases the likelihood of more severe accidents.\n",
    "- The main purpose of driving a motorbike on weekdays is commuting, while on weekends the main reason is rather for touring or fun, and also taking roads and trips which are more interesting and challenging, hence more dangerous.\n",
    "- Driving a motorbike itself is less protective compared to driving a car. The driver of a motorbike is directly exposed to other vehicles, with little or no protection like airbags or crumple zones."
   ]
  },
  {
   "cell_type": "markdown",
   "metadata": {
    "colab_type": "text",
    "id": "RM_hqHg_YMTO"
   },
   "source": [
    "### Severity by weather condition"
   ]
  },
  {
   "cell_type": "markdown",
   "metadata": {
    "colab_type": "text",
    "id": "arCuKDAvg_xl"
   },
   "source": [
    "**Hypothesis #10**: Bad weather conditions lead to more sever accidents, e.g. rain, snow, fogg or heavy winds."
   ]
  },
  {
   "cell_type": "code",
   "execution_count": 38,
   "metadata": {
    "colab": {
     "base_uri": "https://localhost:8080/",
     "height": 558
    },
    "colab_type": "code",
    "id": "ogRLmJckP-rM",
    "outputId": "c28e36e5-0a40-4308-ae43-a0ef9c0a81f7"
   },
   "outputs": [
    {
     "data": {
      "text/html": [
       "<div>\n",
       "<style scoped>\n",
       "    .dataframe tbody tr th:only-of-type {\n",
       "        vertical-align: middle;\n",
       "    }\n",
       "\n",
       "    .dataframe tbody tr th {\n",
       "        vertical-align: top;\n",
       "    }\n",
       "\n",
       "    .dataframe thead th {\n",
       "        text-align: right;\n",
       "    }\n",
       "</style>\n",
       "<table border=\"1\" class=\"dataframe\">\n",
       "  <thead>\n",
       "    <tr style=\"text-align: right;\">\n",
       "      <th></th>\n",
       "      <th>Total Accidents</th>\n",
       "      <th>Slight</th>\n",
       "      <th>Serious</th>\n",
       "      <th>Fatal</th>\n",
       "    </tr>\n",
       "    <tr>\n",
       "      <th>Weather_Conditions</th>\n",
       "      <th></th>\n",
       "      <th></th>\n",
       "      <th></th>\n",
       "      <th></th>\n",
       "    </tr>\n",
       "  </thead>\n",
       "  <tbody>\n",
       "    <tr>\n",
       "      <th>Fine</th>\n",
       "      <td>1765039</td>\n",
       "      <td>0.839798</td>\n",
       "      <td>0.146785</td>\n",
       "      <td>0.013416</td>\n",
       "    </tr>\n",
       "    <tr>\n",
       "      <th>Fog</th>\n",
       "      <td>11507</td>\n",
       "      <td>0.826280</td>\n",
       "      <td>0.151212</td>\n",
       "      <td>0.022508</td>\n",
       "    </tr>\n",
       "    <tr>\n",
       "      <th>Rain</th>\n",
       "      <td>281523</td>\n",
       "      <td>0.859170</td>\n",
       "      <td>0.129709</td>\n",
       "      <td>0.011122</td>\n",
       "    </tr>\n",
       "    <tr>\n",
       "      <th>Snow</th>\n",
       "      <td>17338</td>\n",
       "      <td>0.884416</td>\n",
       "      <td>0.107567</td>\n",
       "      <td>0.008017</td>\n",
       "    </tr>\n",
       "  </tbody>\n",
       "</table>\n",
       "</div>"
      ],
      "text/plain": [
       "                    Total Accidents    Slight   Serious     Fatal\n",
       "Weather_Conditions                                               \n",
       "Fine                        1765039  0.839798  0.146785  0.013416\n",
       "Fog                           11507  0.826280  0.151212  0.022508\n",
       "Rain                         281523  0.859170  0.129709  0.011122\n",
       "Snow                          17338  0.884416  0.107567  0.008017"
      ]
     },
     "execution_count": 38,
     "metadata": {},
     "output_type": "execute_result"
    },
    {
     "data": {
      "image/png": "[encoded data removed]",
      "text/plain": [
       "<Figure size 1152x360 with 3 Axes>"
      ]
     },
     "metadata": {
      "needs_background": "light"
     },
     "output_type": "display_data"
    }
   ],
   "source": [
    "# copy the variables of interest into a new dataframe\n",
    "dat = acc[['Accident_Severity', 'Weather_Conditions']].dropna()\n",
    "\n",
    "# select only accidents where the weather condition is known\n",
    "dat = dat[dat['Weather_Conditions'].isin([1,2,3,4,5,6,7])]\n",
    "\n",
    "# create a variable to indicate if there were heavy winds\n",
    "dat['Wind'] = dat['Weather_Conditions'].isin([4,5,6]).astype(int)\n",
    "dat['Wind'] = dat['Wind'].astype(str)\n",
    "dat.loc[dat['Wind'].isin(['1']), 'Wind'] = 'Heavy winds'\n",
    "dat.loc[dat['Wind'].isin(['0']), 'Wind'] = 'No heavy winds'\n",
    "\n",
    "# reshape the Weather_Conditions variable\n",
    "dat['Weather_Conditions'] = dat['Weather_Conditions'].astype(str)\n",
    "dat.loc[dat['Weather_Conditions'].isin(['1','4']), 'Weather_Conditions'] = 'Fine'\n",
    "dat.loc[dat['Weather_Conditions'].isin(['2','5']), 'Weather_Conditions'] = 'Rain'\n",
    "dat.loc[dat['Weather_Conditions'].isin(['3','6']), 'Weather_Conditions'] = 'Snow'\n",
    "dat.loc[dat['Weather_Conditions'].isin(['7']), 'Weather_Conditions'] = 'Fog'\n",
    "\n",
    "# calculate the fraction of each severity level per weather condition\n",
    "dat_count = dat.groupby(['Weather_Conditions'])['Accident_Severity'].count()\n",
    "dat_s1 = dat[dat['Accident_Severity'] == 1].groupby(['Weather_Conditions'])['Accident_Severity'].count()\n",
    "dat_s2 = dat[dat['Accident_Severity'] == 2].groupby(['Weather_Conditions'])['Accident_Severity'].count()\n",
    "dat_s3 = dat[dat['Accident_Severity'] == 3].groupby(['Weather_Conditions'])['Accident_Severity'].count()\n",
    "\n",
    "# create dataframe\n",
    "grp_pct4 = pd.concat([dat_count, dat_s1 / dat_count, dat_s2 / dat_count, dat_s3 / dat_count], axis=1)\n",
    "grp_pct4.columns = ['Total Accidents', 'Slight', 'Serious', 'Fatal']\n",
    "\n",
    "# plots\n",
    "fig, (ax1,ax2,ax3) = plt.subplots(1,3, figsize=(16,5))\n",
    "grp_pct4[['Slight']].plot.bar(ax=ax1, rot=30, title='Fraction of minor accidents by weather condition');\n",
    "grp_pct4[['Serious']].plot.bar(ax=ax2, rot=30, title='Fraction of serious accidents by weather condition');\n",
    "grp_pct4[['Fatal']].plot.bar(ax=ax3, rot=30, title='Fraction of fatal accidents by weather condition');\n",
    "plt.tight_layout()\n",
    "\n",
    "# print table\n",
    "grp_pct4"
   ]
  },
  {
   "cell_type": "code",
   "execution_count": 39,
   "metadata": {
    "colab": {
     "base_uri": "https://localhost:8080/",
     "height": 495
    },
    "colab_type": "code",
    "id": "aHwwptAbRo6g",
    "outputId": "611baedd-8331-4e7e-bc58-5c550010a084"
   },
   "outputs": [
    {
     "data": {
      "text/html": [
       "<div>\n",
       "<style scoped>\n",
       "    .dataframe tbody tr th:only-of-type {\n",
       "        vertical-align: middle;\n",
       "    }\n",
       "\n",
       "    .dataframe tbody tr th {\n",
       "        vertical-align: top;\n",
       "    }\n",
       "\n",
       "    .dataframe thead th {\n",
       "        text-align: right;\n",
       "    }\n",
       "</style>\n",
       "<table border=\"1\" class=\"dataframe\">\n",
       "  <thead>\n",
       "    <tr style=\"text-align: right;\">\n",
       "      <th></th>\n",
       "      <th>Total Accidents</th>\n",
       "      <th>Slight</th>\n",
       "      <th>Serious</th>\n",
       "      <th>Fatal</th>\n",
       "    </tr>\n",
       "    <tr>\n",
       "      <th>Wind</th>\n",
       "      <th></th>\n",
       "      <th></th>\n",
       "      <th></th>\n",
       "      <th></th>\n",
       "    </tr>\n",
       "  </thead>\n",
       "  <tbody>\n",
       "    <tr>\n",
       "      <th>Heavy winds</th>\n",
       "      <td>59425</td>\n",
       "      <td>0.837745</td>\n",
       "      <td>0.146184</td>\n",
       "      <td>0.016071</td>\n",
       "    </tr>\n",
       "    <tr>\n",
       "      <th>No heavy winds</th>\n",
       "      <td>2015982</td>\n",
       "      <td>0.842871</td>\n",
       "      <td>0.144106</td>\n",
       "      <td>0.013023</td>\n",
       "    </tr>\n",
       "  </tbody>\n",
       "</table>\n",
       "</div>"
      ],
      "text/plain": [
       "                Total Accidents    Slight   Serious     Fatal\n",
       "Wind                                                         \n",
       "Heavy winds               59425  0.837745  0.146184  0.016071\n",
       "No heavy winds          2015982  0.842871  0.144106  0.013023"
      ]
     },
     "execution_count": 39,
     "metadata": {},
     "output_type": "execute_result"
    },
    {
     "data": {
      "image/png": "[encoded data removed]",
      "text/plain": [
       "<Figure size 1152x360 with 3 Axes>"
      ]
     },
     "metadata": {
      "needs_background": "light"
     },
     "output_type": "display_data"
    }
   ],
   "source": [
    "# calculate the fraction of each severity level per wind condition\n",
    "dat_count = dat.groupby(['Wind'])['Accident_Severity'].count()\n",
    "dat_s1 = dat[dat['Accident_Severity'] == 1].groupby(['Wind'])['Accident_Severity'].count()\n",
    "dat_s2 = dat[dat['Accident_Severity'] == 2].groupby(['Wind'])['Accident_Severity'].count()\n",
    "dat_s3 = dat[dat['Accident_Severity'] == 3].groupby(['Wind'])['Accident_Severity'].count()\n",
    "\n",
    "# create dataframe\n",
    "grp_pct5 = pd.concat([dat_count, dat_s1 / dat_count, dat_s2 / dat_count, dat_s3 / dat_count], axis=1)\n",
    "grp_pct5.columns = ['Total Accidents', 'Slight', 'Serious', 'Fatal']\n",
    "\n",
    "# plots\n",
    "fig, (ax1,ax2,ax3) = plt.subplots(1,3, figsize=(16,5))\n",
    "grp_pct5[['Slight']].plot.bar(ax=ax1, rot=30, title='Fraction of minor accidents by wind condition');\n",
    "grp_pct5[['Serious']].plot.bar(ax=ax2, rot=30, title='Fraction of serious accidents by wind condition');\n",
    "grp_pct5[['Fatal']].plot.bar(ax=ax3, rot=30, title='Fraction of fatal accidents by wind condition');\n",
    "plt.tight_layout()\n",
    "\n",
    "# print table\n",
    "grp_pct5"
   ]
  },
  {
   "cell_type": "markdown",
   "metadata": {
    "colab_type": "text",
    "id": "xzebj25EkvI9"
   },
   "source": [
    "We observe that on windy and/or foggy days, there are more serious and fatal accidents, which supports Hypothesis #10. However, contrary to our intuition, the ratio of serious and fatal accidents on snowy and rainy days is lower than on days with good weather conditions. Several explanations are suggested by us:\n",
    "\n",
    "- Bad sight on foggy days and strong disturbance on days with heavy winds contribute to more severe accidents.\n",
    "- People tend to drive more carefully when it is raining or snowing, taking less risks.\n",
    "\n",
    "Furthermore, we observe slightly more minor accidents at bad weather conditions (i.e. snow and rain) compared to good conditions, which is what we intuitively expected."
   ]
  },
  {
   "cell_type": "markdown",
   "metadata": {
    "colab_type": "text",
    "id": "-WiLhr1C-9lc"
   },
   "source": [
    "### Severity by road surface condition"
   ]
  },
  {
   "cell_type": "markdown",
   "metadata": {
    "colab_type": "text",
    "id": "lJ3urJx4jEaq"
   },
   "source": [
    "**Hypothesis #11**: Bad road surface conditions lead to more severe accidents, e.g. wet, snow, frost or flood."
   ]
  },
  {
   "cell_type": "code",
   "execution_count": 40,
   "metadata": {
    "colab": {
     "base_uri": "https://localhost:8080/",
     "height": 558
    },
    "colab_type": "code",
    "id": "vUFIqUlWTQyb",
    "outputId": "c6efbe63-6e56-4c9a-9a6e-0eb628e6eb86"
   },
   "outputs": [
    {
     "data": {
      "text/html": [
       "<div>\n",
       "<style scoped>\n",
       "    .dataframe tbody tr th:only-of-type {\n",
       "        vertical-align: middle;\n",
       "    }\n",
       "\n",
       "    .dataframe tbody tr th {\n",
       "        vertical-align: top;\n",
       "    }\n",
       "\n",
       "    .dataframe thead th {\n",
       "        text-align: right;\n",
       "    }\n",
       "</style>\n",
       "<table border=\"1\" class=\"dataframe\">\n",
       "  <thead>\n",
       "    <tr style=\"text-align: right;\">\n",
       "      <th></th>\n",
       "      <th>Total Accidents</th>\n",
       "      <th>Slight</th>\n",
       "      <th>Serious</th>\n",
       "      <th>Fatal</th>\n",
       "    </tr>\n",
       "  </thead>\n",
       "  <tbody>\n",
       "    <tr>\n",
       "      <th>Dry</th>\n",
       "      <td>1507605</td>\n",
       "      <td>0.842222</td>\n",
       "      <td>0.145238</td>\n",
       "      <td>0.012540</td>\n",
       "    </tr>\n",
       "    <tr>\n",
       "      <th>Wet or damp</th>\n",
       "      <td>596417</td>\n",
       "      <td>0.846713</td>\n",
       "      <td>0.139029</td>\n",
       "      <td>0.014258</td>\n",
       "    </tr>\n",
       "    <tr>\n",
       "      <th>Snow</th>\n",
       "      <td>13256</td>\n",
       "      <td>0.887900</td>\n",
       "      <td>0.104783</td>\n",
       "      <td>0.007317</td>\n",
       "    </tr>\n",
       "    <tr>\n",
       "      <th>Frost or ice</th>\n",
       "      <td>41720</td>\n",
       "      <td>0.868145</td>\n",
       "      <td>0.121429</td>\n",
       "      <td>0.010427</td>\n",
       "    </tr>\n",
       "    <tr>\n",
       "      <th>Flood over 3cm deep</th>\n",
       "      <td>2979</td>\n",
       "      <td>0.838536</td>\n",
       "      <td>0.141323</td>\n",
       "      <td>0.020141</td>\n",
       "    </tr>\n",
       "  </tbody>\n",
       "</table>\n",
       "</div>"
      ],
      "text/plain": [
       "                     Total Accidents    Slight   Serious     Fatal\n",
       "Dry                          1507605  0.842222  0.145238  0.012540\n",
       "Wet or damp                   596417  0.846713  0.139029  0.014258\n",
       "Snow                           13256  0.887900  0.104783  0.007317\n",
       "Frost or ice                   41720  0.868145  0.121429  0.010427\n",
       "Flood over 3cm deep             2979  0.838536  0.141323  0.020141"
      ]
     },
     "execution_count": 40,
     "metadata": {},
     "output_type": "execute_result"
    },
    {
     "data": {
      "image/png": "[encoded data removed]",
      "text/plain": [
       "<Figure size 1152x360 with 3 Axes>"
      ]
     },
     "metadata": {
      "needs_background": "light"
     },
     "output_type": "display_data"
    }
   ],
   "source": [
    "# copy the observations of interest into a new dataframe\n",
    "dat = acc[acc['Road_Surface_Conditions'] != -1]\n",
    "dat = dat[['Accident_Severity', 'Road_Surface_Conditions']].dropna()\n",
    "\n",
    "# calculate the fraction of each severity level per road surface condition\n",
    "dat_count = dat.groupby(['Road_Surface_Conditions'])['Accident_Severity'].count()\n",
    "dat_s1 = dat[dat['Accident_Severity'] == 1].groupby(['Road_Surface_Conditions'])['Accident_Severity'].count()\n",
    "dat_s2 = dat[dat['Accident_Severity'] == 2].groupby(['Road_Surface_Conditions'])['Accident_Severity'].count()\n",
    "dat_s3 = dat[dat['Accident_Severity'] == 3].groupby(['Road_Surface_Conditions'])['Accident_Severity'].count()\n",
    "\n",
    "# create dataframe\n",
    "grp_pct6 = pd.concat([dat_count, dat_s1 / dat_count, dat_s2 / dat_count, dat_s3 / dat_count], axis=1)\n",
    "grp_pct6.columns = ['Total Accidents', 'Slight', 'Serious', 'Fatal']\n",
    "grp_pct6.index = ['Dry', 'Wet or damp', 'Snow', 'Frost or ice', 'Flood over 3cm deep']\n",
    "\n",
    "# plots\n",
    "fig, (ax1,ax2,ax3) = plt.subplots(1,3, figsize=(16,5))\n",
    "grp_pct6[['Slight']].plot.bar(ax=ax1, rot=30, title='Fraction of minor accidents by road surface condition');\n",
    "grp_pct6[['Serious']].plot.bar(ax=ax2, rot=30, title='Fraction of serious accidents by road surface condition');\n",
    "grp_pct6[['Fatal']].plot.bar(ax=ax3, rot=30, title='Fraction of fatal accidents by road surface condition');\n",
    "plt.tight_layout()\n",
    "\n",
    "# print table\n",
    "grp_pct6"
   ]
  },
  {
   "cell_type": "markdown",
   "metadata": {
    "colab_type": "text",
    "id": "hjdU6RFKjre7"
   },
   "source": [
    "Similarly to the patterns observed by looking at severity and weather conditions, the results we got here are only partially consistent with our Hypothesis #11. We observe that only on wet or damp roads, and roads with flood over 3cm deep, have higher proportion of serious and fatal accidents than on dry roads. Sereval explanations are suggested by us:\n",
    "\n",
    "- People don't assess wet or damp roads as dangerous driving conditions and pay less or equal attention as driving at good road conditions, while these conditions indeed cause more technical issues (aquaplaning, slip, etc.), and obviously so do roads with flood over 3cm deep.\n",
    "- On the one hand, snow and frost make driving more dangerous, by reducing tire adherence and impairing visibility ,but on the other hand, experienced drivers typically drive more slowly and carefully in snowy or frosty weather, or postpone unnecessary travel altogether."
   ]
  },
  {
   "cell_type": "markdown",
   "metadata": {
    "colab_type": "text",
    "id": "Z8eaXqOp3fQp"
   },
   "source": [
    "### Severity by speed limits"
   ]
  },
  {
   "cell_type": "markdown",
   "metadata": {
    "colab_type": "text",
    "id": "LAaAmJm8kKhx"
   },
   "source": [
    "**Hypothesis #12**: Accidents are more severe on roads with higher speed limits."
   ]
  },
  {
   "cell_type": "code",
   "execution_count": 41,
   "metadata": {
    "colab": {
     "base_uri": "https://localhost:8080/",
     "height": 684
    },
    "colab_type": "code",
    "id": "buBfZFvkUXnQ",
    "outputId": "a798e79b-316d-460c-e760-52598bc5b8fa"
   },
   "outputs": [
    {
     "data": {
      "text/html": [
       "<div>\n",
       "<style scoped>\n",
       "    .dataframe tbody tr th:only-of-type {\n",
       "        vertical-align: middle;\n",
       "    }\n",
       "\n",
       "    .dataframe tbody tr th {\n",
       "        vertical-align: top;\n",
       "    }\n",
       "\n",
       "    .dataframe thead th {\n",
       "        text-align: right;\n",
       "    }\n",
       "</style>\n",
       "<table border=\"1\" class=\"dataframe\">\n",
       "  <thead>\n",
       "    <tr style=\"text-align: right;\">\n",
       "      <th></th>\n",
       "      <th>Total Accidents</th>\n",
       "      <th>Slight</th>\n",
       "      <th>Serious</th>\n",
       "      <th>Fatal</th>\n",
       "    </tr>\n",
       "    <tr>\n",
       "      <th>Speed_limit</th>\n",
       "      <th></th>\n",
       "      <th></th>\n",
       "      <th></th>\n",
       "      <th></th>\n",
       "    </tr>\n",
       "  </thead>\n",
       "  <tbody>\n",
       "    <tr>\n",
       "      <th>10.0</th>\n",
       "      <td>17</td>\n",
       "      <td>0.705882</td>\n",
       "      <td>0.117647</td>\n",
       "      <td>0.176471</td>\n",
       "    </tr>\n",
       "    <tr>\n",
       "      <th>15.0</th>\n",
       "      <td>13</td>\n",
       "      <td>0.923077</td>\n",
       "      <td>0.076923</td>\n",
       "      <td>0.000000</td>\n",
       "    </tr>\n",
       "    <tr>\n",
       "      <th>20.0</th>\n",
       "      <td>37026</td>\n",
       "      <td>0.847648</td>\n",
       "      <td>0.146870</td>\n",
       "      <td>0.005483</td>\n",
       "    </tr>\n",
       "    <tr>\n",
       "      <th>30.0</th>\n",
       "      <td>1149588</td>\n",
       "      <td>0.867125</td>\n",
       "      <td>0.125752</td>\n",
       "      <td>0.007123</td>\n",
       "    </tr>\n",
       "    <tr>\n",
       "      <th>40.0</th>\n",
       "      <td>160847</td>\n",
       "      <td>0.846581</td>\n",
       "      <td>0.138293</td>\n",
       "      <td>0.015126</td>\n",
       "    </tr>\n",
       "    <tr>\n",
       "      <th>50.0</th>\n",
       "      <td>70114</td>\n",
       "      <td>0.826725</td>\n",
       "      <td>0.151411</td>\n",
       "      <td>0.021864</td>\n",
       "    </tr>\n",
       "    <tr>\n",
       "      <th>60.0</th>\n",
       "      <td>312855</td>\n",
       "      <td>0.777037</td>\n",
       "      <td>0.191299</td>\n",
       "      <td>0.031663</td>\n",
       "    </tr>\n",
       "    <tr>\n",
       "      <th>70.0</th>\n",
       "      <td>151527</td>\n",
       "      <td>0.852871</td>\n",
       "      <td>0.124380</td>\n",
       "      <td>0.022748</td>\n",
       "    </tr>\n",
       "  </tbody>\n",
       "</table>\n",
       "</div>"
      ],
      "text/plain": [
       "             Total Accidents    Slight   Serious     Fatal\n",
       "Speed_limit                                               \n",
       "10.0                      17  0.705882  0.117647  0.176471\n",
       "15.0                      13  0.923077  0.076923  0.000000\n",
       "20.0                   37026  0.847648  0.146870  0.005483\n",
       "30.0                 1149588  0.867125  0.125752  0.007123\n",
       "40.0                  160847  0.846581  0.138293  0.015126\n",
       "50.0                   70114  0.826725  0.151411  0.021864\n",
       "60.0                  312855  0.777037  0.191299  0.031663\n",
       "70.0                  151527  0.852871  0.124380  0.022748"
      ]
     },
     "execution_count": 41,
     "metadata": {},
     "output_type": "execute_result"
    },
    {
     "data": {
      "image/png": "[encoded data removed]",
      "text/plain": [
       "<Figure size 1152x360 with 3 Axes>"
      ]
     },
     "metadata": {
      "needs_background": "light"
     },
     "output_type": "display_data"
    }
   ],
   "source": [
    "# copy the observations of interest into a new data frame (note: we omit accidents where non-motor vehicles were involved)\n",
    "rm_acc_idxs = veh.loc[veh['Vehicle_Type'].isin([-1,1,16,22,90]), 'Accident_Index'].unique()\n",
    "dat = acc.loc[~acc['Accident_Index'].isin(rm_acc_idxs)]\n",
    "dat = dat[['Accident_Severity', 'Speed_limit']].dropna()\n",
    "\n",
    "# calculate the fraction of each severity level per speed limit\n",
    "dat_count = dat.groupby(['Speed_limit'])['Accident_Severity'].count()\n",
    "dat_s1 = dat[dat['Accident_Severity'] == 1].groupby(['Speed_limit'])['Accident_Severity'].count()\n",
    "dat_s2 = dat[dat['Accident_Severity'] == 2].groupby(['Speed_limit'])['Accident_Severity'].count()\n",
    "dat_s3 = dat[dat['Accident_Severity'] == 3].groupby(['Speed_limit'])['Accident_Severity'].count()\n",
    "\n",
    "# create dataframe\n",
    "grp_pct7 = pd.concat([dat_count, dat_s1 / dat_count, dat_s2 / dat_count, dat_s3 / dat_count], axis=1)\n",
    "grp_pct7 = grp_pct7.fillna(0)\n",
    "grp_pct7.columns = ['Total Accidents', 'Slight', 'Serious', 'Fatal']\n",
    "\n",
    "# plots\n",
    "fig, (ax1,ax2,ax3) = plt.subplots(1,3, figsize=(16,5))\n",
    "grp_pct7[['Slight']].plot.bar(ax=ax1, rot=30, title='Fraction of minor accidents by speed limit');\n",
    "grp_pct7[['Serious']].plot.bar(ax=ax2, rot=30, title='Fraction of serious accidents by speed limit');\n",
    "grp_pct7[['Fatal']].plot.bar(ax=ax3, rot=30, title='Fraction of fatal accidents by speed limit');\n",
    "plt.tight_layout()\n",
    "\n",
    "# print table\n",
    "grp_pct7"
   ]
  },
  {
   "cell_type": "markdown",
   "metadata": {
    "colab_type": "text",
    "id": "ZXK-_Uh9kX-u"
   },
   "source": [
    "We observe that the fraction of severe accidents (serious, fatal) increases with the speed limit until 60 mph (except for speed limit at 10 mph and 15 mph due to the apparant small sample bias). This supports our Hypothesis #12---higher speeds increase the kinetic energy, hence potential impacts pose a higher threat to the vehicle passengers. The drop in fraction of severe accidents for 70 mph is not obvious to us, we speculate that more experienced drivers tend to use those roads. Further investigation, e.g. by vehicle type and age-group would be required to analyze this finding."
   ]
  },
  {
   "cell_type": "markdown",
   "metadata": {
    "colab_type": "text",
    "id": "E0ExRCz54FJc"
   },
   "source": [
    "### Severity by roadtypes"
   ]
  },
  {
   "cell_type": "markdown",
   "metadata": {
    "colab_type": "text",
    "id": "cdyOIMPFkbZA"
   },
   "source": [
    "**Hypothesis #13**: Accidents are more severe on motorways than on other roads."
   ]
  },
  {
   "cell_type": "code",
   "execution_count": 42,
   "metadata": {
    "colab": {
     "base_uri": "https://localhost:8080/",
     "height": 558
    },
    "colab_type": "code",
    "id": "e24aiUzXVQKr",
    "outputId": "dbdafa3f-33f9-4e4e-f1ba-53c4bfc987a0"
   },
   "outputs": [
    {
     "data": {
      "text/html": [
       "<div>\n",
       "<style scoped>\n",
       "    .dataframe tbody tr th:only-of-type {\n",
       "        vertical-align: middle;\n",
       "    }\n",
       "\n",
       "    .dataframe tbody tr th {\n",
       "        vertical-align: top;\n",
       "    }\n",
       "\n",
       "    .dataframe thead th {\n",
       "        text-align: right;\n",
       "    }\n",
       "</style>\n",
       "<table border=\"1\" class=\"dataframe\">\n",
       "  <thead>\n",
       "    <tr style=\"text-align: right;\">\n",
       "      <th></th>\n",
       "      <th>Total Accidents</th>\n",
       "      <th>Slight</th>\n",
       "      <th>Serious</th>\n",
       "      <th>Fatal</th>\n",
       "    </tr>\n",
       "  </thead>\n",
       "  <tbody>\n",
       "    <tr>\n",
       "      <th>Motorways (A/M)</th>\n",
       "      <td>88032</td>\n",
       "      <td>0.884633</td>\n",
       "      <td>0.098998</td>\n",
       "      <td>0.016369</td>\n",
       "    </tr>\n",
       "    <tr>\n",
       "      <th>Trunk routes (A)</th>\n",
       "      <td>979694</td>\n",
       "      <td>0.841738</td>\n",
       "      <td>0.142241</td>\n",
       "      <td>0.016020</td>\n",
       "    </tr>\n",
       "    <tr>\n",
       "      <th>Distributor roads (B)</th>\n",
       "      <td>272109</td>\n",
       "      <td>0.829774</td>\n",
       "      <td>0.156107</td>\n",
       "      <td>0.014119</td>\n",
       "    </tr>\n",
       "    <tr>\n",
       "      <th>Minor roads (C)</th>\n",
       "      <td>181896</td>\n",
       "      <td>0.846638</td>\n",
       "      <td>0.141449</td>\n",
       "      <td>0.011913</td>\n",
       "    </tr>\n",
       "    <tr>\n",
       "      <th>Unclassified roads</th>\n",
       "      <td>646572</td>\n",
       "      <td>0.849867</td>\n",
       "      <td>0.142778</td>\n",
       "      <td>0.007356</td>\n",
       "    </tr>\n",
       "  </tbody>\n",
       "</table>\n",
       "</div>"
      ],
      "text/plain": [
       "                       Total Accidents    Slight   Serious     Fatal\n",
       "Motorways (A/M)                  88032  0.884633  0.098998  0.016369\n",
       "Trunk routes (A)                979694  0.841738  0.142241  0.016020\n",
       "Distributor roads (B)           272109  0.829774  0.156107  0.014119\n",
       "Minor roads (C)                 181896  0.846638  0.141449  0.011913\n",
       "Unclassified roads              646572  0.849867  0.142778  0.007356"
      ]
     },
     "execution_count": 42,
     "metadata": {},
     "output_type": "execute_result"
    },
    {
     "data": {
      "image/png": "[encoded data removed]",
      "text/plain": [
       "<Figure size 1152x360 with 3 Axes>"
      ]
     },
     "metadata": {
      "needs_background": "light"
     },
     "output_type": "display_data"
    }
   ],
   "source": [
    "# copy the variables of interest into a new dataframe\n",
    "dat = acc[['Accident_Severity', '1st_Road_Class']].dropna()\n",
    "dat['Road_Class'] = dat['1st_Road_Class']\n",
    "\n",
    "# reshape the Road_Class variable such that all motorways (Motorways & A(M) roads) are combined into 1 road class\n",
    "dat[dat['Road_Class'] == 2] = 1\n",
    "\n",
    "# calculate the fraction of each severity level per road class\n",
    "dat_count = dat.groupby(['Road_Class'])['Accident_Severity'].count()\n",
    "dat_s1 = dat[dat['Accident_Severity'] == 1].groupby(['Road_Class'])['Accident_Severity'].count()\n",
    "dat_s2 = dat[dat['Accident_Severity'] == 2].groupby(['Road_Class'])['Accident_Severity'].count()\n",
    "dat_s3 = dat[dat['Accident_Severity'] == 3].groupby(['Road_Class'])['Accident_Severity'].count()\n",
    "\n",
    "# create dataframe\n",
    "grp_pct8 = pd.concat([dat_count, dat_s1 / dat_count, dat_s2 / dat_count, dat_s3 / dat_count], axis=1)\n",
    "grp_pct8.columns = ['Total Accidents', 'Slight', 'Serious', 'Fatal']\n",
    "grp_pct8.index = ['Motorways (A/M)', 'Trunk routes (A)', 'Distributor roads (B)', 'Minor roads (C)', 'Unclassified roads']\n",
    "\n",
    "# plots\n",
    "fig, (ax1,ax2,ax3) = plt.subplots(1,3, figsize=(16,5))\n",
    "grp_pct8[['Slight']].plot.bar(ax=ax1, rot=30, title='Fraction of minor accidents by road class');\n",
    "grp_pct8[['Serious']].plot.bar(ax=ax2, rot=30, title='Fraction of serious accidents by road class');\n",
    "grp_pct8[['Fatal']].plot.bar(ax=ax3, rot=30, title='Fraction of fatal accidents by road class');\n",
    "plt.tight_layout()\n",
    "\n",
    "# print table\n",
    "grp_pct8"
   ]
  },
  {
   "cell_type": "markdown",
   "metadata": {
    "colab_type": "text",
    "id": "dqJeleFFkmk7"
   },
   "source": [
    "We observe that while accidents occurring on motorways have the highest fatality rate, the accidents occuring on trunk routes have almost the same fatality rate, and an even higher portion of serious accidents. In addition, distributor roads also have relatively high rate of fatal and serious accidents compared to the other two types of roads. This is only partially consistant with our Hypothesis #13. We explain this finding by the following reasoning:\n",
    "- Trunk roads are the main traffic routes, which means it has the heavist traffic and results in considerably high rates of serious and fatal accidents.\n",
    "- Most of the cars on distributor roads are the trucks carrying heavy goods, also resulting relatively high rates of serious and fatal accidents.\n",
    "- Inexperienced drivers avoid driving on motorways."
   ]
  },
  {
   "cell_type": "markdown",
   "metadata": {
    "colab_type": "text",
    "id": "y-ph3G8OFAX5"
   },
   "source": [
    "### Severity by age group"
   ]
  },
  {
   "cell_type": "markdown",
   "metadata": {
    "colab_type": "text",
    "id": "Ca507Hj5kv64"
   },
   "source": [
    "**Hypothesis #14**: Accidents caused by young drivers (i.e. age <= 25), and old drivers (i.e. age > 75), are more severe than accidents caused by drivers between those age thresholds."
   ]
  },
  {
   "cell_type": "markdown",
   "metadata": {
    "colab_type": "text",
    "id": "C6JgOmCWkxiG"
   },
   "source": [
    "In order to analyze the severity of **car accidents** by age group, we need to form age bins, and identify who caused the accident. Though, with multiple vehicles involved in an accident, it is unclear who and/or what caused the accident, especially using this dataset. For this reason, we only look at single-vehicle accidents (Selbstunfälle), which allows us to clearly identify the perpetrator of an accident and draw stronger conclusions.\n",
    "\n",
    "Finally, we need to join the `Accidents` table with the `Vehicles` table."
   ]
  },
  {
   "cell_type": "code",
   "execution_count": 43,
   "metadata": {
    "colab": {
     "base_uri": "https://localhost:8080/",
     "height": 358
    },
    "colab_type": "code",
    "id": "n83iDe5zy4P3",
    "outputId": "9518efae-6de4-4ae8-fcc9-765fe8d12f76"
   },
   "outputs": [
    {
     "name": "stdout",
     "output_type": "stream",
     "text": [
      "Filtered out 3324152 vehicles because of multiple drivers involved\n",
      "Filtered out 74776 vehicles because of missing/invalid driver age\n",
      "Filtered out 3375 vehicles because of unknown driver sex\n",
      "Filtered out 164676 vehicles because of vehicle is not a car\n",
      "410139 vehicles left for analysis\n"
     ]
    },
    {
     "data": {
      "text/html": [
       "<div>\n",
       "<style scoped>\n",
       "    .dataframe tbody tr th:only-of-type {\n",
       "        vertical-align: middle;\n",
       "    }\n",
       "\n",
       "    .dataframe tbody tr th {\n",
       "        vertical-align: top;\n",
       "    }\n",
       "\n",
       "    .dataframe thead th {\n",
       "        text-align: right;\n",
       "    }\n",
       "</style>\n",
       "<table border=\"1\" class=\"dataframe\">\n",
       "  <thead>\n",
       "    <tr style=\"text-align: right;\">\n",
       "      <th></th>\n",
       "      <th>Accident_Index</th>\n",
       "      <th>Longitude</th>\n",
       "      <th>Latitude</th>\n",
       "      <th>Accident_Severity</th>\n",
       "      <th>Number_of_Vehicles</th>\n",
       "      <th>Number_of_Casualties</th>\n",
       "      <th>Date</th>\n",
       "      <th>Time</th>\n",
       "      <th>1st_Road_Class</th>\n",
       "      <th>1st_Road_Number</th>\n",
       "      <th>...</th>\n",
       "      <th>Junction_Location</th>\n",
       "      <th>Skidding_and_Overturning</th>\n",
       "      <th>Was_Vehicle_Left_Hand_Drive?</th>\n",
       "      <th>Journey_Purpose_of_Driver</th>\n",
       "      <th>Sex_of_Driver</th>\n",
       "      <th>Age_of_Driver</th>\n",
       "      <th>Engine_Capacity_(CC)</th>\n",
       "      <th>Propulsion_Code</th>\n",
       "      <th>Age_of_Vehicle</th>\n",
       "      <th>Age Bin</th>\n",
       "    </tr>\n",
       "  </thead>\n",
       "  <tbody>\n",
       "    <tr>\n",
       "      <th>0</th>\n",
       "      <td>200501BS00001</td>\n",
       "      <td>-0.191170</td>\n",
       "      <td>51.489096</td>\n",
       "      <td>2</td>\n",
       "      <td>1</td>\n",
       "      <td>1</td>\n",
       "      <td>2005-01-04</td>\n",
       "      <td>17:42</td>\n",
       "      <td>3</td>\n",
       "      <td>3218</td>\n",
       "      <td>...</td>\n",
       "      <td>0</td>\n",
       "      <td>0</td>\n",
       "      <td>1</td>\n",
       "      <td>15</td>\n",
       "      <td>2</td>\n",
       "      <td>74</td>\n",
       "      <td>-1</td>\n",
       "      <td>-1</td>\n",
       "      <td>-1</td>\n",
       "      <td>4</td>\n",
       "    </tr>\n",
       "    <tr>\n",
       "      <th>1</th>\n",
       "      <td>200501BS00004</td>\n",
       "      <td>-0.173862</td>\n",
       "      <td>51.482442</td>\n",
       "      <td>1</td>\n",
       "      <td>1</td>\n",
       "      <td>1</td>\n",
       "      <td>2005-01-07</td>\n",
       "      <td>10:35</td>\n",
       "      <td>3</td>\n",
       "      <td>3220</td>\n",
       "      <td>...</td>\n",
       "      <td>0</td>\n",
       "      <td>0</td>\n",
       "      <td>1</td>\n",
       "      <td>15</td>\n",
       "      <td>2</td>\n",
       "      <td>49</td>\n",
       "      <td>1769</td>\n",
       "      <td>1</td>\n",
       "      <td>4</td>\n",
       "      <td>3</td>\n",
       "    </tr>\n",
       "    <tr>\n",
       "      <th>2</th>\n",
       "      <td>200501BS00009</td>\n",
       "      <td>-0.187623</td>\n",
       "      <td>51.502260</td>\n",
       "      <td>1</td>\n",
       "      <td>1</td>\n",
       "      <td>2</td>\n",
       "      <td>2005-01-14</td>\n",
       "      <td>17:35</td>\n",
       "      <td>3</td>\n",
       "      <td>315</td>\n",
       "      <td>...</td>\n",
       "      <td>0</td>\n",
       "      <td>0</td>\n",
       "      <td>1</td>\n",
       "      <td>15</td>\n",
       "      <td>1</td>\n",
       "      <td>68</td>\n",
       "      <td>5343</td>\n",
       "      <td>1</td>\n",
       "      <td>16</td>\n",
       "      <td>4</td>\n",
       "    </tr>\n",
       "    <tr>\n",
       "      <th>3</th>\n",
       "      <td>200501BS00012</td>\n",
       "      <td>-0.182872</td>\n",
       "      <td>51.494902</td>\n",
       "      <td>1</td>\n",
       "      <td>1</td>\n",
       "      <td>1</td>\n",
       "      <td>2005-01-16</td>\n",
       "      <td>00:42</td>\n",
       "      <td>3</td>\n",
       "      <td>4</td>\n",
       "      <td>...</td>\n",
       "      <td>8</td>\n",
       "      <td>0</td>\n",
       "      <td>1</td>\n",
       "      <td>15</td>\n",
       "      <td>1</td>\n",
       "      <td>34</td>\n",
       "      <td>1988</td>\n",
       "      <td>1</td>\n",
       "      <td>6</td>\n",
       "      <td>1</td>\n",
       "    </tr>\n",
       "    <tr>\n",
       "      <th>4</th>\n",
       "      <td>200501BS00015</td>\n",
       "      <td>-0.192366</td>\n",
       "      <td>51.491632</td>\n",
       "      <td>1</td>\n",
       "      <td>1</td>\n",
       "      <td>1</td>\n",
       "      <td>2005-01-11</td>\n",
       "      <td>12:55</td>\n",
       "      <td>6</td>\n",
       "      <td>0</td>\n",
       "      <td>...</td>\n",
       "      <td>3</td>\n",
       "      <td>0</td>\n",
       "      <td>1</td>\n",
       "      <td>15</td>\n",
       "      <td>2</td>\n",
       "      <td>47</td>\n",
       "      <td>1360</td>\n",
       "      <td>1</td>\n",
       "      <td>2</td>\n",
       "      <td>3</td>\n",
       "    </tr>\n",
       "  </tbody>\n",
       "</table>\n",
       "<p>5 rows × 38 columns</p>\n",
       "</div>"
      ],
      "text/plain": [
       "  Accident_Index  Longitude   Latitude  Accident_Severity  Number_of_Vehicles  \\\n",
       "0  200501BS00001  -0.191170  51.489096                  2                   1   \n",
       "1  200501BS00004  -0.173862  51.482442                  1                   1   \n",
       "2  200501BS00009  -0.187623  51.502260                  1                   1   \n",
       "3  200501BS00012  -0.182872  51.494902                  1                   1   \n",
       "4  200501BS00015  -0.192366  51.491632                  1                   1   \n",
       "\n",
       "   Number_of_Casualties       Date   Time  1st_Road_Class  1st_Road_Number  \\\n",
       "0                     1 2005-01-04  17:42               3             3218   \n",
       "1                     1 2005-01-07  10:35               3             3220   \n",
       "2                     2 2005-01-14  17:35               3              315   \n",
       "3                     1 2005-01-16  00:42               3                4   \n",
       "4                     1 2005-01-11  12:55               6                0   \n",
       "\n",
       "   ...  Junction_Location  Skidding_and_Overturning  \\\n",
       "0  ...                  0                         0   \n",
       "1  ...                  0                         0   \n",
       "2  ...                  0                         0   \n",
       "3  ...                  8                         0   \n",
       "4  ...                  3                         0   \n",
       "\n",
       "   Was_Vehicle_Left_Hand_Drive?  Journey_Purpose_of_Driver  Sex_of_Driver  \\\n",
       "0                             1                         15              2   \n",
       "1                             1                         15              2   \n",
       "2                             1                         15              1   \n",
       "3                             1                         15              1   \n",
       "4                             1                         15              2   \n",
       "\n",
       "   Age_of_Driver  Engine_Capacity_(CC)  Propulsion_Code  Age_of_Vehicle  \\\n",
       "0             74                    -1               -1              -1   \n",
       "1             49                  1769                1               4   \n",
       "2             68                  5343                1              16   \n",
       "3             34                  1988                1               6   \n",
       "4             47                  1360                1               2   \n",
       "\n",
       "   Age Bin  \n",
       "0        4  \n",
       "1        3  \n",
       "2        4  \n",
       "3        1  \n",
       "4        3  \n",
       "\n",
       "[5 rows x 38 columns]"
      ]
     },
     "execution_count": 43,
     "metadata": {},
     "output_type": "execute_result"
    }
   ],
   "source": [
    "# filter out vehicles with more than one vehicle/driver involved\n",
    "rm_veh_idxs = veh[['Accident_Index']].duplicated(keep=False)\n",
    "dat = veh[~rm_veh_idxs].copy()\n",
    "print(f'Filtered out {rm_veh_idxs.sum()} vehicles because of multiple drivers involved')\n",
    "\n",
    "# filter out vehicles with unknown driver age\n",
    "rm_veh_idxs = dat['Age_of_Driver'] < 16 | dat['Age_of_Driver'].isna()\n",
    "dat = dat[~rm_veh_idxs]\n",
    "print(f'Filtered out {rm_veh_idxs.sum()} vehicles because of missing/invalid driver age')\n",
    "\n",
    "# filter out vehicles with unknown driver\n",
    "rm_veh_idxs = ~dat['Sex_of_Driver'].isin([1,2])\n",
    "dat = dat[~rm_veh_idxs]\n",
    "print(f'Filtered out {rm_veh_idxs.sum()} vehicles because of unknown driver sex')\n",
    "\n",
    "# only look at car accidents\n",
    "rm_veh_idxs = dat['Vehicle_Type'] != 9\n",
    "dat = dat[~rm_veh_idxs]\n",
    "print(f'Filtered out {rm_veh_idxs.sum()} vehicles because of vehicle is not a car')\n",
    "\n",
    "print(f'{dat.shape[0]} vehicles left for analysis')\n",
    "\n",
    "# map age to age bins\n",
    "agebins = ['<=25','26-35','36-45','46-60','61-75','76+']\n",
    "\n",
    "def age_bin(age):\n",
    "  if age <= 25:\n",
    "    return 0\n",
    "  elif age <= 35:\n",
    "    return 1\n",
    "  elif age <= 45:\n",
    "    return 2\n",
    "  elif age <= 60:\n",
    "    return 3\n",
    "  elif age <= 75:\n",
    "    return 4\n",
    "  else:\n",
    "    return 5\n",
    "dat['Age Bin'] = dat['Age_of_Driver'].apply(age_bin)\n",
    "\n",
    "# join Accidents with filtered Vehicles\n",
    "dat = pd.merge(acc, dat, on='Accident_Index', how='inner')\n",
    "dat.head()"
   ]
  },
  {
   "cell_type": "code",
   "execution_count": 44,
   "metadata": {
    "colab": {
     "base_uri": "https://localhost:8080/",
     "height": 327
    },
    "colab_type": "code",
    "id": "XRIqoefm5lT7",
    "outputId": "d0913a32-6818-45bb-d678-b97078361ba7"
   },
   "outputs": [
    {
     "data": {
      "text/plain": [
       "Year\n",
       "2005    39390\n",
       "2006    37620\n",
       "2007    35874\n",
       "2008    33908\n",
       "2009    32534\n",
       "2010    29934\n",
       "2011    28633\n",
       "2012    27450\n",
       "2013    25871\n",
       "2014    26007\n",
       "2015    24830\n",
       "2016    23844\n",
       "2017    22983\n",
       "2018    21261\n",
       "Name: Accident_Index, dtype: int64"
      ]
     },
     "execution_count": 44,
     "metadata": {},
     "output_type": "execute_result"
    }
   ],
   "source": [
    "# quickly evaluate whether we have enough data for each year\n",
    "dat.groupby('Year')['Accident_Index'].count()"
   ]
  },
  {
   "cell_type": "markdown",
   "metadata": {
    "colab": {
     "base_uri": "https://localhost:8080/",
     "height": 238
    },
    "colab_type": "code",
    "id": "B2fUwIGY6Cca",
    "outputId": "1be358e0-c506-44bd-b41b-17b27bf8e33b"
   },
   "source": [
    "The histogram reveals that, almost linearly, the amount of single-vehicle accidents decreases by increasing age and experience."
   ]
  },
  {
   "cell_type": "code",
   "execution_count": 45,
   "metadata": {
    "colab": {
     "base_uri": "https://localhost:8080/",
     "height": 238
    },
    "colab_type": "code",
    "id": "B2fUwIGY6Cca",
    "outputId": "1be358e0-c506-44bd-b41b-17b27bf8e33b"
   },
   "outputs": [
    {
     "data": {
      "text/html": [
       "<div>\n",
       "<style scoped>\n",
       "    .dataframe tbody tr th:only-of-type {\n",
       "        vertical-align: middle;\n",
       "    }\n",
       "\n",
       "    .dataframe tbody tr th {\n",
       "        vertical-align: top;\n",
       "    }\n",
       "\n",
       "    .dataframe thead th {\n",
       "        text-align: right;\n",
       "    }\n",
       "</style>\n",
       "<table border=\"1\" class=\"dataframe\">\n",
       "  <thead>\n",
       "    <tr style=\"text-align: right;\">\n",
       "      <th></th>\n",
       "      <th>Total Accidents</th>\n",
       "      <th>Slight</th>\n",
       "      <th>Serious</th>\n",
       "      <th>Fatal</th>\n",
       "    </tr>\n",
       "  </thead>\n",
       "  <tbody>\n",
       "    <tr>\n",
       "      <th>&lt;=25</th>\n",
       "      <td>129311</td>\n",
       "      <td>0.791503</td>\n",
       "      <td>0.185978</td>\n",
       "      <td>0.022519</td>\n",
       "    </tr>\n",
       "    <tr>\n",
       "      <th>26-35</th>\n",
       "      <td>88971</td>\n",
       "      <td>0.789875</td>\n",
       "      <td>0.191208</td>\n",
       "      <td>0.018916</td>\n",
       "    </tr>\n",
       "    <tr>\n",
       "      <th>36-45</th>\n",
       "      <td>70647</td>\n",
       "      <td>0.792730</td>\n",
       "      <td>0.190765</td>\n",
       "      <td>0.016505</td>\n",
       "    </tr>\n",
       "    <tr>\n",
       "      <th>46-60</th>\n",
       "      <td>69890</td>\n",
       "      <td>0.784333</td>\n",
       "      <td>0.198498</td>\n",
       "      <td>0.017170</td>\n",
       "    </tr>\n",
       "    <tr>\n",
       "      <th>61-75</th>\n",
       "      <td>35261</td>\n",
       "      <td>0.774822</td>\n",
       "      <td>0.206914</td>\n",
       "      <td>0.018264</td>\n",
       "    </tr>\n",
       "    <tr>\n",
       "      <th>76+</th>\n",
       "      <td>16059</td>\n",
       "      <td>0.748365</td>\n",
       "      <td>0.223675</td>\n",
       "      <td>0.027959</td>\n",
       "    </tr>\n",
       "  </tbody>\n",
       "</table>\n",
       "</div>"
      ],
      "text/plain": [
       "       Total Accidents    Slight   Serious     Fatal\n",
       "<=25            129311  0.791503  0.185978  0.022519\n",
       "26-35            88971  0.789875  0.191208  0.018916\n",
       "36-45            70647  0.792730  0.190765  0.016505\n",
       "46-60            69890  0.784333  0.198498  0.017170\n",
       "61-75            35261  0.774822  0.206914  0.018264\n",
       "76+              16059  0.748365  0.223675  0.027959"
      ]
     },
     "execution_count": 45,
     "metadata": {},
     "output_type": "execute_result"
    },
    {
     "data": {
      "image/png": "[encoded data removed]",
      "text/plain": [
       "<Figure size 1296x360 with 3 Axes>"
      ]
     },
     "metadata": {
      "needs_background": "light"
     },
     "output_type": "display_data"
    }
   ],
   "source": [
    "# copy the variables of interest into a new dataframe\n",
    "dat2 = dat[['Accident_Severity', 'Age Bin']].dropna()\n",
    "\n",
    "# calculate the fraction of each severity level for different age group\n",
    "dat_count = dat2.groupby(['Age Bin'])['Accident_Severity'].count()\n",
    "dat_s1 = dat2[dat2['Accident_Severity'] == 1].groupby(['Age Bin'])['Accident_Severity'].count()\n",
    "dat_s2 = dat2[dat2['Accident_Severity'] == 2].groupby(['Age Bin'])['Accident_Severity'].count()\n",
    "dat_s3 = dat2[dat2['Accident_Severity'] == 3].groupby(['Age Bin'])['Accident_Severity'].count()\n",
    "\n",
    "# create dataframe\n",
    "grp_pct9 = pd.concat([dat_count, dat_s1 / dat_count, dat_s2 / dat_count, dat_s3 / dat_count], axis=1)\n",
    "grp_pct9.columns = ['Total Accidents', 'Slight', 'Serious', 'Fatal']\n",
    "grp_pct9.index = agebins\n",
    "\n",
    "# plots\n",
    "fig, (ax1,ax2,ax3) = plt.subplots(1,3, figsize=(18,5))\n",
    "grp_pct9[['Slight']].plot.bar(ax=ax1, rot=0, title='Fraction of minor car accidents by age group');\n",
    "grp_pct9[['Serious']].plot.bar(ax=ax2, rot=0, title='Fraction of serious car accidents by age group');\n",
    "grp_pct9[['Fatal']].plot.bar(ax=ax3, rot=0, title='Fraction of fatal car accidents by age group');\n",
    "plt.tight_layout()\n",
    "\n",
    "# print table\n",
    "grp_pct9"
   ]
  },
  {
   "cell_type": "markdown",
   "metadata": {
    "colab_type": "text",
    "id": "8ZpODN4Tlp1Z"
   },
   "source": [
    "The pattern observed in the plot for *fatal* accidents exactly confirms Hypothesis #14---young and old drivers cause more fatal accidents than drivers aged between 26 and 75 years. For serious accidents, the fraction increases with increasing age, partially supporting Hypothesis #14."
   ]
  },
  {
   "cell_type": "markdown",
   "metadata": {
    "colab_type": "text",
    "id": "bi1BaJSuy4v7"
   },
   "source": [
    "### Severity by gender"
   ]
  },
  {
   "cell_type": "markdown",
   "metadata": {
    "colab_type": "text",
    "id": "8OjjSmHUlsjz"
   },
   "source": [
    "**Hypothesis #15**: Accidents caused by male drivers are more severe than those caused by female drivers."
   ]
  },
  {
   "cell_type": "code",
   "execution_count": 46,
   "metadata": {
    "colab": {
     "base_uri": "https://localhost:8080/",
     "height": 338
    },
    "colab_type": "code",
    "id": "As5fW5pBwCRK",
    "outputId": "ff7537ef-3f55-4aa0-f3d0-183148a41dee"
   },
   "outputs": [
    {
     "name": "stdout",
     "output_type": "stream",
     "text": [
      "Filtered out 3324152 vehicles because of multiple drivers involved\n",
      "Filtered out 47121 vehicles because of unknown driver sex\n",
      "Filtered out 175358 vehicles because of vehicle is not a car\n",
      "430487 vehicles left for analysis\n"
     ]
    },
    {
     "data": {
      "text/html": [
       "<div>\n",
       "<style scoped>\n",
       "    .dataframe tbody tr th:only-of-type {\n",
       "        vertical-align: middle;\n",
       "    }\n",
       "\n",
       "    .dataframe tbody tr th {\n",
       "        vertical-align: top;\n",
       "    }\n",
       "\n",
       "    .dataframe thead th {\n",
       "        text-align: right;\n",
       "    }\n",
       "</style>\n",
       "<table border=\"1\" class=\"dataframe\">\n",
       "  <thead>\n",
       "    <tr style=\"text-align: right;\">\n",
       "      <th></th>\n",
       "      <th>Accident_Index</th>\n",
       "      <th>Longitude</th>\n",
       "      <th>Latitude</th>\n",
       "      <th>Accident_Severity</th>\n",
       "      <th>Number_of_Vehicles</th>\n",
       "      <th>Number_of_Casualties</th>\n",
       "      <th>Date</th>\n",
       "      <th>Time</th>\n",
       "      <th>1st_Road_Class</th>\n",
       "      <th>1st_Road_Number</th>\n",
       "      <th>...</th>\n",
       "      <th>Vehicle_Manoeuvre</th>\n",
       "      <th>Junction_Location</th>\n",
       "      <th>Skidding_and_Overturning</th>\n",
       "      <th>Was_Vehicle_Left_Hand_Drive?</th>\n",
       "      <th>Journey_Purpose_of_Driver</th>\n",
       "      <th>Sex_of_Driver</th>\n",
       "      <th>Age_of_Driver</th>\n",
       "      <th>Engine_Capacity_(CC)</th>\n",
       "      <th>Propulsion_Code</th>\n",
       "      <th>Age_of_Vehicle</th>\n",
       "    </tr>\n",
       "  </thead>\n",
       "  <tbody>\n",
       "    <tr>\n",
       "      <th>0</th>\n",
       "      <td>200501BS00001</td>\n",
       "      <td>-0.191170</td>\n",
       "      <td>51.489096</td>\n",
       "      <td>2</td>\n",
       "      <td>1</td>\n",
       "      <td>1</td>\n",
       "      <td>2005-01-04</td>\n",
       "      <td>17:42</td>\n",
       "      <td>3</td>\n",
       "      <td>3218</td>\n",
       "      <td>...</td>\n",
       "      <td>18</td>\n",
       "      <td>0</td>\n",
       "      <td>0</td>\n",
       "      <td>1</td>\n",
       "      <td>15</td>\n",
       "      <td>2</td>\n",
       "      <td>74</td>\n",
       "      <td>-1</td>\n",
       "      <td>-1</td>\n",
       "      <td>-1</td>\n",
       "    </tr>\n",
       "    <tr>\n",
       "      <th>1</th>\n",
       "      <td>200501BS00004</td>\n",
       "      <td>-0.173862</td>\n",
       "      <td>51.482442</td>\n",
       "      <td>1</td>\n",
       "      <td>1</td>\n",
       "      <td>1</td>\n",
       "      <td>2005-01-07</td>\n",
       "      <td>10:35</td>\n",
       "      <td>3</td>\n",
       "      <td>3220</td>\n",
       "      <td>...</td>\n",
       "      <td>18</td>\n",
       "      <td>0</td>\n",
       "      <td>0</td>\n",
       "      <td>1</td>\n",
       "      <td>15</td>\n",
       "      <td>2</td>\n",
       "      <td>49</td>\n",
       "      <td>1769</td>\n",
       "      <td>1</td>\n",
       "      <td>4</td>\n",
       "    </tr>\n",
       "    <tr>\n",
       "      <th>2</th>\n",
       "      <td>200501BS00009</td>\n",
       "      <td>-0.187623</td>\n",
       "      <td>51.502260</td>\n",
       "      <td>1</td>\n",
       "      <td>1</td>\n",
       "      <td>2</td>\n",
       "      <td>2005-01-14</td>\n",
       "      <td>17:35</td>\n",
       "      <td>3</td>\n",
       "      <td>315</td>\n",
       "      <td>...</td>\n",
       "      <td>18</td>\n",
       "      <td>0</td>\n",
       "      <td>0</td>\n",
       "      <td>1</td>\n",
       "      <td>15</td>\n",
       "      <td>1</td>\n",
       "      <td>68</td>\n",
       "      <td>5343</td>\n",
       "      <td>1</td>\n",
       "      <td>16</td>\n",
       "    </tr>\n",
       "    <tr>\n",
       "      <th>3</th>\n",
       "      <td>200501BS00012</td>\n",
       "      <td>-0.182872</td>\n",
       "      <td>51.494902</td>\n",
       "      <td>1</td>\n",
       "      <td>1</td>\n",
       "      <td>1</td>\n",
       "      <td>2005-01-16</td>\n",
       "      <td>00:42</td>\n",
       "      <td>3</td>\n",
       "      <td>4</td>\n",
       "      <td>...</td>\n",
       "      <td>18</td>\n",
       "      <td>8</td>\n",
       "      <td>0</td>\n",
       "      <td>1</td>\n",
       "      <td>15</td>\n",
       "      <td>1</td>\n",
       "      <td>34</td>\n",
       "      <td>1988</td>\n",
       "      <td>1</td>\n",
       "      <td>6</td>\n",
       "    </tr>\n",
       "    <tr>\n",
       "      <th>4</th>\n",
       "      <td>200501BS00015</td>\n",
       "      <td>-0.192366</td>\n",
       "      <td>51.491632</td>\n",
       "      <td>1</td>\n",
       "      <td>1</td>\n",
       "      <td>1</td>\n",
       "      <td>2005-01-11</td>\n",
       "      <td>12:55</td>\n",
       "      <td>6</td>\n",
       "      <td>0</td>\n",
       "      <td>...</td>\n",
       "      <td>9</td>\n",
       "      <td>3</td>\n",
       "      <td>0</td>\n",
       "      <td>1</td>\n",
       "      <td>15</td>\n",
       "      <td>2</td>\n",
       "      <td>47</td>\n",
       "      <td>1360</td>\n",
       "      <td>1</td>\n",
       "      <td>2</td>\n",
       "    </tr>\n",
       "  </tbody>\n",
       "</table>\n",
       "<p>5 rows × 37 columns</p>\n",
       "</div>"
      ],
      "text/plain": [
       "  Accident_Index  Longitude   Latitude  Accident_Severity  Number_of_Vehicles  \\\n",
       "0  200501BS00001  -0.191170  51.489096                  2                   1   \n",
       "1  200501BS00004  -0.173862  51.482442                  1                   1   \n",
       "2  200501BS00009  -0.187623  51.502260                  1                   1   \n",
       "3  200501BS00012  -0.182872  51.494902                  1                   1   \n",
       "4  200501BS00015  -0.192366  51.491632                  1                   1   \n",
       "\n",
       "   Number_of_Casualties       Date   Time  1st_Road_Class  1st_Road_Number  \\\n",
       "0                     1 2005-01-04  17:42               3             3218   \n",
       "1                     1 2005-01-07  10:35               3             3220   \n",
       "2                     2 2005-01-14  17:35               3              315   \n",
       "3                     1 2005-01-16  00:42               3                4   \n",
       "4                     1 2005-01-11  12:55               6                0   \n",
       "\n",
       "   ...  Vehicle_Manoeuvre  Junction_Location  Skidding_and_Overturning  \\\n",
       "0  ...                 18                  0                         0   \n",
       "1  ...                 18                  0                         0   \n",
       "2  ...                 18                  0                         0   \n",
       "3  ...                 18                  8                         0   \n",
       "4  ...                  9                  3                         0   \n",
       "\n",
       "   Was_Vehicle_Left_Hand_Drive?  Journey_Purpose_of_Driver  Sex_of_Driver  \\\n",
       "0                             1                         15              2   \n",
       "1                             1                         15              2   \n",
       "2                             1                         15              1   \n",
       "3                             1                         15              1   \n",
       "4                             1                         15              2   \n",
       "\n",
       "   Age_of_Driver  Engine_Capacity_(CC)  Propulsion_Code  Age_of_Vehicle  \n",
       "0             74                    -1               -1              -1  \n",
       "1             49                  1769                1               4  \n",
       "2             68                  5343                1              16  \n",
       "3             34                  1988                1               6  \n",
       "4             47                  1360                1               2  \n",
       "\n",
       "[5 rows x 37 columns]"
      ]
     },
     "execution_count": 46,
     "metadata": {},
     "output_type": "execute_result"
    }
   ],
   "source": [
    "# filter out vehicles with more than one vehicle/driver involved\n",
    "rm_veh_idxs = veh[['Accident_Index']].duplicated(keep=False)\n",
    "dat = veh[~rm_veh_idxs]\n",
    "print(f'Filtered out {rm_veh_idxs.sum()} vehicles because of multiple drivers involved')\n",
    "\n",
    "# filter out vehicles with unknown driver\n",
    "rm_veh_idxs = ~dat['Sex_of_Driver'].isin([1,2])\n",
    "dat = dat[~rm_veh_idxs]\n",
    "print(f'Filtered out {rm_veh_idxs.sum()} vehicles because of unknown driver sex')\n",
    "\n",
    "# only look at car accidents\n",
    "rm_veh_idxs = dat['Vehicle_Type'] != 9\n",
    "dat = dat[~rm_veh_idxs]\n",
    "print(f'Filtered out {rm_veh_idxs.sum()} vehicles because of vehicle is not a car')\n",
    "\n",
    "print(f'{dat.shape[0]} vehicles left for analysis')\n",
    "\n",
    "# join Accidents with filtered Vehicles\n",
    "dat = pd.merge(acc, dat, on='Accident_Index', how='inner')\n",
    "dat.head()"
   ]
  },
  {
   "cell_type": "code",
   "execution_count": 47,
   "metadata": {
    "colab": {
     "base_uri": "https://localhost:8080/",
     "height": 327
    },
    "colab_type": "code",
    "id": "jrJ0QZ0cw00K",
    "outputId": "4cc570d9-94b9-4fa7-c6dc-dfe8c41bf0a0"
   },
   "outputs": [
    {
     "data": {
      "text/plain": [
       "Year\n",
       "2005    41342\n",
       "2006    39386\n",
       "2007    37527\n",
       "2008    35676\n",
       "2009    33992\n",
       "2010    31395\n",
       "2011    30125\n",
       "2012    28798\n",
       "2013    27214\n",
       "2014    27466\n",
       "2015    26281\n",
       "2016    25073\n",
       "2017    24003\n",
       "2018    22209\n",
       "Name: Accident_Index, dtype: int64"
      ]
     },
     "execution_count": 47,
     "metadata": {},
     "output_type": "execute_result"
    }
   ],
   "source": [
    "# quickly evaluate whether we have enough data for each year\n",
    "dat.groupby('Year')['Accident_Index'].count()"
   ]
  },
  {
   "cell_type": "code",
   "execution_count": 48,
   "metadata": {
    "colab": {
     "base_uri": "https://localhost:8080/",
     "height": 112
    },
    "colab_type": "code",
    "id": "74fH_HNmc5LT",
    "outputId": "b30fb918-b006-420d-c7bf-8f4f322b7b5d"
   },
   "outputs": [
    {
     "data": {
      "text/html": [
       "<div>\n",
       "<style scoped>\n",
       "    .dataframe tbody tr th:only-of-type {\n",
       "        vertical-align: middle;\n",
       "    }\n",
       "\n",
       "    .dataframe tbody tr th {\n",
       "        vertical-align: top;\n",
       "    }\n",
       "\n",
       "    .dataframe thead th {\n",
       "        text-align: right;\n",
       "    }\n",
       "</style>\n",
       "<table border=\"1\" class=\"dataframe\">\n",
       "  <thead>\n",
       "    <tr style=\"text-align: right;\">\n",
       "      <th></th>\n",
       "      <th>Total Accidents</th>\n",
       "      <th>Slight</th>\n",
       "      <th>Serious</th>\n",
       "      <th>Fatal</th>\n",
       "    </tr>\n",
       "  </thead>\n",
       "  <tbody>\n",
       "    <tr>\n",
       "      <th>Male</th>\n",
       "      <td>278724</td>\n",
       "      <td>0.775014</td>\n",
       "      <td>0.201884</td>\n",
       "      <td>0.023102</td>\n",
       "    </tr>\n",
       "    <tr>\n",
       "      <th>Female</th>\n",
       "      <td>151763</td>\n",
       "      <td>0.819356</td>\n",
       "      <td>0.169481</td>\n",
       "      <td>0.011162</td>\n",
       "    </tr>\n",
       "  </tbody>\n",
       "</table>\n",
       "</div>"
      ],
      "text/plain": [
       "        Total Accidents    Slight   Serious     Fatal\n",
       "Male             278724  0.775014  0.201884  0.023102\n",
       "Female           151763  0.819356  0.169481  0.011162"
      ]
     },
     "execution_count": 48,
     "metadata": {},
     "output_type": "execute_result"
    },
    {
     "data": {
      "image/png": "[encoded data removed]",
      "text/plain": [
       "<Figure size 1152x360 with 3 Axes>"
      ]
     },
     "metadata": {
      "needs_background": "light"
     },
     "output_type": "display_data"
    }
   ],
   "source": [
    "# copy the variables of interest into a new dataframe\n",
    "dat = dat[['Accident_Severity', 'Sex_of_Driver']].dropna()\n",
    "\n",
    "# calculate the fraction of each severity level per weekday\n",
    "dat_count = dat.groupby(['Sex_of_Driver'])['Accident_Severity'].count()\n",
    "dat_s1 = dat[dat['Accident_Severity'] == 1].groupby(['Sex_of_Driver'])['Accident_Severity'].count()\n",
    "dat_s2 = dat[dat['Accident_Severity'] == 2].groupby(['Sex_of_Driver'])['Accident_Severity'].count()\n",
    "dat_s3 = dat[dat['Accident_Severity'] == 3].groupby(['Sex_of_Driver'])['Accident_Severity'].count()\n",
    "\n",
    "# create dataframe\n",
    "grp_pct10 = pd.concat([dat_count, dat_s1 / dat_count, dat_s2 / dat_count, dat_s3 / dat_count], axis=1)\n",
    "grp_pct10.columns = ['Total Accidents', 'Slight', 'Serious', 'Fatal']\n",
    "grp_pct10.index = ['Male', 'Female']\n",
    "\n",
    "# plots\n",
    "fig, (ax1,ax2,ax3) = plt.subplots(1,3, figsize=(16,5))\n",
    "grp_pct10[['Slight']].plot.bar(ax=ax1, rot=0, title='Fraction of minor accidents by gender');\n",
    "grp_pct10[['Serious']].plot.bar(ax=ax2, rot=0, title='Fraction of serious accidents by gender');\n",
    "grp_pct10[['Fatal']].plot.bar(ax=ax3, rot=0, title='Fraction of fatal accidents by gender');\n",
    "plt.tight_layout()\n",
    "\n",
    "# print table\n",
    "grp_pct10"
   ]
  },
  {
   "cell_type": "markdown",
   "metadata": {
    "colab_type": "text",
    "id": "Tb9fCYcL0ls_"
   },
   "source": [
    "We observe that male drivers indeed have higher fraction of *serious* and *fatal* car accidents, which supports Hypothesis #15. A possible explanation for this pattern could be that men tend to drive more aggressively and are more likely to be tempted towards speeding. Also, it could be that men, on average, drive cars with more power, and hence drive faster, which we will analyse next."
   ]
  },
  {
   "cell_type": "markdown",
   "metadata": {
    "colab_type": "text",
    "id": "NNDNOpNc-Nr-"
   },
   "source": [
    "---\n",
    "\n",
    "## Car engine power by gender\n",
    "\n",
    "**Hypothesis #16**: Male car drivers drive higher-powered vehicles compared to female drivers.\n",
    "\n",
    "We use the `Engine capacity (CC)` as proxy for the power of the car engine. Improved engine technology has allowed to extract more power at less displacement, i.e. via turbo chargers and hybrid technology, but since this technology is equally available to both genders, we assume that the distribution is the same for both genders."
   ]
  },
  {
   "cell_type": "code",
   "execution_count": 49,
   "metadata": {
    "colab": {
     "base_uri": "https://localhost:8080/",
     "height": 304
    },
    "colab_type": "code",
    "id": "vRtNqLGfSuPo",
    "outputId": "0333c30c-a9f2-4364-d716-7bbe018b64e2"
   },
   "outputs": [
    {
     "name": "stdout",
     "output_type": "stream",
     "text": [
      "Removed 3977118 rows because of missing Engine_Capacity_(CC) / or not a car\n",
      "2272225 rows vehicle rows lefts\n"
     ]
    },
    {
     "data": {
      "image/png": "[encoded data removed]",
      "text/plain": [
       "<Figure size 648x432 with 1 Axes>"
      ]
     },
     "metadata": {
      "needs_background": "light"
     },
     "output_type": "display_data"
    }
   ],
   "source": [
    "# filter missing Engine Capacity values, or vehicles which are not cars, or where gender is unknown\n",
    "rm_veh = (veh['Engine_Capacity_(CC)'] <= 0) | (veh['Engine_Capacity_(CC)'] > 8000) | (veh['Vehicle_Type'] != 9) | (~veh['Sex_of_Driver'].isin([1, 2]))\n",
    "dat = veh[~rm_veh].copy()\n",
    "\n",
    "# sex of driver type number to label\n",
    "dat.loc[:, 'Sex_of_Driver'] = dat.loc[:, 'Sex_of_Driver'].map(lambda x: 'Male' if x==1 else 'Female')\n",
    "\n",
    "print(f'Removed {rm_veh.shape[0]} rows because of missing Engine_Capacity_(CC) / or not a car')\n",
    "print(f'{dat.shape[0]} rows vehicle rows lefts')\n",
    "\n",
    "# plot histogram of car engine displacement\n",
    "fig, ax1 = plt.subplots(1,1, figsize=(9,6))\n",
    "plt.hist(dat['Engine_Capacity_(CC)'], align='mid', rwidth=0.9, bins=30)  # `density=False` would make counts\n",
    "plt.title('Histogram of car engine displacement')\n",
    "plt.xlabel('Displacement CCM^3')\n",
    "plt.ylabel('Frequency')\n",
    "plt.tight_layout()"
   ]
  },
  {
   "cell_type": "markdown",
   "metadata": {
    "colab_type": "text",
    "id": "dUZpYYEmYDOl"
   },
   "source": [
    "As expected, the majority of car engines have a displacement below 2 liters."
   ]
  },
  {
   "cell_type": "code",
   "execution_count": 50,
   "metadata": {
    "colab": {
     "base_uri": "https://localhost:8080/",
     "height": 112
    },
    "colab_type": "code",
    "id": "lyhwYmsOYYU9",
    "outputId": "e4277d25-f913-4d2a-8e66-350c91c23fc9"
   },
   "outputs": [
    {
     "data": {
      "text/html": [
       "<div>\n",
       "<style scoped>\n",
       "    .dataframe tbody tr th:only-of-type {\n",
       "        vertical-align: middle;\n",
       "    }\n",
       "\n",
       "    .dataframe tbody tr th {\n",
       "        vertical-align: top;\n",
       "    }\n",
       "\n",
       "    .dataframe thead th {\n",
       "        text-align: right;\n",
       "    }\n",
       "</style>\n",
       "<table border=\"1\" class=\"dataframe\">\n",
       "  <thead>\n",
       "    <tr style=\"text-align: right;\">\n",
       "      <th></th>\n",
       "      <th>Female</th>\n",
       "      <th>Male</th>\n",
       "    </tr>\n",
       "  </thead>\n",
       "  <tbody>\n",
       "    <tr>\n",
       "      <th>Mean capacity</th>\n",
       "      <td>1558.112704</td>\n",
       "      <td>1754.392122</td>\n",
       "    </tr>\n",
       "    <tr>\n",
       "      <th>Standard deviation</th>\n",
       "      <td>434.179527</td>\n",
       "      <td>535.571276</td>\n",
       "    </tr>\n",
       "  </tbody>\n",
       "</table>\n",
       "</div>"
      ],
      "text/plain": [
       "                         Female         Male\n",
       "Mean capacity       1558.112704  1754.392122\n",
       "Standard deviation   434.179527   535.571276"
      ]
     },
     "execution_count": 50,
     "metadata": {},
     "output_type": "execute_result"
    }
   ],
   "source": [
    "# calculate the mean engine capacity by sex of driver\n",
    "dat_mean = dat.groupby(['Sex_of_Driver'])['Engine_Capacity_(CC)'].mean()\n",
    "dat_std = dat.groupby(['Sex_of_Driver'])['Engine_Capacity_(CC)'].std()\n",
    "\n",
    "pd.DataFrame([dat_mean, dat_std], index=['Mean capacity', 'Standard deviation'], columns=['Female', 'Male'])"
   ]
  },
  {
   "cell_type": "markdown",
   "metadata": {
    "colab_type": "text",
    "id": "aPF2ithrdF2M"
   },
   "source": [
    "We found evidence for Hypothesis #16: The car engines of male drivers have a displacement of 1.75 l on average, and for female drivers it's 1.55 l on average. This is partial evidence why male drivers tend to be involved in more serious and fatal accidents, they choose to have higher-powered cars, and driving faster is a logical consequence of it."
   ]
  },
  {
   "cell_type": "markdown",
   "metadata": {
    "colab_type": "text",
    "id": "YTJ_bQXRSTCR"
   },
   "source": [
    "---\n"
   ]
  },
  {
   "cell_type": "markdown",
   "metadata": {
    "colab_type": "text",
    "id": "QFG3Gr4SNN8Y"
   },
   "source": [
    "## Hotspot detection and clustering\n",
    "\n",
    "This analysis covers the question on where most of the traffic accidents happen in the country, and also on a more granular level. By choosing different clustering thresholds and zoom levels, we can show where traffic accidents hotspots are on a national level, as well as on a local/regional level."
   ]
  },
  {
   "cell_type": "code",
   "execution_count": 51,
   "metadata": {
    "colab": {
     "base_uri": "https://localhost:8080/",
     "height": 809
    },
    "colab_type": "code",
    "id": "9bz1W59BNM2w",
    "outputId": "bdf07b6a-8726-4cd6-cd78-847607ff69c1"
   },
   "outputs": [
    {
     "data": {
      "image/png": "[encoded data removed]",
      "text/plain": [
       "<Figure size 576x1008 with 1 Axes>"
      ]
     },
     "metadata": {
      "needs_background": "light"
     },
     "output_type": "display_data"
    }
   ],
   "source": [
    "# copy columns coordinates and accident severity into new dataframe\n",
    "dat_maps = acc[['Longitude', 'Latitude', 'Accident_Severity']].dropna()\n",
    "\n",
    "# create simple plots using accident coordinates\n",
    "fig, ax = plt.subplots(figsize=(8,14))\n",
    "plt.scatter(x=dat_maps['Longitude'], y=dat_maps['Latitude'], s=0.5);"
   ]
  },
  {
   "cell_type": "markdown",
   "metadata": {
    "colab_type": "text",
    "id": "xnO4L6OUP4Ui"
   },
   "source": [
    "We immediately see by plotting all accidents in one plot as a tiny points that the road network in the north is way less developed, hence the area is less densly populated and has a lower density of accidents."
   ]
  },
  {
   "cell_type": "markdown",
   "metadata": {},
   "source": [
    "**Important**: The following analysis uses [kepler.gl](https://github.com/keplergl/kepler.gl/tree/master/bindings/kepler.gl-jupyter), which requires `node.js >10.15.0`, and two *Jupyer Lab* extensions to be installed. Also, due to the amount of data, the visualization requires a large amount of memory---we observed usage of up to 7 GB using *Firefox 74.0.1*.\n",
    "\n",
    "Run the following commands in order to install dependencies and restart Jupyter Lab. We recommend using a dedicated Python 3 environment for a clear setup of Jupyter Lab and kepler.gl:"
   ]
  },
  {
   "cell_type": "code",
   "execution_count": 52,
   "metadata": {
    "colab": {
     "base_uri": "https://localhost:8080/",
     "height": 393
    },
    "colab_type": "code",
    "id": "fMCklixAhgTz",
    "outputId": "e2fbc714-7d5e-415a-8113-00350ff2406f"
   },
   "outputs": [],
   "source": [
    "# !pip install keplergl\n",
    "# !jupyter labextension install @jupyter-widgets/jupyterlab-manager keplergl-jupyter\n",
    "# !jupyter labextension install @jupyter-widgets/jupyterlab-manager"
   ]
  },
  {
   "cell_type": "code",
   "execution_count": 53,
   "metadata": {},
   "outputs": [],
   "source": [
    "from keplergl import KeplerGl"
   ]
  },
  {
   "cell_type": "markdown",
   "metadata": {},
   "source": [
    "### Geospatial analysis on a national level for Scotland"
   ]
  },
  {
   "cell_type": "markdown",
   "metadata": {},
   "source": [
    "For the geospatial analysis on a national level, in this case we will look at **Scotland**, we will only look at **fatal** accidents in order to simplify the analysis and reduce the amount of data processed. Another approach would be to sample from the original dataset for a broader analysis, which we won't do."
   ]
  },
  {
   "cell_type": "code",
   "execution_count": 54,
   "metadata": {
    "colab": {
     "base_uri": "https://localhost:8080/",
     "height": 238
    },
    "colab_type": "code",
    "id": "X6cW_MZLivWt",
    "outputId": "8515f601-fbf5-4e70-8181-b86cc80b30af"
   },
   "outputs": [
    {
     "name": "stdout",
     "output_type": "stream",
     "text": [
      "User Guide: https://docs.kepler.gl/docs/keplergl-jupyter\n",
      "Map saved to map_export_Scotland.html!\n"
     ]
    },
    {
     "data": {
      "application/vnd.jupyter.widget-view+json": {
       "model_id": "e1db55fa810143769de3777edd64ce63",
       "version_major": 2,
       "version_minor": 0
      },
      "text/plain": [
       "KeplerGl(config={'version': 'v1', 'config': {'visState': {'filters': [], 'layers': [{'id': 'xdq9lbq', 'type': …"
      ]
     },
     "metadata": {},
     "output_type": "display_data"
    }
   ],
   "source": [
    "# kepler.gl configuration\n",
    "cfg = {\n",
    "  \"version\": \"v1\",\n",
    "  \"config\": {\n",
    "    \"visState\": {\n",
    "      \"filters\": [],\n",
    "      \"layers\": [\n",
    "        {\n",
    "          \"id\": \"xdq9lbq\",\n",
    "          \"type\": \"heatmap\",\n",
    "          \"config\": {\n",
    "            \"dataId\": \"data_1\",\n",
    "            \"label\": \"Point\",\n",
    "            \"color\": [\n",
    "              18,\n",
    "              147,\n",
    "              154\n",
    "            ],\n",
    "            \"columns\": {\n",
    "              \"lat\": \"Latitude\",\n",
    "              \"lng\": \"Longitude\"\n",
    "            },\n",
    "            \"isVisible\": True,\n",
    "            \"visConfig\": {\n",
    "              \"opacity\": 0.8,\n",
    "              \"colorRange\": {\n",
    "                \"name\": \"Global Warming\",\n",
    "                \"type\": \"sequential\",\n",
    "                \"category\": \"Uber\",\n",
    "                \"colors\": [\n",
    "                  \"#5A1846\",\n",
    "                  \"#900C3F\",\n",
    "                  \"#C70039\",\n",
    "                  \"#E3611C\",\n",
    "                  \"#F1920E\",\n",
    "                  \"#FFC300\"\n",
    "                ]\n",
    "              },\n",
    "              \"radius\": 10\n",
    "            },\n",
    "            \"hidden\": False,\n",
    "            \"textLabel\": [\n",
    "              {\n",
    "                \"field\": None,\n",
    "                \"color\": [\n",
    "                  255,\n",
    "                  255,\n",
    "                  255\n",
    "                ],\n",
    "                \"size\": 18,\n",
    "                \"offset\": [\n",
    "                  0,\n",
    "                  0\n",
    "                ],\n",
    "                \"anchor\": \"start\",\n",
    "                \"alignment\": \"center\"\n",
    "              }\n",
    "            ]\n",
    "          },\n",
    "          \"visualChannels\": {\n",
    "            \"weightField\": None,\n",
    "            \"weightScale\": \"linear\"\n",
    "          }\n",
    "        }\n",
    "      ],\n",
    "      \"interactionConfig\": {\n",
    "        \"tooltip\": {\n",
    "          \"fieldsToShow\": {\n",
    "            \"data_1\": [\n",
    "              \"Longitude\",\n",
    "              \"Latitude\",\n",
    "              \"Accident_Severity\"\n",
    "            ]\n",
    "          },\n",
    "          \"enabled\": True\n",
    "        },\n",
    "        \"brush\": {\n",
    "          \"size\": 0.5,\n",
    "          \"enabled\": False\n",
    "        },\n",
    "        \"geocoder\": {\n",
    "          \"enabled\": False\n",
    "        },\n",
    "        \"coordinate\": {\n",
    "          \"enabled\": False\n",
    "        }\n",
    "      },\n",
    "      \"layerBlending\": \"normal\",\n",
    "      \"splitMaps\": [],\n",
    "      \"animationConfig\": {\n",
    "        \"currentTime\": None,\n",
    "        \"speed\": 1\n",
    "      }\n",
    "    },\n",
    "    \"mapState\": {\n",
    "      \"bearing\": 0,\n",
    "      \"dragRotate\": False,\n",
    "      \"latitude\": 56.36654894886892,\n",
    "      \"longitude\": -4.296872226744527,\n",
    "      \"pitch\": 0,\n",
    "      \"zoom\": 7.014431228409396,\n",
    "      \"isSplit\": False\n",
    "    },\n",
    "    \"mapStyle\": {\n",
    "      \"styleType\": \"dark\",\n",
    "      \"topLayerGroups\": {},\n",
    "      \"visibleLayerGroups\": {\n",
    "        \"label\": True,\n",
    "        \"road\": True,\n",
    "        \"border\": False,\n",
    "        \"building\": True,\n",
    "        \"water\": True,\n",
    "        \"land\": True,\n",
    "        \"3d building\": False\n",
    "      },\n",
    "      \"threeDBuildingColor\": [\n",
    "        9.665468314072013,\n",
    "        17.18305478057247,\n",
    "        31.1442867897876\n",
    "      ],\n",
    "      \"mapStyles\": {}\n",
    "    }\n",
    "  }\n",
    "}\n",
    "\n",
    "# filter for fatal accidents only\n",
    "dat_map = dat_maps[dat_maps['Accident_Severity'] == 3]\n",
    "\n",
    "# create kepler.gl viewport using filtered data and configuration\n",
    "kmap = KeplerGl(height=1000, data={'data_1': dat_map}, config=cfg)\n",
    "kmap.save_to_html(data={'data_1': dat_map}, config=cfg, file_name='map_export_Scotland.html')\n",
    "kmap"
   ]
  },
  {
   "cell_type": "markdown",
   "metadata": {},
   "source": [
    "Looking at the heatmap of Scotland, immediately and unsurprisingly we can spot that big cities like Glasgow and Aberdeen are hotspots of fatal accidents.\n",
    "\n",
    "What is more interesting though is to see the distribution of accidents along roads like highways, where we can spot clusters of accidents. Once we have located a point of interest, we can simply zoom in in kepler.gl and further analyze the distribution of accidents in more detail.\n",
    "\n",
    "### Geospatial analysis on a local level for the City of London\n",
    "\n",
    "In another example, we will take a closer look at the **City of London**, where we can see single intersections, roundabouts, and differentiate between roads. We will do this for accidents of type **serious** (we looked at *fatal* accidents in the Scotland analysis)."
   ]
  },
  {
   "cell_type": "code",
   "execution_count": 55,
   "metadata": {},
   "outputs": [
    {
     "name": "stdout",
     "output_type": "stream",
     "text": [
      "User Guide: https://docs.kepler.gl/docs/keplergl-jupyter\n",
      "Map saved to map_export_London.html!\n"
     ]
    },
    {
     "data": {
      "application/vnd.jupyter.widget-view+json": {
       "model_id": "e8e44da4dfc441688a759cfc8f5149b0",
       "version_major": 2,
       "version_minor": 0
      },
      "text/plain": [
       "KeplerGl(config={'version': 'v1', 'config': {'visState': {'filters': [], 'layers': [{'id': 'xdq9lbq', 'type': …"
      ]
     },
     "metadata": {},
     "output_type": "display_data"
    }
   ],
   "source": [
    "cfg = {\n",
    "  \"version\": \"v1\",\n",
    "  \"config\": {\n",
    "    \"visState\": {\n",
    "      \"filters\": [],\n",
    "      \"layers\": [\n",
    "        {\n",
    "          \"id\": \"xdq9lbq\",\n",
    "          \"type\": \"heatmap\",\n",
    "          \"config\": {\n",
    "            \"dataId\": \"data_1\",\n",
    "            \"label\": \"Point\",\n",
    "            \"color\": [\n",
    "              18,\n",
    "              147,\n",
    "              154\n",
    "            ],\n",
    "            \"columns\": {\n",
    "              \"lat\": \"Latitude\",\n",
    "              \"lng\": \"Longitude\"\n",
    "            },\n",
    "            \"isVisible\": True,\n",
    "            \"visConfig\": {\n",
    "              \"opacity\": 0.8,\n",
    "              \"colorRange\": {\n",
    "                \"name\": \"Global Warming\",\n",
    "                \"type\": \"sequential\",\n",
    "                \"category\": \"Uber\",\n",
    "                \"colors\": [\n",
    "                  \"#5A1846\",\n",
    "                  \"#900C3F\",\n",
    "                  \"#C70039\",\n",
    "                  \"#E3611C\",\n",
    "                  \"#F1920E\",\n",
    "                  \"#FFC300\"\n",
    "                ]\n",
    "              },\n",
    "              \"radius\": 5\n",
    "            },\n",
    "            \"hidden\": False,\n",
    "            \"textLabel\": [\n",
    "              {\n",
    "                \"field\": None,\n",
    "                \"color\": [\n",
    "                  255,\n",
    "                  255,\n",
    "                  255\n",
    "                ],\n",
    "                \"size\": 18,\n",
    "                \"offset\": [\n",
    "                  0,\n",
    "                  0\n",
    "                ],\n",
    "                \"anchor\": \"start\",\n",
    "                \"alignment\": \"center\"\n",
    "              }\n",
    "            ]\n",
    "          },\n",
    "          \"visualChannels\": {\n",
    "            \"weightField\": None,\n",
    "            \"weightScale\": \"linear\"\n",
    "          }\n",
    "        }\n",
    "      ],\n",
    "      \"interactionConfig\": {\n",
    "        \"tooltip\": {\n",
    "          \"fieldsToShow\": {\n",
    "            \"data_1\": [\n",
    "              \"Longitude\",\n",
    "              \"Latitude\",\n",
    "              \"Accident_Severity\"\n",
    "            ]\n",
    "          },\n",
    "          \"enabled\": True\n",
    "        },\n",
    "        \"brush\": {\n",
    "          \"size\": 0.5,\n",
    "          \"enabled\": False\n",
    "        },\n",
    "        \"geocoder\": {\n",
    "          \"enabled\": False\n",
    "        },\n",
    "        \"coordinate\": {\n",
    "          \"enabled\": False\n",
    "        }\n",
    "      },\n",
    "      \"layerBlending\": \"normal\",\n",
    "      \"splitMaps\": [],\n",
    "      \"animationConfig\": {\n",
    "        \"currentTime\": None,\n",
    "        \"speed\": 1\n",
    "      }\n",
    "    },\n",
    "    \"mapState\": {\n",
    "      \"bearing\": 0,\n",
    "      \"dragRotate\": False,\n",
    "      \"latitude\": 51.51118725733577,\n",
    "      \"longitude\": -0.10874324537290832,\n",
    "      \"pitch\": 0,\n",
    "      \"zoom\": 13.470626352492722,\n",
    "      \"isSplit\": False\n",
    "    },\n",
    "    \"mapStyle\": {\n",
    "      \"styleType\": \"dark\",\n",
    "      \"topLayerGroups\": {},\n",
    "      \"visibleLayerGroups\": {\n",
    "        \"label\": True,\n",
    "        \"road\": True,\n",
    "        \"border\": False,\n",
    "        \"building\": True,\n",
    "        \"water\": True,\n",
    "        \"land\": True,\n",
    "        \"3d building\": False\n",
    "      },\n",
    "      \"threeDBuildingColor\": [\n",
    "        9.665468314072013,\n",
    "        17.18305478057247,\n",
    "        31.1442867897876\n",
    "      ],\n",
    "      \"mapStyles\": {}\n",
    "    }\n",
    "  }\n",
    "}\n",
    "\n",
    "# filter for serious accidents only\n",
    "dat_map = dat_maps[dat_maps['Accident_Severity'] == 2]\n",
    "\n",
    "# filter by latitude / longitude to reduce size of dataset\n",
    "dat_map = dat_map[(dat_map['Latitude'] < 51.6) & (dat_map['Latitude'] > 51.4)]\n",
    "dat_map = dat_map[(dat_map['Longitude'] < 0.1) & (dat_map['Longitude'] > -0.4)]\n",
    "\n",
    "# create kepler.gl viewport using filtered data and configuration\n",
    "kmap = KeplerGl(height=1000, data={'data_1': dat_map}, config=cfg)\n",
    "kmap.save_to_html(data={'data_1': dat_map}, config=cfg, file_name='map_export_London.html')\n",
    "kmap"
   ]
  },
  {
   "cell_type": "markdown",
   "metadata": {},
   "source": [
    "The heatmap shows that intersections are especially prone to serious accidents, e.g. see Holborn, or Charing Cross close to Trafalgar Square. Also, the intersections on/off bridges show hotspots too. One thing to keep in mind though is that intersections naturally have higher traffic volumes compared to streets, because they intersect traffic streams from different streets. Furthermore, apart from the intersections, it is easy to spot streets and locations in general with higher density of serious traffic accidents. This is usefull information for road safety work and road planning."
   ]
  },
  {
   "cell_type": "markdown",
   "metadata": {},
   "source": [
    "## Statistical Modeling\n",
    "\n",
    "The previous analyses were mostly in the domain of descriptive and exploratory data analysis. In the last part of our data analysis project, we are going to predict accident severity of single-vehicle accidents (Selbstunfälle), using a subset of the available data. For this purpose, we will employ a multilayer perceptron neural network, which is capable of modeling high-dimensional data with non-linear relationships. The resulting network is not of direct use, because its internal workings are not easily interpretable, so only the prediction aspect is relevant and mostly for illustrative purposes. Other models like regression trees or random forests would allow us to gain more insights, i.e. variable importance measures, or even looking at the decision tree directly, but have shown to be worse at predicting than the MLP neural network."
   ]
  },
  {
   "cell_type": "code",
   "execution_count": 56,
   "metadata": {},
   "outputs": [
    {
     "name": "stdout",
     "output_type": "stream",
     "text": [
      "Filtered out 3324152 vehicle rows because of multiple drivers involved\n",
      "Filtered out 74776 vehicle rows because of missing/invalid driver age\n",
      "Filtered out 3375 vehicle rows because of unknown driver sex\n",
      "Filtered out 164676 vehicle rows because of vehicle is not a car\n",
      "Filtered out 193 accident rows because of unknown weather conditions\n",
      "Filtered out 6279 accident rows because of unknown road surface conditions\n",
      "60000 rows used for statistical modeling\n"
     ]
    }
   ],
   "source": [
    "# filter out vehicles with more than one vehicle/driver involved\n",
    "rm_idxs = veh[['Accident_Index']].duplicated(keep=False)\n",
    "dat = veh[~rm_idxs].copy()\n",
    "print(f'Filtered out {rm_idxs.sum()} vehicle rows because of multiple drivers involved')\n",
    "\n",
    "# filter out vehicles with unknown driver age\n",
    "rm_idxs = dat['Age_of_Driver'] < 16 | dat['Age_of_Driver'].isna()\n",
    "dat = dat[~rm_idxs]\n",
    "print(f'Filtered out {rm_idxs.sum()} vehicle rows because of missing/invalid driver age')\n",
    "\n",
    "# filter out vehicles with unknown driver sex\n",
    "rm_idxs = ~dat['Sex_of_Driver'].isin([1,2])\n",
    "dat = dat[~rm_idxs]\n",
    "print(f'Filtered out {rm_idxs.sum()} vehicle rows because of unknown driver sex')\n",
    "\n",
    "# only look at car accidents\n",
    "rm_idxs = dat['Vehicle_Type'] != 9\n",
    "dat = dat[~rm_idxs]\n",
    "print(f'Filtered out {rm_idxs.sum()} vehicle rows because of vehicle is not a car')\n",
    "\n",
    "# map age to age bins\n",
    "agebins = ['<=25','26-35','36-45','46-60','61-75','76+']\n",
    "\n",
    "def age_bin(age):\n",
    "  if age <= 25:\n",
    "    return 0\n",
    "  elif age <= 35:\n",
    "    return 1\n",
    "  elif age <= 45:\n",
    "    return 2\n",
    "  elif age <= 60:\n",
    "    return 3\n",
    "  elif age <= 75:\n",
    "    return 4\n",
    "  else:\n",
    "    return 5\n",
    "dat['Age Bin'] = dat['Age_of_Driver'].apply(age_bin)\n",
    "\n",
    "# filter out accidents with unknown weather conditions\n",
    "rm_idxs = acc['Weather_Conditions'] == -1\n",
    "dat2 = acc[~rm_idxs]\n",
    "print(f'Filtered out {rm_idxs.sum()} accident rows because of unknown weather conditions')\n",
    "\n",
    "# filter out accidents with unknown road surface conditions\n",
    "rm_idxs = dat2['Road_Surface_Conditions'] == -1\n",
    "dat2 = dat2[~rm_idxs]\n",
    "print(f'Filtered out {rm_idxs.sum()} accident rows because of unknown road surface conditions')\n",
    "\n",
    "# join Accidents and Vehicles\n",
    "dat = pd.merge(dat2, dat, on='Accident_Index', how='inner')\n",
    "\n",
    "# extract features and labels for Random Forest model\n",
    "dat = dat[['Accident_Severity', 'Light_Conditions', 'Weather_Conditions',\n",
    "           'Road_Surface_Conditions', 'Hour of Day', 'Day of Week',\n",
    "           'Sex_of_Driver', 'Age_of_Driver', 'Speed_limit', 'Engine_Capacity_(CC)']].dropna()\n",
    "\n",
    "# sample uniformly for each accident severity (1,2,3).\n",
    "# we need to sample separately in order to get same count\n",
    "# for each accident severity so that the model is not biased towards\n",
    "# fitting more frequently occuring accident severities.\n",
    "\n",
    "dat_rf = pd.concat([dat[dat['Accident_Severity'] == 1].sample(20000, replace=True),\n",
    "                    dat[dat['Accident_Severity'] == 2].sample(20000, replace=True),\n",
    "                    dat[dat['Accident_Severity'] == 3].sample(20000, replace=True)], ignore_index=True)\n",
    "dat_rf.reset_index(drop=True, inplace=True)\n",
    "\n",
    "# labels and features\n",
    "y = dat_rf.iloc[:, 0]\n",
    "X = dat_rf.iloc[:, 1:len(dat_rf.columns)]\n",
    "X_onehot = pd.get_dummies(X, columns=['Light_Conditions', 'Weather_Conditions', 'Road_Surface_Conditions', 'Hour of Day', 'Day of Week', 'Sex_of_Driver'])\n",
    "print(f'{X_onehot.shape[0]} rows used for statistical modeling')"
   ]
  },
  {
   "cell_type": "code",
   "execution_count": 58,
   "metadata": {},
   "outputs": [
    {
     "name": "stdout",
     "output_type": "stream",
     "text": [
      "Train on 33600 samples, validate on 8400 samples\n",
      "Epoch 1/100\n",
      "33600/33600 [==============================] - 1s 40us/step - loss: 1.0683 - accuracy: 0.4272 - val_loss: 1.0431 - val_accuracy: 0.4446\n",
      "Epoch 2/100\n",
      "33600/33600 [==============================] - 1s 38us/step - loss: 1.0414 - accuracy: 0.4493 - val_loss: 1.0321 - val_accuracy: 0.4529\n",
      "Epoch 3/100\n",
      "33600/33600 [==============================] - 1s 37us/step - loss: 1.0326 - accuracy: 0.4566 - val_loss: 1.0304 - val_accuracy: 0.4579\n",
      "Epoch 4/100\n",
      "33600/33600 [==============================] - 1s 37us/step - loss: 1.0283 - accuracy: 0.4626 - val_loss: 1.0289 - val_accuracy: 0.4562\n",
      "Epoch 5/100\n",
      "33600/33600 [==============================] - 1s 36us/step - loss: 1.0230 - accuracy: 0.4676 - val_loss: 1.0255 - val_accuracy: 0.4602\n",
      "Epoch 6/100\n",
      "33600/33600 [==============================] - 1s 36us/step - loss: 1.0206 - accuracy: 0.4709 - val_loss: 1.0256 - val_accuracy: 0.4569\n",
      "Epoch 7/100\n",
      "33600/33600 [==============================] - 1s 36us/step - loss: 1.0163 - accuracy: 0.4714 - val_loss: 1.0231 - val_accuracy: 0.4574\n",
      "Epoch 8/100\n",
      "33600/33600 [==============================] - 1s 38us/step - loss: 1.0120 - accuracy: 0.4774 - val_loss: 1.0241 - val_accuracy: 0.4549\n",
      "Epoch 9/100\n",
      "33600/33600 [==============================] - 1s 32us/step - loss: 1.0092 - accuracy: 0.4782 - val_loss: 1.0219 - val_accuracy: 0.4549\n",
      "Epoch 10/100\n",
      "33600/33600 [==============================] - 1s 35us/step - loss: 1.0071 - accuracy: 0.4840 - val_loss: 1.0245 - val_accuracy: 0.4605\n",
      "Epoch 11/100\n",
      "33600/33600 [==============================] - 1s 34us/step - loss: 1.0026 - accuracy: 0.4826 - val_loss: 1.0255 - val_accuracy: 0.4586\n",
      "Epoch 12/100\n",
      "33600/33600 [==============================] - 1s 34us/step - loss: 1.0004 - accuracy: 0.4854 - val_loss: 1.0216 - val_accuracy: 0.4600\n",
      "Epoch 13/100\n",
      "33600/33600 [==============================] - 1s 31us/step - loss: 0.9972 - accuracy: 0.4876 - val_loss: 1.0209 - val_accuracy: 0.4633\n",
      "Epoch 14/100\n",
      "33600/33600 [==============================] - 1s 31us/step - loss: 0.9950 - accuracy: 0.4911 - val_loss: 1.0194 - val_accuracy: 0.4643\n",
      "Epoch 15/100\n",
      "33600/33600 [==============================] - 1s 33us/step - loss: 0.9919 - accuracy: 0.4916 - val_loss: 1.0212 - val_accuracy: 0.4638\n",
      "Epoch 16/100\n",
      "33600/33600 [==============================] - 1s 32us/step - loss: 0.9885 - accuracy: 0.4943 - val_loss: 1.0218 - val_accuracy: 0.4586\n",
      "Epoch 17/100\n",
      "33600/33600 [==============================] - 1s 34us/step - loss: 0.9864 - accuracy: 0.4960 - val_loss: 1.0195 - val_accuracy: 0.4624\n",
      "Epoch 18/100\n",
      "33600/33600 [==============================] - 1s 37us/step - loss: 0.9846 - accuracy: 0.5003 - val_loss: 1.0211 - val_accuracy: 0.4638\n",
      "Epoch 19/100\n",
      "33600/33600 [==============================] - 1s 37us/step - loss: 0.9830 - accuracy: 0.4987 - val_loss: 1.0226 - val_accuracy: 0.4657\n",
      "Epoch 20/100\n",
      "33600/33600 [==============================] - 1s 34us/step - loss: 0.9809 - accuracy: 0.4990 - val_loss: 1.0176 - val_accuracy: 0.4643\n",
      "Epoch 21/100\n",
      "33600/33600 [==============================] - 1s 39us/step - loss: 0.9785 - accuracy: 0.5018 - val_loss: 1.0188 - val_accuracy: 0.4654\n",
      "Epoch 22/100\n",
      "33600/33600 [==============================] - 1s 37us/step - loss: 0.9759 - accuracy: 0.5057 - val_loss: 1.0180 - val_accuracy: 0.4617\n",
      "Epoch 23/100\n",
      "33600/33600 [==============================] - 1s 35us/step - loss: 0.9751 - accuracy: 0.5034 - val_loss: 1.0218 - val_accuracy: 0.4615\n",
      "Epoch 24/100\n",
      "33600/33600 [==============================] - 1s 32us/step - loss: 0.9734 - accuracy: 0.5054 - val_loss: 1.0204 - val_accuracy: 0.4596\n",
      "Epoch 25/100\n",
      "33600/33600 [==============================] - 1s 33us/step - loss: 0.9718 - accuracy: 0.5068 - val_loss: 1.0178 - val_accuracy: 0.4645\n",
      "Epoch 26/100\n",
      "33600/33600 [==============================] - 1s 34us/step - loss: 0.9699 - accuracy: 0.5071 - val_loss: 1.0177 - val_accuracy: 0.4652\n",
      "Epoch 27/100\n",
      "33600/33600 [==============================] - 1s 38us/step - loss: 0.9687 - accuracy: 0.5090 - val_loss: 1.0186 - val_accuracy: 0.4669\n",
      "Epoch 28/100\n",
      "33600/33600 [==============================] - 1s 36us/step - loss: 0.9681 - accuracy: 0.5111 - val_loss: 1.0217 - val_accuracy: 0.4637\n",
      "Epoch 29/100\n",
      "33600/33600 [==============================] - 1s 37us/step - loss: 0.9639 - accuracy: 0.5148 - val_loss: 1.0170 - val_accuracy: 0.4673\n",
      "Epoch 30/100\n",
      "33600/33600 [==============================] - 1s 38us/step - loss: 0.9625 - accuracy: 0.5154 - val_loss: 1.0166 - val_accuracy: 0.4705\n",
      "Epoch 31/100\n",
      "33600/33600 [==============================] - 1s 37us/step - loss: 0.9612 - accuracy: 0.5148 - val_loss: 1.0150 - val_accuracy: 0.4696\n",
      "Epoch 32/100\n",
      "33600/33600 [==============================] - 1s 37us/step - loss: 0.9609 - accuracy: 0.5158 - val_loss: 1.0158 - val_accuracy: 0.4702\n",
      "Epoch 33/100\n",
      "33600/33600 [==============================] - 1s 39us/step - loss: 0.9583 - accuracy: 0.5172 - val_loss: 1.0155 - val_accuracy: 0.4686\n",
      "Epoch 34/100\n",
      "33600/33600 [==============================] - 1s 37us/step - loss: 0.9558 - accuracy: 0.5188 - val_loss: 1.0138 - val_accuracy: 0.4718\n",
      "Epoch 35/100\n",
      "33600/33600 [==============================] - 1s 38us/step - loss: 0.9570 - accuracy: 0.5179 - val_loss: 1.0130 - val_accuracy: 0.4717\n",
      "Epoch 36/100\n",
      "33600/33600 [==============================] - 1s 39us/step - loss: 0.9572 - accuracy: 0.5151 - val_loss: 1.0120 - val_accuracy: 0.4711\n",
      "Epoch 37/100\n",
      "33600/33600 [==============================] - 1s 38us/step - loss: 0.9550 - accuracy: 0.5185 - val_loss: 1.0118 - val_accuracy: 0.4729\n",
      "Epoch 38/100\n",
      "33600/33600 [==============================] - 1s 38us/step - loss: 0.9518 - accuracy: 0.5226 - val_loss: 1.0119 - val_accuracy: 0.4693\n",
      "Epoch 39/100\n",
      "33600/33600 [==============================] - 1s 38us/step - loss: 0.9524 - accuracy: 0.5199 - val_loss: 1.0120 - val_accuracy: 0.4745\n",
      "Epoch 40/100\n",
      "33600/33600 [==============================] - 1s 38us/step - loss: 0.9493 - accuracy: 0.5234 - val_loss: 1.0112 - val_accuracy: 0.4696\n",
      "Epoch 41/100\n",
      "33600/33600 [==============================] - 1s 38us/step - loss: 0.9505 - accuracy: 0.5211 - val_loss: 1.0091 - val_accuracy: 0.4705\n",
      "Epoch 42/100\n",
      "33600/33600 [==============================] - 1s 38us/step - loss: 0.9479 - accuracy: 0.5211 - val_loss: 1.0136 - val_accuracy: 0.4669\n",
      "Epoch 43/100\n",
      "33600/33600 [==============================] - 1s 38us/step - loss: 0.9481 - accuracy: 0.5218 - val_loss: 1.0152 - val_accuracy: 0.4686\n",
      "Epoch 44/100\n",
      "33600/33600 [==============================] - 1s 38us/step - loss: 0.9478 - accuracy: 0.5270 - val_loss: 1.0109 - val_accuracy: 0.4681\n",
      "Epoch 45/100\n",
      "33600/33600 [==============================] - 1s 39us/step - loss: 0.9450 - accuracy: 0.5241 - val_loss: 1.0133 - val_accuracy: 0.4705\n",
      "Epoch 46/100\n",
      "33600/33600 [==============================] - 1s 38us/step - loss: 0.9463 - accuracy: 0.5274 - val_loss: 1.0138 - val_accuracy: 0.4704\n",
      "Epoch 47/100\n",
      "33600/33600 [==============================] - 1s 39us/step - loss: 0.9421 - accuracy: 0.5292 - val_loss: 1.0108 - val_accuracy: 0.4692\n",
      "Epoch 48/100\n",
      "33600/33600 [==============================] - 1s 38us/step - loss: 0.9434 - accuracy: 0.5263 - val_loss: 1.0107 - val_accuracy: 0.4724\n",
      "Epoch 49/100\n",
      "33600/33600 [==============================] - 1s 38us/step - loss: 0.9424 - accuracy: 0.5252 - val_loss: 1.0126 - val_accuracy: 0.4735\n",
      "Epoch 50/100\n",
      "33600/33600 [==============================] - 1s 38us/step - loss: 0.9409 - accuracy: 0.5254 - val_loss: 1.0131 - val_accuracy: 0.4761\n",
      "Epoch 51/100\n",
      "33600/33600 [==============================] - 1s 38us/step - loss: 0.9411 - accuracy: 0.5296 - val_loss: 1.0122 - val_accuracy: 0.4752\n",
      "Epoch 00051: early stopping\n"
     ]
    }
   ],
   "source": [
    "# !pip install tensorflow\n",
    "# !pip install keras\n",
    "import tensorflow as tf\n",
    "from keras.models import Sequential\n",
    "from keras.layers import Dense, Dropout\n",
    "from sklearn import metrics\n",
    "from sklearn.model_selection import train_test_split\n",
    "from sklearn.preprocessing import StandardScaler\n",
    "from sklearn.preprocessing import OneHotEncoder\n",
    "from sklearn.metrics import classification_report\n",
    "\n",
    "# split data into training and test datasets\n",
    "X_train, X_test, y_train, y_test = train_test_split(X_onehot, y, test_size=0.3, random_state=42)\n",
    "\n",
    "# rescale features\n",
    "scaler = StandardScaler().fit(X_onehot)\n",
    "X_train = scaler.transform(X_train)\n",
    "X_test = scaler.transform(X_test)  \n",
    "\n",
    "# one-hot encode response - accident severity (1,2,3)\n",
    "y_encoder = OneHotEncoder()\n",
    "y_encoder.fit(y_train.values.reshape(-1,1))\n",
    "y_train_onehot = y_encoder.transform(y_train.values.reshape(-1,1)).toarray()\n",
    "\n",
    "# define neural network model structure\n",
    "model = Sequential()\n",
    "model.add(Dense(100, input_dim=55, activation='relu'))\n",
    "model.add(Dropout(0.2))\n",
    "model.add(Dense(40, activation='relu'))\n",
    "model.add(Dense(3, activation='softmax'))\n",
    "model.compile(loss='categorical_crossentropy', optimizer='adam', metrics=['accuracy'])\n",
    "\n",
    "# early stopping to prevent overfit\n",
    "early_stop = tf.keras.callbacks.EarlyStopping(monitor='val_loss', min_delta=0, patience=10, verbose=1, mode='auto')\n",
    "\n",
    "# fit model\n",
    "history = model.fit(X_train, y_train_onehot, validation_split=0.2, epochs=100, batch_size=50, verbose=1, callbacks=[early_stop])"
   ]
  },
  {
   "cell_type": "code",
   "execution_count": 59,
   "metadata": {},
   "outputs": [
    {
     "name": "stdout",
     "output_type": "stream",
     "text": [
      "              precision    recall  f1-score   support\n",
      "\n",
      "           1       0.45      0.41      0.43      6014\n",
      "           2       0.40      0.45      0.42      5987\n",
      "           3       0.57      0.56      0.56      5999\n",
      "\n",
      "    accuracy                           0.47     18000\n",
      "   macro avg       0.47      0.47      0.47     18000\n",
      "weighted avg       0.47      0.47      0.47     18000\n",
      "\n"
     ]
    },
    {
     "data": {
      "text/html": [
       "<div>\n",
       "<style scoped>\n",
       "    .dataframe tbody tr th:only-of-type {\n",
       "        vertical-align: middle;\n",
       "    }\n",
       "\n",
       "    .dataframe tbody tr th {\n",
       "        vertical-align: top;\n",
       "    }\n",
       "\n",
       "    .dataframe thead th {\n",
       "        text-align: right;\n",
       "    }\n",
       "</style>\n",
       "<table border=\"1\" class=\"dataframe\">\n",
       "  <thead>\n",
       "    <tr style=\"text-align: right;\">\n",
       "      <th>Predicted</th>\n",
       "      <th>1</th>\n",
       "      <th>2</th>\n",
       "      <th>3</th>\n",
       "      <th>All</th>\n",
       "    </tr>\n",
       "    <tr>\n",
       "      <th>True</th>\n",
       "      <th></th>\n",
       "      <th></th>\n",
       "      <th></th>\n",
       "      <th></th>\n",
       "    </tr>\n",
       "  </thead>\n",
       "  <tbody>\n",
       "    <tr>\n",
       "      <th>1</th>\n",
       "      <td>2456</td>\n",
       "      <td>2345</td>\n",
       "      <td>1213</td>\n",
       "      <td>6014</td>\n",
       "    </tr>\n",
       "    <tr>\n",
       "      <th>2</th>\n",
       "      <td>1965</td>\n",
       "      <td>2677</td>\n",
       "      <td>1345</td>\n",
       "      <td>5987</td>\n",
       "    </tr>\n",
       "    <tr>\n",
       "      <th>3</th>\n",
       "      <td>1011</td>\n",
       "      <td>1620</td>\n",
       "      <td>3368</td>\n",
       "      <td>5999</td>\n",
       "    </tr>\n",
       "    <tr>\n",
       "      <th>All</th>\n",
       "      <td>5432</td>\n",
       "      <td>6642</td>\n",
       "      <td>5926</td>\n",
       "      <td>18000</td>\n",
       "    </tr>\n",
       "  </tbody>\n",
       "</table>\n",
       "</div>"
      ],
      "text/plain": [
       "Predicted     1     2     3    All\n",
       "True                              \n",
       "1          2456  2345  1213   6014\n",
       "2          1965  2677  1345   5987\n",
       "3          1011  1620  3368   5999\n",
       "All        5432  6642  5926  18000"
      ]
     },
     "execution_count": 59,
     "metadata": {},
     "output_type": "execute_result"
    },
    {
     "data": {
      "image/png": "[encoded data removed]",
      "text/plain": [
       "<Figure size 432x288 with 1 Axes>"
      ]
     },
     "metadata": {
      "needs_background": "light"
     },
     "output_type": "display_data"
    },
    {
     "data": {
      "image/png": "[encoded data removed]",
      "text/plain": [
       "<Figure size 432x288 with 1 Axes>"
      ]
     },
     "metadata": {
      "needs_background": "light"
     },
     "output_type": "display_data"
    }
   ],
   "source": [
    "# predict on test data\n",
    "y_pred = model.predict_classes(X_test) + 1\n",
    "\n",
    "# histograms of response predicted vs. actual\n",
    "y_test.hist()\n",
    "plt.grid(False)\n",
    "plt.title('Histogram of actual response (accident severity)')\n",
    "\n",
    "pd.DataFrame(y_pred).hist()\n",
    "plt.grid(False)\n",
    "plt.title('Histogram of predicted response (accident severity)')\n",
    "\n",
    "# classification report\n",
    "print(classification_report(y_test, y_pred))\n",
    "\n",
    "# confusion matrix\n",
    "pd.crosstab(y_test, y_pred, rownames=['True'], colnames=['Predicted'], margins=True)"
   ]
  },
  {
   "cell_type": "markdown",
   "metadata": {},
   "source": [
    "The multilayer perceptron neural network with 3 layers (100, 20 and 3 neurons) is able to predict accident severity given conditions like speed limit, weather, light, age, engine displacement, sex of driver, day of week, and hour of day---not with high accuracy, but better than random guesses. Due to the nature of neural networks, we cannot easily identify which variables have the most predictive power; a regression tree or random forest for example would allow this, but show worse predictive performance.\n",
    "\n",
    "Looking at the confusion matrix above the two histograms, we observe that it is diagonal heavy, hence it has some predictive power, though not with very high accuracy. It is comparatively good at predicting fatal accidents (3), being right 68% of the times it predicts a fatal accident."
   ]
  },
  {
   "cell_type": "markdown",
   "metadata": {
    "colab_type": "text",
    "id": "LC_xIqotQ6bf"
   },
   "source": [
    "## Summary"
   ]
  },
  {
   "cell_type": "markdown",
   "metadata": {
    "colab_type": "text",
    "id": "Uvrhopt0RkDJ"
   },
   "source": [
    "We showed with this analysis the abundant information embedded in the raw datasets. These insights can be used for road safety measures, pricing policies, detection of dangerous accident hotspots, driver behaviour, and other safety relevant topics which may safe lives.\n",
    "\n",
    "Based on our insights and for illustrative purposes, we make the following proposals in order to increase road safety:\n",
    "\n",
    "- Dynamic speed limits on highways/motorways so that they can be lowered during bad weather conditions, i.e. fog.\n",
    "- Elderly drivers undergo fitness tests to asses their capabilities for driving a car, i.e. reaction time, vision and strength.\n",
    "- Limitation of maximum engine power for drivers aged <=25 in order to decrease severity of accidents.\n",
    "- Popular motorcycle routes during the weekend should be checked more often by the police, if they don't have this policy yet.\n",
    "- Further investigation into the causes of accidents during the night (12 PM - 5 AM)."
   ]
  },
  {
   "cell_type": "markdown",
   "metadata": {
    "colab_type": "text",
    "id": "Nv6Sdxe0RcTH"
   },
   "source": [
    "# Declaration\n",
    "\n",
    "We hereby declare by the submission of this Jupyter notebook as part of the graded project of the course that all text and code (apart from standard boilerplate code snippets) contained in this Jupyter Notebook have been written by ourselves without the help of other parties."
   ]
  }
 ],
 "metadata": {
  "colab": {
   "collapsed_sections": [],
   "name": "Big-Data Analytics - Group 2 - Traffic accidents analysis.ipynb",
   "provenance": [],
   "toc_visible": true
  },
  "kernelspec": {
   "display_name": "Python 3",
   "language": "python",
   "name": "python3"
  },
  "language_info": {
   "codemirror_mode": {
    "name": "ipython",
    "version": 3
   },
   "file_extension": ".py",
   "mimetype": "text/x-python",
   "name": "python",
   "nbconvert_exporter": "python",
   "pygments_lexer": "ipython3",
   "version": "3.6.9"
  }
 },
 "nbformat": 4,
 "nbformat_minor": 4
}
