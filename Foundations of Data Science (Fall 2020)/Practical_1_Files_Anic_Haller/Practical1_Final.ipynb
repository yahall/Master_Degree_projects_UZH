{
  "nbformat": 4,
  "nbformat_minor": 0,
  "metadata": {
    "colab": {
      "name": "Practical1_Final.ipynb",
      "provenance": [],
      "collapsed_sections": [],
      "toc_visible": true,
      "include_colab_link": true
    },
    "kernelspec": {
      "display_name": "Python 3",
      "language": "python",
      "name": "python3"
    },
    "language_info": {
      "codemirror_mode": {
        "name": "ipython",
        "version": 3
      },
      "file_extension": ".py",
      "mimetype": "text/x-python",
      "name": "python",
      "nbconvert_exporter": "python",
      "pygments_lexer": "ipython3",
      "version": "3.7.4"
    },
    "accelerator": "GPU"
  },
  "cells": [
    {
      "cell_type": "markdown",
      "metadata": {
        "id": "view-in-github",
        "colab_type": "text"
      },
      "source": [
        "<a href=\"https://colab.research.google.com/github/dastuzh/M49-FDS20/blob/master/Practical_1_Files_Anic_Haller/Practical1_Final.ipynb\" target=\"_parent\"><img src=\"https://colab.research.google.com/assets/colab-badge.svg\" alt=\"Open In Colab\"/></a>"
      ]
    },
    {
      "cell_type": "markdown",
      "metadata": {
        "id": "id1w7kwZVF3I"
      },
      "source": [
        "# Practical 1 : Implementation of Linear Regression (Ridge, Lasso)\n",
        "\n",
        "First part:\n",
        "- Implement linear regression model \n",
        "    - using least squares method\n",
        "    - implement directly using the NumPy package\n",
        "\n",
        "Second part:\n",
        "- regularization\n",
        "- polynomial basis expansion\n",
        "- cross validation\n",
        "- scikit-learn: https://scikit-learn.org/\n",
        "\n",
        "You will need to use the following:"
      ]
    },
    {
      "cell_type": "code",
      "metadata": {
        "id": "CTZv9o5i4gy3"
      },
      "source": [
        "import numpy as np\n",
        "import matplotlib.pyplot as plt\n",
        "import _pickle as cp"
      ],
      "execution_count": 3,
      "outputs": []
    },
    {
      "cell_type": "markdown",
      "metadata": {
        "id": "b1-ZQWqTVPno"
      },
      "source": [
        "For the purpose of testing, we’ll use the winequality dataset. The dataset is available here:\n",
        "https://archive.ics.uci.edu/ml/datasets/Wine+Quality In order to make it easier to import the dataset, we’ve converted the data to the numpy array format and shuffled it so that you can start the practical directly. The dataset is available on the course website. "
      ]
    },
    {
      "cell_type": "markdown",
      "metadata": {
        "id": "TzDL9RQiVaPY"
      },
      "source": [
        "The dataset has two files. We’ll focus on the white wine data, which is the larger dataset. You can load the data from the files as follows:"
      ]
    },
    {
      "cell_type": "code",
      "metadata": {
        "colab": {
          "base_uri": "https://localhost:8080/"
        },
        "id": "NYkwbebUVO_i",
        "outputId": "40361015-9631-4603-bf9f-c5833c1a6f74"
      },
      "source": [
        "# load the dataset\n",
        "# X is a matrix such that each row stores a data record \n",
        "# y is a vector of the corresponding labels of the records\n",
        "X, y = cp.load(open('winequality-white.pickle', 'rb'))\n",
        "\n",
        "# check the size of the data\n",
        "print(\"X is a matrix with shape {}, which has {} records and {} attributes.\".format(X.shape, X.shape[0], X.shape[1]))\n",
        "print(\"y is a vector with {} values, which stores the corresponding labels of the data records in X\".format(y.shape[0]))"
      ],
      "execution_count": 4,
      "outputs": [
        {
          "output_type": "stream",
          "text": [
            "X is a matrix with shape (4898, 11), which has 4898 records and 11 attributes.\n",
            "y is a vector with 4898 values, which stores the corresponding labels of the data records in X\n"
          ],
          "name": "stdout"
        }
      ]
    },
    {
      "cell_type": "markdown",
      "metadata": {
        "id": "CGuNg0KbWN0z"
      },
      "source": [
        "In order to get consistent results, all students should use the same 80% of the data as training\n",
        "data. We’ll use the remaining as test data. To achieve this split run the following:"
      ]
    },
    {
      "cell_type": "code",
      "metadata": {
        "colab": {
          "base_uri": "https://localhost:8080/"
        },
        "id": "6ZqbBa8bWNYg",
        "outputId": "224ac968-5421-4ba9-eab5-7dfd45bd3620"
      },
      "source": [
        "# The function splits the dataset into the training dataset and the test dataset.\n",
        "# The parameter split_coeff is a percentage value such that\n",
        "# the first split_coeff of the dataset goes to the training dataset, \n",
        "# and the remaining data goes to the test dataset.\n",
        "def split_data(X, y, split_coeff):\n",
        "    N, _ = X.shape # get the number of records (rows)\n",
        "    train_size = int(split_coeff * N) # use the first split_coeff of the data as the training data\n",
        "    X_train = X[:train_size] # the first training_size records\n",
        "    y_train = y[:train_size]\n",
        "    X_test = X[train_size:] # the last test_size records\n",
        "    y_test = y[train_size:]\n",
        "    return X_train, y_train, X_test, y_test\n",
        "\n",
        "X_train, y_train, X_test, y_test = split_data(X, y, 0.8) # use 80% of the data as training data\n",
        "\n",
        "# check the size of the splitted dataset\n",
        "print(\"Shape of X_train:\", X_train.shape)\n",
        "print(\"Shape of y_train:\", y_train.shape)\n",
        "print(\"Shape of X_test:\", X_test.shape)\n",
        "print(\"Shape of y_test:\", y_test.shape)\n"
      ],
      "execution_count": 5,
      "outputs": [
        {
          "output_type": "stream",
          "text": [
            "Shape of X_train: (3918, 11)\n",
            "Shape of y_train: (3918,)\n",
            "Shape of X_test: (980, 11)\n",
            "Shape of y_test: (980,)\n"
          ],
          "name": "stdout"
        }
      ]
    },
    {
      "cell_type": "markdown",
      "metadata": {
        "id": "RL1N8mKUWYnx"
      },
      "source": [
        "We’ll not touch the test data except for reporting the errors of our learned models"
      ]
    },
    {
      "cell_type": "markdown",
      "metadata": {
        "id": "q2yKNR49Wkn8"
      },
      "source": [
        "## Understanding What We’re Predicting\n",
        "\n",
        "Before we get to training a linear model on the data and using it to make predictions, let’s look\n",
        "at the spread of y values on the training set. The values are integers between 3 and 9 indicating\n",
        "the quality of the wine.\n"
      ]
    },
    {
      "cell_type": "markdown",
      "metadata": {
        "id": "-PMpsZNSWthB"
      },
      "source": [
        "### **Task 1**\n",
        "Make a bar chart showing the distribution of y values appearing in the training data."
      ]
    },
    {
      "cell_type": "code",
      "metadata": {
        "colab": {
          "base_uri": "https://localhost:8080/",
          "height": 295
        },
        "id": "4L_JDK3dWrsR",
        "outputId": "46e1cae0-b277-4052-af2f-2f0e33402a4c"
      },
      "source": [
        "#@title\n",
        "# Task 1: \n",
        "# the function takes the training dataset as the input, and make the bar chart\n",
        "def plot_bar_chart_score(X_train, y_train):\n",
        "  plt.title(\"Distribution of scores of wines\") # add title\n",
        "  plt.xlabel(\"Score\") # add x axis caption\n",
        "  plt.ylabel(\"Frequency\") # add y axis caption\n",
        "  labels, counts = np.unique(y_train, return_counts=True) # get the unique values of y and the counts for each of them\n",
        "  plt.bar(labels, counts, align='center') # create the bar chart\n",
        "  plt.gca().set_xticks(labels) # set the labels of the ticks on the x axis\n",
        "  plt.show()\n",
        "plot_bar_chart_score(X_train, y_train)"
      ],
      "execution_count": 6,
      "outputs": [
        {
          "output_type": "display_data",
          "data": {
            "image/png": "[encoded data removed]",
            "text/plain": [
              "<Figure size 432x288 with 1 Axes>"
            ]
          },
          "metadata": {
            "tags": [],
            "needs_background": "light"
          }
        }
      ]
    },
    {
      "cell_type": "markdown",
      "metadata": {
        "id": "GxjlElni2FcH"
      },
      "source": [
        "### **Task 2** \n",
        "Implement the trivial predictor, which uses the average value of y on the training set as the prediction for ever datapoint. "
      ]
    },
    {
      "cell_type": "code",
      "metadata": {
        "colab": {
          "base_uri": "https://localhost:8080/"
        },
        "id": "-V3xFYexX1lt",
        "outputId": "53ff9b0d-1a9b-4441-93e1-35e2eecce362"
      },
      "source": [
        "#@title\n",
        "# Task 2: implement the simplest predictor\n",
        "# The function computes the average value of y on the training label values\n",
        "def compute_average(y_train):\n",
        "  return np.mean(y_train)\n",
        "\n",
        "y_train_avg = compute_average(y_train)\n",
        "print(\"Average of y on the training label values is {}\".format(y_train_avg))\n",
        "\n",
        "# The simplest predictor returns the average value.\n",
        "def simplest_predictor(X_test, y_train_avg):\n",
        "  return y_train_avg"
      ],
      "execution_count": 7,
      "outputs": [
        {
          "output_type": "stream",
          "text": [
            "Average of y on the training label values is 5.878764675855028\n"
          ],
          "name": "stdout"
        }
      ]
    },
    {
      "cell_type": "markdown",
      "metadata": {
        "id": "x531Q_SxXV14"
      },
      "source": [
        "### **Task 3**\n",
        "Report the mean squared error, i.e., the average of the squared residuals, using this simplest of predictors on the training and test data. We should hope that our models beat at lease this baseline. "
      ]
    },
    {
      "cell_type": "code",
      "metadata": {
        "colab": {
          "base_uri": "https://localhost:8080/"
        },
        "id": "mV8l6Ci9YlgL",
        "outputId": "9af030c5-427e-45d3-edf2-86f6907a9f73"
      },
      "source": [
        "# We will evaluate our simplest predictor here. \n",
        "# Implement a function that can report the mean squared error \n",
        "# of a predictor on the given test data\n",
        "# Input: test dataset and predictor\n",
        "# Output: mean squared error of the predictor on the given test data\n",
        "def test_data(X_test, y_test, predictor: callable=None):\n",
        "    # Applies the predictor to each row to compute the predicted values\n",
        "    y_predicted = np.apply_along_axis(predictor, 1, X_test)\n",
        "    # Compte the error for each observation\n",
        "    errors = y_test - y_predicted\n",
        "    # Compute the sum of squared errors and divide it by the number of observations\n",
        "    mse = (errors.T @ errors)/X_test.shape[0]\n",
        "    return mse\n",
        "\n",
        "# use the above function test_data to evaluate the simplest predictor\n",
        "# we use the lambda function here to pass the function simplest_predictor to the evaluator.\n",
        "mse_simplest_predictor_train = test_data(X_train, y_train, lambda x: simplest_predictor(x, y_train_avg))\n",
        "mse_simplest_predictor_test = test_data(X_test, y_test, lambda x: simplest_predictor(x, y_train_avg))\n",
        "\n",
        "# Report the result\n",
        "print('Simplest Predictor')\n",
        "print('--------------------------------------------------------------------------------\\n')\n",
        "print('MSE (Training) = %.4f' % mse_simplest_predictor_train)\n",
        "print('MSE (Testing)  = %.4f' % mse_simplest_predictor_test)"
      ],
      "execution_count": 8,
      "outputs": [
        {
          "output_type": "stream",
          "text": [
            "Simplest Predictor\n",
            "--------------------------------------------------------------------------------\n",
            "\n",
            "MSE (Training) = 0.7768\n",
            "MSE (Testing)  = 0.8139\n"
          ],
          "name": "stdout"
        }
      ]
    },
    {
      "cell_type": "markdown",
      "metadata": {
        "id": "geiyM1Nea0az"
      },
      "source": [
        "## Linear Model Using Least Squares\n",
        "\n",
        "Let us first fit a linear regression model and then calculate the training and test error. We’ll\n",
        "actually use the closed form solution of the least squares estimate for the linear model. \n"
      ]
    },
    {
      "cell_type": "markdown",
      "metadata": {
        "id": "cRPPA6HMbNOr"
      },
      "source": [
        "### **Task 4**\n",
        "Is it strictly necessary to standardize the data for the linear model using the least squares method? Why?"
      ]
    },
    {
      "cell_type": "markdown",
      "metadata": {
        "id": "9he5QMmfqL3_"
      },
      "source": [
        "**Answer:** \n",
        "\n",
        "No, for the standard least squares method (without regularization) it is not stricly necessary. The ordinary least squares method essentially returns estimates, which measure the correlation between $x_k$ and $y$ with normalized units - meaning that the correlation is multiplied by the following ratio: standard deviation of $y$ / standard deviation of the $x_k$. Hence, standardizing the data just leads to rescaled parameters, such that the estimated coefficients represent the correlations between $x_k$ and $y$ in units of the standard deviation of $y$. However, transforming the estimated coefficients back after the model estimation (to get conveniently interpretable coefficients) would lead to the exact same results as estimating the model directly without standardizing the data.\n",
        "\n",
        "In contrast, as soon as we add a regularization term, it is important to standardize the data such that each estimate is equally strong regularized. Estimating a regularized model directly with the unstandardized data would lead to a stronger regularization for features with comparatively small standard deviations. Hence, we standardize the inputs to avoid this dependency on scaling."
      ]
    },
    {
      "cell_type": "markdown",
      "metadata": {
        "id": "WSEwFGp_bqAI"
      },
      "source": [
        "### **Task 5**\n",
        "Standardize the data, i.e., make the data for every feature have mean 0 and variance 1. \n",
        "\n",
        "We do the standardization using the training data, and we need to remember the means and\n",
        "the standard deviations so that they can be applied to the test data as well. Apply the\n",
        "standardization so that every feature in the training data has mean 0 and variance 1. Apply\n",
        "the same transformation to the test data. "
      ]
    },
    {
      "cell_type": "code",
      "metadata": {
        "colab": {
          "base_uri": "https://localhost:8080/"
        },
        "id": "trjwkcgybhDH",
        "outputId": "f02f3d77-bfec-4717-d608-50c9fd6b14d5"
      },
      "source": [
        "# Input: training data\n",
        "# Output: standardize training data, standard deviations and means\n",
        "def standardize_data(X):\n",
        "    # Compute the mean\n",
        "    mean = np.mean(X, axis=0)\n",
        "    # Compute the standard deviation\n",
        "    std = np.std(X, axis=0)\n",
        "    # Standardize the data\n",
        "    X_std = (X - mean)/std  \n",
        "    # Return the desired variables\n",
        "    return X_std, mean, std\n",
        "\n",
        "X_train_std, X_train_mean, X_train_std_div = standardize_data(X_train)\n",
        "print(\"X_train_std:\", X_train_std.shape)\n",
        "print(\"Mean:\", X_train_mean)\n",
        "print(\"Standard deviation:\", X_train_std_div)"
      ],
      "execution_count": 9,
      "outputs": [
        {
          "output_type": "stream",
          "text": [
            "X_train_std: (3918, 11)\n",
            "Mean: [6.85427514e+00 2.78390761e-01 3.34892802e-01 6.42623788e+00\n",
            " 4.58213374e-02 3.53263144e+01 1.38513272e+02 9.94040729e-01\n",
            " 3.18647524e+00 4.89055641e-01 1.05115799e+01]\n",
            "Standard deviation: [8.39100902e-01 9.95630176e-02 1.24249975e-01 5.06377532e+00\n",
            " 2.16660282e-02 1.71004677e+01 4.23956179e+01 2.97972269e-03\n",
            " 1.49949475e-01 1.12992053e-01 1.22536544e+00]\n"
          ],
          "name": "stdout"
        }
      ]
    },
    {
      "cell_type": "code",
      "metadata": {
        "colab": {
          "base_uri": "https://localhost:8080/"
        },
        "id": "RjzbA5JpM759",
        "outputId": "61f0e97d-7138-44c4-cc77-ae13ecceb318"
      },
      "source": [
        "# Standardize the test data using the mean and standrad deviation you computed for the training data\n",
        "X_test_std = (X_test-X_train_mean)/X_train_std_div\n",
        "print(X_test_std.shape)"
      ],
      "execution_count": 10,
      "outputs": [
        {
          "output_type": "stream",
          "text": [
            "(980, 11)\n"
          ],
          "name": "stdout"
        }
      ]
    },
    {
      "cell_type": "markdown",
      "metadata": {
        "id": "vT4_Sl42bxmD"
      },
      "source": [
        "### **Task 6**\n",
        "Implement the linear model predictor, and report the mean squared error using the linear model on the training and test data.\n",
        "\n",
        "We will do this in several steps. We need to implement the function for computing the parameters based on the training dataset. Note we need to add the bias column to the dataset. "
      ]
    },
    {
      "cell_type": "code",
      "metadata": {
        "colab": {
          "base_uri": "https://localhost:8080/"
        },
        "id": "A4JtLr6pdJV7",
        "outputId": "3f6ed4d4-93ad-4c65-f6b7-79670debd872"
      },
      "source": [
        "# the function adds a column of ones to the front of the input matrix\n",
        "def expand_with_ones(X):\n",
        "    # Create a one dimensional array of ones with length equal to the number of rows in X (i.e. N)\n",
        "    Const = np.repeat(1, X.shape[0])\n",
        "    # Add a column dimension to the array of ones, such that its dimension is (N,1)\n",
        "    Const = np.expand_dims(Const, axis=1)\n",
        "    # Add the column of ones to X and save it into X_out\n",
        "    X_out = np.append(Const, X, axis=1)\n",
        "    return X_out\n",
        "\n",
        "# The function computes the parameters\n",
        "def least_squares_compute_parameters(X_input, y):\n",
        "    # add the bias column to the dataset\n",
        "    X = expand_with_ones(X_input)\n",
        "    # Calculate the OLS parameters using (X'X)^(-1)X'y\n",
        "    T = np.linalg.inv(X.T @ X) @ X.T @ y\n",
        "    T = np.asarray(T)\n",
        "    return T\n",
        "\n",
        "# train the linear model parameters\n",
        "w = least_squares_compute_parameters(X_train_std, y_train) \n",
        "print(\"w:\", w.shape)"
      ],
      "execution_count": 11,
      "outputs": [
        {
          "output_type": "stream",
          "text": [
            "w: (12,)\n"
          ],
          "name": "stdout"
        }
      ]
    },
    {
      "cell_type": "markdown",
      "metadata": {
        "id": "lasj_1PpeZib"
      },
      "source": [
        "We then implement the linear model predictor given the dataset and the parameters. "
      ]
    },
    {
      "cell_type": "code",
      "metadata": {
        "id": "Lb-hNagxc3Wj"
      },
      "source": [
        "# Implement the linear model predictor\n",
        "# Input: test data and parameters\n",
        "# Output: predicted values\n",
        "def linear_model_predictor(X, w):\n",
        "    # Compute the predicted values based on the test dataset and the parameters\n",
        "    y_predicted = X @ w\n",
        "    return y_predicted"
      ],
      "execution_count": 12,
      "outputs": []
    },
    {
      "cell_type": "markdown",
      "metadata": {
        "id": "cFOYpwbufz7J"
      },
      "source": [
        "We can now evaluate our linear model predictor on the test dataset. "
      ]
    },
    {
      "cell_type": "code",
      "metadata": {
        "colab": {
          "base_uri": "https://localhost:8080/"
        },
        "id": "LuHHmn2RB55j",
        "outputId": "8e48debf-3faf-4ac0-8259-7904b4cb5a07"
      },
      "source": [
        "# use the function test_data to evaluate the linear model predictor\n",
        "mse_linear_model_predictor = test_data(expand_with_ones(X_test_std), y_test, lambda x: linear_model_predictor(x, w))\n",
        "print(\"Mean squared error is {}\".format(mse_linear_model_predictor))"
      ],
      "execution_count": 13,
      "outputs": [
        {
          "output_type": "stream",
          "text": [
            "Mean squared error is 0.5607292042283473\n"
          ],
          "name": "stdout"
        }
      ]
    },
    {
      "cell_type": "markdown",
      "metadata": {
        "id": "zqj4HKAihF7Q"
      },
      "source": [
        "## Learning Curves\n",
        "\n",
        "Let us see if the linear model is overfitting or underfitting. Since the dataset is somewhat large and there are only 11 features, our guess should be that it may either be underfitting or be about right."
      ]
    },
    {
      "cell_type": "markdown",
      "metadata": {
        "id": "XDLCsjzWhMCp"
      },
      "source": [
        "Starting with 20 datapoints, we’ll use training datasets of increasing size, in increments of 20 up to about 600 datapoints. For each case train the linear model only using the first n elements of\n",
        "the training data. Calculate the training error (on the data used) and the test error (on the full test set). Plot the training error and test error as a function of the size of the dataset used for\n",
        "training."
      ]
    },
    {
      "cell_type": "markdown",
      "metadata": {
        "id": "MNf11kurCgKF"
      },
      "source": [
        "### **Task 7** \n",
        "Implement a function that evaluates the linear model over the training dataset with the input size.\n",
        "The function takes a dataset and the split coefficient as inputs, and\n",
        "1. splits the data to training and test datasets,\n",
        "2. standardizes the data,\n",
        "3. trains the linear model, and\n",
        "4. reports the mse of the linear model predictor on both training and test datasets. "
      ]
    },
    {
      "cell_type": "code",
      "metadata": {
        "colab": {
          "base_uri": "https://localhost:8080/"
        },
        "id": "UcGRQBrEb106",
        "outputId": "c809ac2b-88cf-49d7-c230-b6d2814dd2dd"
      },
      "source": [
        "# Input: dataset and split coefficient\n",
        "# Output: mse of the linear model predictor on both the training and test datasets\n",
        "def train_and_test(X, y, split_coeff):\n",
        "    ## 1. Split the data into training and test dataset\n",
        "    X_train, y_train, X_test, y_test = split_data(X, y, split_coeff)\n",
        "    ## 2. Standardize the data\n",
        "    # Start by standardizing the training data\n",
        "    X_train_std, X_train_mean, X_train_std_div = standardize_data(X_train)\n",
        "    # Then standardize the test data using the mean and standrad deviation we computed for the training data\n",
        "    X_test_std = (X_test-X_train_mean)/X_train_std_div\n",
        "    ## 3. Train the linear model\n",
        "    w = least_squares_compute_parameters(X_train_std, y_train)\n",
        "    ## 4. Report the mse of the linear model predictor on both training and test datasets\n",
        "    mse_train = test_data(expand_with_ones(X_train_std), y_train, lambda x: linear_model_predictor(x, w))\n",
        "    mse_test  = test_data(expand_with_ones(X_test_std), y_test, lambda x: linear_model_predictor(x, w))\n",
        "    return mse_train, mse_test\n",
        "\n",
        "mse_train, mse_test = train_and_test(X, y, 0.8)\n",
        "print('MSE using Linear Models')\n",
        "print('-----------------------\\n')\n",
        "print('MSE (Training) = %.4f' % mse_train)\n",
        "print('MSE (Testing)  = %.4f' % mse_test)\n"
      ],
      "execution_count": 14,
      "outputs": [
        {
          "output_type": "stream",
          "text": [
            "MSE using Linear Models\n",
            "-----------------------\n",
            "\n",
            "MSE (Training) = 0.5640\n",
            "MSE (Testing)  = 0.5607\n"
          ],
          "name": "stdout"
        }
      ]
    },
    {
      "cell_type": "markdown",
      "metadata": {
        "id": "NTJw_BrzhRwi"
      },
      "source": [
        "### **Task 8**\n",
        "Report the learning curves plot. Also, explain whether you think the model is underfitting or not and how much data you need before getting the optimal test error."
      ]
    },
    {
      "cell_type": "code",
      "metadata": {
        "colab": {
          "base_uri": "https://localhost:8080/",
          "height": 279
        },
        "id": "jDsdh4T3hcIU",
        "outputId": "7d20eafa-faed-4f64-82cb-762497d8a58f"
      },
      "source": [
        "mse_train_v = []\n",
        "mse_test_v = []\n",
        "\n",
        "TRAINING_SIZE_MAX = 601\n",
        "TRAINING_SIZE_MIN = 20\n",
        "\n",
        "# compute the errors over datasets with different sizes\n",
        "for train_size in range(TRAINING_SIZE_MIN, TRAINING_SIZE_MAX, 20):\n",
        "    # Select the first train_size elements of the data as the dataset to use for the estimation\n",
        "    X_use = X[:train_size]\n",
        "    y_use = y[:train_size]\n",
        "    # Use the above defined function to calculate the training error and test error\n",
        "    mse_train, mse_test = train_and_test(X_use, y_use, 0.8)\n",
        "    # Add them to mse_train_v and mse_test_v, respectively\n",
        "    mse_train_v.append(mse_train)\n",
        "    mse_test_v.append(mse_test)\n",
        "\n",
        "# The below code outputs the plot of mse from different training sizes\n",
        "plt.figure(2)\n",
        "plt.plot(np.arange(TRAINING_SIZE_MIN, TRAINING_SIZE_MAX, 20), mse_train_v, 'r--', label=\"Training Error\")\n",
        "plt.plot(np.arange(TRAINING_SIZE_MIN, TRAINING_SIZE_MAX, 20), mse_test_v, 'b-', label=\"Test Error\")\n",
        "plt.xlabel('Dataset Size')\n",
        "plt.ylabel('Mean Squared Error')\n",
        "plt.show()"
      ],
      "execution_count": 15,
      "outputs": [
        {
          "output_type": "display_data",
          "data": {
            "image/png": "[encoded data removed]",
            "text/plain": [
              "<Figure size 432x288 with 1 Axes>"
            ]
          },
          "metadata": {
            "tags": [],
            "needs_background": "light"
          }
        }
      ]
    },
    {
      "cell_type": "markdown",
      "metadata": {
        "id": "9A9VqDTzOdfd"
      },
      "source": [
        "We observe that the test error is very large for small dataset sizes, but then decreases very fast with an increasing dataset size until it reaches a similar level as the training error at a dataset size of 60 observations. The large difference between the test error and training error (with test error >> training error) we observe for small dataset sizes definitely indicates that the model is underfitting. However, since the test error reaches a similar level as the training error as soon as the dataset size is 60 or larger, we conclude that the minimum amount of data needed to get an \"optimal\" test error (i.e. a test error similar to the train error) is approximately 60. Note that having larger datasets than 60 does not affect the test error significantly."
      ]
    },
    {
      "cell_type": "markdown",
      "metadata": {
        "id": "djpsaTu_kK3T"
      },
      "source": [
        "## Polynomial Basis Expansion with Ridge and Lasso\n",
        "\n",
        "For this part use the following from the scikit-learn package. Read the documentation available here: http://scikit-learn.org/stable/modules/classes.html\n",
        "\n"
      ]
    },
    {
      "cell_type": "markdown",
      "metadata": {
        "id": "pnw2FEvqkdV_"
      },
      "source": [
        "You will need the use the following:"
      ]
    },
    {
      "cell_type": "code",
      "metadata": {
        "id": "9TM0nkNbkhfM"
      },
      "source": [
        "# You will need the following libs. \n",
        "# Fell free to import other libs. \n",
        "\n",
        "# import the preprocessing libs for standarization and basis expansion\n",
        "from sklearn.preprocessing import StandardScaler, PolynomialFeatures \n",
        "\n",
        "# Ridge and Lasso linear model\n",
        "from sklearn.linear_model import Ridge, Lasso "
      ],
      "execution_count": 16,
      "outputs": []
    },
    {
      "cell_type": "markdown",
      "metadata": {
        "id": "9fAfOfXCksT9"
      },
      "source": [
        "Try 5 powers of 10 for lambda from 10^-2 to 10^2 and use degree 2 basis expansion. Fit ridge and lasso using degree 2 polynomial expansion with these values of lambda. You should pick the optimal values for lambda using a validation set. Set the last 20% of the training set for the purpose of validation."
      ]
    },
    {
      "cell_type": "markdown",
      "metadata": {
        "id": "pCwBPuOXlRF7"
      },
      "source": [
        "### **Task 9**\n",
        "Let's implement the function for expanding the basis of the dataset. \n",
        "\n",
        "Hints: use `PolynomialFeatures`"
      ]
    },
    {
      "cell_type": "code",
      "metadata": {
        "id": "50azFolql1qA"
      },
      "source": [
        "def expand_basis(X, degree):\n",
        "    # Expand the basis of X for the degree by means of the PolynomialFeatures function\n",
        "    # Note that we exclude the bias term. This is done to prevent problems when standardizing the data later on\n",
        "    poly = PolynomialFeatures(degree = degree, include_bias = False)\n",
        "    X = poly.fit_transform(X)\n",
        "    return X"
      ],
      "execution_count": 17,
      "outputs": []
    },
    {
      "cell_type": "markdown",
      "metadata": {
        "id": "6jwkPevimQri"
      },
      "source": [
        "### **Task 10**\n",
        "Prepare the training, test and validation data using the expanded dataset. Expand and standardize the data. \n",
        "\n",
        "Hints: you can use `StandardScaler` and `std_scaler` to standardize the data"
      ]
    },
    {
      "cell_type": "code",
      "metadata": {
        "id": "dQCq4G9YmW7w"
      },
      "source": [
        "# TODO: the training, test and validation data using the expanded dataset.\n",
        "# The code below is just for compilation. \n",
        "# You need to replace it by your own code.\n",
        "def prepare_data(X, y, degree):\n",
        "    # Expand the basis of X\n",
        "    X = expand_basis(X, degree)\n",
        "    # Split the data into training and test dataset with a split coefficient of 0.8\n",
        "    X_train, y_train, X_test, y_test = split_data(X, y, 0.8)\n",
        "    # Standardize the training data\n",
        "    X_train_std, X_train_mean, X_train_std_div = standardize_data(X_train)\n",
        "    # Standardize the test data by the same transformation\n",
        "    X_test_std = (X_test - X_train_mean)/X_train_std_div\n",
        "    # Further split the training data to training and validation data with a split coefficient of 0.8\n",
        "    X_train_n, y_train_n, X_train_v, y_train_v = split_data(X_train_std, y_train, 0.8)\n",
        "    # Standardize X_train_n\n",
        "    X_train_n_std, X_train_n_mean, X_train_n_std_div = standardize_data(X_train_n)\n",
        "    # Apply the same transformation to the validation set\n",
        "    X_train_v_std = (X_train_v - X_train_n_mean)/X_train_n_std_div    \n",
        "\n",
        "    # Return the prepared datasets\n",
        "    return X_train_std, y_train, X_train_n_std, y_train_n, X_train_v_std, y_train_v, X_test_std, y_test\n",
        "\n",
        "\n",
        "X_train, y_train, X_train_n, y_train_n, X_train_v, y_train_v, X_test, y_test = prepare_data(X, y, 2) # here we expand the dataset with degree 2"
      ],
      "execution_count": 18,
      "outputs": []
    },
    {
      "cell_type": "markdown",
      "metadata": {
        "id": "i3BxxtM3nghU"
      },
      "source": [
        "### **Task 11**\n",
        "We have prepared the training data and the validation data. We can now choose the hyper parameter lambda for Ridge and Lasso using the validation data. \n"
      ]
    },
    {
      "cell_type": "code",
      "metadata": {
        "colab": {
          "base_uri": "https://localhost:8080/",
          "height": 561
        },
        "id": "SvXcAGW1oHq1",
        "outputId": "efc55957-2275-40db-c3c7-9ce37d27215a"
      },
      "source": [
        "# The function takes the training and validation data as inputs, and \n",
        "# returns the lambda value that has the minimal mse\n",
        "# We use is_ridge to indicate the model we consider. \n",
        "# is_ridge = True indicates Ridge while is_ridge = False indicates Lasso\n",
        "def choose_hyper_param(X_train_n, y_train_n, X_train_v, y_train_v, is_ridge: bool):\n",
        "    mse_arr = []\n",
        "    lam_arr = []\n",
        "\n",
        "    for pow_lam in range(-2, 3):\n",
        "        lam = 10 ** pow_lam\n",
        "        # Specify the model depending on the bool variable is_ridge\n",
        "        if(is_ridge):\n",
        "          model = Ridge(lam).fit(X_train_n, y_train_n)\n",
        "        else:\n",
        "          model = Lasso(lam).fit(X_train_n, y_train_n)\n",
        "        # Get the predictions for the validation set\n",
        "        y_pred = model.predict(X_train_v)\n",
        "        # Calculate the mse\n",
        "        mse = np.sum((y_pred - y_train_v) ** 2) / y_train_v.shape[0]\n",
        "        # Add the mse when using the hyperparameter lam\n",
        "        mse_arr.append(mse) \n",
        "        lam_arr.append(lam)\n",
        "\n",
        "    # get the index of the lambda value that has the minimal mse\n",
        "    lambda_idx_min = np.argmin(np.array(mse_arr))\n",
        "\n",
        "    # plot of the lambda values and their mse\n",
        "    plt.figure()\n",
        "    plt.semilogx(lam_arr, mse_arr)\n",
        "\n",
        "    # return the best lambda value\n",
        "    return lam_arr[lambda_idx_min]\n",
        "\n",
        "# call the function to choose the lambda for Ridge and Lasso\n",
        "lam_ridge = choose_hyper_param(X_train_n, y_train_n, X_train_v, y_train_v, True)\n",
        "lam_lasso = choose_hyper_param(X_train_n, y_train_n, X_train_v, y_train_v, False)\n",
        "\n",
        "print(\"Ridge lambda:\", lam_ridge)\n",
        "print(\"Lasso lambda:\", lam_lasso)"
      ],
      "execution_count": 19,
      "outputs": [
        {
          "output_type": "stream",
          "text": [
            "Ridge lambda: 0.01\n",
            "Lasso lambda: 0.01\n"
          ],
          "name": "stdout"
        },
        {
          "output_type": "display_data",
          "data": {
            "image/png": "[encoded data removed]",
            "text/plain": [
              "<Figure size 432x288 with 1 Axes>"
            ]
          },
          "metadata": {
            "tags": [],
            "needs_background": "light"
          }
        },
        {
          "output_type": "display_data",
          "data": {
            "image/png": "[encoded data removed]",
            "text/plain": [
              "<Figure size 432x288 with 1 Axes>"
            ]
          },
          "metadata": {
            "tags": [],
            "needs_background": "light"
          }
        }
      ]
    },
    {
      "cell_type": "markdown",
      "metadata": {
        "id": "FAuX0uU5k9qD"
      },
      "source": [
        "### **Task 12**:\n",
        "Once you’ve obtained the optimal values for lambda for Ridge and Lasso, train these models using these hyperparameters on the full training data. Then report\n",
        "the training and test error."
      ]
    },
    {
      "cell_type": "code",
      "metadata": {
        "colab": {
          "base_uri": "https://localhost:8080/"
        },
        "id": "VmwHESkg77zK",
        "outputId": "6e171495-83ed-49af-8a05-edeea0231053"
      },
      "source": [
        "## Ridge\n",
        "# Train the ridge model using the best lambda from above\n",
        "model = Ridge(lam_ridge).fit(X_train, y_train)\n",
        "# Get the predictions for the training set and test set\n",
        "y_train_pred_r = model.predict(X_train)\n",
        "y_test_pred_r  = model.predict(X_test)\n",
        "# Calculate the training mse and test mse\n",
        "mse_ridge_train = np.sum((y_train_pred_r - y_train) ** 2) / y_train.shape[0]\n",
        "mse_ridge_test  = np.sum((y_test_pred_r - y_test) ** 2) / y_test.shape[0]\n",
        "\n",
        "## Lasso\n",
        "# Train the lasso model using the best lambda from above\n",
        "model = Lasso(lam_lasso).fit(X_train, y_train)\n",
        "# Get the predictions for the training set and test set\n",
        "y_train_pred_l = model.predict(X_train)\n",
        "y_test_pred_l  = model.predict(X_test)\n",
        "# Calculate the training mse and test mse\n",
        "mse_lasso_train = np.sum((y_train_pred_l - y_train) ** 2) / y_train.shape[0]\n",
        "mse_lasso_test  = np.sum((y_test_pred_l - y_test) ** 2) / y_test.shape[0]\n",
        "\n",
        "\n",
        "# Report the result\n",
        "print('For Ridge Regression with using degree %d polynomial expansion and lambda = %.4f' % (2, lam_ridge))\n",
        "print('--------------------------------------------------------------------------------\\n')\n",
        "print('MSE (Training) = %.4f' % mse_ridge_train)\n",
        "print('MSE (Testing)  = %.4f' % mse_ridge_test)\n",
        "\n",
        "print('\\n\\nFor Lasso with using degree %d polynomial expansion and lambda = %.4f' % (2, lam_lasso))\n",
        "print('---------------------------------------------------------------------\\n')\n",
        "print('MSE (Training) = %.4f' % mse_lasso_train)\n",
        "print('MSE (Testing)  = %.4f' % mse_lasso_test)"
      ],
      "execution_count": 20,
      "outputs": [
        {
          "output_type": "stream",
          "text": [
            "For Ridge Regression with using degree 2 polynomial expansion and lambda = 0.0100\n",
            "--------------------------------------------------------------------------------\n",
            "\n",
            "MSE (Training) = 0.5014\n",
            "MSE (Testing)  = 0.5161\n",
            "\n",
            "\n",
            "For Lasso with using degree 2 polynomial expansion and lambda = 0.0100\n",
            "---------------------------------------------------------------------\n",
            "\n",
            "MSE (Training) = 0.5489\n",
            "MSE (Testing)  = 0.5422\n"
          ],
          "name": "stdout"
        },
        {
          "output_type": "stream",
          "text": [
            "/usr/local/lib/python3.6/dist-packages/sklearn/linear_model/_coordinate_descent.py:476: ConvergenceWarning: Objective did not converge. You might want to increase the number of iterations. Duality gap: 0.6575181351659012, tolerance: 0.3043413221031145\n",
            "  positive)\n"
          ],
          "name": "stderr"
        }
      ]
    },
    {
      "cell_type": "markdown",
      "metadata": {
        "id": "Os9tKKLd8gMU"
      },
      "source": [
        "## Larger Degrees\n",
        "\n"
      ]
    },
    {
      "cell_type": "markdown",
      "metadata": {
        "id": "sfqRAlv1PBXi"
      },
      "source": [
        "### **Task 13**\n",
        "Try using higher degree basis expansion. You may want to use k-fold cross validation to determine\n",
        "the values of hyperparameters rather than just keeping a validation set. \n",
        "\n",
        "Hints: Use `KFold` to do this automatically. "
      ]
    },
    {
      "cell_type": "code",
      "metadata": {
        "colab": {
          "base_uri": "https://localhost:8080/",
          "height": 607
        },
        "id": "kpwY7UtQ8l-0",
        "outputId": "d9043ed3-b7e4-434a-ce24-89259d2a4bb5"
      },
      "source": [
        "# KFold\n",
        "from sklearn.model_selection import KFold\n",
        "# Suppress the convergence warnings which occure when a lasso is fitted\n",
        "import warnings\n",
        "warnings.filterwarnings(\"ignore\")\n",
        "\n",
        "# Define a function that returns the best degree for the basis expansion\n",
        "# together with the associated best lambda\n",
        "def Kfold_hyper_param_and_exp_deg(X, y, maxdeg, K, is_ridge: bool):\n",
        "  # Create variables to store the best lambda and the according mse \n",
        "  # for each degree of basis expansion\n",
        "  mse_arr = []\n",
        "  lam_arr = []\n",
        "  deg_arr = []\n",
        "  # Set up a K-fold cross validation\n",
        "  kf = KFold(n_splits = K)\n",
        "\n",
        "  for deg in range(2, maxdeg+1):\n",
        "    X_train, y_train, X_train_n, y_train_n, X_train_v, y_train_v, X_test, y_test = prepare_data(X, y, deg)\n",
        "    # Create variables to store the lambda and mse for each basis expansion of X\n",
        "    mse_deg_arr = []\n",
        "    lam_deg_arr = []\n",
        "\n",
        "    # Estimate K models for each lambda and choose the lambda that \n",
        "    # leads to the lowest average mse among the K models\n",
        "    for pow_lam in range(-2, 3):\n",
        "      lam = 10 ** pow_lam\n",
        "      # Create a variable to store the mse of each K estimation\n",
        "      mse_fold_arr = []\n",
        "\n",
        "      # Estimate the model for all K splits\n",
        "      for train_index, valid_index in kf.split(X_train):\n",
        "        X_train_n = X_train[train_index]\n",
        "        y_train_n = y_train[train_index]\n",
        "        X_train_v = X_train[valid_index]\n",
        "        y_train_v = y_train[valid_index]\n",
        "        # Specify the model depending on the bool variable is_ridge\n",
        "        if(is_ridge):\n",
        "          model = Ridge(lam).fit(X_train_n, y_train_n)\n",
        "        else:\n",
        "          model = Lasso(lam).fit(X_train_n, y_train_n)\n",
        "        # Get the predictions for the validation set\n",
        "        y_pred = model.predict(X_train_v)\n",
        "        # Calculate the mse\n",
        "        mse = np.sum((y_pred - y_train_v) ** 2) / y_train_v.shape[0]\n",
        "        # Add the mse when using the hyperparameter lam\n",
        "        mse_fold_arr.append(mse)\n",
        "\n",
        "      # Get the average mse obtained when using hyperparameter lam\n",
        "      mse_avg = np.mean(mse_fold_arr)\n",
        "      # Add the average mse when using the hyperparameter lam\n",
        "      mse_deg_arr.append(mse_avg)\n",
        "      lam_deg_arr.append(lam)\n",
        "\n",
        "    # Get the index of the lambda value that has the minimal average mse\n",
        "    lambda_idx_min = np.argmin(np.array(mse_deg_arr))\n",
        "    # For each degree of basis expansion store the degree, the best lambda and\n",
        "    # the associated mse\n",
        "    lam_arr.append(lam_deg_arr[lambda_idx_min])\n",
        "    mse_arr.append(mse_deg_arr[lambda_idx_min])\n",
        "    deg_arr.append(deg)\n",
        "\n",
        "  # Get the index of the degree of basis expansion that has the minimal mse\n",
        "  deg_idx_min = np.argmin(np.array(mse_arr))\n",
        "  # Report the best degree of basis expansion and the associated lambda\n",
        "  if(is_ridge):\n",
        "    print('For Ridge Regression the lowest MSE is obtained using a degree %d polynomial expansion and lambda = %.2f' % (deg_arr[deg_idx_min], lam_arr[deg_idx_min]))\n",
        "    title = \"Ridge\"\n",
        "  else:\n",
        "    print('For Lasso the lowest MSE is obtained using a degree %d polynomial expansion and lambda = %.2f' % (deg_arr[deg_idx_min], lam_arr[deg_idx_min]))\n",
        "    title = \"Lasso\"\n",
        "  # Plot the degrees of basis expansion versus their mse\n",
        "  plt.figure()\n",
        "  plt.plot(deg_arr, mse_arr)\n",
        "  plt.title(title)\n",
        "  plt.xticks(range(2, maxdeg+1))\n",
        "  plt.xlabel(\"Degree of polynomial expansion\")\n",
        "  plt.ylabel(\"MSE\")\n",
        "  # Return the best degree of basis expansion and the associated lambda\n",
        "  return deg_arr[deg_idx_min], lam_arr[deg_idx_min]\n",
        "\n",
        "# Call the function to choose the degree of basis expansion and the associated\n",
        "# lambda for Ridge and Lasso\n",
        "deg_ridge, lam_ridge = Kfold_hyper_param_and_exp_deg(X, y, 7, 10, True)\n",
        "deg_lasso, lam_lasso = Kfold_hyper_param_and_exp_deg(X, y, 7, 10, False)"
      ],
      "execution_count": 21,
      "outputs": [
        {
          "output_type": "stream",
          "text": [
            "For Ridge Regression the lowest MSE is obtained using a degree 3 polynomial expansion and lambda = 10.00\n",
            "For Lasso the lowest MSE is obtained using a degree 7 polynomial expansion and lambda = 0.01\n"
          ],
          "name": "stdout"
        },
        {
          "output_type": "display_data",
          "data": {
            "image/png": "[encoded data removed]",
            "text/plain": [
              "<Figure size 432x288 with 1 Axes>"
            ]
          },
          "metadata": {
            "tags": [],
            "needs_background": "light"
          }
        },
        {
          "output_type": "display_data",
          "data": {
            "image/png": "[encoded data removed]",
            "text/plain": [
              "<Figure size 432x288 with 1 Axes>"
            ]
          },
          "metadata": {
            "tags": [],
            "needs_background": "light"
          }
        }
      ]
    },
    {
      "cell_type": "markdown",
      "metadata": {
        "id": "uQ82Slrsu9l5"
      },
      "source": [
        "Once we’ve obtained the optimal degree for the basis expansion and the associated lambda values for Ridge and Lasso, we train these models using these degrees of basis expansion and the associated hyperparameters on the full training data. Then we report the training and test errors."
      ]
    },
    {
      "cell_type": "code",
      "metadata": {
        "colab": {
          "base_uri": "https://localhost:8080/"
        },
        "id": "LaP88z0b4zQS",
        "outputId": "83ad6e27-1a52-4299-e31c-d176e686943d"
      },
      "source": [
        "## Ridge\n",
        "# Prepare the dataset using the best degree of basis expansion from above\n",
        "X_train, y_train, X_train_n, y_train_n, X_train_v, y_train_v, X_test, y_test = prepare_data(X, y, deg_ridge)\n",
        "# Train the Ridge model using the best lambda from above\n",
        "model = Ridge(lam_ridge).fit(X_train, y_train)\n",
        "# Get the predictions for the training set and test set\n",
        "y_train_pred_r = model.predict(X_train)\n",
        "y_test_pred_r  = model.predict(X_test)\n",
        "# Calculate the training mse and test mse\n",
        "mse_ridge_train = np.sum((y_train_pred_r - y_train) ** 2) / y_train.shape[0]\n",
        "mse_ridge_test  = np.sum((y_test_pred_r - y_test) ** 2) / y_test.shape[0]\n",
        "\n",
        "## Lasso\n",
        "# Prepare the dataset using the best degree of basis expansion from above\n",
        "X_train, y_train, X_train_n, y_train_n, X_train_v, y_train_v, X_test, y_test = prepare_data(X, y, deg_lasso)\n",
        "# Train the Lasso model using the best lambda from above\n",
        "model = Lasso(lam_lasso).fit(X_train, y_train)\n",
        "# Get the predictions for the training set and test set\n",
        "y_train_pred_l = model.predict(X_train)\n",
        "y_test_pred_l  = model.predict(X_test)\n",
        "# Calculate the training mse and test mse\n",
        "mse_lasso_train = np.sum((y_train_pred_l - y_train) ** 2) / y_train.shape[0]\n",
        "mse_lasso_test  = np.sum((y_test_pred_l - y_test) ** 2) / y_test.shape[0]\n",
        "\n",
        "\n",
        "## Report the result\n",
        "print('For Ridge Regression with using a degree %d polynomial expansion and lambda = %.2f we obtain the following training and test MSE' % (deg_ridge, lam_ridge))\n",
        "print('--------------------------------------------------------------------------------\\n')\n",
        "print('MSE (Training) = %.4f' % mse_ridge_train)\n",
        "print('MSE (Testing)  = %.4f' % mse_ridge_test)\n",
        "\n",
        "print('\\n\\nFor Lasso with using a degree %d polynomial expansion and lambda = %.2f we obtain the following training and test MSE' % (deg_lasso, lam_lasso))\n",
        "print('---------------------------------------------------------------------\\n')\n",
        "print('MSE (Training) = %.4f' % mse_lasso_train)\n",
        "print('MSE (Testing)  = %.4f' % mse_lasso_test)\n"
      ],
      "execution_count": 22,
      "outputs": [
        {
          "output_type": "stream",
          "text": [
            "For Ridge Regression with using a degree 3 polynomial expansion and lambda = 10.00 we obtain the following training and test MSE\n",
            "--------------------------------------------------------------------------------\n",
            "\n",
            "MSE (Training) = 0.4738\n",
            "MSE (Testing)  = 0.5199\n",
            "\n",
            "\n",
            "For Lasso with using a degree 7 polynomial expansion and lambda = 0.01 we obtain the following training and test MSE\n",
            "---------------------------------------------------------------------\n",
            "\n",
            "MSE (Training) = 0.5178\n",
            "MSE (Testing)  = 0.5232\n"
          ],
          "name": "stdout"
        }
      ]
    },
    {
      "cell_type": "markdown",
      "metadata": {
        "id": "jT4m3h82SZjh"
      },
      "source": [
        "## **Report**\n",
        "\n",
        "In this report, we will give the reader information about the way we approached the pracical, which steps were done throughout which period, how we organised feedback and progress determination and give our assessment on our style of cooperation. \n",
        "\n",
        "As this was our first practical in a subject with an informatics background, we deemed it necessary that each member first looked at the theoretical part on their own before diving into the actual problem solving exercise. Within this period, we simply gathered theoretical knowledge about the subject and assembled steps as to how the Problem Set might be solved in an efficient manner, both from a conceptual as well as programming-based background. If any questions arose, we then communicated them and solved them together on a day-to-day basis. We then started the practical on an individual basis, as we had both a different schedule (which is why the members had time in different weeks) and due to the fact that we both wanted to thoroughly understand the concepts and approaches of the first Problem Set. As such, we continued working on the Set on our own and had a couple of meetings to discuss the progress, compare preliminary results and define the further targets. Interestingly, we had a quite similar way of retrieving the solutions, implying that we did not encounter a great heterogeneity in both programming approach as well as the obtained solutions. The largest difficulty was based on the last exercise, which required us to write a longer code than previously expected. As it is the first time for us using Python (normally, we're R users), the initial handling of the code was messy and unclear. However, through individual approaches, the group was then able to solve the matter at hand to a degree which was satisfactory. We finished the Practical 1 around mid-October by having a last feedback round in which we went over the code together, assessed the efficiency of the commentaries made in the code (how understandable each step is described) and defined which style of code should be used. Regarding the cooperation, this is not the first project we worked on together. Both members share a similar mindset, both in work-ethic as well as in how we approach a problem. As such, cooperation was quite successful on a wide basis and did not encounter many frictions. Especially for this project, we were both able to grasp the effects and limitations the programs offer and get insights into how each step is computed. As a consequence, we both had a quite steep learning curve for the first project. The only thing that should be corrected for further projects is that we did not really use the \"commit\" method in github. This made it sometimes hard for the other members to pin down exactly where the progress of the project was. Also, we used sometimes different names of the directory for different files, which is why it was sometimes unclear which file of which member had the newest progress on. But apart from that, we understood that we can work together quite efficiently. \n"
      ]
    }
  ]
}