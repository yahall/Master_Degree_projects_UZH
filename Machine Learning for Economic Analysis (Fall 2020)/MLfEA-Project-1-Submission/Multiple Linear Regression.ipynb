{
 "cells": [
  {
   "cell_type": "markdown",
   "metadata": {},
   "source": [
    "# Multiple Linear Regression"
   ]
  },
  {
   "cell_type": "markdown",
   "metadata": {},
   "source": [
    "We begin by importing the necessary libraries."
   ]
  },
  {
   "cell_type": "code",
   "execution_count": 1,
   "metadata": {},
   "outputs": [
    {
     "name": "stderr",
     "output_type": "stream",
     "text": [
      "Using TensorFlow backend.\n"
     ]
    }
   ],
   "source": [
    "import pandas as pd\n",
    "import numpy as np\n",
    "import matplotlib.pyplot as plt\n",
    "import seaborn as sns\n",
    "import sklearn\n",
    "import matplotlib.lines as mlines\n",
    "import statsmodels.api as sm\n",
    "\n",
    "from sklearn.preprocessing import MinMaxScaler\n",
    "from sklearn.model_selection import train_test_split\n",
    "from sklearn.linear_model import LinearRegression\n",
    "from sklearn import datasets\n",
    "from stargazer.stargazer import Stargazer\n",
    "from keras.models import Sequential\n",
    "from keras.layers import Dense\n",
    "from sklearn.ensemble import RandomForestRegressor"
   ]
  },
  {
   "cell_type": "markdown",
   "metadata": {},
   "source": [
    "Next we read in the dataset and save it under data."
   ]
  },
  {
   "cell_type": "code",
   "execution_count": 2,
   "metadata": {},
   "outputs": [],
   "source": [
    "data = pd.read_csv('data_preprocessed.csv')"
   ]
  },
  {
   "cell_type": "markdown",
   "metadata": {},
   "source": [
    "## Replication MLR"
   ]
  },
  {
   "cell_type": "code",
   "execution_count": 3,
   "metadata": {},
   "outputs": [],
   "source": [
    "regressor = sm.OLS(endog=data['lnpercapitaconsumption'], exog=sm.add_constant(data[data.columns[1:65]])).fit()"
   ]
  },
  {
   "cell_type": "code",
   "execution_count": 4,
   "metadata": {},
   "outputs": [
    {
     "data": {
      "text/html": [
       "<table style=\"text-align:center\"><tr><td colspan=\"2\" style=\"border-bottom: 1px solid black\"></td></tr><tr><td style=\"text-align:left\"></td><td colspan=\"1\"><em>Dependent variable:lnpercapitaconsumption</em></td></tr><tr><td style=\"text-align:left\"></td><tr><td style=\"text-align:left\"></td><td>(1)</td></tr><tr><td colspan=\"2\" style=\"border-bottom: 1px solid black\"></td></tr><tr><td style=\"text-align:left\">const</td><td>5.362<sup>***</sup></td></tr><tr><td style=\"text-align:left\"></td><td>(0.061)</td></tr><tr><td style=\"text-align:left\">d_crowd_1to2</td><td>-0.242<sup>***</sup></td></tr><tr><td style=\"text-align:left\"></td><td>(0.007)</td></tr><tr><td style=\"text-align:left\">d_crowd_2to4</td><td>-0.350<sup>***</sup></td></tr><tr><td style=\"text-align:left\"></td><td>(0.010)</td></tr><tr><td style=\"text-align:left\">d_crowd_4to6</td><td>-0.429<sup>***</sup></td></tr><tr><td style=\"text-align:left\"></td><td>(0.016)</td></tr><tr><td style=\"text-align:left\">d_crowd_6plus</td><td>-0.505<sup>***</sup></td></tr><tr><td style=\"text-align:left\"></td><td>(0.023)</td></tr><tr><td style=\"text-align:left\">d_drain_cesspool</td><td>-0.108<sup>**</sup></td></tr><tr><td style=\"text-align:left\"></td><td>(0.042)</td></tr><tr><td style=\"text-align:left\">d_drain_inside</td><td>-0.068<sup></sup></td></tr><tr><td style=\"text-align:left\"></td><td>(0.042)</td></tr><tr><td style=\"text-align:left\">d_drain_none</td><td>-0.149<sup>***</sup></td></tr><tr><td style=\"text-align:left\"></td><td>(0.042)</td></tr><tr><td style=\"text-align:left\">d_drain_outside</td><td>-0.079<sup></sup></td></tr><tr><td style=\"text-align:left\"></td><td>(0.048)</td></tr><tr><td style=\"text-align:left\">d_drain_river</td><td>-0.111<sup>**</sup></td></tr><tr><td style=\"text-align:left\"></td><td>(0.046)</td></tr><tr><td style=\"text-align:left\">d_drain_septic</td><td>-0.128<sup>***</sup></td></tr><tr><td style=\"text-align:left\"></td><td>(0.042)</td></tr><tr><td style=\"text-align:left\">d_electricity</td><td>0.071<sup>***</sup></td></tr><tr><td style=\"text-align:left\"></td><td>(0.010)</td></tr><tr><td style=\"text-align:left\">d_floor_cement</td><td>0.061<sup>**</sup></td></tr><tr><td style=\"text-align:left\"></td><td>(0.029)</td></tr><tr><td style=\"text-align:left\">d_floor_earth</td><td>-0.073<sup>***</sup></td></tr><tr><td style=\"text-align:left\"></td><td>(0.028)</td></tr><tr><td style=\"text-align:left\">d_floor_parquet</td><td>0.334<sup>***</sup></td></tr><tr><td style=\"text-align:left\"></td><td>(0.036)</td></tr><tr><td style=\"text-align:left\">d_floor_sheets</td><td>0.222<sup>***</sup></td></tr><tr><td style=\"text-align:left\"></td><td>(0.034)</td></tr><tr><td style=\"text-align:left\">d_floor_tile</td><td>0.195<sup>***</sup></td></tr><tr><td style=\"text-align:left\"></td><td>(0.032)</td></tr><tr><td style=\"text-align:left\">d_floor_wood</td><td>0.047<sup></sup></td></tr><tr><td style=\"text-align:left\"></td><td>(0.030)</td></tr><tr><td style=\"text-align:left\">d_fuel_coal</td><td>0.252<sup>***</sup></td></tr><tr><td style=\"text-align:left\"></td><td>(0.021)</td></tr><tr><td style=\"text-align:left\">d_fuel_electric</td><td>0.648<sup>***</sup></td></tr><tr><td style=\"text-align:left\"></td><td>(0.037)</td></tr><tr><td style=\"text-align:left\">d_fuel_gas</td><td>0.312<sup>***</sup></td></tr><tr><td style=\"text-align:left\"></td><td>(0.013)</td></tr><tr><td style=\"text-align:left\">d_fuel_kerosene</td><td>0.259<sup>***</sup></td></tr><tr><td style=\"text-align:left\"></td><td>(0.046)</td></tr><tr><td style=\"text-align:left\">d_fuel_none</td><td>0.472<sup>***</sup></td></tr><tr><td style=\"text-align:left\"></td><td>(0.020)</td></tr><tr><td style=\"text-align:left\">d_fuel_wood</td><td>0.064<sup>***</sup></td></tr><tr><td style=\"text-align:left\"></td><td>(0.011)</td></tr><tr><td style=\"text-align:left\">d_h_educ_higher_nouni</td><td>0.834<sup>***</sup></td></tr><tr><td style=\"text-align:left\"></td><td>(0.026)</td></tr><tr><td style=\"text-align:left\">d_h_educ_higher_uni</td><td>0.916<sup>***</sup></td></tr><tr><td style=\"text-align:left\"></td><td>(0.026)</td></tr><tr><td style=\"text-align:left\">d_h_educ_none</td><td>0.595<sup>***</sup></td></tr><tr><td style=\"text-align:left\"></td><td>(0.027)</td></tr><tr><td style=\"text-align:left\">d_h_educ_post</td><td>0.979<sup>***</sup></td></tr><tr><td style=\"text-align:left\"></td><td>(0.038)</td></tr><tr><td style=\"text-align:left\">d_h_educ_pre</td><td>0.610<sup>***</sup></td></tr><tr><td style=\"text-align:left\"></td><td>(0.145)</td></tr><tr><td style=\"text-align:left\">d_h_educ_prim</td><td>0.674<sup>***</sup></td></tr><tr><td style=\"text-align:left\"></td><td>(0.025)</td></tr><tr><td style=\"text-align:left\">d_h_educ_sec</td><td>0.753<sup>***</sup></td></tr><tr><td style=\"text-align:left\"></td><td>(0.025)</td></tr><tr><td style=\"text-align:left\">d_insurance_1</td><td>0.052<sup>***</sup></td></tr><tr><td style=\"text-align:left\"></td><td>(0.010)</td></tr><tr><td style=\"text-align:left\">d_insurance_2</td><td>-0.061<sup>***</sup></td></tr><tr><td style=\"text-align:left\"></td><td>(0.010)</td></tr><tr><td style=\"text-align:left\">d_insurance_3</td><td>-0.115<sup>***</sup></td></tr><tr><td style=\"text-align:left\"></td><td>(0.011)</td></tr><tr><td style=\"text-align:left\">d_insurance_4plus</td><td>-0.234<sup>***</sup></td></tr><tr><td style=\"text-align:left\"></td><td>(0.009)</td></tr><tr><td style=\"text-align:left\">d_lux_1</td><td>0.160<sup>***</sup></td></tr><tr><td style=\"text-align:left\"></td><td>(0.009)</td></tr><tr><td style=\"text-align:left\">d_lux_2</td><td>0.245<sup>***</sup></td></tr><tr><td style=\"text-align:left\"></td><td>(0.011)</td></tr><tr><td style=\"text-align:left\">d_lux_3</td><td>0.330<sup>***</sup></td></tr><tr><td style=\"text-align:left\"></td><td>(0.014)</td></tr><tr><td style=\"text-align:left\">d_lux_4</td><td>0.418<sup>***</sup></td></tr><tr><td style=\"text-align:left\"></td><td>(0.017)</td></tr><tr><td style=\"text-align:left\">d_lux_5</td><td>0.562<sup>***</sup></td></tr><tr><td style=\"text-align:left\"></td><td>(0.019)</td></tr><tr><td style=\"text-align:left\">d_max_educ_higher_nouni</td><td>-0.105<sup>***</sup></td></tr><tr><td style=\"text-align:left\"></td><td>(0.030)</td></tr><tr><td style=\"text-align:left\">d_max_educ_higher_uni</td><td>-0.081<sup>***</sup></td></tr><tr><td style=\"text-align:left\"></td><td>(0.030)</td></tr><tr><td style=\"text-align:left\">d_max_educ_none</td><td>-0.399<sup>***</sup></td></tr><tr><td style=\"text-align:left\"></td><td>(0.037)</td></tr><tr><td style=\"text-align:left\">d_max_educ_prim</td><td>-0.240<sup>***</sup></td></tr><tr><td style=\"text-align:left\"></td><td>(0.031)</td></tr><tr><td style=\"text-align:left\">d_max_educ_sec</td><td>-0.153<sup>***</sup></td></tr><tr><td style=\"text-align:left\"></td><td>(0.030)</td></tr><tr><td style=\"text-align:left\">d_roof_concrete</td><td>-0.033<sup></sup></td></tr><tr><td style=\"text-align:left\"></td><td>(0.028)</td></tr><tr><td style=\"text-align:left\">d_roof_mat</td><td>0.023<sup></sup></td></tr><tr><td style=\"text-align:left\"></td><td>(0.038)</td></tr><tr><td style=\"text-align:left\">d_roof_platecane</td><td>-0.001<sup></sup></td></tr><tr><td style=\"text-align:left\"></td><td>(0.027)</td></tr><tr><td style=\"text-align:left\">d_roof_straw</td><td>-0.141<sup>***</sup></td></tr><tr><td style=\"text-align:left\"></td><td>(0.030)</td></tr><tr><td style=\"text-align:left\">d_roof_tile</td><td>-0.072<sup>**</sup></td></tr><tr><td style=\"text-align:left\"></td><td>(0.029)</td></tr><tr><td style=\"text-align:left\">d_roof_wood</td><td>0.003<sup></sup></td></tr><tr><td style=\"text-align:left\"></td><td>(0.037)</td></tr><tr><td style=\"text-align:left\">d_telephone</td><td>0.055<sup>***</sup></td></tr><tr><td style=\"text-align:left\"></td><td>(0.009)</td></tr><tr><td style=\"text-align:left\">d_wall_adobe</td><td>-0.123<sup>***</sup></td></tr><tr><td style=\"text-align:left\"></td><td>(0.015)</td></tr><tr><td style=\"text-align:left\">d_wall_brickcement</td><td>-0.030<sup>*</sup></td></tr><tr><td style=\"text-align:left\"></td><td>(0.017)</td></tr><tr><td style=\"text-align:left\">d_wall_quincha</td><td>0.020<sup></sup></td></tr><tr><td style=\"text-align:left\"></td><td>(0.024)</td></tr><tr><td style=\"text-align:left\">d_wall_stonecement</td><td>-0.053<sup></sup></td></tr><tr><td style=\"text-align:left\"></td><td>(0.040)</td></tr><tr><td style=\"text-align:left\">d_wall_stonemud</td><td>-0.136<sup>***</sup></td></tr><tr><td style=\"text-align:left\"></td><td>(0.029)</td></tr><tr><td style=\"text-align:left\">d_wall_tapia</td><td>-0.176<sup>***</sup></td></tr><tr><td style=\"text-align:left\"></td><td>(0.017)</td></tr><tr><td style=\"text-align:left\">d_wall_woodmat</td><td>0.075<sup>***</sup></td></tr><tr><td style=\"text-align:left\"></td><td>(0.017)</td></tr><tr><td style=\"text-align:left\">d_water_inside</td><td>-0.027<sup>*</sup></td></tr><tr><td style=\"text-align:left\"></td><td>(0.016)</td></tr><tr><td style=\"text-align:left\">d_water_outside</td><td>0.059<sup>**</sup></td></tr><tr><td style=\"text-align:left\"></td><td>(0.028)</td></tr><tr><td style=\"text-align:left\">d_water_pylon</td><td>-0.029<sup></sup></td></tr><tr><td style=\"text-align:left\"></td><td>(0.025)</td></tr><tr><td style=\"text-align:left\">d_water_river</td><td>-0.086<sup>***</sup></td></tr><tr><td style=\"text-align:left\"></td><td>(0.017)</td></tr><tr><td style=\"text-align:left\">d_water_truck</td><td>0.100<sup>***</sup></td></tr><tr><td style=\"text-align:left\"></td><td>(0.027)</td></tr><tr><td style=\"text-align:left\">d_water_well</td><td>-0.041<sup>**</sup></td></tr><tr><td style=\"text-align:left\"></td><td>(0.021)</td></tr><td colspan=\"2\" style=\"border-bottom: 1px solid black\"></td></tr><tr><td style=\"text-align: left\">Observations</td><td>22,674</td></tr><tr><td style=\"text-align: left\">R<sup>2</sup></td><td>0.656</td></tr><tr><td style=\"text-align: left\">Adjusted R<sup>2</sup></td><td>0.655</td></tr><tr><td style=\"text-align: left\">Residual Std. Error</td><td>0.438 (df=22610)</td></tr><tr><td style=\"text-align: left\">F Statistic</td><td>683.862<sup>***</sup> (df=63; 22610)</td></tr><tr><td colspan=\"2\" style=\"border-bottom: 1px solid black\"></td></tr><tr><td style=\"text-align: left\">Note:</td>\n",
       " <td colspan=\"1\" style=\"text-align: right\">\n",
       "  <sup>*</sup>p&lt;0.1;\n",
       "  <sup>**</sup>p&lt;0.05;\n",
       "  <sup>***</sup>p&lt;0.01\n",
       " </td></tr></table>"
      ],
      "text/plain": [
       "<stargazer.stargazer.Stargazer at 0x1a42cd9d90>"
      ]
     },
     "execution_count": 4,
     "metadata": {},
     "output_type": "execute_result"
    }
   ],
   "source": [
    "Stargazer([regressor])"
   ]
  },
  {
   "cell_type": "code",
   "execution_count": 5,
   "metadata": {},
   "outputs": [
    {
     "data": {
      "text/html": [
       "<table class=\"simpletable\">\n",
       "<caption>OLS Regression Results</caption>\n",
       "<tr>\n",
       "  <th>Dep. Variable:</th>    <td>lnpercapitaconsumption</td> <th>  R-squared:         </th> <td>   0.656</td> \n",
       "</tr>\n",
       "<tr>\n",
       "  <th>Model:</th>                      <td>OLS</td>          <th>  Adj. R-squared:    </th> <td>   0.655</td> \n",
       "</tr>\n",
       "<tr>\n",
       "  <th>Method:</th>                <td>Least Squares</td>     <th>  F-statistic:       </th> <td>   683.9</td> \n",
       "</tr>\n",
       "<tr>\n",
       "  <th>Date:</th>                <td>Tue, 17 Nov 2020</td>    <th>  Prob (F-statistic):</th>  <td>  0.00</td>  \n",
       "</tr>\n",
       "<tr>\n",
       "  <th>Time:</th>                    <td>16:10:13</td>        <th>  Log-Likelihood:    </th> <td> -13433.</td> \n",
       "</tr>\n",
       "<tr>\n",
       "  <th>No. Observations:</th>         <td> 22674</td>         <th>  AIC:               </th> <td>2.699e+04</td>\n",
       "</tr>\n",
       "<tr>\n",
       "  <th>Df Residuals:</th>             <td> 22610</td>         <th>  BIC:               </th> <td>2.751e+04</td>\n",
       "</tr>\n",
       "<tr>\n",
       "  <th>Df Model:</th>                 <td>    63</td>         <th>                     </th>     <td> </td>    \n",
       "</tr>\n",
       "<tr>\n",
       "  <th>Covariance Type:</th>         <td>nonrobust</td>       <th>                     </th>     <td> </td>    \n",
       "</tr>\n",
       "</table>"
      ],
      "text/plain": [
       "<class 'statsmodels.iolib.table.SimpleTable'>"
      ]
     },
     "execution_count": 5,
     "metadata": {},
     "output_type": "execute_result"
    }
   ],
   "source": [
    "regressor.summary().tables[0]"
   ]
  },
  {
   "cell_type": "code",
   "execution_count": 6,
   "metadata": {},
   "outputs": [
    {
     "data": {
      "text/html": [
       "<table class=\"simpletable\">\n",
       "<tr>\n",
       "             <td></td>                <th>coef</th>     <th>std err</th>      <th>t</th>      <th>P>|t|</th>  <th>[0.025</th>    <th>0.975]</th>  \n",
       "</tr>\n",
       "<tr>\n",
       "  <th>const</th>                   <td>    5.3617</td> <td>    0.061</td> <td>   88.165</td> <td> 0.000</td> <td>    5.243</td> <td>    5.481</td>\n",
       "</tr>\n",
       "<tr>\n",
       "  <th>d_fuel_wood</th>             <td>    0.0643</td> <td>    0.011</td> <td>    6.041</td> <td> 0.000</td> <td>    0.043</td> <td>    0.085</td>\n",
       "</tr>\n",
       "<tr>\n",
       "  <th>d_fuel_coal</th>             <td>    0.2524</td> <td>    0.021</td> <td>   11.852</td> <td> 0.000</td> <td>    0.211</td> <td>    0.294</td>\n",
       "</tr>\n",
       "<tr>\n",
       "  <th>d_fuel_kerosene</th>         <td>    0.2586</td> <td>    0.046</td> <td>    5.581</td> <td> 0.000</td> <td>    0.168</td> <td>    0.349</td>\n",
       "</tr>\n",
       "<tr>\n",
       "  <th>d_fuel_gas</th>              <td>    0.3121</td> <td>    0.013</td> <td>   24.213</td> <td> 0.000</td> <td>    0.287</td> <td>    0.337</td>\n",
       "</tr>\n",
       "<tr>\n",
       "  <th>d_fuel_electric</th>         <td>    0.6475</td> <td>    0.037</td> <td>   17.689</td> <td> 0.000</td> <td>    0.576</td> <td>    0.719</td>\n",
       "</tr>\n",
       "<tr>\n",
       "  <th>d_fuel_none</th>             <td>    0.4721</td> <td>    0.020</td> <td>   23.059</td> <td> 0.000</td> <td>    0.432</td> <td>    0.512</td>\n",
       "</tr>\n",
       "<tr>\n",
       "  <th>d_water_river</th>           <td>   -0.0862</td> <td>    0.017</td> <td>   -5.222</td> <td> 0.000</td> <td>   -0.119</td> <td>   -0.054</td>\n",
       "</tr>\n",
       "<tr>\n",
       "  <th>d_water_well</th>            <td>   -0.0413</td> <td>    0.021</td> <td>   -1.993</td> <td> 0.046</td> <td>   -0.082</td> <td>   -0.001</td>\n",
       "</tr>\n",
       "<tr>\n",
       "  <th>d_water_truck</th>           <td>    0.0996</td> <td>    0.027</td> <td>    3.691</td> <td> 0.000</td> <td>    0.047</td> <td>    0.152</td>\n",
       "</tr>\n",
       "<tr>\n",
       "  <th>d_water_pylon</th>           <td>   -0.0287</td> <td>    0.025</td> <td>   -1.126</td> <td> 0.260</td> <td>   -0.079</td> <td>    0.021</td>\n",
       "</tr>\n",
       "<tr>\n",
       "  <th>d_water_outside</th>         <td>    0.0591</td> <td>    0.028</td> <td>    2.145</td> <td> 0.032</td> <td>    0.005</td> <td>    0.113</td>\n",
       "</tr>\n",
       "<tr>\n",
       "  <th>d_water_inside</th>          <td>   -0.0267</td> <td>    0.016</td> <td>   -1.689</td> <td> 0.091</td> <td>   -0.058</td> <td>    0.004</td>\n",
       "</tr>\n",
       "<tr>\n",
       "  <th>d_drain_none</th>            <td>   -0.1486</td> <td>    0.042</td> <td>   -3.518</td> <td> 0.000</td> <td>   -0.231</td> <td>   -0.066</td>\n",
       "</tr>\n",
       "<tr>\n",
       "  <th>d_drain_river</th>           <td>   -0.1111</td> <td>    0.046</td> <td>   -2.422</td> <td> 0.015</td> <td>   -0.201</td> <td>   -0.021</td>\n",
       "</tr>\n",
       "<tr>\n",
       "  <th>d_drain_cesspool</th>        <td>   -0.1083</td> <td>    0.042</td> <td>   -2.575</td> <td> 0.010</td> <td>   -0.191</td> <td>   -0.026</td>\n",
       "</tr>\n",
       "<tr>\n",
       "  <th>d_drain_septic</th>          <td>   -0.1279</td> <td>    0.042</td> <td>   -3.033</td> <td> 0.002</td> <td>   -0.211</td> <td>   -0.045</td>\n",
       "</tr>\n",
       "<tr>\n",
       "  <th>d_drain_outside</th>         <td>   -0.0787</td> <td>    0.048</td> <td>   -1.631</td> <td> 0.103</td> <td>   -0.173</td> <td>    0.016</td>\n",
       "</tr>\n",
       "<tr>\n",
       "  <th>d_drain_inside</th>          <td>   -0.0677</td> <td>    0.042</td> <td>   -1.612</td> <td> 0.107</td> <td>   -0.150</td> <td>    0.015</td>\n",
       "</tr>\n",
       "<tr>\n",
       "  <th>d_wall_woodmat</th>          <td>    0.0753</td> <td>    0.017</td> <td>    4.530</td> <td> 0.000</td> <td>    0.043</td> <td>    0.108</td>\n",
       "</tr>\n",
       "<tr>\n",
       "  <th>d_wall_stonemud</th>         <td>   -0.1357</td> <td>    0.029</td> <td>   -4.748</td> <td> 0.000</td> <td>   -0.192</td> <td>   -0.080</td>\n",
       "</tr>\n",
       "<tr>\n",
       "  <th>d_wall_quincha</th>          <td>    0.0201</td> <td>    0.024</td> <td>    0.848</td> <td> 0.396</td> <td>   -0.026</td> <td>    0.067</td>\n",
       "</tr>\n",
       "<tr>\n",
       "  <th>d_wall_tapia</th>            <td>   -0.1764</td> <td>    0.017</td> <td>  -10.142</td> <td> 0.000</td> <td>   -0.210</td> <td>   -0.142</td>\n",
       "</tr>\n",
       "<tr>\n",
       "  <th>d_wall_adobe</th>            <td>   -0.1233</td> <td>    0.015</td> <td>   -7.985</td> <td> 0.000</td> <td>   -0.154</td> <td>   -0.093</td>\n",
       "</tr>\n",
       "<tr>\n",
       "  <th>d_wall_stonecement</th>      <td>   -0.0533</td> <td>    0.040</td> <td>   -1.338</td> <td> 0.181</td> <td>   -0.131</td> <td>    0.025</td>\n",
       "</tr>\n",
       "<tr>\n",
       "  <th>d_wall_brickcement</th>      <td>   -0.0303</td> <td>    0.017</td> <td>   -1.805</td> <td> 0.071</td> <td>   -0.063</td> <td>    0.003</td>\n",
       "</tr>\n",
       "<tr>\n",
       "  <th>d_roof_straw</th>            <td>   -0.1411</td> <td>    0.030</td> <td>   -4.728</td> <td> 0.000</td> <td>   -0.200</td> <td>   -0.083</td>\n",
       "</tr>\n",
       "<tr>\n",
       "  <th>d_roof_mat</th>              <td>    0.0233</td> <td>    0.038</td> <td>    0.621</td> <td> 0.535</td> <td>   -0.050</td> <td>    0.097</td>\n",
       "</tr>\n",
       "<tr>\n",
       "  <th>d_roof_platecane</th>        <td>   -0.0013</td> <td>    0.027</td> <td>   -0.047</td> <td> 0.963</td> <td>   -0.055</td> <td>    0.052</td>\n",
       "</tr>\n",
       "<tr>\n",
       "  <th>d_roof_tile</th>             <td>   -0.0721</td> <td>    0.029</td> <td>   -2.503</td> <td> 0.012</td> <td>   -0.129</td> <td>   -0.016</td>\n",
       "</tr>\n",
       "<tr>\n",
       "  <th>d_roof_wood</th>             <td>    0.0035</td> <td>    0.037</td> <td>    0.094</td> <td> 0.925</td> <td>   -0.069</td> <td>    0.076</td>\n",
       "</tr>\n",
       "<tr>\n",
       "  <th>d_roof_concrete</th>         <td>   -0.0333</td> <td>    0.028</td> <td>   -1.171</td> <td> 0.242</td> <td>   -0.089</td> <td>    0.022</td>\n",
       "</tr>\n",
       "<tr>\n",
       "  <th>d_floor_earth</th>           <td>   -0.0730</td> <td>    0.028</td> <td>   -2.601</td> <td> 0.009</td> <td>   -0.128</td> <td>   -0.018</td>\n",
       "</tr>\n",
       "<tr>\n",
       "  <th>d_floor_cement</th>          <td>    0.0609</td> <td>    0.029</td> <td>    2.107</td> <td> 0.035</td> <td>    0.004</td> <td>    0.118</td>\n",
       "</tr>\n",
       "<tr>\n",
       "  <th>d_floor_wood</th>            <td>    0.0469</td> <td>    0.030</td> <td>    1.584</td> <td> 0.113</td> <td>   -0.011</td> <td>    0.105</td>\n",
       "</tr>\n",
       "<tr>\n",
       "  <th>d_floor_tile</th>            <td>    0.1953</td> <td>    0.032</td> <td>    6.091</td> <td> 0.000</td> <td>    0.132</td> <td>    0.258</td>\n",
       "</tr>\n",
       "<tr>\n",
       "  <th>d_floor_sheets</th>          <td>    0.2217</td> <td>    0.034</td> <td>    6.452</td> <td> 0.000</td> <td>    0.154</td> <td>    0.289</td>\n",
       "</tr>\n",
       "<tr>\n",
       "  <th>d_floor_parquet</th>         <td>    0.3341</td> <td>    0.036</td> <td>    9.318</td> <td> 0.000</td> <td>    0.264</td> <td>    0.404</td>\n",
       "</tr>\n",
       "<tr>\n",
       "  <th>d_electricity</th>           <td>    0.0711</td> <td>    0.010</td> <td>    7.070</td> <td> 0.000</td> <td>    0.051</td> <td>    0.091</td>\n",
       "</tr>\n",
       "<tr>\n",
       "  <th>d_telephone</th>             <td>    0.0554</td> <td>    0.009</td> <td>    6.117</td> <td> 0.000</td> <td>    0.038</td> <td>    0.073</td>\n",
       "</tr>\n",
       "<tr>\n",
       "  <th>d_h_educ_none</th>           <td>    0.5950</td> <td>    0.027</td> <td>   22.087</td> <td> 0.000</td> <td>    0.542</td> <td>    0.648</td>\n",
       "</tr>\n",
       "<tr>\n",
       "  <th>d_h_educ_pre</th>            <td>    0.6101</td> <td>    0.145</td> <td>    4.198</td> <td> 0.000</td> <td>    0.325</td> <td>    0.895</td>\n",
       "</tr>\n",
       "<tr>\n",
       "  <th>d_h_educ_prim</th>           <td>    0.6737</td> <td>    0.025</td> <td>   27.379</td> <td> 0.000</td> <td>    0.625</td> <td>    0.722</td>\n",
       "</tr>\n",
       "<tr>\n",
       "  <th>d_h_educ_sec</th>            <td>    0.7534</td> <td>    0.025</td> <td>   30.700</td> <td> 0.000</td> <td>    0.705</td> <td>    0.801</td>\n",
       "</tr>\n",
       "<tr>\n",
       "  <th>d_h_educ_higher_nouni</th>   <td>    0.8344</td> <td>    0.026</td> <td>   32.485</td> <td> 0.000</td> <td>    0.784</td> <td>    0.885</td>\n",
       "</tr>\n",
       "<tr>\n",
       "  <th>d_h_educ_higher_uni</th>     <td>    0.9160</td> <td>    0.026</td> <td>   35.214</td> <td> 0.000</td> <td>    0.865</td> <td>    0.967</td>\n",
       "</tr>\n",
       "<tr>\n",
       "  <th>d_h_educ_post</th>           <td>    0.9792</td> <td>    0.038</td> <td>   26.036</td> <td> 0.000</td> <td>    0.905</td> <td>    1.053</td>\n",
       "</tr>\n",
       "<tr>\n",
       "  <th>d_max_educ_none</th>         <td>   -0.3987</td> <td>    0.037</td> <td>  -10.806</td> <td> 0.000</td> <td>   -0.471</td> <td>   -0.326</td>\n",
       "</tr>\n",
       "<tr>\n",
       "  <th>d_max_educ_prim</th>         <td>   -0.2402</td> <td>    0.031</td> <td>   -7.706</td> <td> 0.000</td> <td>   -0.301</td> <td>   -0.179</td>\n",
       "</tr>\n",
       "<tr>\n",
       "  <th>d_max_educ_sec</th>          <td>   -0.1530</td> <td>    0.030</td> <td>   -5.068</td> <td> 0.000</td> <td>   -0.212</td> <td>   -0.094</td>\n",
       "</tr>\n",
       "<tr>\n",
       "  <th>d_max_educ_higher_nouni</th> <td>   -0.1047</td> <td>    0.030</td> <td>   -3.454</td> <td> 0.001</td> <td>   -0.164</td> <td>   -0.045</td>\n",
       "</tr>\n",
       "<tr>\n",
       "  <th>d_max_educ_higher_uni</th>   <td>   -0.0813</td> <td>    0.030</td> <td>   -2.745</td> <td> 0.006</td> <td>   -0.139</td> <td>   -0.023</td>\n",
       "</tr>\n",
       "<tr>\n",
       "  <th>d_insurance_1</th>           <td>    0.0521</td> <td>    0.010</td> <td>    5.145</td> <td> 0.000</td> <td>    0.032</td> <td>    0.072</td>\n",
       "</tr>\n",
       "<tr>\n",
       "  <th>d_insurance_2</th>           <td>   -0.0606</td> <td>    0.010</td> <td>   -5.969</td> <td> 0.000</td> <td>   -0.081</td> <td>   -0.041</td>\n",
       "</tr>\n",
       "<tr>\n",
       "  <th>d_insurance_3</th>           <td>   -0.1147</td> <td>    0.011</td> <td>  -10.916</td> <td> 0.000</td> <td>   -0.135</td> <td>   -0.094</td>\n",
       "</tr>\n",
       "<tr>\n",
       "  <th>d_insurance_4plus</th>       <td>   -0.2340</td> <td>    0.009</td> <td>  -24.911</td> <td> 0.000</td> <td>   -0.252</td> <td>   -0.216</td>\n",
       "</tr>\n",
       "<tr>\n",
       "  <th>d_crowd_1to2</th>            <td>   -0.2416</td> <td>    0.007</td> <td>  -32.525</td> <td> 0.000</td> <td>   -0.256</td> <td>   -0.227</td>\n",
       "</tr>\n",
       "<tr>\n",
       "  <th>d_crowd_2to4</th>            <td>   -0.3499</td> <td>    0.010</td> <td>  -36.681</td> <td> 0.000</td> <td>   -0.369</td> <td>   -0.331</td>\n",
       "</tr>\n",
       "<tr>\n",
       "  <th>d_crowd_4to6</th>            <td>   -0.4295</td> <td>    0.016</td> <td>  -27.464</td> <td> 0.000</td> <td>   -0.460</td> <td>   -0.399</td>\n",
       "</tr>\n",
       "<tr>\n",
       "  <th>d_crowd_6plus</th>           <td>   -0.5050</td> <td>    0.023</td> <td>  -21.980</td> <td> 0.000</td> <td>   -0.550</td> <td>   -0.460</td>\n",
       "</tr>\n",
       "<tr>\n",
       "  <th>d_lux_1</th>                 <td>    0.1604</td> <td>    0.009</td> <td>   17.781</td> <td> 0.000</td> <td>    0.143</td> <td>    0.178</td>\n",
       "</tr>\n",
       "<tr>\n",
       "  <th>d_lux_2</th>                 <td>    0.2451</td> <td>    0.011</td> <td>   21.369</td> <td> 0.000</td> <td>    0.223</td> <td>    0.268</td>\n",
       "</tr>\n",
       "<tr>\n",
       "  <th>d_lux_3</th>                 <td>    0.3296</td> <td>    0.014</td> <td>   23.112</td> <td> 0.000</td> <td>    0.302</td> <td>    0.358</td>\n",
       "</tr>\n",
       "<tr>\n",
       "  <th>d_lux_4</th>                 <td>    0.4184</td> <td>    0.017</td> <td>   24.099</td> <td> 0.000</td> <td>    0.384</td> <td>    0.452</td>\n",
       "</tr>\n",
       "<tr>\n",
       "  <th>d_lux_5</th>                 <td>    0.5617</td> <td>    0.019</td> <td>   28.839</td> <td> 0.000</td> <td>    0.524</td> <td>    0.600</td>\n",
       "</tr>\n",
       "</table>"
      ],
      "text/plain": [
       "<class 'statsmodels.iolib.table.SimpleTable'>"
      ]
     },
     "execution_count": 6,
     "metadata": {},
     "output_type": "execute_result"
    }
   ],
   "source": [
    "regressor.summary().tables[1]"
   ]
  },
  {
   "cell_type": "code",
   "execution_count": 7,
   "metadata": {},
   "outputs": [
    {
     "data": {
      "text/plain": [
       "0.19201190211538935"
      ]
     },
     "execution_count": 7,
     "metadata": {},
     "output_type": "execute_result"
    }
   ],
   "source": [
    "regressor.mse_resid"
   ]
  },
  {
   "cell_type": "markdown",
   "metadata": {},
   "source": [
    "## A Second Option"
   ]
  },
  {
   "cell_type": "markdown",
   "metadata": {},
   "source": [
    "We set per capita consumption as the dependent variable and the rest of the columns as the explanatory variables."
   ]
  },
  {
   "cell_type": "code",
   "execution_count": 8,
   "metadata": {},
   "outputs": [],
   "source": [
    "X = data.drop(['lnpercapitaconsumption'],axis=1)\n",
    "y = data['lnpercapitaconsumption']"
   ]
  },
  {
   "cell_type": "markdown",
   "metadata": {},
   "source": [
    "We split the dataset into training and test sets."
   ]
  },
  {
   "cell_type": "code",
   "execution_count": 9,
   "metadata": {},
   "outputs": [],
   "source": [
    "X_train, X_test, y_train, y_test = train_test_split(X, y, test_size = 0.5, random_state = 0)"
   ]
  },
  {
   "cell_type": "markdown",
   "metadata": {},
   "source": [
    "We create our regression model and run it."
   ]
  },
  {
   "cell_type": "code",
   "execution_count": 10,
   "metadata": {},
   "outputs": [
    {
     "data": {
      "text/plain": [
       "LinearRegression(copy_X=True, fit_intercept=True, n_jobs=None, normalize=False)"
      ]
     },
     "execution_count": 10,
     "metadata": {},
     "output_type": "execute_result"
    }
   ],
   "source": [
    "regressor = LinearRegression()\n",
    "regressor.fit(X_train, y_train)"
   ]
  },
  {
   "cell_type": "markdown",
   "metadata": {},
   "source": [
    "We get the coefficients"
   ]
  },
  {
   "cell_type": "code",
   "execution_count": 11,
   "metadata": {},
   "outputs": [
    {
     "data": {
      "text/plain": [
       "array([ 6.17761720e-02,  2.45726753e-01,  2.79754939e-01,  3.07637042e-01,\n",
       "        7.16502666e-01,  4.57695221e-01, -9.10591442e-02, -3.82867551e-02,\n",
       "        8.75334343e-02, -2.56511672e-02,  5.99556930e-02, -1.76350498e-02,\n",
       "       -1.27918070e-01, -9.09211314e-02, -1.05434734e-01, -1.13933258e-01,\n",
       "       -7.02563182e-02, -5.39871876e-02,  5.14058675e-02, -1.58856459e-01,\n",
       "        2.23059366e-02, -1.71698420e-01, -1.19260235e-01, -2.34023460e-02,\n",
       "       -3.27651472e-02, -1.19861943e-01,  6.81726740e-02,  1.31128842e-02,\n",
       "       -6.95185408e-02,  3.12035912e-02, -2.34265705e-02, -6.01190409e-02,\n",
       "        7.27834981e-02,  5.66745188e-02,  2.30929403e-01,  2.23840741e-01,\n",
       "        3.46484591e-01,  7.02793499e-02,  4.92204165e-02, -2.01016882e+10,\n",
       "       -2.01016882e+10, -2.01016882e+10, -2.01016882e+10, -2.01016882e+10,\n",
       "       -2.01016882e+10, -2.01016882e+10, -3.96213846e-01, -2.38901271e-01,\n",
       "       -1.61044413e-01, -1.10339569e-01, -7.01608376e-02,  2.66618730e-02,\n",
       "       -6.55634941e-02, -1.24723954e-01, -2.43888566e-01, -2.35004501e-01,\n",
       "       -3.42333140e-01, -4.08787825e-01, -4.94610890e-01,  1.50946271e-01,\n",
       "        2.46861123e-01,  3.48577488e-01,  4.16961624e-01,  5.66672050e-01])"
      ]
     },
     "execution_count": 11,
     "metadata": {},
     "output_type": "execute_result"
    }
   ],
   "source": [
    "regressor.coef_"
   ]
  },
  {
   "cell_type": "markdown",
   "metadata": {},
   "source": [
    "We get our predictions."
   ]
  },
  {
   "cell_type": "code",
   "execution_count": 12,
   "metadata": {},
   "outputs": [],
   "source": [
    "y_pred = regressor.predict(X_test)"
   ]
  },
  {
   "cell_type": "markdown",
   "metadata": {},
   "source": [
    "We plot our predictions against actual values."
   ]
  },
  {
   "cell_type": "code",
   "execution_count": 13,
   "metadata": {},
   "outputs": [
    {
     "data": {
      "image/png": "[encoded data removed]",
      "text/plain": [
       "<Figure size 432x288 with 1 Axes>"
      ]
     },
     "metadata": {
      "needs_background": "light"
     },
     "output_type": "display_data"
    }
   ],
   "source": [
    "x, y = y_test,y_pred\n",
    "fig, ax = plt.subplots()\n",
    "ax.scatter(x, y, c='black')\n",
    "line = mlines.Line2D([0, 1], [0, 1], color='black')\n",
    "transform = ax.transAxes\n",
    "line.set_transform(transform)\n",
    "ax.add_line(line)\n",
    "plt.show()"
   ]
  },
  {
   "cell_type": "markdown",
   "metadata": {},
   "source": [
    "We calculate the mean squared error."
   ]
  },
  {
   "cell_type": "code",
   "execution_count": 14,
   "metadata": {},
   "outputs": [
    {
     "data": {
      "text/plain": [
       "0.1909971055243584"
      ]
     },
     "execution_count": 14,
     "metadata": {},
     "output_type": "execute_result"
    }
   ],
   "source": [
    "sklearn.metrics.mean_squared_error(y_test, y_pred)"
   ]
  }
 ],
 "metadata": {
  "kernelspec": {
   "display_name": "Python 3",
   "language": "python",
   "name": "python3"
  },
  "language_info": {
   "codemirror_mode": {
    "name": "ipython",
    "version": 3
   },
   "file_extension": ".py",
   "mimetype": "text/x-python",
   "name": "python",
   "nbconvert_exporter": "python",
   "pygments_lexer": "ipython3",
   "version": "3.7.6"
  }
 },
 "nbformat": 4,
 "nbformat_minor": 4
}
