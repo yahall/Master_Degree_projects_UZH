{
 "cells": [
  {
   "cell_type": "markdown",
   "metadata": {},
   "source": [
    "This is the code that resulted in the final results in the first assignment of the masters class Machine Learning for economic analysis. The procedure is as follows:<br>\n",
    "    1) First the data is loaded and prepared such that it is cleaned and ready for further analysis (for the precise data preparation I refer to the data preprocessing file)<br>\n",
    "    2) Some first data exploration and a decision tree is calculated to get an idea of the random forest approach<br>\n",
    "    3) The heart of this file. The development of the optimal random forest model. The procedure is as follows: Starting at deciding which subset of predictors to take (p, p/2, sqrt(p)). Having derived the subset of predictors, the next parameter under analysis is k, the number of trees in the forest. We then take the optimal parameters on the basis of the MSE and the OOB score. We then estimate the MSE of the entire training set (22'674 observations) and check for overfitting. <br>\n",
    "    4) Having decided on the optimal random forest model, the next step is to estimate the model and see how it works on the full sample that is provided. The final MSE is calculated."
   ]
  },
  {
   "cell_type": "markdown",
   "metadata": {},
   "source": [
    "__1)__"
   ]
  },
  {
   "cell_type": "code",
   "execution_count": 1,
   "metadata": {},
   "outputs": [],
   "source": [
    "#Loading packages\n",
    "import pandas as pd\n",
    "import numpy as np\n",
    "import matplotlib.pyplot as plt\n",
    "import seaborn as sns\n",
    "import sklearn\n",
    "import matplotlib.lines as mlines\n",
    "import statsmodels.api as sm\n",
    "\n",
    "# Load packages\n",
    "from sklearn.preprocessing import MinMaxScaler\n",
    "from sklearn.linear_model import LinearRegression, Ridge, Lasso\n",
    "from sklearn import datasets\n",
    "from stargazer.stargazer import Stargazer\n",
    "from sklearn.model_selection import train_test_split, cross_val_score, KFold\n",
    "from six import StringIO  \n",
    "from sklearn.tree import DecisionTreeRegressor, DecisionTreeClassifier, plot_tree\n",
    "from sklearn.ensemble import BaggingClassifier, RandomForestClassifier, BaggingRegressor, RandomForestRegressor, GradientBoostingRegressor, GradientBoostingClassifier\n",
    "from sklearn.metrics import mean_squared_error,confusion_matrix, classification_report\n",
    "from sklearn.model_selection import train_test_split\n",
    "from sklearn.metrics import confusion_matrix, mean_squared_error"
   ]
  },
  {
   "cell_type": "code",
   "execution_count": 2,
   "metadata": {},
   "outputs": [],
   "source": [
    "# Set global parameters for figures\n",
    "%matplotlib inline\n",
    "plt.style.use('seaborn-white')\n",
    "plt.rcParams['lines.linewidth'] = 3\n",
    "plt.rcParams['figure.figsize'] = (10,6)\n",
    "plt.rcParams['figure.titlesize'] = 20\n",
    "plt.rcParams['axes.titlesize'] = 18\n",
    "plt.rcParams['axes.labelsize'] = 14\n",
    "plt.rcParams['legend.fontsize'] = 14"
   ]
  },
  {
   "cell_type": "code",
   "execution_count": 4,
   "metadata": {},
   "outputs": [
    {
     "data": {
      "text/plain": [
       "(22674, 65)"
      ]
     },
     "execution_count": 4,
     "metadata": {},
     "output_type": "execute_result"
    }
   ],
   "source": [
    "# Read in the data\n",
    "data = pd.read_csv('https://raw.githubusercontent.com/SophiaBieri/MLfEA-Project-1/main/data_preprocessed.csv?token=AR22ANL3SNGHEA3ZNQVIVKK72SNF6')\n",
    "# Get the shape of the data\n",
    "data.shape"
   ]
  },
  {
   "cell_type": "code",
   "execution_count": 5,
   "metadata": {},
   "outputs": [
    {
     "data": {
      "text/html": [
       "<div>\n",
       "<style scoped>\n",
       "    .dataframe tbody tr th:only-of-type {\n",
       "        vertical-align: middle;\n",
       "    }\n",
       "\n",
       "    .dataframe tbody tr th {\n",
       "        vertical-align: top;\n",
       "    }\n",
       "\n",
       "    .dataframe thead th {\n",
       "        text-align: right;\n",
       "    }\n",
       "</style>\n",
       "<table border=\"1\" class=\"dataframe\">\n",
       "  <thead>\n",
       "    <tr style=\"text-align: right;\">\n",
       "      <th></th>\n",
       "      <th>lnpercapitaconsumption</th>\n",
       "      <th>d_fuel_wood</th>\n",
       "      <th>d_fuel_coal</th>\n",
       "      <th>d_fuel_kerosene</th>\n",
       "      <th>d_fuel_gas</th>\n",
       "      <th>d_fuel_electric</th>\n",
       "      <th>d_fuel_none</th>\n",
       "      <th>d_water_river</th>\n",
       "      <th>d_water_well</th>\n",
       "      <th>d_water_truck</th>\n",
       "      <th>d_water_pylon</th>\n",
       "      <th>d_water_outside</th>\n",
       "      <th>d_water_inside</th>\n",
       "      <th>d_drain_none</th>\n",
       "      <th>d_drain_river</th>\n",
       "      <th>d_drain_cesspool</th>\n",
       "      <th>d_drain_septic</th>\n",
       "      <th>d_drain_outside</th>\n",
       "      <th>d_drain_inside</th>\n",
       "      <th>d_wall_woodmat</th>\n",
       "      <th>d_wall_stonemud</th>\n",
       "      <th>d_wall_quincha</th>\n",
       "      <th>d_wall_tapia</th>\n",
       "      <th>d_wall_adobe</th>\n",
       "      <th>d_wall_stonecement</th>\n",
       "      <th>d_wall_brickcement</th>\n",
       "      <th>d_roof_straw</th>\n",
       "      <th>d_roof_mat</th>\n",
       "      <th>d_roof_platecane</th>\n",
       "      <th>d_roof_tile</th>\n",
       "      <th>d_roof_wood</th>\n",
       "      <th>d_roof_concrete</th>\n",
       "      <th>d_floor_earth</th>\n",
       "      <th>d_floor_cement</th>\n",
       "      <th>d_floor_wood</th>\n",
       "      <th>d_floor_tile</th>\n",
       "      <th>d_floor_sheets</th>\n",
       "      <th>d_floor_parquet</th>\n",
       "      <th>d_electricity</th>\n",
       "      <th>d_telephone</th>\n",
       "      <th>d_h_educ_none</th>\n",
       "      <th>d_h_educ_pre</th>\n",
       "      <th>d_h_educ_prim</th>\n",
       "      <th>d_h_educ_sec</th>\n",
       "      <th>d_h_educ_higher_nouni</th>\n",
       "      <th>d_h_educ_higher_uni</th>\n",
       "      <th>d_h_educ_post</th>\n",
       "      <th>d_max_educ_none</th>\n",
       "      <th>d_max_educ_prim</th>\n",
       "      <th>d_max_educ_sec</th>\n",
       "      <th>d_max_educ_higher_nouni</th>\n",
       "      <th>d_max_educ_higher_uni</th>\n",
       "      <th>d_insurance_1</th>\n",
       "      <th>d_insurance_2</th>\n",
       "      <th>d_insurance_3</th>\n",
       "      <th>d_insurance_4plus</th>\n",
       "      <th>d_crowd_1to2</th>\n",
       "      <th>d_crowd_2to4</th>\n",
       "      <th>d_crowd_4to6</th>\n",
       "      <th>d_crowd_6plus</th>\n",
       "      <th>d_lux_1</th>\n",
       "      <th>d_lux_2</th>\n",
       "      <th>d_lux_3</th>\n",
       "      <th>d_lux_4</th>\n",
       "      <th>d_lux_5</th>\n",
       "    </tr>\n",
       "  </thead>\n",
       "  <tbody>\n",
       "    <tr>\n",
       "      <th>0</th>\n",
       "      <td>5.304770</td>\n",
       "      <td>1</td>\n",
       "      <td>0</td>\n",
       "      <td>0</td>\n",
       "      <td>0</td>\n",
       "      <td>0</td>\n",
       "      <td>0</td>\n",
       "      <td>0</td>\n",
       "      <td>0</td>\n",
       "      <td>1</td>\n",
       "      <td>0</td>\n",
       "      <td>0</td>\n",
       "      <td>0</td>\n",
       "      <td>1</td>\n",
       "      <td>0</td>\n",
       "      <td>0</td>\n",
       "      <td>0</td>\n",
       "      <td>0</td>\n",
       "      <td>0</td>\n",
       "      <td>0.0</td>\n",
       "      <td>0.0</td>\n",
       "      <td>1.0</td>\n",
       "      <td>0.0</td>\n",
       "      <td>0.0</td>\n",
       "      <td>0.0</td>\n",
       "      <td>0.0</td>\n",
       "      <td>0.0</td>\n",
       "      <td>0.0</td>\n",
       "      <td>1.0</td>\n",
       "      <td>0.0</td>\n",
       "      <td>0.0</td>\n",
       "      <td>0.0</td>\n",
       "      <td>1.0</td>\n",
       "      <td>0.0</td>\n",
       "      <td>0.0</td>\n",
       "      <td>0.0</td>\n",
       "      <td>0.0</td>\n",
       "      <td>0.0</td>\n",
       "      <td>0</td>\n",
       "      <td>0</td>\n",
       "      <td>0.0</td>\n",
       "      <td>0.0</td>\n",
       "      <td>1.0</td>\n",
       "      <td>0.0</td>\n",
       "      <td>0.0</td>\n",
       "      <td>0.0</td>\n",
       "      <td>0.0</td>\n",
       "      <td>0</td>\n",
       "      <td>1</td>\n",
       "      <td>0</td>\n",
       "      <td>0</td>\n",
       "      <td>0</td>\n",
       "      <td>0</td>\n",
       "      <td>0</td>\n",
       "      <td>0</td>\n",
       "      <td>0</td>\n",
       "      <td>0.0</td>\n",
       "      <td>0.0</td>\n",
       "      <td>0.0</td>\n",
       "      <td>0.0</td>\n",
       "      <td>0</td>\n",
       "      <td>0</td>\n",
       "      <td>0</td>\n",
       "      <td>0</td>\n",
       "      <td>0</td>\n",
       "    </tr>\n",
       "    <tr>\n",
       "      <th>1</th>\n",
       "      <td>7.179197</td>\n",
       "      <td>0</td>\n",
       "      <td>0</td>\n",
       "      <td>0</td>\n",
       "      <td>1</td>\n",
       "      <td>0</td>\n",
       "      <td>0</td>\n",
       "      <td>0</td>\n",
       "      <td>0</td>\n",
       "      <td>0</td>\n",
       "      <td>0</td>\n",
       "      <td>0</td>\n",
       "      <td>1</td>\n",
       "      <td>0</td>\n",
       "      <td>0</td>\n",
       "      <td>0</td>\n",
       "      <td>0</td>\n",
       "      <td>0</td>\n",
       "      <td>1</td>\n",
       "      <td>0.0</td>\n",
       "      <td>0.0</td>\n",
       "      <td>0.0</td>\n",
       "      <td>0.0</td>\n",
       "      <td>0.0</td>\n",
       "      <td>0.0</td>\n",
       "      <td>1.0</td>\n",
       "      <td>0.0</td>\n",
       "      <td>0.0</td>\n",
       "      <td>0.0</td>\n",
       "      <td>0.0</td>\n",
       "      <td>0.0</td>\n",
       "      <td>1.0</td>\n",
       "      <td>0.0</td>\n",
       "      <td>1.0</td>\n",
       "      <td>0.0</td>\n",
       "      <td>0.0</td>\n",
       "      <td>0.0</td>\n",
       "      <td>0.0</td>\n",
       "      <td>1</td>\n",
       "      <td>1</td>\n",
       "      <td>0.0</td>\n",
       "      <td>0.0</td>\n",
       "      <td>0.0</td>\n",
       "      <td>0.0</td>\n",
       "      <td>0.0</td>\n",
       "      <td>1.0</td>\n",
       "      <td>0.0</td>\n",
       "      <td>0</td>\n",
       "      <td>0</td>\n",
       "      <td>0</td>\n",
       "      <td>0</td>\n",
       "      <td>1</td>\n",
       "      <td>0</td>\n",
       "      <td>0</td>\n",
       "      <td>1</td>\n",
       "      <td>0</td>\n",
       "      <td>1.0</td>\n",
       "      <td>0.0</td>\n",
       "      <td>0.0</td>\n",
       "      <td>0.0</td>\n",
       "      <td>0</td>\n",
       "      <td>0</td>\n",
       "      <td>0</td>\n",
       "      <td>1</td>\n",
       "      <td>0</td>\n",
       "    </tr>\n",
       "    <tr>\n",
       "      <th>2</th>\n",
       "      <td>5.546008</td>\n",
       "      <td>1</td>\n",
       "      <td>0</td>\n",
       "      <td>0</td>\n",
       "      <td>0</td>\n",
       "      <td>0</td>\n",
       "      <td>0</td>\n",
       "      <td>0</td>\n",
       "      <td>0</td>\n",
       "      <td>0</td>\n",
       "      <td>0</td>\n",
       "      <td>0</td>\n",
       "      <td>1</td>\n",
       "      <td>0</td>\n",
       "      <td>0</td>\n",
       "      <td>1</td>\n",
       "      <td>0</td>\n",
       "      <td>0</td>\n",
       "      <td>0</td>\n",
       "      <td>0.0</td>\n",
       "      <td>0.0</td>\n",
       "      <td>0.0</td>\n",
       "      <td>1.0</td>\n",
       "      <td>0.0</td>\n",
       "      <td>0.0</td>\n",
       "      <td>0.0</td>\n",
       "      <td>0.0</td>\n",
       "      <td>0.0</td>\n",
       "      <td>0.0</td>\n",
       "      <td>1.0</td>\n",
       "      <td>0.0</td>\n",
       "      <td>0.0</td>\n",
       "      <td>0.0</td>\n",
       "      <td>0.0</td>\n",
       "      <td>1.0</td>\n",
       "      <td>0.0</td>\n",
       "      <td>0.0</td>\n",
       "      <td>0.0</td>\n",
       "      <td>1</td>\n",
       "      <td>0</td>\n",
       "      <td>0.0</td>\n",
       "      <td>0.0</td>\n",
       "      <td>1.0</td>\n",
       "      <td>0.0</td>\n",
       "      <td>0.0</td>\n",
       "      <td>0.0</td>\n",
       "      <td>0.0</td>\n",
       "      <td>0</td>\n",
       "      <td>0</td>\n",
       "      <td>1</td>\n",
       "      <td>0</td>\n",
       "      <td>0</td>\n",
       "      <td>0</td>\n",
       "      <td>1</td>\n",
       "      <td>0</td>\n",
       "      <td>0</td>\n",
       "      <td>0.0</td>\n",
       "      <td>1.0</td>\n",
       "      <td>0.0</td>\n",
       "      <td>0.0</td>\n",
       "      <td>0</td>\n",
       "      <td>0</td>\n",
       "      <td>0</td>\n",
       "      <td>0</td>\n",
       "      <td>0</td>\n",
       "    </tr>\n",
       "    <tr>\n",
       "      <th>3</th>\n",
       "      <td>5.321395</td>\n",
       "      <td>1</td>\n",
       "      <td>0</td>\n",
       "      <td>0</td>\n",
       "      <td>0</td>\n",
       "      <td>0</td>\n",
       "      <td>0</td>\n",
       "      <td>1</td>\n",
       "      <td>0</td>\n",
       "      <td>0</td>\n",
       "      <td>0</td>\n",
       "      <td>0</td>\n",
       "      <td>0</td>\n",
       "      <td>0</td>\n",
       "      <td>0</td>\n",
       "      <td>0</td>\n",
       "      <td>1</td>\n",
       "      <td>0</td>\n",
       "      <td>0</td>\n",
       "      <td>0.0</td>\n",
       "      <td>0.0</td>\n",
       "      <td>0.0</td>\n",
       "      <td>0.0</td>\n",
       "      <td>1.0</td>\n",
       "      <td>0.0</td>\n",
       "      <td>0.0</td>\n",
       "      <td>0.0</td>\n",
       "      <td>0.0</td>\n",
       "      <td>1.0</td>\n",
       "      <td>0.0</td>\n",
       "      <td>0.0</td>\n",
       "      <td>0.0</td>\n",
       "      <td>1.0</td>\n",
       "      <td>0.0</td>\n",
       "      <td>0.0</td>\n",
       "      <td>0.0</td>\n",
       "      <td>0.0</td>\n",
       "      <td>0.0</td>\n",
       "      <td>1</td>\n",
       "      <td>0</td>\n",
       "      <td>0.0</td>\n",
       "      <td>0.0</td>\n",
       "      <td>1.0</td>\n",
       "      <td>0.0</td>\n",
       "      <td>0.0</td>\n",
       "      <td>0.0</td>\n",
       "      <td>0.0</td>\n",
       "      <td>0</td>\n",
       "      <td>0</td>\n",
       "      <td>1</td>\n",
       "      <td>0</td>\n",
       "      <td>0</td>\n",
       "      <td>0</td>\n",
       "      <td>0</td>\n",
       "      <td>0</td>\n",
       "      <td>1</td>\n",
       "      <td>1.0</td>\n",
       "      <td>0.0</td>\n",
       "      <td>0.0</td>\n",
       "      <td>0.0</td>\n",
       "      <td>0</td>\n",
       "      <td>0</td>\n",
       "      <td>0</td>\n",
       "      <td>0</td>\n",
       "      <td>0</td>\n",
       "    </tr>\n",
       "    <tr>\n",
       "      <th>4</th>\n",
       "      <td>5.347988</td>\n",
       "      <td>0</td>\n",
       "      <td>0</td>\n",
       "      <td>0</td>\n",
       "      <td>0</td>\n",
       "      <td>0</td>\n",
       "      <td>0</td>\n",
       "      <td>0</td>\n",
       "      <td>0</td>\n",
       "      <td>0</td>\n",
       "      <td>0</td>\n",
       "      <td>0</td>\n",
       "      <td>1</td>\n",
       "      <td>0</td>\n",
       "      <td>0</td>\n",
       "      <td>1</td>\n",
       "      <td>0</td>\n",
       "      <td>0</td>\n",
       "      <td>0</td>\n",
       "      <td>0.0</td>\n",
       "      <td>0.0</td>\n",
       "      <td>0.0</td>\n",
       "      <td>0.0</td>\n",
       "      <td>1.0</td>\n",
       "      <td>0.0</td>\n",
       "      <td>0.0</td>\n",
       "      <td>1.0</td>\n",
       "      <td>0.0</td>\n",
       "      <td>0.0</td>\n",
       "      <td>0.0</td>\n",
       "      <td>0.0</td>\n",
       "      <td>0.0</td>\n",
       "      <td>1.0</td>\n",
       "      <td>0.0</td>\n",
       "      <td>0.0</td>\n",
       "      <td>0.0</td>\n",
       "      <td>0.0</td>\n",
       "      <td>0.0</td>\n",
       "      <td>1</td>\n",
       "      <td>0</td>\n",
       "      <td>1.0</td>\n",
       "      <td>0.0</td>\n",
       "      <td>0.0</td>\n",
       "      <td>0.0</td>\n",
       "      <td>0.0</td>\n",
       "      <td>0.0</td>\n",
       "      <td>0.0</td>\n",
       "      <td>0</td>\n",
       "      <td>1</td>\n",
       "      <td>0</td>\n",
       "      <td>0</td>\n",
       "      <td>0</td>\n",
       "      <td>0</td>\n",
       "      <td>1</td>\n",
       "      <td>0</td>\n",
       "      <td>0</td>\n",
       "      <td>1.0</td>\n",
       "      <td>0.0</td>\n",
       "      <td>0.0</td>\n",
       "      <td>0.0</td>\n",
       "      <td>0</td>\n",
       "      <td>0</td>\n",
       "      <td>0</td>\n",
       "      <td>0</td>\n",
       "      <td>0</td>\n",
       "    </tr>\n",
       "  </tbody>\n",
       "</table>\n",
       "</div>"
      ],
      "text/plain": [
       "   lnpercapitaconsumption  d_fuel_wood  d_fuel_coal  d_fuel_kerosene  \\\n",
       "0                5.304770            1            0                0   \n",
       "1                7.179197            0            0                0   \n",
       "2                5.546008            1            0                0   \n",
       "3                5.321395            1            0                0   \n",
       "4                5.347988            0            0                0   \n",
       "\n",
       "   d_fuel_gas  d_fuel_electric  d_fuel_none  d_water_river  d_water_well  \\\n",
       "0           0                0            0              0             0   \n",
       "1           1                0            0              0             0   \n",
       "2           0                0            0              0             0   \n",
       "3           0                0            0              1             0   \n",
       "4           0                0            0              0             0   \n",
       "\n",
       "   d_water_truck  d_water_pylon  d_water_outside  d_water_inside  \\\n",
       "0              1              0                0               0   \n",
       "1              0              0                0               1   \n",
       "2              0              0                0               1   \n",
       "3              0              0                0               0   \n",
       "4              0              0                0               1   \n",
       "\n",
       "   d_drain_none  d_drain_river  d_drain_cesspool  d_drain_septic  \\\n",
       "0             1              0                 0               0   \n",
       "1             0              0                 0               0   \n",
       "2             0              0                 1               0   \n",
       "3             0              0                 0               1   \n",
       "4             0              0                 1               0   \n",
       "\n",
       "   d_drain_outside  d_drain_inside  d_wall_woodmat  d_wall_stonemud  \\\n",
       "0                0               0             0.0              0.0   \n",
       "1                0               1             0.0              0.0   \n",
       "2                0               0             0.0              0.0   \n",
       "3                0               0             0.0              0.0   \n",
       "4                0               0             0.0              0.0   \n",
       "\n",
       "   d_wall_quincha  d_wall_tapia  d_wall_adobe  d_wall_stonecement  \\\n",
       "0             1.0           0.0           0.0                 0.0   \n",
       "1             0.0           0.0           0.0                 0.0   \n",
       "2             0.0           1.0           0.0                 0.0   \n",
       "3             0.0           0.0           1.0                 0.0   \n",
       "4             0.0           0.0           1.0                 0.0   \n",
       "\n",
       "   d_wall_brickcement  d_roof_straw  d_roof_mat  d_roof_platecane  \\\n",
       "0                 0.0           0.0         0.0               1.0   \n",
       "1                 1.0           0.0         0.0               0.0   \n",
       "2                 0.0           0.0         0.0               0.0   \n",
       "3                 0.0           0.0         0.0               1.0   \n",
       "4                 0.0           1.0         0.0               0.0   \n",
       "\n",
       "   d_roof_tile  d_roof_wood  d_roof_concrete  d_floor_earth  d_floor_cement  \\\n",
       "0          0.0          0.0              0.0            1.0             0.0   \n",
       "1          0.0          0.0              1.0            0.0             1.0   \n",
       "2          1.0          0.0              0.0            0.0             0.0   \n",
       "3          0.0          0.0              0.0            1.0             0.0   \n",
       "4          0.0          0.0              0.0            1.0             0.0   \n",
       "\n",
       "   d_floor_wood  d_floor_tile  d_floor_sheets  d_floor_parquet  d_electricity  \\\n",
       "0           0.0           0.0             0.0              0.0              0   \n",
       "1           0.0           0.0             0.0              0.0              1   \n",
       "2           1.0           0.0             0.0              0.0              1   \n",
       "3           0.0           0.0             0.0              0.0              1   \n",
       "4           0.0           0.0             0.0              0.0              1   \n",
       "\n",
       "   d_telephone  d_h_educ_none  d_h_educ_pre  d_h_educ_prim  d_h_educ_sec  \\\n",
       "0            0            0.0           0.0            1.0           0.0   \n",
       "1            1            0.0           0.0            0.0           0.0   \n",
       "2            0            0.0           0.0            1.0           0.0   \n",
       "3            0            0.0           0.0            1.0           0.0   \n",
       "4            0            1.0           0.0            0.0           0.0   \n",
       "\n",
       "   d_h_educ_higher_nouni  d_h_educ_higher_uni  d_h_educ_post  d_max_educ_none  \\\n",
       "0                    0.0                  0.0            0.0                0   \n",
       "1                    0.0                  1.0            0.0                0   \n",
       "2                    0.0                  0.0            0.0                0   \n",
       "3                    0.0                  0.0            0.0                0   \n",
       "4                    0.0                  0.0            0.0                0   \n",
       "\n",
       "   d_max_educ_prim  d_max_educ_sec  d_max_educ_higher_nouni  \\\n",
       "0                1               0                        0   \n",
       "1                0               0                        0   \n",
       "2                0               1                        0   \n",
       "3                0               1                        0   \n",
       "4                1               0                        0   \n",
       "\n",
       "   d_max_educ_higher_uni  d_insurance_1  d_insurance_2  d_insurance_3  \\\n",
       "0                      0              0              0              0   \n",
       "1                      1              0              0              1   \n",
       "2                      0              0              1              0   \n",
       "3                      0              0              0              0   \n",
       "4                      0              0              1              0   \n",
       "\n",
       "   d_insurance_4plus  d_crowd_1to2  d_crowd_2to4  d_crowd_4to6  d_crowd_6plus  \\\n",
       "0                  0           0.0           0.0           0.0            0.0   \n",
       "1                  0           1.0           0.0           0.0            0.0   \n",
       "2                  0           0.0           1.0           0.0            0.0   \n",
       "3                  1           1.0           0.0           0.0            0.0   \n",
       "4                  0           1.0           0.0           0.0            0.0   \n",
       "\n",
       "   d_lux_1  d_lux_2  d_lux_3  d_lux_4  d_lux_5  \n",
       "0        0        0        0        0        0  \n",
       "1        0        0        0        1        0  \n",
       "2        0        0        0        0        0  \n",
       "3        0        0        0        0        0  \n",
       "4        0        0        0        0        0  "
      ]
     },
     "metadata": {},
     "output_type": "display_data"
    }
   ],
   "source": [
    "pd.options.display.max_rows = None\n",
    "pd.options.display.max_columns = None\n",
    "display(data.head())"
   ]
  },
  {
   "cell_type": "markdown",
   "metadata": {},
   "source": [
    "__2)__ To get started, let us first build one tree and get a sense of how the intuition works"
   ]
  },
  {
   "cell_type": "code",
   "execution_count": 6,
   "metadata": {},
   "outputs": [],
   "source": [
    "# Get the data for the dependent variable\n",
    "y = data['lnpercapitaconsumption']\n",
    "# Get the data for the explanatory variables\n",
    "X = data.drop(['lnpercapitaconsumption'], axis=1)"
   ]
  },
  {
   "cell_type": "code",
   "execution_count": 6,
   "metadata": {},
   "outputs": [
    {
     "data": {
      "text/plain": [
       "DecisionTreeRegressor(max_depth=2, max_features=21, min_samples_leaf=2,\n",
       "                      min_samples_split=7, random_state=1, splitter='random')"
      ]
     },
     "execution_count": 6,
     "metadata": {},
     "output_type": "execute_result"
    }
   ],
   "source": [
    "X_train, X_test, y_train, y_test = train_test_split(X, y, test_size = 0.5, random_state = 0)\n",
    "\n",
    "dlf = DecisionTreeRegressor(max_depth=2, min_samples_split = 7, max_features= 21, min_samples_leaf = 2, \n",
    "                            splitter = 'random', random_state=1)\n",
    "dlf.fit(X_train,y_train)"
   ]
  },
  {
   "cell_type": "code",
   "execution_count": 7,
   "metadata": {},
   "outputs": [
    {
     "data": {
      "text/plain": [
       "0.32301667558651054"
      ]
     },
     "execution_count": 7,
     "metadata": {},
     "output_type": "execute_result"
    }
   ],
   "source": [
    "pred = dlf.predict(X_test)\n",
    "mean_squared_error(y_test, pred)"
   ]
  },
  {
   "cell_type": "code",
   "execution_count": 8,
   "metadata": {},
   "outputs": [
    {
     "data": {
      "image/png": "[encoded data removed]",
      "text/plain": [
       "<Figure size 720x432 with 1 Axes>"
      ]
     },
     "metadata": {},
     "output_type": "display_data"
    }
   ],
   "source": [
    "dt_feature_names = list(X.columns)\n",
    "# Figure 8.1\n",
    "fig, ax = plt.subplots(1,1)\n",
    "ax.set_title('Sample Tree');\n",
    "\n",
    "# Plot tree\n",
    "plot_tree(dlf, filled=True, feature_names=dt_feature_names, fontsize=14, ax=ax);"
   ]
  },
  {
   "cell_type": "markdown",
   "metadata": {},
   "source": [
    "__3)__ Let us now consider the impact of different numbers of parameters that are allowed in one tree. "
   ]
  },
  {
   "cell_type": "code",
   "execution_count": 9,
   "metadata": {},
   "outputs": [
    {
     "name": "stdout",
     "output_type": "stream",
     "text": [
      "Computing k=398 (iter=5)\r"
     ]
    }
   ],
   "source": [
    "# Init\n",
    "params = range(3,400,5)\n",
    "m_scores = np.zeros((len(params),3))\n",
    "p = np.shape(X)[1]\n",
    "J = 5;\n",
    "\n",
    "# Loop over parameters\n",
    "for i, k in enumerate(params):\n",
    "    \n",
    "    # Array of features\n",
    "    ms = [p, round(p/2), round(p**.5)]\n",
    "    \n",
    "    # Repeat L times\n",
    "    temp_scores = np.zeros((J,3))\n",
    "    for j in range(J):\n",
    "        print(\"Computing k=%1.0f (iter=%1.0f)\" % (k,j+1), end =\"\")\n",
    "        X_train, X_test, y_train, y_test = train_test_split(X, y, test_size=20, random_state=j)\n",
    "    \n",
    "        # Loop over values of m\n",
    "        for l, m in enumerate(ms):\n",
    "            forest = RandomForestRegressor(n_estimators=k, max_features=m)\n",
    "            forest.fit(X_train, y_train)\n",
    "            temp_scores[j,l] = forest.score(X_test, y_test)\n",
    "        print(\"\", end=\"\\r\")\n",
    "            \n",
    "    # Average\n",
    "    m_scores[i,:] = np.mean(temp_scores, axis=0)"
   ]
  },
  {
   "cell_type": "code",
   "execution_count": 10,
   "metadata": {},
   "outputs": [
    {
     "data": {
      "image/png": "[encoded data removed]",
      "text/plain": [
       "<Figure size 720x432 with 1 Axes>"
      ]
     },
     "metadata": {},
     "output_type": "display_data"
    }
   ],
   "source": [
    "# Figure 8.10\n",
    "fig, ax = plt.subplots(1,1,figsize=(10,6))\n",
    "ax.set_title('Figure 8.10');\n",
    "\n",
    "# Plot scores\n",
    "ax.plot(params, m_scores);\n",
    "ax.legend(['m=p','m=p/2','m=p^.5']);\n",
    "ax.set_xlabel('Number of Trees'); ax.set_ylabel('Test Classification Accuracy');"
   ]
  },
  {
   "cell_type": "markdown",
   "metadata": {},
   "source": [
    "What is easy to see, is that m=p is always outperformed by m=sqrt(p). m=p/2 and m=sqrt(p) are both close to each other, however, it seems that m=sqrt(p) performs a little better overall. Hence, we will use m=sqrt(p)"
   ]
  },
  {
   "cell_type": "markdown",
   "metadata": {},
   "source": [
    "Impact of the number of trees for m=sqrt(p)"
   ]
  },
  {
   "cell_type": "code",
   "execution_count": 92,
   "metadata": {},
   "outputs": [
    {
     "name": "stdout",
     "output_type": "stream",
     "text": [
      "Computing k=397 (iter=5)\r"
     ]
    }
   ],
   "source": [
    "import warnings\n",
    "warnings.simplefilter('ignore')\n",
    "\n",
    "# Init\n",
    "params = range(2,400,5)\n",
    "forest_scores = np.zeros((len(params),2))\n",
    "J = 5\n",
    "\n",
    "# Loop over parameters\n",
    "for i, k in enumerate(params):\n",
    "    \n",
    "    # Repeat J \n",
    "    temp_scores = np.zeros((J,2))\n",
    "    for j in range(J):\n",
    "        print(\"Computing k=%1.0f (iter=%1.0f)\" % (k,j+1), end =\"\")\n",
    "        X_train, X_test, y_train, y_test = train_test_split(X, y, test_size=0.5, random_state=j)\n",
    "        forest = RandomForestRegressor(n_estimators=k, oob_score=True, max_features=\"sqrt\")\n",
    "        m = forest.fit(X_train,y_train)\n",
    "        #temp_scores[j,0] = -forest.score(X_test, y_test)\n",
    "        temp_scores[j,0] = mean_squared_error(m.predict(X_train), y_train)\n",
    "        temp_scores[j,1] = forest.oob_score_\n",
    "        print(\"\", end=\"\\r\")\n",
    "        \n",
    "    # Average\n",
    "    forest_scores[i,:] = np.mean(temp_scores, axis=0)"
   ]
  },
  {
   "cell_type": "code",
   "execution_count": 107,
   "metadata": {
    "scrolled": false
   },
   "outputs": [
    {
     "data": {
      "image/png": "[encoded data removed]",
      "text/plain": [
       "<Figure size 720x432 with 1 Axes>"
      ]
     },
     "metadata": {},
     "output_type": "display_data"
    }
   ],
   "source": [
    "# Figure\n",
    "fig, ax = plt.subplots(1,1,figsize=(10,6))\n",
    "ax.set_title('MSE vs #trees');\n",
    "\n",
    "# Plot scores\n",
    "ax.plot(params, forest_scores);\n",
    "ax.legend(['Test - Forest','OOB - Forest']);\n",
    "ax.set_xlabel('Number of Trees'); ax.set_ylabel('MSE / OOB Score');"
   ]
  },
  {
   "cell_type": "code",
   "execution_count": 24,
   "metadata": {},
   "outputs": [
    {
     "data": {
      "text/plain": [
       "array([[ 0.0688533 , -5.96815619],\n",
       "       [ 0.0574223 , -0.07482999],\n",
       "       [ 0.05464759,  0.48381564],\n",
       "       [ 0.05222772,  0.56247291],\n",
       "       [ 0.05105321,  0.57762175],\n",
       "       [ 0.04992729,  0.58492172],\n",
       "       [ 0.04970106,  0.59064759],\n",
       "       [ 0.04909884,  0.59436223],\n",
       "       [ 0.04884149,  0.59615651],\n",
       "       [ 0.04869812,  0.59782226],\n",
       "       [ 0.04836224,  0.60166002],\n",
       "       [ 0.04823482,  0.60198438],\n",
       "       [ 0.04805701,  0.6031288 ],\n",
       "       [ 0.04808637,  0.60467747],\n",
       "       [ 0.04793659,  0.60528146],\n",
       "       [ 0.04761266,  0.60677482],\n",
       "       [ 0.0476031 ,  0.6079189 ],\n",
       "       [ 0.04756405,  0.60680788],\n",
       "       [ 0.04754414,  0.60646425],\n",
       "       [ 0.04757875,  0.60735594],\n",
       "       [ 0.04746594,  0.60765953],\n",
       "       [ 0.04730371,  0.61065403],\n",
       "       [ 0.0472155 ,  0.61002006],\n",
       "       [ 0.04728129,  0.61005711],\n",
       "       [ 0.04722614,  0.61013287],\n",
       "       [ 0.04728361,  0.61070385],\n",
       "       [ 0.04719299,  0.61130267],\n",
       "       [ 0.04715803,  0.61068612],\n",
       "       [ 0.04713197,  0.6117814 ],\n",
       "       [ 0.04705773,  0.61215409],\n",
       "       [ 0.04709796,  0.61203766],\n",
       "       [ 0.04708309,  0.61188906],\n",
       "       [ 0.04714116,  0.61142233],\n",
       "       [ 0.04706135,  0.61233072],\n",
       "       [ 0.04706036,  0.61134583],\n",
       "       [ 0.04706626,  0.61173421],\n",
       "       [ 0.0470392 ,  0.61173575],\n",
       "       [ 0.04699991,  0.61331729],\n",
       "       [ 0.04695207,  0.61255838],\n",
       "       [ 0.04697289,  0.61214276],\n",
       "       [ 0.04691602,  0.61339147],\n",
       "       [ 0.04694588,  0.61275164],\n",
       "       [ 0.04686167,  0.61344261],\n",
       "       [ 0.04698561,  0.61202667],\n",
       "       [ 0.04684376,  0.61370268],\n",
       "       [ 0.04684307,  0.61298737],\n",
       "       [ 0.04683394,  0.61339909],\n",
       "       [ 0.04686575,  0.61331338],\n",
       "       [ 0.04675348,  0.61364178],\n",
       "       [ 0.0468225 ,  0.6137432 ],\n",
       "       [ 0.04673784,  0.61403778],\n",
       "       [ 0.04685304,  0.6141068 ],\n",
       "       [ 0.04677967,  0.61431419],\n",
       "       [ 0.04679162,  0.61417981],\n",
       "       [ 0.04678979,  0.61391408],\n",
       "       [ 0.0468268 ,  0.61358923],\n",
       "       [ 0.04672549,  0.61417691],\n",
       "       [ 0.04676643,  0.61393891],\n",
       "       [ 0.04665362,  0.61397742],\n",
       "       [ 0.04676959,  0.61435135],\n",
       "       [ 0.04673943,  0.61469707],\n",
       "       [ 0.04664794,  0.61513805],\n",
       "       [ 0.04671617,  0.61455268],\n",
       "       [ 0.04672656,  0.61431159],\n",
       "       [ 0.04676013,  0.61461562],\n",
       "       [ 0.04672106,  0.61482703],\n",
       "       [ 0.04670493,  0.61522964],\n",
       "       [ 0.04662746,  0.61580459],\n",
       "       [ 0.04662804,  0.61556293],\n",
       "       [ 0.04663954,  0.61512834],\n",
       "       [ 0.04670209,  0.61458593],\n",
       "       [ 0.04667404,  0.61486543],\n",
       "       [ 0.04668936,  0.61502614],\n",
       "       [ 0.04665698,  0.61573906],\n",
       "       [ 0.04667096,  0.61481455],\n",
       "       [ 0.04664055,  0.61524083],\n",
       "       [ 0.04663309,  0.6152651 ],\n",
       "       [ 0.04672558,  0.61455786],\n",
       "       [ 0.04664208,  0.61496466]])"
      ]
     },
     "execution_count": 24,
     "metadata": {},
     "output_type": "execute_result"
    }
   ],
   "source": [
    "forest_scores"
   ]
  },
  {
   "cell_type": "markdown",
   "metadata": {},
   "source": [
    "Optimal n = 343 Results in lowest training MSE. One could potentially also increase n by some thousand to get even more precise estimates, but as there will only be limited improvement, we stick with the n = 343. Next step: calculate MSE"
   ]
  },
  {
   "cell_type": "code",
   "execution_count": 15,
   "metadata": {},
   "outputs": [
    {
     "name": "stdout",
     "output_type": "stream",
     "text": [
      "Computing k=395 (iter=3)\r"
     ]
    }
   ],
   "source": [
    "import warnings\n",
    "warnings.simplefilter('ignore')\n",
    "\n",
    "# Init\n",
    "params = range(5,400,5)\n",
    "forest_scores = np.zeros((len(params),2))\n",
    "MSE_RF= np.zeros((len(params),1))\n",
    "J = 3\n",
    "\n",
    "# Loop over parameters\n",
    "for i, k in enumerate(params):\n",
    "    \n",
    "    # Repeat J \n",
    "    temp_scores = np.zeros((J,2))\n",
    "    temp_MSE_RF = np.zeros((J,1))\n",
    "    for j in range(J):\n",
    "        print(\"Computing k=%1.0f (iter=%1.0f)\" % (k,j+1), end =\"\")\n",
    "        X_train, X_test, y_train, y_test = train_test_split(X, y, test_size=0.5, random_state=j)\n",
    "        forest = RandomForestRegressor(n_estimators=k, oob_score=True, max_features=\"sqrt\")\n",
    "        m = forest.fit(X_train,y_train)\n",
    "        #temp_scores[j,0] = -forest.score(X_test, y_test)\n",
    "        temp_scores[j,0] = mean_squared_error(m.predict(X_train), y_train)\n",
    "        temp_scores[j,1] = forest.oob_score_\n",
    "        m = forest.fit(X, y)\n",
    "        temp_MSE_RF[j,0] = mean_squared_error(m.predict(X), y)\n",
    "        \n",
    "        print(\"\", end=\"\\r\")\n",
    "        \n",
    "    # Average\n",
    "    forest_scores[i,:] = np.mean(temp_scores, axis=0)\n",
    "    MSE_RF[i,:] = np.mean(temp_MSE_RF, axis=0)"
   ]
  },
  {
   "cell_type": "code",
   "execution_count": 16,
   "metadata": {
    "scrolled": false
   },
   "outputs": [
    {
     "data": {
      "image/png": "[encoded data removed]",
      "text/plain": [
       "<Figure size 720x432 with 1 Axes>"
      ]
     },
     "metadata": {},
     "output_type": "display_data"
    }
   ],
   "source": [
    "# Figure\n",
    "fig, ax = plt.subplots(1,1,figsize=(10,6))\n",
    "ax.set_title('MSE vs #trees');\n",
    "\n",
    "# Plot scores\n",
    "ax.plot(params, MSE_RF);\n",
    "ax.legend(['Test - Forest','OOB - Forest']);\n",
    "ax.set_xlabel('Number of Trees'); ax.set_ylabel('MSE');"
   ]
  },
  {
   "cell_type": "code",
   "execution_count": 20,
   "metadata": {},
   "outputs": [
    {
     "data": {
      "text/plain": [
       "array([[0.07713828],\n",
       "       [0.06677376],\n",
       "       [0.06322581],\n",
       "       [0.06159774],\n",
       "       [0.0605493 ],\n",
       "       [0.06003045],\n",
       "       [0.05933276],\n",
       "       [0.05937443],\n",
       "       [0.05874932],\n",
       "       [0.0585282 ],\n",
       "       [0.05833325],\n",
       "       [0.05823457],\n",
       "       [0.05809352],\n",
       "       [0.05798607],\n",
       "       [0.05785563],\n",
       "       [0.05776615],\n",
       "       [0.05779388],\n",
       "       [0.05763222],\n",
       "       [0.05761519],\n",
       "       [0.05753445],\n",
       "       [0.05745544],\n",
       "       [0.05744161],\n",
       "       [0.057447  ],\n",
       "       [0.05737581],\n",
       "       [0.05733257],\n",
       "       [0.05733193],\n",
       "       [0.05732726],\n",
       "       [0.05727377],\n",
       "       [0.05716518],\n",
       "       [0.05721933],\n",
       "       [0.05715938],\n",
       "       [0.05720958],\n",
       "       [0.05718075],\n",
       "       [0.05710172],\n",
       "       [0.05708691],\n",
       "       [0.05706607],\n",
       "       [0.05711073],\n",
       "       [0.05702179],\n",
       "       [0.05704486],\n",
       "       [0.05694497],\n",
       "       [0.0570088 ],\n",
       "       [0.05702053],\n",
       "       [0.05696085],\n",
       "       [0.05698208],\n",
       "       [0.05691862],\n",
       "       [0.0569308 ],\n",
       "       [0.05697046],\n",
       "       [0.05690942],\n",
       "       [0.05696311],\n",
       "       [0.05695293],\n",
       "       [0.05686607],\n",
       "       [0.05687554],\n",
       "       [0.05689252],\n",
       "       [0.05685088],\n",
       "       [0.05685083],\n",
       "       [0.05684045],\n",
       "       [0.05684761],\n",
       "       [0.05685826],\n",
       "       [0.05684378],\n",
       "       [0.05680774],\n",
       "       [0.05690939],\n",
       "       [0.056873  ],\n",
       "       [0.05680954],\n",
       "       [0.05686437],\n",
       "       [0.05681516],\n",
       "       [0.05683168],\n",
       "       [0.0568221 ],\n",
       "       [0.05676923],\n",
       "       [0.05676241],\n",
       "       [0.05678513],\n",
       "       [0.05677948],\n",
       "       [0.05684292],\n",
       "       [0.05676577],\n",
       "       [0.05674328],\n",
       "       [0.0568026 ],\n",
       "       [0.05675032],\n",
       "       [0.05677667],\n",
       "       [0.0568173 ],\n",
       "       [0.0567923 ]])"
      ]
     },
     "execution_count": 20,
     "metadata": {},
     "output_type": "execute_result"
    }
   ],
   "source": [
    "MSE_RF"
   ]
  },
  {
   "cell_type": "markdown",
   "metadata": {},
   "source": [
    "Training MSE and OOB Score of the entire trainig set (22'674 observations)"
   ]
  },
  {
   "cell_type": "code",
   "execution_count": 108,
   "metadata": {},
   "outputs": [],
   "source": [
    "import warnings\n",
    "warnings.simplefilter('ignore')\n",
    "\n",
    "forest = RandomForestRegressor(n_estimators=343, oob_score=True, max_features=\"sqrt\")\n",
    "m = forest.fit(X,y)\n",
    "MSE = mean_squared_error(m.predict(X), y)\n",
    "OOB = forest.oob_score_"
   ]
  },
  {
   "cell_type": "code",
   "execution_count": 109,
   "metadata": {},
   "outputs": [
    {
     "data": {
      "text/plain": [
       "0.056725887395141845"
      ]
     },
     "execution_count": 109,
     "metadata": {},
     "output_type": "execute_result"
    }
   ],
   "source": [
    "MSE"
   ]
  },
  {
   "cell_type": "code",
   "execution_count": 110,
   "metadata": {},
   "outputs": [
    {
     "data": {
      "text/plain": [
       "0.6158143855366635"
      ]
     },
     "execution_count": 110,
     "metadata": {},
     "output_type": "execute_result"
    }
   ],
   "source": [
    "OOB"
   ]
  },
  {
   "cell_type": "markdown",
   "metadata": {},
   "source": [
    "Validation set MSE (check overfitting)"
   ]
  },
  {
   "cell_type": "code",
   "execution_count": 112,
   "metadata": {},
   "outputs": [
    {
     "data": {
      "text/plain": [
       "0.21577694179453846"
      ]
     },
     "execution_count": 112,
     "metadata": {},
     "output_type": "execute_result"
    }
   ],
   "source": [
    "X_train, X_test, y_train, y_test = train_test_split(X, y, test_size=0.5, random_state=1)\n",
    "forest = RandomForestRegressor(n_estimators=343, oob_score=True, max_features=\"sqrt\", )\n",
    "m = forest.fit(X_train,y_train)\n",
    "MSE = mean_squared_error(m.predict(X_test), y_test)\n",
    "MSE"
   ]
  },
  {
   "cell_type": "markdown",
   "metadata": {},
   "source": [
    "__4)__ Now we turn to the full dataset to generate the predictions for the entire dataset:"
   ]
  },
  {
   "cell_type": "code",
   "execution_count": 66,
   "metadata": {},
   "outputs": [
    {
     "data": {
      "text/plain": [
       "(45378, 70)"
      ]
     },
     "execution_count": 66,
     "metadata": {},
     "output_type": "execute_result"
    }
   ],
   "source": [
    "# Read in the data\n",
    "data_full = pd.read_csv('C:/Users/marco/Documents/Uni/HS_20/Machine Learning/Exercise/Assignment 1/data_preprocessed_full.csv')\n",
    "# Get the shape of the data\n",
    "data_full.shape"
   ]
  },
  {
   "cell_type": "code",
   "execution_count": 70,
   "metadata": {},
   "outputs": [],
   "source": [
    "# Get the full data for the explanatory variables\n",
    "X_full = data_full.drop(['training','id_for_matlab','hhid','lnpercapitaconsumption','lncaphat_OLS','percapitahat_OLS'], axis=1)\n",
    "Y_full = data_full['lnpercapitaconsumption']"
   ]
  },
  {
   "cell_type": "code",
   "execution_count": 103,
   "metadata": {},
   "outputs": [],
   "source": [
    "data_test = data_full[data_full['training'] == 0]"
   ]
  },
  {
   "cell_type": "code",
   "execution_count": 105,
   "metadata": {},
   "outputs": [],
   "source": [
    "X_test2 = data_test.drop(['training','id_for_matlab','hhid','lnpercapitaconsumption','lncaphat_OLS','percapitahat_OLS','groupprediction_RF'], axis=1)\n",
    "Y_test2 = data_test['lnpercapitaconsumption']"
   ]
  },
  {
   "cell_type": "markdown",
   "metadata": {},
   "source": [
    "Calculate test MSE"
   ]
  },
  {
   "cell_type": "code",
   "execution_count": 113,
   "metadata": {},
   "outputs": [
    {
     "data": {
      "text/plain": [
       "0.21155893419309252"
      ]
     },
     "execution_count": 113,
     "metadata": {},
     "output_type": "execute_result"
    }
   ],
   "source": [
    "forest = RandomForestRegressor(n_estimators=343, oob_score=True, max_features=\"sqrt\", )\n",
    "m = forest.fit(X,y)\n",
    "MSE = mean_squared_error(m.predict(X_test2),Y_test2)\n",
    "MSE"
   ]
  },
  {
   "cell_type": "markdown",
   "metadata": {},
   "source": [
    "Export to CSV file"
   ]
  },
  {
   "cell_type": "code",
   "execution_count": null,
   "metadata": {},
   "outputs": [],
   "source": [
    "y_predictions_RF = m.predict(X_full)"
   ]
  },
  {
   "cell_type": "code",
   "execution_count": null,
   "metadata": {},
   "outputs": [],
   "source": [
    "# Extract the CSV file as needed\n",
    "data_full['groupprediction_RF'] = y_predictions_RF\n",
    "RandomForestPredictions = data_full[['id_for_matlab','hhid','training','lnpercapitaconsumption','groupprediction_RF']]\n",
    "RandomForestPredictions.to_csv(r'RF_predictions.csv', index = False, header=True)"
   ]
  },
  {
   "cell_type": "markdown",
   "metadata": {},
   "source": [
    "Addtional: Calculate the MSE that results from the entire training set and create predictions for all (45K+) observations"
   ]
  },
  {
   "cell_type": "code",
   "execution_count": 114,
   "metadata": {},
   "outputs": [
    {
     "data": {
      "text/plain": [
       "0.13421330786996988"
      ]
     },
     "execution_count": 114,
     "metadata": {},
     "output_type": "execute_result"
    }
   ],
   "source": [
    "X_train, X_test, y_train, y_test = train_test_split(X, y, test_size=0.5, random_state=1)\n",
    "forest = RandomForestRegressor(n_estimators=343, oob_score=True, max_features=\"sqrt\", )\n",
    "m = forest.fit(X,y)\n",
    "MSE = mean_squared_error(m.predict(X_full),Y_full)\n",
    "MSE"
   ]
  }
 ],
 "metadata": {
  "kernelspec": {
   "display_name": "Python 3",
   "language": "python",
   "name": "python3"
  },
  "language_info": {
   "codemirror_mode": {
    "name": "ipython",
    "version": 3
   },
   "file_extension": ".py",
   "mimetype": "text/x-python",
   "name": "python",
   "nbconvert_exporter": "python",
   "pygments_lexer": "ipython3",
   "version": "3.8.3"
  }
 },
 "nbformat": 4,
 "nbformat_minor": 4
}
