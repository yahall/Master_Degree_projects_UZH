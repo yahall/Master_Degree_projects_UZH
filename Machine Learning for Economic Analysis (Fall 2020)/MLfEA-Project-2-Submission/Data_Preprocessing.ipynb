{
  "nbformat": 4,
  "nbformat_minor": 0,
  "metadata": {
    "colab": {
      "name": "MLfEA_Project2_Data_Preprocessing.ipynb",
      "provenance": [],
      "collapsed_sections": [],
      "toc_visible": true,
      "authorship_tag": "ABX9TyPtK0j4pQuw/hKd8iXZP8At",
      "include_colab_link": true
    },
    "kernelspec": {
      "name": "python3",
      "display_name": "Python 3"
    }
  },
  "cells": [
    {
      "cell_type": "markdown",
      "metadata": {
        "id": "view-in-github",
        "colab_type": "text"
      },
      "source": [
        "<a href=\"https://colab.research.google.com/github/SophiaBieri/MLfEA-Project-2-Submission/blob/main/Data_Preprocessing.ipynb\" target=\"_parent\"><img src=\"https://colab.research.google.com/assets/colab-badge.svg\" alt=\"Open In Colab\"/></a>"
      ]
    },
    {
      "cell_type": "markdown",
      "metadata": {
        "id": "cwcwqDCoAd2I"
      },
      "source": [
        "# Machine Learning for Economic Analysis: Traffic accidents in the UK 2005 - 2019"
      ]
    },
    {
      "cell_type": "code",
      "metadata": {
        "id": "cPlPb2XxAVoC"
      },
      "source": [
        "# Import Packages\r\n",
        "import os\r\n",
        "import glob\r\n",
        "import pandas as pd\r\n",
        "import numpy as np\r\n",
        "import urllib.request                     # HTTP downloader\r\n",
        "from zipfile import ZipFile               # ZIP file decompressor\r\n",
        "import matplotlib.pyplot as plt           # plotting\r\n",
        "import warnings\r\n",
        "warnings.filterwarnings(\"ignore\")"
      ],
      "execution_count": null,
      "outputs": []
    },
    {
      "cell_type": "markdown",
      "metadata": {
        "id": "hKkWlW7WA3Ip"
      },
      "source": [
        "# Collection of Raw data"
      ]
    },
    {
      "cell_type": "code",
      "metadata": {
        "colab": {
          "base_uri": "https://localhost:8080/"
        },
        "id": "tYO0gptHA75o",
        "outputId": "22b099df-7191-4aec-b939-662b559987c2"
      },
      "source": [
        "# Create a path to the folder containing all csv files\r\n",
        "path = 'uktraffic/'\r\n",
        "\r\n",
        "print(f'Working directory: \\t {os.getcwd()}')\r\n",
        "print(f'Data directory: \\t {os.getcwd()}/{path}')"
      ],
      "execution_count": null,
      "outputs": [
        {
          "output_type": "stream",
          "text": [
            "Working directory: \t /content\n",
            "Data directory: \t /content/uktraffic/\n"
          ],
          "name": "stdout"
        }
      ]
    },
    {
      "cell_type": "markdown",
      "metadata": {
        "id": "U64L5sRSBdSs"
      },
      "source": [
        "Download the ZIP data files:"
      ]
    },
    {
      "cell_type": "code",
      "metadata": {
        "colab": {
          "base_uri": "https://localhost:8080/"
        },
        "id": "yzA147UvBXWq",
        "outputId": "ad52f3f6-cf2f-446c-c4aa-2c15b76bdf11"
      },
      "source": [
        "# Create a data folder\r\n",
        "os.makedirs(path, exist_ok=True)\r\n",
        "\r\n",
        "def download(url, target):\r\n",
        "    \"\"\" URL download function - stores the file into the `uktraffic` folder. \"\"\"\r\n",
        "    filename = os.path.split(url)\r\n",
        "    target = os.path.join(target, filename[1])\r\n",
        "    urllib.request.urlretrieve(url, target)\r\n",
        "    return target\r\n",
        "    \r\n",
        "# download ZIP files and decompress if not already done\r\n",
        "if not os.path.isfile(path + '2018/dftRoadSafetyData_Accidents_2018.csv'):\r\n",
        "    zips = [\r\n",
        "        # 2005-2014\r\n",
        "        ['0514', download('http://data.dft.gov.uk.s3.amazonaws.com/road-accidents-safety-data/Stats19_Data_2005-2014.zip', path)],\r\n",
        "        # 2015\r\n",
        "        ['2015', download('http://data.dft.gov.uk/road-accidents-safety-data/RoadSafetyData_2015.zip', path)],\r\n",
        "        # 2016\r\n",
        "        ['2016', download('http://data.dft.gov.uk/road-accidents-safety-data/dftRoadSafetyData_Casualties_2016.zip', path)],\r\n",
        "        ['2016', download('http://data.dft.gov.uk/road-accidents-safety-data/dftRoadSafetyData_Vehicles_2016.zip', path)],\r\n",
        "        ['2016', download('http://data.dft.gov.uk/road-accidents-safety-data/dftRoadSafety_Accidents_2016.zip', path)],\r\n",
        "        # 2017\r\n",
        "        ['2017', download('http://data.dft.gov.uk.s3.amazonaws.com/road-accidents-safety-data/dftRoadSafetyData_Vehicles_2017.zip', path)],\r\n",
        "        ['2017', download('http://data.dft.gov.uk.s3.amazonaws.com/road-accidents-safety-data/dftRoadSafetyData_Casualties_2017.zip', path)],\r\n",
        "        ['2017', download('http://data.dft.gov.uk.s3.amazonaws.com/road-accidents-safety-data/dftRoadSafetyData_Accidents_2017.zip', path)],\r\n",
        "        # 2019\r\n",
        "        ['2019', download('http://data.dft.gov.uk/road-accidents-safety-data/DfTRoadSafety_Accidents_2019.zip', path)],\r\n",
        "        ['2019', download('http://data.dft.gov.uk/road-accidents-safety-data/DfTRoadSafety_Vehicles_2019.zip', path)],\r\n",
        "        ['2019', download('http://data.dft.gov.uk/road-accidents-safety-data/DfTRoadSafety_Casualties_2019.zip', path)]\r\n",
        "    ]\r\n",
        "    \r\n",
        "    # 2018\r\n",
        "    os.makedirs(path + '2018', exist_ok=True)\r\n",
        "    download('http://data.dft.gov.uk/road-accidents-safety-data/dftRoadSafetyData_Accidents_2018.csv', path + '2018')\r\n",
        "    download('http://data.dft.gov.uk/road-accidents-safety-data/dftRoadSafetyData_Casualties_2018.csv', path + '2018')\r\n",
        "    download('http://data.dft.gov.uk/road-accidents-safety-data/dftRoadSafetyData_Vehicles_2018.csv', path + '2018')\r\n",
        "    \r\n",
        "    # unzip files\r\n",
        "    for item in zips:\r\n",
        "        os.makedirs(path + item[0], exist_ok=True)\r\n",
        "        with ZipFile(item[1], 'r') as z: z.extractall(path + item[0])  # extract zip\r\n",
        "        os.remove(item[1])  # delete zip file\r\n",
        "        \r\n",
        "# list all CSV files\r\n",
        "glob.glob(path + '/**/*.csv', recursive=True)"
      ],
      "execution_count": null,
      "outputs": [
        {
          "output_type": "execute_result",
          "data": {
            "text/plain": [
              "['uktraffic/0514/Accidents0514.csv',\n",
              " 'uktraffic/0514/Vehicles0514.csv',\n",
              " 'uktraffic/0514/Casualties0514.csv',\n",
              " 'uktraffic/2018/dftRoadSafetyData_Accidents_2018.csv',\n",
              " 'uktraffic/2018/dftRoadSafetyData_Casualties_2018.csv',\n",
              " 'uktraffic/2018/dftRoadSafetyData_Vehicles_2018.csv',\n",
              " 'uktraffic/2015/Accidents_2015.csv',\n",
              " 'uktraffic/2015/Casualties_2015.csv',\n",
              " 'uktraffic/2015/Vehicles_2015.csv',\n",
              " 'uktraffic/2017/Cas.csv',\n",
              " 'uktraffic/2017/Acc.csv',\n",
              " 'uktraffic/2017/Veh.csv',\n",
              " 'uktraffic/2016/Cas.csv',\n",
              " 'uktraffic/2016/dftRoadSafety_Accidents_2016.csv',\n",
              " 'uktraffic/2016/Veh.csv',\n",
              " 'uktraffic/2019/Road Safety Data- Vehicles 2019.csv',\n",
              " 'uktraffic/2019/Road Safety Data - Casualties 2019.csv',\n",
              " 'uktraffic/2019/Road Safety Data - Accidents 2019.csv']"
            ]
          },
          "metadata": {
            "tags": []
          },
          "execution_count": 3
        }
      ]
    },
    {
      "cell_type": "markdown",
      "metadata": {
        "id": "PJUetSihBg5r"
      },
      "source": [
        "# Data Preprocessing (download, parse, merge)"
      ]
    },
    {
      "cell_type": "markdown",
      "metadata": {
        "id": "7xEte9tbCA76"
      },
      "source": [
        "In the next step we load all columns of interest from the data files and merge the files of all years:"
      ]
    },
    {
      "cell_type": "markdown",
      "metadata": {
        "id": "j1TM5yqICN4H"
      },
      "source": [
        "## Accidents"
      ]
    },
    {
      "cell_type": "code",
      "metadata": {
        "id": "bPxDHjXZBpb6"
      },
      "source": [
        "cols = {'Accident_Index': str,\r\n",
        "        #'Longitude': float,\r\n",
        "        #'Latitude': float,\r\n",
        "        'Accident_Severity': int,\r\n",
        "        'Number_of_Vehicles': int,\r\n",
        "        #'Number_of_Casualties': int,\r\n",
        "        'Date': str,\r\n",
        "        'Time': str,\r\n",
        "        '1st_Road_Class': int,\r\n",
        "        #'1st_Road_Number': int,\r\n",
        "        #'Road_Type': int,\r\n",
        "        'Speed_limit': float,\r\n",
        "        'Junction_Detail': int,\r\n",
        "        #'Junction_Control': int,\r\n",
        "        #'2nd_Road_Class': int,\r\n",
        "        #'2nd_Road_Number': int,\r\n",
        "        'Light_Conditions': int,\r\n",
        "        'Weather_Conditions': int,\r\n",
        "        'Road_Surface_Conditions': int,\r\n",
        "        #'Special_Conditions_at_Site': int,\r\n",
        "        'Urban_or_Rural_Area': int}\r\n",
        "\r\n",
        "files = [\r\n",
        "    path + '0514/Accidents0514.csv',\r\n",
        "    path + '2015/Accidents_2015.csv',\r\n",
        "    path + '2016/dftRoadSafety_Accidents_2016.csv',\r\n",
        "    path + '2017/Acc.csv',\r\n",
        "    path + '2018/dftRoadSafetyData_Accidents_2018.csv',\r\n",
        "    path + '2019/Road Safety Data - Accidents 2019.csv'\r\n",
        "]\r\n",
        "\r\n",
        "# load files as pandas.DataFrame\r\n",
        "pds = [pd.read_csv(f, usecols=list(cols.keys()), dtype=cols, parse_dates=['Date'], dayfirst=True) for f in files]\r\n",
        "\r\n",
        "# merge accidents files for all years\r\n",
        "acc = pd.concat(pds, ignore_index=True)"
      ],
      "execution_count": null,
      "outputs": []
    },
    {
      "cell_type": "markdown",
      "metadata": {
        "id": "YwnzVEe-CTuC"
      },
      "source": [
        "## Casualties"
      ]
    },
    {
      "cell_type": "code",
      "metadata": {
        "id": "ch7ismiiB8oI"
      },
      "source": [
        "cols = {'Accident_Index': str,\r\n",
        "        'Vehicle_Reference': int,\r\n",
        "        'Casualty_Reference': int,\r\n",
        "        'Casualty_Class': int,\r\n",
        "        'Sex_of_Casualty': int,\r\n",
        "        'Age_of_Casualty': int,\r\n",
        "        'Casualty_Severity': int}\r\n",
        "\r\n",
        "files = [\r\n",
        "    path + '0514/Casualties0514.csv',\r\n",
        "    path + '2015/Casualties_2015.csv',\r\n",
        "    path + '2016/Cas.csv',\r\n",
        "    path + '2017/Cas.csv',\r\n",
        "    path + '2018/dftRoadSafetyData_Casualties_2018.csv',\r\n",
        "    path + '2019/Road Safety Data - Casualties 2019.csv'\r\n",
        "]\r\n",
        "\r\n",
        "# load files as pandas.DataFrame\r\n",
        "pds = [pd.read_csv(f, usecols=list(cols.keys()), dtype=cols) for f in files]\r\n",
        "\r\n",
        "# merge casualties files for all years\r\n",
        "cas = pd.concat(pds, ignore_index=True)"
      ],
      "execution_count": null,
      "outputs": []
    },
    {
      "cell_type": "markdown",
      "metadata": {
        "id": "_fkJ-pnyCXHW"
      },
      "source": [
        "## Vehicles"
      ]
    },
    {
      "cell_type": "code",
      "metadata": {
        "id": "MOdRJvSaCdR6"
      },
      "source": [
        "cols = {'Accident_Index': str,\r\n",
        "        'Vehicle_Reference': int,\r\n",
        "        'Vehicle_Type': int,\r\n",
        "        #'Vehicle_Manoeuvre': int,\r\n",
        "        #'Junction_Location': int,\r\n",
        "        #'Skidding_and_Overturning': int,\r\n",
        "        #'Was_Vehicle_Left_Hand_Drive?': int,\r\n",
        "        #'Journey_Purpose_of_Driver': int,\r\n",
        "        'Sex_of_Driver': int,\r\n",
        "        'Age_of_Driver': int,\r\n",
        "        'Engine_Capacity_(CC)': int,\r\n",
        "        #'Propulsion_Code': int,\r\n",
        "        'Age_of_Vehicle': int}\r\n",
        "\r\n",
        "files = [\r\n",
        "    path + '0514/Vehicles0514.csv',\r\n",
        "    path + '2015/Vehicles_2015.csv',\r\n",
        "    path + '2016/Veh.csv',\r\n",
        "    path + '2017/Veh.csv',\r\n",
        "    path + '2018/dftRoadSafetyData_Vehicles_2018.csv',\r\n",
        "    path + '2019/Road Safety Data- Vehicles 2019.csv'\r\n",
        "]\r\n",
        "\r\n",
        "# load files as pandas.DataFrame\r\n",
        "pds = [pd.read_csv(f, usecols=list(cols.keys()), dtype=cols) for f in files]\r\n",
        "\r\n",
        "# merge vehicles files for all years\r\n",
        "veh = pd.concat(pds, ignore_index=True)"
      ],
      "execution_count": null,
      "outputs": []
    },
    {
      "cell_type": "markdown",
      "metadata": {
        "id": "FNH_m72LjzeD"
      },
      "source": [
        "Next, we take a quick look at the shapes of all datasets."
      ]
    },
    {
      "cell_type": "code",
      "metadata": {
        "colab": {
          "base_uri": "https://localhost:8080/"
        },
        "id": "RUhC5DbWjz1N",
        "outputId": "275dddfd-85b1-4aa7-cd08-a476386c1276"
      },
      "source": [
        "# Take a look at the shapes of all datasets\r\n",
        "print(acc.shape)\r\n",
        "print(cas.shape)\r\n",
        "print(veh.shape)"
      ],
      "execution_count": null,
      "outputs": [
        {
          "output_type": "stream",
          "text": [
            "(2287427, 12)\n",
            "(3069041, 7)\n",
            "(4196486, 7)\n"
          ],
          "name": "stdout"
        }
      ]
    },
    {
      "cell_type": "markdown",
      "metadata": {
        "id": "uOazFtU-j7Z8"
      },
      "source": [
        "We observe that the three datasets have different number of rows, because an **accident** can have multiple **vehicles** and multiple **casualties** involved. This means that the data has to be joined and aggregated for the purpose of the present analysis."
      ]
    },
    {
      "cell_type": "markdown",
      "metadata": {
        "id": "ceYocD6GHY1O"
      },
      "source": [
        "# Exploratory Data Analysis"
      ]
    },
    {
      "cell_type": "code",
      "metadata": {
        "colab": {
          "base_uri": "https://localhost:8080/",
          "height": 552
        },
        "id": "vFVy6CxcHb52",
        "outputId": "a6fd85fe-7223-4362-8e44-a5bab309861f"
      },
      "source": [
        "# Explore the variables' distributions in the accidents data set\r\n",
        "acc.hist(bins=30, xlabelsize=8, ylabelsize=8, figsize=(15,9));"
      ],
      "execution_count": null,
      "outputs": [
        {
          "output_type": "display_data",
          "data": {
            "image/png": "[encoded data removed]",
            "text/plain": [
              "<Figure size 1080x648 with 9 Axes>"
            ]
          },
          "metadata": {
            "tags": [],
            "needs_background": "light"
          }
        }
      ]
    },
    {
      "cell_type": "code",
      "metadata": {
        "colab": {
          "base_uri": "https://localhost:8080/",
          "height": 552
        },
        "id": "-SXFRjKpIaU2",
        "outputId": "ac1592ba-a677-4053-d2c6-af603a8a8990"
      },
      "source": [
        "# Explore the variables' distributions in the vehicles data set\r\n",
        "veh.hist(bins=30, xlabelsize=8, ylabelsize=8, figsize=(15,9));"
      ],
      "execution_count": null,
      "outputs": [
        {
          "output_type": "display_data",
          "data": {
            "image/png": "[encoded data removed]",
            "text/plain": [
              "<Figure size 1080x648 with 6 Axes>"
            ]
          },
          "metadata": {
            "tags": [],
            "needs_background": "light"
          }
        }
      ]
    },
    {
      "cell_type": "markdown",
      "metadata": {
        "id": "pq9SJA-aIjNH"
      },
      "source": [
        "Somewhat unsurprising, the most accidents are caused by 25 year old people, partially the reason why car insurance and rental companies have this age threshold for their pricing policy. The majority of the accidents are caused by men, which doesn't necessarily mean that they are worse drivers than women though, because they could just on average drive more often, or there are just more male car owners in general. In fact, according to a survey conducted in 2017 in the UK, 76% of the male participants, and 69% of the female participants own a motor vehicle."
      ]
    },
    {
      "cell_type": "code",
      "metadata": {
        "colab": {
          "base_uri": "https://localhost:8080/",
          "height": 552
        },
        "id": "XMpy9gCiIjgA",
        "outputId": "c0908a89-8d32-41cd-ef8e-3aec9911bd8a"
      },
      "source": [
        "# Explore the variables' distributions in the causalties data set\r\n",
        "cas.hist(bins=50, xlabelsize=8, ylabelsize=8, figsize=(15,9));"
      ],
      "execution_count": null,
      "outputs": [
        {
          "output_type": "display_data",
          "data": {
            "image/png": "[encoded data removed]",
            "text/plain": [
              "<Figure size 1080x648 with 6 Axes>"
            ]
          },
          "metadata": {
            "tags": [],
            "needs_background": "light"
          }
        }
      ]
    },
    {
      "cell_type": "markdown",
      "metadata": {
        "id": "WC76f_JWIjxS"
      },
      "source": [
        "The distribution of `Age_of_Casualty` paints a surprising picture. The peak is at around 20+ years old, which might be due to lack of experience and driving skills."
      ]
    },
    {
      "cell_type": "markdown",
      "metadata": {
        "id": "jOqnMgjZC7cW"
      },
      "source": [
        "# Data Cleaning"
      ]
    },
    {
      "cell_type": "markdown",
      "metadata": {
        "id": "PDK9sPzTDMQs"
      },
      "source": [
        "The goal of this step is to remove erroneous records, rectify possible artifacts, and ensure that all fields have the correct data type and representation (unit, format). The value `-1` for categorical variables means **Value missing or out of range**, but we will not remove it at this point and instead consider it depending on the analysis later on. Also, the value `0` for categorical variables usually denotes *None* or *Not applicable*."
      ]
    },
    {
      "cell_type": "markdown",
      "metadata": {
        "id": "ZlgtOqglDX8j"
      },
      "source": [
        "## Accidents"
      ]
    },
    {
      "cell_type": "code",
      "metadata": {
        "colab": {
          "base_uri": "https://localhost:8080/",
          "height": 309
        },
        "id": "kAiD_khdC9lK",
        "outputId": "dba5c16a-e493-4fb3-f4f9-c5d7a5342ecb"
      },
      "source": [
        "# Take a look at the accidents data\r\n",
        "acc.head()"
      ],
      "execution_count": null,
      "outputs": [
        {
          "output_type": "execute_result",
          "data": {
            "text/html": [
              "<div>\n",
              "<style scoped>\n",
              "    .dataframe tbody tr th:only-of-type {\n",
              "        vertical-align: middle;\n",
              "    }\n",
              "\n",
              "    .dataframe tbody tr th {\n",
              "        vertical-align: top;\n",
              "    }\n",
              "\n",
              "    .dataframe thead th {\n",
              "        text-align: right;\n",
              "    }\n",
              "</style>\n",
              "<table border=\"1\" class=\"dataframe\">\n",
              "  <thead>\n",
              "    <tr style=\"text-align: right;\">\n",
              "      <th></th>\n",
              "      <th>Accident_Index</th>\n",
              "      <th>Accident_Severity</th>\n",
              "      <th>Number_of_Vehicles</th>\n",
              "      <th>Date</th>\n",
              "      <th>Time</th>\n",
              "      <th>1st_Road_Class</th>\n",
              "      <th>Speed_limit</th>\n",
              "      <th>Junction_Detail</th>\n",
              "      <th>Light_Conditions</th>\n",
              "      <th>Weather_Conditions</th>\n",
              "      <th>Road_Surface_Conditions</th>\n",
              "      <th>Urban_or_Rural_Area</th>\n",
              "    </tr>\n",
              "  </thead>\n",
              "  <tbody>\n",
              "    <tr>\n",
              "      <th>0</th>\n",
              "      <td>200501BS00001</td>\n",
              "      <td>2</td>\n",
              "      <td>1</td>\n",
              "      <td>2005-01-04</td>\n",
              "      <td>17:42</td>\n",
              "      <td>3</td>\n",
              "      <td>30.0</td>\n",
              "      <td>0</td>\n",
              "      <td>1</td>\n",
              "      <td>2</td>\n",
              "      <td>2</td>\n",
              "      <td>1</td>\n",
              "    </tr>\n",
              "    <tr>\n",
              "      <th>1</th>\n",
              "      <td>200501BS00002</td>\n",
              "      <td>3</td>\n",
              "      <td>1</td>\n",
              "      <td>2005-01-05</td>\n",
              "      <td>17:36</td>\n",
              "      <td>4</td>\n",
              "      <td>30.0</td>\n",
              "      <td>6</td>\n",
              "      <td>4</td>\n",
              "      <td>1</td>\n",
              "      <td>1</td>\n",
              "      <td>1</td>\n",
              "    </tr>\n",
              "    <tr>\n",
              "      <th>2</th>\n",
              "      <td>200501BS00003</td>\n",
              "      <td>3</td>\n",
              "      <td>2</td>\n",
              "      <td>2005-01-06</td>\n",
              "      <td>00:15</td>\n",
              "      <td>5</td>\n",
              "      <td>30.0</td>\n",
              "      <td>0</td>\n",
              "      <td>4</td>\n",
              "      <td>1</td>\n",
              "      <td>1</td>\n",
              "      <td>1</td>\n",
              "    </tr>\n",
              "    <tr>\n",
              "      <th>3</th>\n",
              "      <td>200501BS00004</td>\n",
              "      <td>3</td>\n",
              "      <td>1</td>\n",
              "      <td>2005-01-07</td>\n",
              "      <td>10:35</td>\n",
              "      <td>3</td>\n",
              "      <td>30.0</td>\n",
              "      <td>0</td>\n",
              "      <td>1</td>\n",
              "      <td>1</td>\n",
              "      <td>1</td>\n",
              "      <td>1</td>\n",
              "    </tr>\n",
              "    <tr>\n",
              "      <th>4</th>\n",
              "      <td>200501BS00005</td>\n",
              "      <td>3</td>\n",
              "      <td>1</td>\n",
              "      <td>2005-01-10</td>\n",
              "      <td>21:13</td>\n",
              "      <td>6</td>\n",
              "      <td>30.0</td>\n",
              "      <td>0</td>\n",
              "      <td>7</td>\n",
              "      <td>1</td>\n",
              "      <td>2</td>\n",
              "      <td>1</td>\n",
              "    </tr>\n",
              "  </tbody>\n",
              "</table>\n",
              "</div>"
            ],
            "text/plain": [
              "  Accident_Index  ...  Urban_or_Rural_Area\n",
              "0  200501BS00001  ...                    1\n",
              "1  200501BS00002  ...                    1\n",
              "2  200501BS00003  ...                    1\n",
              "3  200501BS00004  ...                    1\n",
              "4  200501BS00005  ...                    1\n",
              "\n",
              "[5 rows x 12 columns]"
            ]
          },
          "metadata": {
            "tags": []
          },
          "execution_count": 11
        }
      ]
    },
    {
      "cell_type": "code",
      "metadata": {
        "colab": {
          "base_uri": "https://localhost:8080/"
        },
        "id": "c2l1_ErXjgXT",
        "outputId": "3aeed0f4-91d3-41b1-ec96-5026099d7d6a"
      },
      "source": [
        "# Check each column individually for missing values\r\n",
        "for col in acc.columns:\r\n",
        "  NAs = acc[col].isna().sum()\r\n",
        "  print('The column ',col, ' has ', NAs, ' missing values')\r\n",
        "\r\n",
        "# Drop all accidents for which one of the crucial variables (i.e. 'Time' and 'Speed Limit') has missing values\r\n",
        "rm_acc_idxs1 = acc[acc['Time'].isnull()]['Accident_Index']\r\n",
        "rm_acc_idxs2 = acc[acc['Speed_limit'].isnull()]['Accident_Index']\r\n",
        "\r\n",
        "acc = acc[~acc['Accident_Index'].isin(rm_acc_idxs1)].copy()\r\n",
        "acc = acc[~acc['Accident_Index'].isin(rm_acc_idxs2)].copy()\r\n",
        "cas = cas[~cas['Accident_Index'].isin(rm_acc_idxs1)].copy()\r\n",
        "cas = cas[~cas['Accident_Index'].isin(rm_acc_idxs2)].copy()\r\n",
        "veh = veh[~veh['Accident_Index'].isin(rm_acc_idxs1)].copy()\r\n",
        "veh = veh[~veh['Accident_Index'].isin(rm_acc_idxs2)].copy()\r\n",
        "\r\n",
        "print(f'Removed {rm_acc_idxs1.shape[0]} rows because of missing Time values')\r\n",
        "print(f'Removed {rm_acc_idxs2.shape[0]} rows because of missing Speed limit')"
      ],
      "execution_count": null,
      "outputs": [
        {
          "output_type": "stream",
          "text": [
            "The column  Accident_Index  has  0  missing values\n",
            "The column  Accident_Severity  has  0  missing values\n",
            "The column  Number_of_Vehicles  has  0  missing values\n",
            "The column  Date  has  0  missing values\n",
            "The column  Time  has  232  missing values\n",
            "The column  1st_Road_Class  has  0  missing values\n",
            "The column  Speed_limit  has  37  missing values\n",
            "The column  Junction_Detail  has  0  missing values\n",
            "The column  Light_Conditions  has  0  missing values\n",
            "The column  Weather_Conditions  has  0  missing values\n",
            "The column  Road_Surface_Conditions  has  0  missing values\n",
            "The column  Urban_or_Rural_Area  has  0  missing values\n",
            "Removed 232 rows because of missing Time values\n",
            "Removed 37 rows because of missing Speed limit\n"
          ],
          "name": "stdout"
        }
      ]
    },
    {
      "cell_type": "markdown",
      "metadata": {
        "id": "vnfyMezGDrtT"
      },
      "source": [
        "The **`Time`** column is given as a string and formatted as `HH:MM` -- but we want it as a categorical variable which indicates the hour of a day. Hence, we first transform the **`Time`** variable into a decimal number representing hours (new column **`Time Hours`**) and then derive the categorical variable **`Hour of day`** we are after from it.\r\n",
        "Furthermore, we extract the years, months and weekdays from the date variable, and drop every unneeded variable thereafter."
      ]
    },
    {
      "cell_type": "code",
      "metadata": {
        "id": "5hav7pAyDoSh"
      },
      "source": [
        "## Reshape time related variables (Hour of day, Day per week, Year)\r\n",
        "\r\n",
        "# Transform the Time variables into a decimal number representing hours and stor it within the 'Time_Hours' variable\r\n",
        "acc['Time_Hours'] = pd.to_datetime(acc['Time'], format='%H:%M').dt.time.apply(lambda x: x.hour + x.minute/60).astype(float)\r\n",
        "\r\n",
        "# Extract the destinct hours of a day from the 'Time_Hours' variable and store it within 'Hour_of_Day' as an object\r\n",
        "acc['Hour_of_Day'] = acc['Time_Hours'].astype(int).astype(object)\r\n",
        "\r\n",
        "# Extract the destinct years and store them as an object\r\n",
        "acc['Year'] = acc['Date'].dt.year.astype(object)\r\n",
        "\r\n",
        "# Extract the destinct months and store them as an object\r\n",
        "acc['Month'] = acc['Date'].dt.month.astype(object)\r\n",
        "\r\n",
        "# Extract the destinct weekdays and store them as an object\r\n",
        "acc['Day_of_Week'] = acc['Date'].dt.weekday + 1  # 1 = Monday, 7 = Sunday\r\n",
        "acc['Day_of_Week'].loc[acc['Day_of_Week'] == 1] = 'Monday'\r\n",
        "acc['Day_of_Week'].loc[acc['Day_of_Week'] == 2] = 'Tuesday'\r\n",
        "acc['Day_of_Week'].loc[acc['Day_of_Week'] == 3] = 'Wednesday'\r\n",
        "acc['Day_of_Week'].loc[acc['Day_of_Week'] == 4] = 'Thursday'\r\n",
        "acc['Day_of_Week'].loc[acc['Day_of_Week'] == 5] = 'Friday'\r\n",
        "acc['Day_of_Week'].loc[acc['Day_of_Week'] == 6] = 'Saturday'\r\n",
        "acc['Day_of_Week'].loc[acc['Day_of_Week'] == 7] = 'Sunday'\r\n",
        "\r\n",
        "# Drop unneeded variables\r\n",
        "acc.drop(['Time_Hours','Time','Date'], axis = 1, inplace = True)"
      ],
      "execution_count": null,
      "outputs": []
    },
    {
      "cell_type": "markdown",
      "metadata": {
        "id": "vXaViHIEERwi"
      },
      "source": [
        "The **`Accident_Severity`** column takes the values `1 = Fatal`, `2 = Serious`, `3 = Slight`. We transform it into a categorical variable such that it directly indicates one of these classes."
      ]
    },
    {
      "cell_type": "code",
      "metadata": {
        "id": "QUXHU2V-EYvY",
        "colab": {
          "base_uri": "https://localhost:8080/"
        },
        "outputId": "e094e020-60a8-4eb6-9f63-f24b317525d5"
      },
      "source": [
        "# Transform 'Accident_Severity' into a categorical variable indicating each class\r\n",
        "acc['Accident_Severity'].loc[acc['Accident_Severity'] == 1] = 'Fatal'\r\n",
        "acc['Accident_Severity'].loc[acc['Accident_Severity'] == 2] = 'Serious'\r\n",
        "acc['Accident_Severity'].loc[acc['Accident_Severity'] == 3] = 'Slight'\r\n",
        "\r\n",
        "# Take a look at the distinct entries\r\n",
        "np.unique(acc['Accident_Severity']) # We observe that no category indicating missing or out-of-range values is contained"
      ],
      "execution_count": null,
      "outputs": [
        {
          "output_type": "execute_result",
          "data": {
            "text/plain": [
              "array(['Fatal', 'Serious', 'Slight'], dtype=object)"
            ]
          },
          "metadata": {
            "tags": []
          },
          "execution_count": 14
        }
      ]
    },
    {
      "cell_type": "markdown",
      "metadata": {
        "id": "G7lMJJ6Payzd"
      },
      "source": [
        "Next, we create a dummy variable which indicates whether or not multiple vehicles were involved in the accident."
      ]
    },
    {
      "cell_type": "code",
      "metadata": {
        "id": "U1mKPMmWYOfs"
      },
      "source": [
        "# Create dummy 'Multiple_Vehicles_involved'\r\n",
        "acc['Multiple_Vehicles_involved'] = 0\r\n",
        "acc['Multiple_Vehicles_involved'].loc[acc['Number_of_Vehicles'] > 1] = 1\r\n",
        "\r\n",
        "# Drop the superfluous variable\r\n",
        "acc.drop(['Number_of_Vehicles'], axis=1, inplace=True)"
      ],
      "execution_count": null,
      "outputs": []
    },
    {
      "cell_type": "markdown",
      "metadata": {
        "id": "ujX69XLNcWiz"
      },
      "source": [
        "The variable **`1st_Road_Class`** takes the values `1 = Motorway`, `2 = Motorways (A/M)`, `3 = Trunk Routes (A)`, `4 = Distributor Roads (B)`, `5 = Minor Roads (C)`, `6 = Unclassified Roads`. Hence, we merge categories 1 and 2 together into Motorways and relabel all the other categories accordingly."
      ]
    },
    {
      "cell_type": "code",
      "metadata": {
        "colab": {
          "base_uri": "https://localhost:8080/"
        },
        "id": "tjMmgrdgd1X6",
        "outputId": "cda45887-4e03-41b8-a225-158af6bbe707"
      },
      "source": [
        "# Relabel the column into 'Road Class'\r\n",
        "acc.rename(columns={\"1st_Road_Class\": \"Road_Class\"}, inplace = True)\r\n",
        "\r\n",
        "# Transform 'Road Class' into a categorical variable indicating each road type\r\n",
        "acc['Road_Class'].loc[acc['Road_Class'].isin([1,2])] = 'Motorway (A/M)'\r\n",
        "acc['Road_Class'].loc[acc['Road_Class'] == 3] = 'Trunk Routes (A)'\r\n",
        "acc['Road_Class'].loc[acc['Road_Class'] == 4] = 'Distributor Roads (B)'\r\n",
        "acc['Road_Class'].loc[acc['Road_Class'] == 5] = 'Minor Roads (C)'\r\n",
        "acc['Road_Class'].loc[acc['Road_Class'] == 6] = 'Unclassified Roads'\r\n",
        "\r\n",
        "# Take a look at the distinct entries\r\n",
        "np.unique(acc['Road_Class']) # We observe that no category indicating missing or out-of-range values is contained"
      ],
      "execution_count": null,
      "outputs": [
        {
          "output_type": "execute_result",
          "data": {
            "text/plain": [
              "array(['Distributor Roads (B)', 'Minor Roads (C)', 'Motorway (A/M)',\n",
              "       'Trunk Routes (A)', 'Unclassified Roads'], dtype=object)"
            ]
          },
          "metadata": {
            "tags": []
          },
          "execution_count": 16
        }
      ]
    },
    {
      "cell_type": "markdown",
      "metadata": {
        "id": "buYRiooAh4Hb"
      },
      "source": [
        "Next, we format the **`Speed_limit`** variable as desired."
      ]
    },
    {
      "cell_type": "code",
      "metadata": {
        "colab": {
          "base_uri": "https://localhost:8080/"
        },
        "id": "NfmZn9vvg45F",
        "outputId": "45f2be51-3564-48be-f4e7-d8dbac86b421"
      },
      "source": [
        "# Take a look at the distinct entries\r\n",
        "print('The distinct values within the Speed_limit variables are:', np.unique(acc.Speed_limit))\r\n",
        "\r\n",
        "# We observe that there are values contained, which indicate that the value is missing (i.e. -1 and 0)\r\n",
        "print('To remove rows with an entry of -1 or 0, we have to remove', acc['Speed_limit'].loc[acc['Speed_limit'].isin([-1,0])].count(), 'observations')\r\n",
        "\r\n",
        "# Drop observations with a -1 or 0 entry as the speed limit\r\n",
        "rm_acc_idxs = acc[acc['Speed_limit'].isin([-1,0])]['Accident_Index']\r\n",
        "acc = acc[~acc['Accident_Index'].isin(rm_acc_idxs)].copy()\r\n",
        "cas = cas[~cas['Accident_Index'].isin(rm_acc_idxs)].copy()\r\n",
        "veh = veh[~veh['Accident_Index'].isin(rm_acc_idxs)].copy()\r\n",
        "\r\n",
        "# Transform the variable 'Speed_limit' into a categorical variable\r\n",
        "acc['Speed_limit'] = acc['Speed_limit'].astype(object)"
      ],
      "execution_count": null,
      "outputs": [
        {
          "output_type": "stream",
          "text": [
            "The distinct values within the Speed_limit variables are: [-1.  0. 10. 15. 20. 30. 40. 50. 60. 70.]\n",
            "To remove rows with an entry of -1 or 0, we have to remove 81 observations\n"
          ],
          "name": "stdout"
        }
      ]
    },
    {
      "cell_type": "markdown",
      "metadata": {
        "id": "ONs2KXBZqJPW"
      },
      "source": [
        "The variable **`Junction_Detail`** takes the values `0 = Not at junction or within 20 meters`, `1 = Roundabout`, `2 = Mini-roundabout`, `3 = T or straggered junction`, `5 = Slip road`, `6 = Crossroads`, `7 = More than 4 arms (not roundabout)`, `8 = Private drive or entrance`, `9 = Other junction`, `-1 = Data missing or out of range`. Hence, we merge categories 3, 5, 6, 7 and 9 together into 'Junction', categories 1 and 2 into 'Roundabout' and categories 0 and 8 into 'Open Street'."
      ]
    },
    {
      "cell_type": "code",
      "metadata": {
        "colab": {
          "base_uri": "https://localhost:8080/"
        },
        "id": "W8xVIkZzqJoz",
        "outputId": "50c5f62c-4693-469d-a50c-5cad9a034b37"
      },
      "source": [
        "# Drop observations with a -1 entry in the 'Junction_Detail' variable\r\n",
        "rm_acc_idxs = acc[acc['Junction_Detail'] == -1]['Accident_Index']\r\n",
        "acc = acc[~acc['Accident_Index'].isin(rm_acc_idxs)].copy()\r\n",
        "cas = cas[~cas['Accident_Index'].isin(rm_acc_idxs)].copy()\r\n",
        "veh = veh[~veh['Accident_Index'].isin(rm_acc_idxs)].copy()\r\n",
        "print(f'Removed {rm_acc_idxs.shape[0]} rows because of missing junction detail')\r\n",
        "\r\n",
        "# Transform 'Junction_Detail' into a categorical variable and merge all categories as desired\r\n",
        "acc['Junction_Detail'].loc[acc['Junction_Detail'].isin([3,5,6,7,9])] = 'Junction'\r\n",
        "acc['Junction_Detail'].loc[acc['Junction_Detail'].isin([1,2])] = 'Roundabout'\r\n",
        "acc['Junction_Detail'].loc[acc['Junction_Detail'].isin([0,8])] = 'Open Street'\r\n",
        "\r\n",
        "# Take a look at the distinct entries\r\n",
        "np.unique(acc.Junction_Detail)"
      ],
      "execution_count": null,
      "outputs": [
        {
          "output_type": "stream",
          "text": [
            "Removed 2885 rows because of missing junction detail\n"
          ],
          "name": "stdout"
        },
        {
          "output_type": "execute_result",
          "data": {
            "text/plain": [
              "array(['Junction', 'Open Street', 'Roundabout'], dtype=object)"
            ]
          },
          "metadata": {
            "tags": []
          },
          "execution_count": 18
        }
      ]
    },
    {
      "cell_type": "markdown",
      "metadata": {
        "id": "l_zWn9I4yTlv"
      },
      "source": [
        "Next, we format the weather and road condition related variables. Since in each of these variables an entry equal to -1 indicates that the data is missing or out of range we drop the corresponding observations."
      ]
    },
    {
      "cell_type": "code",
      "metadata": {
        "colab": {
          "base_uri": "https://localhost:8080/"
        },
        "id": "H7Hvw8S5zTNN",
        "outputId": "bf64bb36-30c7-484a-8850-9d9ed2180a4b"
      },
      "source": [
        "# Drop observations with a -1 entry in the 'Light_Conditions', 'Weather_Conditions' or 'Road_Surface_Conditions' variable\r\n",
        "rm_acc_idxs1 = acc[acc['Light_Conditions'] == -1]['Accident_Index']\r\n",
        "rm_acc_idxs2 = acc[acc['Weather_Conditions'] == -1]['Accident_Index']\r\n",
        "rm_acc_idxs3 = acc[acc['Road_Surface_Conditions'] == -1]['Accident_Index']\r\n",
        "acc = acc[~acc['Accident_Index'].isin(rm_acc_idxs1)].copy()\r\n",
        "acc = acc[~acc['Accident_Index'].isin(rm_acc_idxs2)].copy()\r\n",
        "acc = acc[~acc['Accident_Index'].isin(rm_acc_idxs3)].copy()\r\n",
        "cas = cas[~cas['Accident_Index'].isin(rm_acc_idxs1)].copy()\r\n",
        "cas = cas[~cas['Accident_Index'].isin(rm_acc_idxs2)].copy()\r\n",
        "cas = cas[~cas['Accident_Index'].isin(rm_acc_idxs3)].copy()\r\n",
        "veh = veh[~veh['Accident_Index'].isin(rm_acc_idxs1)].copy()\r\n",
        "veh = veh[~veh['Accident_Index'].isin(rm_acc_idxs2)].copy()\r\n",
        "veh = veh[~veh['Accident_Index'].isin(rm_acc_idxs3)].copy()\r\n",
        "print(f'Removed {rm_acc_idxs1.shape[0]} rows because of missing light conditions')\r\n",
        "print(f'Removed {rm_acc_idxs2.shape[0]} rows because of missing weather conditions')\r\n",
        "print(f'Removed {rm_acc_idxs3.shape[0]} rows because of missing road surface conditions')\r\n",
        "\r\n",
        "# Transform 'Light_Conditions' into a categorical variable indicating each class\r\n",
        "acc['Light_Conditions'].loc[acc['Light_Conditions'] == 1] = 'Daylight'\r\n",
        "acc['Light_Conditions'].loc[acc['Light_Conditions'] == 4] = 'Darkness - lights lit'\r\n",
        "acc['Light_Conditions'].loc[acc['Light_Conditions'] == 5] = 'Darkness - lights unlit'\r\n",
        "acc['Light_Conditions'].loc[acc['Light_Conditions'] == 6] = 'Darkness - no lighting'\r\n",
        "acc['Light_Conditions'].loc[acc['Light_Conditions'] == 7] = 'Darkness - lighting unknown'\r\n",
        "\r\n",
        "# Transform 'Weather_Conditions' into a categorical variable indicating each class\r\n",
        "acc['Weather_Conditions'].loc[acc['Weather_Conditions'] == 1] = 'Fine & no high winds'\r\n",
        "acc['Weather_Conditions'].loc[acc['Weather_Conditions'] == 2] = 'Raining & no high winds'\r\n",
        "acc['Weather_Conditions'].loc[acc['Weather_Conditions'] == 3] = 'Snowing & no high winds'\r\n",
        "acc['Weather_Conditions'].loc[acc['Weather_Conditions'] == 4] = 'Fine & high winds'\r\n",
        "acc['Weather_Conditions'].loc[acc['Weather_Conditions'] == 5] = 'Raining & high winds'\r\n",
        "acc['Weather_Conditions'].loc[acc['Weather_Conditions'] == 6] = 'Snowing & high winds'\r\n",
        "acc['Weather_Conditions'].loc[acc['Weather_Conditions'] == 7] = 'Fog or mist'\r\n",
        "acc['Weather_Conditions'].loc[acc['Weather_Conditions'].isin([8,9])] = 'Other or Unknown'\r\n",
        "\r\n",
        "# Transform 'Road_Surface_Conditions' into a categorical variable indicating each class\r\n",
        "acc['Road_Surface_Conditions'].loc[acc['Road_Surface_Conditions'] == 1] = 'Dry'\r\n",
        "acc['Road_Surface_Conditions'].loc[acc['Road_Surface_Conditions'] == 2] = 'Wet or damp'\r\n",
        "acc['Road_Surface_Conditions'].loc[acc['Road_Surface_Conditions'] == 3] = 'Snow'\r\n",
        "acc['Road_Surface_Conditions'].loc[acc['Road_Surface_Conditions'] == 4] = 'Frost or ice'\r\n",
        "acc['Road_Surface_Conditions'].loc[acc['Road_Surface_Conditions'] == 5] = 'Flood over 3cm. deep'\r\n",
        "acc['Road_Surface_Conditions'].loc[acc['Road_Surface_Conditions'] == 6] = 'Oil or diesel'\r\n",
        "acc['Road_Surface_Conditions'].loc[acc['Road_Surface_Conditions'] == 7] = 'Mud'\r\n",
        "\r\n",
        "# Take a look at the distinct entries\r\n",
        "print('The distinct entries in the Light_Conditions variable are:', np.unique(acc.Light_Conditions))\r\n",
        "print('The distinct entries in the Weather_Conditions variable are:', np.unique(acc.Weather_Conditions))\r\n",
        "print('The distinct entries in the Road_Surface_Conditions variable are:', np.unique(acc.Road_Surface_Conditions))"
      ],
      "execution_count": null,
      "outputs": [
        {
          "output_type": "stream",
          "text": [
            "Removed 12 rows because of missing light conditions\n",
            "Removed 191 rows because of missing weather conditions\n",
            "Removed 6874 rows because of missing road surface conditions\n",
            "The distinct entries in the Light_Conditions variable are: ['Darkness - lighting unknown' 'Darkness - lights lit'\n",
            " 'Darkness - lights unlit' 'Darkness - no lighting' 'Daylight']\n",
            "The distinct entries in the Weather_Conditions variable are: ['Fine & high winds' 'Fine & no high winds' 'Fog or mist'\n",
            " 'Other or Unknown' 'Raining & high winds' 'Raining & no high winds'\n",
            " 'Snowing & high winds' 'Snowing & no high winds']\n",
            "The distinct entries in the Road_Surface_Conditions variable are: ['Dry' 'Flood over 3cm. deep' 'Frost or ice' 'Snow' 'Wet or damp']\n"
          ],
          "name": "stdout"
        }
      ]
    },
    {
      "cell_type": "markdown",
      "metadata": {
        "id": "lTfTD3i1ZRcs"
      },
      "source": [
        "Next, we format the **`Urban_or_Rural_Area`** variable into a dummy variable which takes the value 1 if an accident occurred in an Urban area, and the value 0 if the accident was located in a Rural area. The variable **`Urban_or_Rural_Area`** takes the values `-1 = data missing or out of range`, `1 = Urban`, `2 = Rural`, `3 = Unallocated`. Hence, we drop all observations where the entry is -1 or 3."
      ]
    },
    {
      "cell_type": "code",
      "metadata": {
        "colab": {
          "base_uri": "https://localhost:8080/"
        },
        "id": "GaC02l1-aGhY",
        "outputId": "f1ef3ac6-9b9e-4965-e84a-aee307a256c6"
      },
      "source": [
        "# Drop observations with a -1 or 3 entry in the 'Urban_or_Rural_Area' variable\r\n",
        "rm_acc_idxs = acc[acc['Urban_or_Rural_Area'].isin([-1,3])]['Accident_Index']\r\n",
        "acc = acc[~acc['Accident_Index'].isin(rm_acc_idxs)].copy()\r\n",
        "cas = cas[~cas['Accident_Index'].isin(rm_acc_idxs)].copy()\r\n",
        "veh = veh[~veh['Accident_Index'].isin(rm_acc_idxs)].copy()\r\n",
        "print(f'Removed {rm_acc_idxs.shape[0]} rows because of missing Urban/Rural allocation detail')\r\n",
        "\r\n",
        "# Create dummy 'Urban_Area'\r\n",
        "acc['Urban_Area'] = 0\r\n",
        "acc['Urban_Area'].loc[acc['Urban_or_Rural_Area'] == 1] = 1\r\n",
        "\r\n",
        "# Drop the superfluous variable\r\n",
        "acc.drop(['Urban_or_Rural_Area'], axis=1, inplace=True)"
      ],
      "execution_count": null,
      "outputs": [
        {
          "output_type": "stream",
          "text": [
            "Removed 240 rows because of missing Urban/Rural allocation detail\n"
          ],
          "name": "stdout"
        }
      ]
    },
    {
      "cell_type": "code",
      "metadata": {
        "colab": {
          "base_uri": "https://localhost:8080/"
        },
        "id": "zOVKz4NKmc2_",
        "outputId": "ecc78575-8711-4968-a80b-0090f813a044"
      },
      "source": [
        "acc.shape"
      ],
      "execution_count": null,
      "outputs": [
        {
          "output_type": "execute_result",
          "data": {
            "text/plain": [
              "(2276930, 14)"
            ]
          },
          "metadata": {
            "tags": []
          },
          "execution_count": 21
        }
      ]
    },
    {
      "cell_type": "code",
      "metadata": {
        "colab": {
          "base_uri": "https://localhost:8080/"
        },
        "id": "YOVTme2vEbxL",
        "outputId": "8b53a74d-778e-4dd9-c3f4-843e1f0964ec"
      },
      "source": [
        "# Take a look at the types of the columns\r\n",
        "acc.dtypes"
      ],
      "execution_count": null,
      "outputs": [
        {
          "output_type": "execute_result",
          "data": {
            "text/plain": [
              "Accident_Index                object\n",
              "Accident_Severity             object\n",
              "Road_Class                    object\n",
              "Speed_limit                   object\n",
              "Junction_Detail               object\n",
              "Light_Conditions              object\n",
              "Weather_Conditions            object\n",
              "Road_Surface_Conditions       object\n",
              "Hour_of_Day                   object\n",
              "Year                          object\n",
              "Month                         object\n",
              "Day_of_Week                   object\n",
              "Multiple_Vehicles_involved     int64\n",
              "Urban_Area                     int64\n",
              "dtype: object"
            ]
          },
          "metadata": {
            "tags": []
          },
          "execution_count": 22
        }
      ]
    },
    {
      "cell_type": "code",
      "metadata": {
        "colab": {
          "base_uri": "https://localhost:8080/",
          "height": 309
        },
        "id": "gXN5-sTngEe9",
        "outputId": "323ed5a7-41c0-44b0-e01b-7c8cfe01011c"
      },
      "source": [
        "# Take a look at the cleaned accidents data\r\n",
        "acc.head()"
      ],
      "execution_count": null,
      "outputs": [
        {
          "output_type": "execute_result",
          "data": {
            "text/html": [
              "<div>\n",
              "<style scoped>\n",
              "    .dataframe tbody tr th:only-of-type {\n",
              "        vertical-align: middle;\n",
              "    }\n",
              "\n",
              "    .dataframe tbody tr th {\n",
              "        vertical-align: top;\n",
              "    }\n",
              "\n",
              "    .dataframe thead th {\n",
              "        text-align: right;\n",
              "    }\n",
              "</style>\n",
              "<table border=\"1\" class=\"dataframe\">\n",
              "  <thead>\n",
              "    <tr style=\"text-align: right;\">\n",
              "      <th></th>\n",
              "      <th>Accident_Index</th>\n",
              "      <th>Accident_Severity</th>\n",
              "      <th>Road_Class</th>\n",
              "      <th>Speed_limit</th>\n",
              "      <th>Junction_Detail</th>\n",
              "      <th>Light_Conditions</th>\n",
              "      <th>Weather_Conditions</th>\n",
              "      <th>Road_Surface_Conditions</th>\n",
              "      <th>Hour_of_Day</th>\n",
              "      <th>Year</th>\n",
              "      <th>Month</th>\n",
              "      <th>Day_of_Week</th>\n",
              "      <th>Multiple_Vehicles_involved</th>\n",
              "      <th>Urban_Area</th>\n",
              "    </tr>\n",
              "  </thead>\n",
              "  <tbody>\n",
              "    <tr>\n",
              "      <th>0</th>\n",
              "      <td>200501BS00001</td>\n",
              "      <td>Serious</td>\n",
              "      <td>Trunk Routes (A)</td>\n",
              "      <td>30</td>\n",
              "      <td>Open Street</td>\n",
              "      <td>Daylight</td>\n",
              "      <td>Raining &amp; no high winds</td>\n",
              "      <td>Wet or damp</td>\n",
              "      <td>17</td>\n",
              "      <td>2005</td>\n",
              "      <td>1</td>\n",
              "      <td>Tuesday</td>\n",
              "      <td>0</td>\n",
              "      <td>1</td>\n",
              "    </tr>\n",
              "    <tr>\n",
              "      <th>1</th>\n",
              "      <td>200501BS00002</td>\n",
              "      <td>Slight</td>\n",
              "      <td>Distributor Roads (B)</td>\n",
              "      <td>30</td>\n",
              "      <td>Junction</td>\n",
              "      <td>Darkness - lights lit</td>\n",
              "      <td>Fine &amp; no high winds</td>\n",
              "      <td>Dry</td>\n",
              "      <td>17</td>\n",
              "      <td>2005</td>\n",
              "      <td>1</td>\n",
              "      <td>Wednesday</td>\n",
              "      <td>0</td>\n",
              "      <td>1</td>\n",
              "    </tr>\n",
              "    <tr>\n",
              "      <th>2</th>\n",
              "      <td>200501BS00003</td>\n",
              "      <td>Slight</td>\n",
              "      <td>Minor Roads (C)</td>\n",
              "      <td>30</td>\n",
              "      <td>Open Street</td>\n",
              "      <td>Darkness - lights lit</td>\n",
              "      <td>Fine &amp; no high winds</td>\n",
              "      <td>Dry</td>\n",
              "      <td>0</td>\n",
              "      <td>2005</td>\n",
              "      <td>1</td>\n",
              "      <td>Thursday</td>\n",
              "      <td>1</td>\n",
              "      <td>1</td>\n",
              "    </tr>\n",
              "    <tr>\n",
              "      <th>3</th>\n",
              "      <td>200501BS00004</td>\n",
              "      <td>Slight</td>\n",
              "      <td>Trunk Routes (A)</td>\n",
              "      <td>30</td>\n",
              "      <td>Open Street</td>\n",
              "      <td>Daylight</td>\n",
              "      <td>Fine &amp; no high winds</td>\n",
              "      <td>Dry</td>\n",
              "      <td>10</td>\n",
              "      <td>2005</td>\n",
              "      <td>1</td>\n",
              "      <td>Friday</td>\n",
              "      <td>0</td>\n",
              "      <td>1</td>\n",
              "    </tr>\n",
              "    <tr>\n",
              "      <th>4</th>\n",
              "      <td>200501BS00005</td>\n",
              "      <td>Slight</td>\n",
              "      <td>Unclassified Roads</td>\n",
              "      <td>30</td>\n",
              "      <td>Open Street</td>\n",
              "      <td>Darkness - lighting unknown</td>\n",
              "      <td>Fine &amp; no high winds</td>\n",
              "      <td>Wet or damp</td>\n",
              "      <td>21</td>\n",
              "      <td>2005</td>\n",
              "      <td>1</td>\n",
              "      <td>Monday</td>\n",
              "      <td>0</td>\n",
              "      <td>1</td>\n",
              "    </tr>\n",
              "  </tbody>\n",
              "</table>\n",
              "</div>"
            ],
            "text/plain": [
              "  Accident_Index Accident_Severity  ... Multiple_Vehicles_involved Urban_Area\n",
              "0  200501BS00001           Serious  ...                          0          1\n",
              "1  200501BS00002            Slight  ...                          0          1\n",
              "2  200501BS00003            Slight  ...                          1          1\n",
              "3  200501BS00004            Slight  ...                          0          1\n",
              "4  200501BS00005            Slight  ...                          0          1\n",
              "\n",
              "[5 rows x 14 columns]"
            ]
          },
          "metadata": {
            "tags": []
          },
          "execution_count": 23
        }
      ]
    },
    {
      "cell_type": "code",
      "metadata": {
        "colab": {
          "base_uri": "https://localhost:8080/"
        },
        "id": "xsN6njAZds4k",
        "outputId": "4b8bd8c0-2b83-4def-d13e-9bf5b07f6e9c"
      },
      "source": [
        "acc.isna().sum()"
      ],
      "execution_count": null,
      "outputs": [
        {
          "output_type": "execute_result",
          "data": {
            "text/plain": [
              "Accident_Index                0\n",
              "Accident_Severity             0\n",
              "Road_Class                    0\n",
              "Speed_limit                   0\n",
              "Junction_Detail               0\n",
              "Light_Conditions              0\n",
              "Weather_Conditions            0\n",
              "Road_Surface_Conditions       0\n",
              "Hour_of_Day                   0\n",
              "Year                          0\n",
              "Month                         0\n",
              "Day_of_Week                   0\n",
              "Multiple_Vehicles_involved    0\n",
              "Urban_Area                    0\n",
              "dtype: int64"
            ]
          },
          "metadata": {
            "tags": []
          },
          "execution_count": 24
        }
      ]
    },
    {
      "cell_type": "markdown",
      "metadata": {
        "id": "esIOeOYmEnUd"
      },
      "source": [
        "## Causalties"
      ]
    },
    {
      "cell_type": "code",
      "metadata": {
        "colab": {
          "base_uri": "https://localhost:8080/",
          "height": 204
        },
        "id": "IbOFFSoDEotx",
        "outputId": "5903689d-3ab0-49ad-e5ba-11d5a755b346"
      },
      "source": [
        "# Take a look at the causalties data\r\n",
        "cas.head()"
      ],
      "execution_count": null,
      "outputs": [
        {
          "output_type": "execute_result",
          "data": {
            "text/html": [
              "<div>\n",
              "<style scoped>\n",
              "    .dataframe tbody tr th:only-of-type {\n",
              "        vertical-align: middle;\n",
              "    }\n",
              "\n",
              "    .dataframe tbody tr th {\n",
              "        vertical-align: top;\n",
              "    }\n",
              "\n",
              "    .dataframe thead th {\n",
              "        text-align: right;\n",
              "    }\n",
              "</style>\n",
              "<table border=\"1\" class=\"dataframe\">\n",
              "  <thead>\n",
              "    <tr style=\"text-align: right;\">\n",
              "      <th></th>\n",
              "      <th>Accident_Index</th>\n",
              "      <th>Vehicle_Reference</th>\n",
              "      <th>Casualty_Reference</th>\n",
              "      <th>Casualty_Class</th>\n",
              "      <th>Sex_of_Casualty</th>\n",
              "      <th>Age_of_Casualty</th>\n",
              "      <th>Casualty_Severity</th>\n",
              "    </tr>\n",
              "  </thead>\n",
              "  <tbody>\n",
              "    <tr>\n",
              "      <th>0</th>\n",
              "      <td>200501BS00001</td>\n",
              "      <td>1</td>\n",
              "      <td>1</td>\n",
              "      <td>3</td>\n",
              "      <td>1</td>\n",
              "      <td>37</td>\n",
              "      <td>2</td>\n",
              "    </tr>\n",
              "    <tr>\n",
              "      <th>1</th>\n",
              "      <td>200501BS00002</td>\n",
              "      <td>1</td>\n",
              "      <td>1</td>\n",
              "      <td>2</td>\n",
              "      <td>1</td>\n",
              "      <td>37</td>\n",
              "      <td>3</td>\n",
              "    </tr>\n",
              "    <tr>\n",
              "      <th>2</th>\n",
              "      <td>200501BS00003</td>\n",
              "      <td>2</td>\n",
              "      <td>1</td>\n",
              "      <td>1</td>\n",
              "      <td>1</td>\n",
              "      <td>62</td>\n",
              "      <td>3</td>\n",
              "    </tr>\n",
              "    <tr>\n",
              "      <th>3</th>\n",
              "      <td>200501BS00004</td>\n",
              "      <td>1</td>\n",
              "      <td>1</td>\n",
              "      <td>3</td>\n",
              "      <td>1</td>\n",
              "      <td>30</td>\n",
              "      <td>3</td>\n",
              "    </tr>\n",
              "    <tr>\n",
              "      <th>4</th>\n",
              "      <td>200501BS00005</td>\n",
              "      <td>1</td>\n",
              "      <td>1</td>\n",
              "      <td>1</td>\n",
              "      <td>1</td>\n",
              "      <td>49</td>\n",
              "      <td>3</td>\n",
              "    </tr>\n",
              "  </tbody>\n",
              "</table>\n",
              "</div>"
            ],
            "text/plain": [
              "  Accident_Index  Vehicle_Reference  ...  Age_of_Casualty  Casualty_Severity\n",
              "0  200501BS00001                  1  ...               37                  2\n",
              "1  200501BS00002                  1  ...               37                  3\n",
              "2  200501BS00003                  2  ...               62                  3\n",
              "3  200501BS00004                  1  ...               30                  3\n",
              "4  200501BS00005                  1  ...               49                  3\n",
              "\n",
              "[5 rows x 7 columns]"
            ]
          },
          "metadata": {
            "tags": []
          },
          "execution_count": 25
        }
      ]
    },
    {
      "cell_type": "code",
      "metadata": {
        "colab": {
          "base_uri": "https://localhost:8080/"
        },
        "id": "LRK1w9IkEwb9",
        "outputId": "bbb8fc34-ff25-4733-9e95-f55c27ab21d5"
      },
      "source": [
        "# Take a look at the types of the columns\r\n",
        "cas.dtypes"
      ],
      "execution_count": null,
      "outputs": [
        {
          "output_type": "execute_result",
          "data": {
            "text/plain": [
              "Accident_Index        object\n",
              "Vehicle_Reference      int64\n",
              "Casualty_Reference     int64\n",
              "Casualty_Class         int64\n",
              "Sex_of_Casualty        int64\n",
              "Age_of_Casualty        int64\n",
              "Casualty_Severity      int64\n",
              "dtype: object"
            ]
          },
          "metadata": {
            "tags": []
          },
          "execution_count": 26
        }
      ]
    },
    {
      "cell_type": "markdown",
      "metadata": {
        "id": "ZB3NTW34E8q6"
      },
      "source": [
        "As we observe that everything is correctly formatted here, no additional action is required. Furthermore, we decided to not use any variables from this dataset as everything we intend to consider is contained in the accidents and vehicles dataset."
      ]
    },
    {
      "cell_type": "markdown",
      "metadata": {
        "id": "Gn0nrwwAFSBz"
      },
      "source": [
        "## Vehicles"
      ]
    },
    {
      "cell_type": "code",
      "metadata": {
        "colab": {
          "base_uri": "https://localhost:8080/",
          "height": 204
        },
        "id": "pDOnVIYQFVCq",
        "outputId": "45bfc2fd-5ad0-43ee-add5-fe3404065aa6"
      },
      "source": [
        "# Take a look at the vehicles data\r\n",
        "veh.head()"
      ],
      "execution_count": null,
      "outputs": [
        {
          "output_type": "execute_result",
          "data": {
            "text/html": [
              "<div>\n",
              "<style scoped>\n",
              "    .dataframe tbody tr th:only-of-type {\n",
              "        vertical-align: middle;\n",
              "    }\n",
              "\n",
              "    .dataframe tbody tr th {\n",
              "        vertical-align: top;\n",
              "    }\n",
              "\n",
              "    .dataframe thead th {\n",
              "        text-align: right;\n",
              "    }\n",
              "</style>\n",
              "<table border=\"1\" class=\"dataframe\">\n",
              "  <thead>\n",
              "    <tr style=\"text-align: right;\">\n",
              "      <th></th>\n",
              "      <th>Accident_Index</th>\n",
              "      <th>Vehicle_Reference</th>\n",
              "      <th>Vehicle_Type</th>\n",
              "      <th>Sex_of_Driver</th>\n",
              "      <th>Age_of_Driver</th>\n",
              "      <th>Engine_Capacity_(CC)</th>\n",
              "      <th>Age_of_Vehicle</th>\n",
              "    </tr>\n",
              "  </thead>\n",
              "  <tbody>\n",
              "    <tr>\n",
              "      <th>0</th>\n",
              "      <td>200501BS00001</td>\n",
              "      <td>1</td>\n",
              "      <td>9</td>\n",
              "      <td>2</td>\n",
              "      <td>74</td>\n",
              "      <td>-1</td>\n",
              "      <td>-1</td>\n",
              "    </tr>\n",
              "    <tr>\n",
              "      <th>1</th>\n",
              "      <td>200501BS00002</td>\n",
              "      <td>1</td>\n",
              "      <td>11</td>\n",
              "      <td>1</td>\n",
              "      <td>42</td>\n",
              "      <td>8268</td>\n",
              "      <td>3</td>\n",
              "    </tr>\n",
              "    <tr>\n",
              "      <th>2</th>\n",
              "      <td>200501BS00003</td>\n",
              "      <td>1</td>\n",
              "      <td>11</td>\n",
              "      <td>1</td>\n",
              "      <td>35</td>\n",
              "      <td>8300</td>\n",
              "      <td>5</td>\n",
              "    </tr>\n",
              "    <tr>\n",
              "      <th>3</th>\n",
              "      <td>200501BS00003</td>\n",
              "      <td>2</td>\n",
              "      <td>9</td>\n",
              "      <td>1</td>\n",
              "      <td>62</td>\n",
              "      <td>1762</td>\n",
              "      <td>6</td>\n",
              "    </tr>\n",
              "    <tr>\n",
              "      <th>4</th>\n",
              "      <td>200501BS00004</td>\n",
              "      <td>1</td>\n",
              "      <td>9</td>\n",
              "      <td>2</td>\n",
              "      <td>49</td>\n",
              "      <td>1769</td>\n",
              "      <td>4</td>\n",
              "    </tr>\n",
              "  </tbody>\n",
              "</table>\n",
              "</div>"
            ],
            "text/plain": [
              "  Accident_Index  Vehicle_Reference  ...  Engine_Capacity_(CC)  Age_of_Vehicle\n",
              "0  200501BS00001                  1  ...                    -1              -1\n",
              "1  200501BS00002                  1  ...                  8268               3\n",
              "2  200501BS00003                  1  ...                  8300               5\n",
              "3  200501BS00003                  2  ...                  1762               6\n",
              "4  200501BS00004                  1  ...                  1769               4\n",
              "\n",
              "[5 rows x 7 columns]"
            ]
          },
          "metadata": {
            "tags": []
          },
          "execution_count": 27
        }
      ]
    },
    {
      "cell_type": "code",
      "metadata": {
        "colab": {
          "base_uri": "https://localhost:8080/"
        },
        "id": "iJIyjVkzjLmO",
        "outputId": "74f8f36b-9ed0-41ba-e55c-3a29bb81301b"
      },
      "source": [
        "# Check each column individually for missing values\r\n",
        "for col in veh.columns:\r\n",
        "  NAs = veh[col].isna().sum()\r\n",
        "  print('The column ',col, ' has ', NAs, ' missing values')"
      ],
      "execution_count": null,
      "outputs": [
        {
          "output_type": "stream",
          "text": [
            "The column  Accident_Index  has  0  missing values\n",
            "The column  Vehicle_Reference  has  0  missing values\n",
            "The column  Vehicle_Type  has  0  missing values\n",
            "The column  Sex_of_Driver  has  0  missing values\n",
            "The column  Age_of_Driver  has  0  missing values\n",
            "The column  Engine_Capacity_(CC)  has  0  missing values\n",
            "The column  Age_of_Vehicle  has  0  missing values\n"
          ],
          "name": "stdout"
        }
      ]
    },
    {
      "cell_type": "markdown",
      "metadata": {
        "id": "yLOdSesdjV1C"
      },
      "source": [
        "As we observe that there are no missing values as NAs contained in the vehicles dataset, we can safely continue with merging it with the accidents dataset."
      ]
    },
    {
      "cell_type": "markdown",
      "metadata": {
        "id": "2QLVTLTLhOyv"
      },
      "source": [
        "In the next step we merge the accidents and vehicles datasets. As we assume that the vehicle of the driver that caused the accident is listed first within the vehicles dataset (i.e. those vehicles where the 'Vehicle_Reference' variable is > 1) whenever there are multiple vehicles involved in an accident, we only keep the first observation that corresponds to an accident."
      ]
    },
    {
      "cell_type": "code",
      "metadata": {
        "id": "0dWqaLHYFg4j"
      },
      "source": [
        "# Merge the entire accidents dataset with the entire vehicles dataset\r\n",
        "merged = pd.merge(acc[acc.columns], veh[veh.columns], on = 'Accident_Index')\r\n",
        "\r\n",
        "# Drop all rows where the 'Vehicle_Reference' variable is not equal to 1 (which are all vehicles that are not listed first)\r\n",
        "merged = merged.loc[merged['Vehicle_Reference'] == 1]\r\n",
        "\r\n",
        "# Drop the superfluous variable\r\n",
        "merged.drop(['Vehicle_Reference'], axis=1, inplace=True)"
      ],
      "execution_count": null,
      "outputs": []
    },
    {
      "cell_type": "code",
      "metadata": {
        "colab": {
          "base_uri": "https://localhost:8080/",
          "height": 309
        },
        "id": "vdytX_8nizS5",
        "outputId": "fafe5666-8ea4-4381-c957-16b9ed9fa150"
      },
      "source": [
        "# Take a look at the freshly merged dataset\r\n",
        "merged.head()"
      ],
      "execution_count": null,
      "outputs": [
        {
          "output_type": "execute_result",
          "data": {
            "text/html": [
              "<div>\n",
              "<style scoped>\n",
              "    .dataframe tbody tr th:only-of-type {\n",
              "        vertical-align: middle;\n",
              "    }\n",
              "\n",
              "    .dataframe tbody tr th {\n",
              "        vertical-align: top;\n",
              "    }\n",
              "\n",
              "    .dataframe thead th {\n",
              "        text-align: right;\n",
              "    }\n",
              "</style>\n",
              "<table border=\"1\" class=\"dataframe\">\n",
              "  <thead>\n",
              "    <tr style=\"text-align: right;\">\n",
              "      <th></th>\n",
              "      <th>Accident_Index</th>\n",
              "      <th>Accident_Severity</th>\n",
              "      <th>Road_Class</th>\n",
              "      <th>Speed_limit</th>\n",
              "      <th>Junction_Detail</th>\n",
              "      <th>Light_Conditions</th>\n",
              "      <th>Weather_Conditions</th>\n",
              "      <th>Road_Surface_Conditions</th>\n",
              "      <th>Hour_of_Day</th>\n",
              "      <th>Year</th>\n",
              "      <th>Month</th>\n",
              "      <th>Day_of_Week</th>\n",
              "      <th>Multiple_Vehicles_involved</th>\n",
              "      <th>Urban_Area</th>\n",
              "      <th>Vehicle_Type</th>\n",
              "      <th>Sex_of_Driver</th>\n",
              "      <th>Age_of_Driver</th>\n",
              "      <th>Engine_Capacity_(CC)</th>\n",
              "      <th>Age_of_Vehicle</th>\n",
              "    </tr>\n",
              "  </thead>\n",
              "  <tbody>\n",
              "    <tr>\n",
              "      <th>0</th>\n",
              "      <td>200501BS00001</td>\n",
              "      <td>Serious</td>\n",
              "      <td>Trunk Routes (A)</td>\n",
              "      <td>30</td>\n",
              "      <td>Open Street</td>\n",
              "      <td>Daylight</td>\n",
              "      <td>Raining &amp; no high winds</td>\n",
              "      <td>Wet or damp</td>\n",
              "      <td>17</td>\n",
              "      <td>2005</td>\n",
              "      <td>1</td>\n",
              "      <td>Tuesday</td>\n",
              "      <td>0</td>\n",
              "      <td>1</td>\n",
              "      <td>9</td>\n",
              "      <td>2</td>\n",
              "      <td>74</td>\n",
              "      <td>-1</td>\n",
              "      <td>-1</td>\n",
              "    </tr>\n",
              "    <tr>\n",
              "      <th>1</th>\n",
              "      <td>200501BS00002</td>\n",
              "      <td>Slight</td>\n",
              "      <td>Distributor Roads (B)</td>\n",
              "      <td>30</td>\n",
              "      <td>Junction</td>\n",
              "      <td>Darkness - lights lit</td>\n",
              "      <td>Fine &amp; no high winds</td>\n",
              "      <td>Dry</td>\n",
              "      <td>17</td>\n",
              "      <td>2005</td>\n",
              "      <td>1</td>\n",
              "      <td>Wednesday</td>\n",
              "      <td>0</td>\n",
              "      <td>1</td>\n",
              "      <td>11</td>\n",
              "      <td>1</td>\n",
              "      <td>42</td>\n",
              "      <td>8268</td>\n",
              "      <td>3</td>\n",
              "    </tr>\n",
              "    <tr>\n",
              "      <th>2</th>\n",
              "      <td>200501BS00003</td>\n",
              "      <td>Slight</td>\n",
              "      <td>Minor Roads (C)</td>\n",
              "      <td>30</td>\n",
              "      <td>Open Street</td>\n",
              "      <td>Darkness - lights lit</td>\n",
              "      <td>Fine &amp; no high winds</td>\n",
              "      <td>Dry</td>\n",
              "      <td>0</td>\n",
              "      <td>2005</td>\n",
              "      <td>1</td>\n",
              "      <td>Thursday</td>\n",
              "      <td>1</td>\n",
              "      <td>1</td>\n",
              "      <td>11</td>\n",
              "      <td>1</td>\n",
              "      <td>35</td>\n",
              "      <td>8300</td>\n",
              "      <td>5</td>\n",
              "    </tr>\n",
              "    <tr>\n",
              "      <th>4</th>\n",
              "      <td>200501BS00004</td>\n",
              "      <td>Slight</td>\n",
              "      <td>Trunk Routes (A)</td>\n",
              "      <td>30</td>\n",
              "      <td>Open Street</td>\n",
              "      <td>Daylight</td>\n",
              "      <td>Fine &amp; no high winds</td>\n",
              "      <td>Dry</td>\n",
              "      <td>10</td>\n",
              "      <td>2005</td>\n",
              "      <td>1</td>\n",
              "      <td>Friday</td>\n",
              "      <td>0</td>\n",
              "      <td>1</td>\n",
              "      <td>9</td>\n",
              "      <td>2</td>\n",
              "      <td>49</td>\n",
              "      <td>1769</td>\n",
              "      <td>4</td>\n",
              "    </tr>\n",
              "    <tr>\n",
              "      <th>5</th>\n",
              "      <td>200501BS00005</td>\n",
              "      <td>Slight</td>\n",
              "      <td>Unclassified Roads</td>\n",
              "      <td>30</td>\n",
              "      <td>Open Street</td>\n",
              "      <td>Darkness - lighting unknown</td>\n",
              "      <td>Fine &amp; no high winds</td>\n",
              "      <td>Wet or damp</td>\n",
              "      <td>21</td>\n",
              "      <td>2005</td>\n",
              "      <td>1</td>\n",
              "      <td>Monday</td>\n",
              "      <td>0</td>\n",
              "      <td>1</td>\n",
              "      <td>3</td>\n",
              "      <td>1</td>\n",
              "      <td>49</td>\n",
              "      <td>85</td>\n",
              "      <td>10</td>\n",
              "    </tr>\n",
              "  </tbody>\n",
              "</table>\n",
              "</div>"
            ],
            "text/plain": [
              "  Accident_Index Accident_Severity  ... Engine_Capacity_(CC) Age_of_Vehicle\n",
              "0  200501BS00001           Serious  ...                   -1             -1\n",
              "1  200501BS00002            Slight  ...                 8268              3\n",
              "2  200501BS00003            Slight  ...                 8300              5\n",
              "4  200501BS00004            Slight  ...                 1769              4\n",
              "5  200501BS00005            Slight  ...                   85             10\n",
              "\n",
              "[5 rows x 19 columns]"
            ]
          },
          "metadata": {
            "tags": []
          },
          "execution_count": 30
        }
      ]
    },
    {
      "cell_type": "markdown",
      "metadata": {
        "id": "jqm56QEDFta8"
      },
      "source": [
        "In the next step we format the **`Vehicle_Type`** variable. We see that it contains numerous different vehicle types ranging from pedal cycle & motorcycle over cars, minibusses up to agricultural vehicles, ridden horses or trams. We decide to only consider accidents which were caused by vehicles like motorcycles and cars, as those are the most commonly driven vehicles by civilists. Furthermore, as we want to consider engine capacity as a variable in our analysis, we omit any electric car or electric motorcycle. Moreover, since the dataset distinguishes between different types of cars and motorcycles (e.g. according to their engine capacity), we merge all car type vehicles and all motorcycle type vehicles together."
      ]
    },
    {
      "cell_type": "code",
      "metadata": {
        "colab": {
          "base_uri": "https://localhost:8080/"
        },
        "id": "RBWqxHdaGJV3",
        "outputId": "5218497c-7e07-4796-c938-e76347a53031"
      },
      "source": [
        "# Drop observations where the vehicle type is neither a car nor a motorbycicle, or not available\r\n",
        "rm_acc = merged['Vehicle_Type'].isin([-1,1,11,16,17,18,20,21,22,23,90,97,98]).sum()\r\n",
        "print(f'Removed {rm_acc} rows because of undesired vehicle type.')\r\n",
        "merged = merged.loc[~merged['Vehicle_Type'].isin([-1,1,11,16,17,18,20,21,22,23,90,97,98])]\r\n",
        "\r\n",
        "# Transform 'Vehicle_Type' into a categorical variable indicating whether the vehicle was a car or a motorcycle\r\n",
        "merged['Vehicle_Type'].loc[merged['Vehicle_Type'].isin([2,3,4,5])] = 'Motorcycle'\r\n",
        "merged['Vehicle_Type'].loc[merged['Vehicle_Type'].isin([8,9,10,19])] = 'Car'\r\n",
        "\r\n",
        "# Take a look at the distinct values within the 'Vehicle_Type' variable\r\n",
        "print(np.unique(merged['Vehicle_Type']))"
      ],
      "execution_count": null,
      "outputs": [
        {
          "output_type": "stream",
          "text": [
            "Removed 245694 rows because of undesired vehicle type.\n",
            "['Car' 'Motorcycle']\n"
          ],
          "name": "stdout"
        }
      ]
    },
    {
      "cell_type": "markdown",
      "metadata": {
        "id": "MTPJLE8BrQ8n"
      },
      "source": [
        "The variable **`Sex_of_Driver`** takes the values `-1 = Data missing or out of range`, `1 = Male`, `2 = Female` or `3 = Not known`. Hence, we drop all observations where this variable takes a value of -1 or 3."
      ]
    },
    {
      "cell_type": "code",
      "metadata": {
        "colab": {
          "base_uri": "https://localhost:8080/"
        },
        "id": "bRhDkdngsIFu",
        "outputId": "51429eb1-2bb8-43b7-fa38-7e996e82ee64"
      },
      "source": [
        "# Drop observations with a -1 or 3 entry in the 'Sex_of_Driver' variable\r\n",
        "rm_acc = merged['Sex_of_Driver'].isin([-1,3]).sum()\r\n",
        "print(f'Removed {rm_acc} rows because of missing gender of driver')\r\n",
        "merged = merged.loc[merged['Sex_of_Driver'].isin([1,2])]\r\n",
        "\r\n",
        "# Transform 'Sex_of_Driver' into a categorical variable indicating whether the driver was male or female\r\n",
        "merged['Sex_of_Driver'].loc[merged['Sex_of_Driver'] == 1] = 'Male'\r\n",
        "merged['Sex_of_Driver'].loc[merged['Sex_of_Driver'] == 2] = 'Female'\r\n",
        "\r\n",
        "# Take a look at the distinct values within the 'Vehicle_Type' variable\r\n",
        "print(np.unique(merged['Sex_of_Driver']))"
      ],
      "execution_count": null,
      "outputs": [
        {
          "output_type": "stream",
          "text": [
            "Removed 121768 rows because of missing gender of driver\n",
            "['Female' 'Male']\n"
          ],
          "name": "stdout"
        }
      ]
    },
    {
      "cell_type": "markdown",
      "metadata": {
        "id": "V8XiRlBRuGR4"
      },
      "source": [
        "Since, beside other considerations, one of our aims is to get interpretable results (in the sense that the estimated coefficient for each variable should be comparable to the ones for the other variables), we construct reasonably chosen bins from each continuous variable in our dataset (i.e. **`Age_of_Driver`**, **`Age_of_Vehicle`**, **`Engine_Capacity_(CC)`**)."
      ]
    },
    {
      "cell_type": "markdown",
      "metadata": {
        "id": "n798zxUttLCy"
      },
      "source": [
        "Next, we format the **`Age_of_Driver`** variable as desired. We decide to construct the following bins:\r\n",
        "\r\n",
        "1. < 18\r\n",
        "2. 18-20\r\n",
        "3. 21-25\r\n",
        "4. 26-35\r\n",
        "5. 36-45\r\n",
        "6. 46-55\r\n",
        "7. 56-65\r\n",
        "8. 66-75\r\n",
        "9. 75+\r\n",
        "\r\n"
      ]
    },
    {
      "cell_type": "code",
      "metadata": {
        "colab": {
          "base_uri": "https://localhost:8080/"
        },
        "id": "WNun1PQ7vIjv",
        "outputId": "fb897b9c-f158-41cf-985a-89d0a5024580"
      },
      "source": [
        "# Drop observations with a -1 entry in the 'Age_of_Driver' variable\r\n",
        "rm_acc = (merged['Age_of_Driver'] == -1).sum()\r\n",
        "print(f'Removed {rm_acc} rows because of missing age of driver')\r\n",
        "merged = merged.loc[merged['Age_of_Driver'] != -1]\r\n",
        "\r\n",
        "# Transform 'Age_of_Driver' into a categorical variable indicating each age bin\r\n",
        "merged['Age_of_Driver'].loc[merged['Age_of_Driver'].isin(np.arange(0,18,1))] = '<18'\r\n",
        "merged['Age_of_Driver'].loc[merged['Age_of_Driver'].isin(np.arange(18,21,1))] = '18-20'\r\n",
        "merged['Age_of_Driver'].loc[merged['Age_of_Driver'].isin(np.arange(21,26,1))] = '21-25'\r\n",
        "merged['Age_of_Driver'].loc[merged['Age_of_Driver'].isin(np.arange(26,36,1))] = '26-35'\r\n",
        "merged['Age_of_Driver'].loc[merged['Age_of_Driver'].isin(np.arange(36,46,1))] = '36-45'\r\n",
        "merged['Age_of_Driver'].loc[merged['Age_of_Driver'].isin(np.arange(46,56,1))] = '46-55'\r\n",
        "merged['Age_of_Driver'].loc[merged['Age_of_Driver'].isin(np.arange(56,66,1))] = '56-65'\r\n",
        "merged['Age_of_Driver'].loc[merged['Age_of_Driver'].isin(np.arange(66,76,1))] = '66-75'\r\n",
        "merged['Age_of_Driver'].loc[merged['Age_of_Driver'].isin(np.arange(76,150,1))] = '>75'\r\n",
        "\r\n",
        "# Take a look at the distinct values within the 'Age_of_Driver' variable\r\n",
        "print(np.unique(merged['Age_of_Driver']))"
      ],
      "execution_count": null,
      "outputs": [
        {
          "output_type": "stream",
          "text": [
            "Removed 95924 rows because of missing age of driver\n",
            "['18-20' '21-25' '26-35' '36-45' '46-55' '56-65' '66-75' '<18' '>75']\n"
          ],
          "name": "stdout"
        }
      ]
    },
    {
      "cell_type": "markdown",
      "metadata": {
        "id": "6hDfbpxP1E0D"
      },
      "source": [
        "Next, we format the **`Age_of_Vehicle`** variable as desired. We decide to construct the following bins:\r\n",
        "\r\n",
        "1. 0-1\r\n",
        "2. 2-5\r\n",
        "3. 6-10\r\n",
        "4. 10+\r\n"
      ]
    },
    {
      "cell_type": "code",
      "metadata": {
        "colab": {
          "base_uri": "https://localhost:8080/"
        },
        "id": "irhj-Bhn1Ylw",
        "outputId": "d571cde0-4ad3-4633-b340-25b44d884563"
      },
      "source": [
        "# Drop observations with a -1 entry in the 'Age_of_Vehicle' variable\r\n",
        "rm_acc = (merged['Age_of_Vehicle'] == -1).sum()\r\n",
        "print(f'Removed {rm_acc} rows because of missing age of vehicle')\r\n",
        "merged = merged.loc[merged['Age_of_Vehicle'] != -1]\r\n",
        "\r\n",
        "# Transform 'Age_of_Vehicle' into a categorical variable indicating each age bin\r\n",
        "merged['Age_of_Vehicle'].loc[merged['Age_of_Vehicle'].isin(np.arange(0,2,1))] = 'New (0-1)'\r\n",
        "merged['Age_of_Vehicle'].loc[merged['Age_of_Vehicle'].isin(np.arange(2,6,1))] = '2-5'\r\n",
        "merged['Age_of_Vehicle'].loc[merged['Age_of_Vehicle'].isin(np.arange(6,10,1))] = '6-10'\r\n",
        "merged['Age_of_Vehicle'].loc[merged['Age_of_Vehicle'].isin(np.arange(10,150,1))] = '>10'\r\n",
        "\r\n",
        "# Take a look at the distinct values within the 'Age_of_Vehicle' variable\r\n",
        "print(np.unique(merged['Age_of_Vehicle']))"
      ],
      "execution_count": null,
      "outputs": [
        {
          "output_type": "stream",
          "text": [
            "Removed 330333 rows because of missing age of vehicle\n",
            "['2-5' '6-10' '>10' 'New (0-1)']\n"
          ],
          "name": "stdout"
        }
      ]
    },
    {
      "cell_type": "markdown",
      "metadata": {
        "id": "W-eVml1v2DMW"
      },
      "source": [
        "Lastly, we format the **`Engine_Capacity_(CC)`** variable as desired. We decide to construct four bins to span the usual capacity range for motorcycles and four bins to span the capacity range of cars. This strategy leads to the following eigth bins\r\n",
        "\r\n",
        "**Motorcycles' Engine Capacity Range**\r\n",
        "1. 0-125cc\r\n",
        "2. 126-350cc\r\n",
        "3. 351-600cc\r\n",
        "4. 601-1150cc\r\n",
        "\r\n",
        "**Cars' Engine Capacity Range**\r\n",
        "1. 1151-1999cc\r\n",
        "2. 2000-2999cc\r\n",
        "3. 3000-3999cc\r\n",
        "4. 4000cc+"
      ]
    },
    {
      "cell_type": "code",
      "metadata": {
        "colab": {
          "base_uri": "https://localhost:8080/"
        },
        "id": "ciAjDk1J3Bg_",
        "outputId": "166cebe3-0b6a-4847-f725-2b4b51e1a77e"
      },
      "source": [
        "np.unique(merged['Engine_Capacity_(CC)'])"
      ],
      "execution_count": null,
      "outputs": [
        {
          "output_type": "execute_result",
          "data": {
            "text/plain": [
              "array([   -1,     1,     4, ..., 60000, 99102, 99999], dtype=int64)"
            ]
          },
          "metadata": {
            "tags": []
          },
          "execution_count": 36
        }
      ]
    },
    {
      "cell_type": "code",
      "metadata": {
        "colab": {
          "base_uri": "https://localhost:8080/"
        },
        "id": "dHaroU-A3ULo",
        "outputId": "b1c8c72e-6acd-471b-8da1-ff14ed4ae008"
      },
      "source": [
        "# Drop observations with a -1 entry in the 'Engine_Capacity_(CC)' variable\r\n",
        "rm_acc = (merged['Engine_Capacity_(CC)'] == -1).sum()\r\n",
        "print(f'Removed {rm_acc} rows because of missing engine capacity')\r\n",
        "merged = merged.loc[merged['Engine_Capacity_(CC)'] != -1]\r\n",
        "\r\n",
        "# Transform 'Engine_Capacity_(CC)' into a categorical variable indicating each engine capacity bin\r\n",
        "merged['Engine_Capacity_(CC)'].loc[merged['Engine_Capacity_(CC)'].isin(np.arange(0,126,1))] = '0-125cc'\r\n",
        "merged['Engine_Capacity_(CC)'].loc[merged['Engine_Capacity_(CC)'].isin(np.arange(126,351,1))] = '126-350cc'\r\n",
        "merged['Engine_Capacity_(CC)'].loc[merged['Engine_Capacity_(CC)'].isin(np.arange(351,601,1))] = '351-600cc'\r\n",
        "merged['Engine_Capacity_(CC)'].loc[merged['Engine_Capacity_(CC)'].isin(np.arange(601,1151,1))] = '601-1150cc'\r\n",
        "merged['Engine_Capacity_(CC)'].loc[merged['Engine_Capacity_(CC)'].isin(np.arange(1151,2000,1))] = '1151-1999cc'\r\n",
        "merged['Engine_Capacity_(CC)'].loc[merged['Engine_Capacity_(CC)'].isin(np.arange(2000,3000,1))] = '2000-2999cc'\r\n",
        "merged['Engine_Capacity_(CC)'].loc[merged['Engine_Capacity_(CC)'].isin(np.arange(3000,4000,1))] = '3000-3999cc'\r\n",
        "merged['Engine_Capacity_(CC)'].loc[merged['Engine_Capacity_(CC)'].isin(np.arange(4000,100000,1))] = '>4000cc'\r\n",
        "\r\n",
        "# Take a look at the distinct values within the 'Engine_Capacity_(CC)' variable\r\n",
        "print(np.unique(merged['Engine_Capacity_(CC)']))"
      ],
      "execution_count": null,
      "outputs": [
        {
          "output_type": "stream",
          "text": [
            "Removed 613 rows because of missing engine capacity\n",
            "['0-125cc' '1151-1999cc' '126-350cc' '2000-2999cc' '3000-3999cc'\n",
            " '351-600cc' '601-1150cc' '>4000cc']\n"
          ],
          "name": "stdout"
        }
      ]
    },
    {
      "cell_type": "code",
      "metadata": {
        "colab": {
          "base_uri": "https://localhost:8080/"
        },
        "id": "vOwjViRa1_A9",
        "outputId": "685dfe83-f225-427e-d5ef-69c902e6e8d7"
      },
      "source": [
        "merged.shape"
      ],
      "execution_count": null,
      "outputs": [
        {
          "output_type": "execute_result",
          "data": {
            "text/plain": [
              "(1482372, 19)"
            ]
          },
          "metadata": {
            "tags": []
          },
          "execution_count": 38
        }
      ]
    },
    {
      "cell_type": "code",
      "metadata": {
        "colab": {
          "base_uri": "https://localhost:8080/"
        },
        "id": "8a0oWd0S4lZw",
        "outputId": "683db691-676e-4242-9564-b2e703063b6c"
      },
      "source": [
        "merged.isna().sum()"
      ],
      "execution_count": null,
      "outputs": [
        {
          "output_type": "execute_result",
          "data": {
            "text/plain": [
              "Accident_Index                0\n",
              "Accident_Severity             0\n",
              "Road_Class                    0\n",
              "Speed_limit                   0\n",
              "Junction_Detail               0\n",
              "Light_Conditions              0\n",
              "Weather_Conditions            0\n",
              "Road_Surface_Conditions       0\n",
              "Hour_of_Day                   0\n",
              "Year                          0\n",
              "Month                         0\n",
              "Day_of_Week                   0\n",
              "Multiple_Vehicles_involved    0\n",
              "Urban_Area                    0\n",
              "Vehicle_Type                  0\n",
              "Sex_of_Driver                 0\n",
              "Age_of_Driver                 0\n",
              "Engine_Capacity_(CC)          0\n",
              "Age_of_Vehicle                0\n",
              "dtype: int64"
            ]
          },
          "metadata": {
            "tags": []
          },
          "execution_count": 39
        }
      ]
    },
    {
      "cell_type": "code",
      "metadata": {
        "colab": {
          "base_uri": "https://localhost:8080/"
        },
        "id": "UOebal8MFbd9",
        "outputId": "793a9439-2008-44db-c2e3-23628fdf42bc"
      },
      "source": [
        "# Take a look at the types of the columns\r\n",
        "merged.dtypes"
      ],
      "execution_count": null,
      "outputs": [
        {
          "output_type": "execute_result",
          "data": {
            "text/plain": [
              "Accident_Index                object\n",
              "Accident_Severity             object\n",
              "Road_Class                    object\n",
              "Speed_limit                   object\n",
              "Junction_Detail               object\n",
              "Light_Conditions              object\n",
              "Weather_Conditions            object\n",
              "Road_Surface_Conditions       object\n",
              "Hour_of_Day                   object\n",
              "Year                          object\n",
              "Month                         object\n",
              "Day_of_Week                   object\n",
              "Multiple_Vehicles_involved     int64\n",
              "Urban_Area                     int64\n",
              "Vehicle_Type                  object\n",
              "Sex_of_Driver                 object\n",
              "Age_of_Driver                 object\n",
              "Engine_Capacity_(CC)          object\n",
              "Age_of_Vehicle                object\n",
              "dtype: object"
            ]
          },
          "metadata": {
            "tags": []
          },
          "execution_count": 40
        }
      ]
    },
    {
      "cell_type": "code",
      "metadata": {
        "colab": {
          "base_uri": "https://localhost:8080/",
          "height": 549
        },
        "id": "AQ60aScz4dPx",
        "outputId": "0aec6e6d-c9a1-4d93-fe1c-97f7dd5025b6"
      },
      "source": [
        "merged.head(10)"
      ],
      "execution_count": null,
      "outputs": [
        {
          "output_type": "execute_result",
          "data": {
            "text/html": [
              "<div>\n",
              "<style scoped>\n",
              "    .dataframe tbody tr th:only-of-type {\n",
              "        vertical-align: middle;\n",
              "    }\n",
              "\n",
              "    .dataframe tbody tr th {\n",
              "        vertical-align: top;\n",
              "    }\n",
              "\n",
              "    .dataframe thead th {\n",
              "        text-align: right;\n",
              "    }\n",
              "</style>\n",
              "<table border=\"1\" class=\"dataframe\">\n",
              "  <thead>\n",
              "    <tr style=\"text-align: right;\">\n",
              "      <th></th>\n",
              "      <th>Accident_Index</th>\n",
              "      <th>Accident_Severity</th>\n",
              "      <th>Road_Class</th>\n",
              "      <th>Speed_limit</th>\n",
              "      <th>Junction_Detail</th>\n",
              "      <th>Light_Conditions</th>\n",
              "      <th>Weather_Conditions</th>\n",
              "      <th>Road_Surface_Conditions</th>\n",
              "      <th>Hour_of_Day</th>\n",
              "      <th>Year</th>\n",
              "      <th>Month</th>\n",
              "      <th>Day_of_Week</th>\n",
              "      <th>Multiple_Vehicles_involved</th>\n",
              "      <th>Urban_Area</th>\n",
              "      <th>Vehicle_Type</th>\n",
              "      <th>Sex_of_Driver</th>\n",
              "      <th>Age_of_Driver</th>\n",
              "      <th>Engine_Capacity_(CC)</th>\n",
              "      <th>Age_of_Vehicle</th>\n",
              "    </tr>\n",
              "  </thead>\n",
              "  <tbody>\n",
              "    <tr>\n",
              "      <th>4</th>\n",
              "      <td>200501BS00004</td>\n",
              "      <td>Slight</td>\n",
              "      <td>Trunk Routes (A)</td>\n",
              "      <td>30</td>\n",
              "      <td>Open Street</td>\n",
              "      <td>Daylight</td>\n",
              "      <td>Fine &amp; no high winds</td>\n",
              "      <td>Dry</td>\n",
              "      <td>10</td>\n",
              "      <td>2005</td>\n",
              "      <td>1</td>\n",
              "      <td>Friday</td>\n",
              "      <td>0</td>\n",
              "      <td>1</td>\n",
              "      <td>Car</td>\n",
              "      <td>Female</td>\n",
              "      <td>46-55</td>\n",
              "      <td>1151-1999cc</td>\n",
              "      <td>2-5</td>\n",
              "    </tr>\n",
              "    <tr>\n",
              "      <th>5</th>\n",
              "      <td>200501BS00005</td>\n",
              "      <td>Slight</td>\n",
              "      <td>Unclassified Roads</td>\n",
              "      <td>30</td>\n",
              "      <td>Open Street</td>\n",
              "      <td>Darkness - lighting unknown</td>\n",
              "      <td>Fine &amp; no high winds</td>\n",
              "      <td>Wet or damp</td>\n",
              "      <td>21</td>\n",
              "      <td>2005</td>\n",
              "      <td>1</td>\n",
              "      <td>Monday</td>\n",
              "      <td>0</td>\n",
              "      <td>1</td>\n",
              "      <td>Motorcycle</td>\n",
              "      <td>Male</td>\n",
              "      <td>46-55</td>\n",
              "      <td>0-125cc</td>\n",
              "      <td>&gt;10</td>\n",
              "    </tr>\n",
              "    <tr>\n",
              "      <th>6</th>\n",
              "      <td>200501BS00006</td>\n",
              "      <td>Slight</td>\n",
              "      <td>Unclassified Roads</td>\n",
              "      <td>30</td>\n",
              "      <td>Open Street</td>\n",
              "      <td>Daylight</td>\n",
              "      <td>Raining &amp; no high winds</td>\n",
              "      <td>Wet or damp</td>\n",
              "      <td>12</td>\n",
              "      <td>2005</td>\n",
              "      <td>1</td>\n",
              "      <td>Tuesday</td>\n",
              "      <td>1</td>\n",
              "      <td>1</td>\n",
              "      <td>Car</td>\n",
              "      <td>Male</td>\n",
              "      <td>46-55</td>\n",
              "      <td>2000-2999cc</td>\n",
              "      <td>New (0-1)</td>\n",
              "    </tr>\n",
              "    <tr>\n",
              "      <th>10</th>\n",
              "      <td>200501BS00009</td>\n",
              "      <td>Slight</td>\n",
              "      <td>Trunk Routes (A)</td>\n",
              "      <td>30</td>\n",
              "      <td>Open Street</td>\n",
              "      <td>Daylight</td>\n",
              "      <td>Fine &amp; no high winds</td>\n",
              "      <td>Dry</td>\n",
              "      <td>17</td>\n",
              "      <td>2005</td>\n",
              "      <td>1</td>\n",
              "      <td>Friday</td>\n",
              "      <td>0</td>\n",
              "      <td>1</td>\n",
              "      <td>Car</td>\n",
              "      <td>Male</td>\n",
              "      <td>66-75</td>\n",
              "      <td>&gt;4000cc</td>\n",
              "      <td>&gt;10</td>\n",
              "    </tr>\n",
              "    <tr>\n",
              "      <th>11</th>\n",
              "      <td>200501BS00010</td>\n",
              "      <td>Slight</td>\n",
              "      <td>Trunk Routes (A)</td>\n",
              "      <td>30</td>\n",
              "      <td>Junction</td>\n",
              "      <td>Darkness - lights lit</td>\n",
              "      <td>Fine &amp; no high winds</td>\n",
              "      <td>Dry</td>\n",
              "      <td>22</td>\n",
              "      <td>2005</td>\n",
              "      <td>1</td>\n",
              "      <td>Saturday</td>\n",
              "      <td>1</td>\n",
              "      <td>1</td>\n",
              "      <td>Car</td>\n",
              "      <td>Male</td>\n",
              "      <td>26-35</td>\n",
              "      <td>1151-1999cc</td>\n",
              "      <td>&gt;10</td>\n",
              "    </tr>\n",
              "    <tr>\n",
              "      <th>15</th>\n",
              "      <td>200501BS00012</td>\n",
              "      <td>Slight</td>\n",
              "      <td>Trunk Routes (A)</td>\n",
              "      <td>30</td>\n",
              "      <td>Junction</td>\n",
              "      <td>Darkness - lights lit</td>\n",
              "      <td>Fine &amp; no high winds</td>\n",
              "      <td>Dry</td>\n",
              "      <td>0</td>\n",
              "      <td>2005</td>\n",
              "      <td>1</td>\n",
              "      <td>Sunday</td>\n",
              "      <td>0</td>\n",
              "      <td>1</td>\n",
              "      <td>Car</td>\n",
              "      <td>Male</td>\n",
              "      <td>26-35</td>\n",
              "      <td>1151-1999cc</td>\n",
              "      <td>6-10</td>\n",
              "    </tr>\n",
              "    <tr>\n",
              "      <th>16</th>\n",
              "      <td>200501BS00014</td>\n",
              "      <td>Slight</td>\n",
              "      <td>Trunk Routes (A)</td>\n",
              "      <td>30</td>\n",
              "      <td>Junction</td>\n",
              "      <td>Darkness - lights lit</td>\n",
              "      <td>Fine &amp; no high winds</td>\n",
              "      <td>Wet or damp</td>\n",
              "      <td>20</td>\n",
              "      <td>2005</td>\n",
              "      <td>1</td>\n",
              "      <td>Tuesday</td>\n",
              "      <td>1</td>\n",
              "      <td>1</td>\n",
              "      <td>Car</td>\n",
              "      <td>Female</td>\n",
              "      <td>18-20</td>\n",
              "      <td>601-1150cc</td>\n",
              "      <td>6-10</td>\n",
              "    </tr>\n",
              "    <tr>\n",
              "      <th>18</th>\n",
              "      <td>200501BS00015</td>\n",
              "      <td>Slight</td>\n",
              "      <td>Unclassified Roads</td>\n",
              "      <td>30</td>\n",
              "      <td>Junction</td>\n",
              "      <td>Daylight</td>\n",
              "      <td>Raining &amp; no high winds</td>\n",
              "      <td>Wet or damp</td>\n",
              "      <td>12</td>\n",
              "      <td>2005</td>\n",
              "      <td>1</td>\n",
              "      <td>Tuesday</td>\n",
              "      <td>0</td>\n",
              "      <td>1</td>\n",
              "      <td>Car</td>\n",
              "      <td>Female</td>\n",
              "      <td>46-55</td>\n",
              "      <td>1151-1999cc</td>\n",
              "      <td>2-5</td>\n",
              "    </tr>\n",
              "    <tr>\n",
              "      <th>19</th>\n",
              "      <td>200501BS00016</td>\n",
              "      <td>Slight</td>\n",
              "      <td>Trunk Routes (A)</td>\n",
              "      <td>30</td>\n",
              "      <td>Junction</td>\n",
              "      <td>Darkness - lights lit</td>\n",
              "      <td>Raining &amp; no high winds</td>\n",
              "      <td>Wet or damp</td>\n",
              "      <td>5</td>\n",
              "      <td>2005</td>\n",
              "      <td>1</td>\n",
              "      <td>Tuesday</td>\n",
              "      <td>1</td>\n",
              "      <td>1</td>\n",
              "      <td>Car</td>\n",
              "      <td>Male</td>\n",
              "      <td>26-35</td>\n",
              "      <td>601-1150cc</td>\n",
              "      <td>2-5</td>\n",
              "    </tr>\n",
              "    <tr>\n",
              "      <th>21</th>\n",
              "      <td>200501BS00017</td>\n",
              "      <td>Slight</td>\n",
              "      <td>Trunk Routes (A)</td>\n",
              "      <td>30</td>\n",
              "      <td>Open Street</td>\n",
              "      <td>Daylight</td>\n",
              "      <td>Fine &amp; no high winds</td>\n",
              "      <td>Dry</td>\n",
              "      <td>11</td>\n",
              "      <td>2005</td>\n",
              "      <td>1</td>\n",
              "      <td>Tuesday</td>\n",
              "      <td>0</td>\n",
              "      <td>1</td>\n",
              "      <td>Motorcycle</td>\n",
              "      <td>Male</td>\n",
              "      <td>36-45</td>\n",
              "      <td>1151-1999cc</td>\n",
              "      <td>2-5</td>\n",
              "    </tr>\n",
              "  </tbody>\n",
              "</table>\n",
              "</div>"
            ],
            "text/plain": [
              "   Accident_Index Accident_Severity  ... Engine_Capacity_(CC) Age_of_Vehicle\n",
              "4   200501BS00004            Slight  ...          1151-1999cc            2-5\n",
              "5   200501BS00005            Slight  ...              0-125cc            >10\n",
              "6   200501BS00006            Slight  ...          2000-2999cc      New (0-1)\n",
              "10  200501BS00009            Slight  ...              >4000cc            >10\n",
              "11  200501BS00010            Slight  ...          1151-1999cc            >10\n",
              "15  200501BS00012            Slight  ...          1151-1999cc           6-10\n",
              "16  200501BS00014            Slight  ...           601-1150cc           6-10\n",
              "18  200501BS00015            Slight  ...          1151-1999cc            2-5\n",
              "19  200501BS00016            Slight  ...           601-1150cc            2-5\n",
              "21  200501BS00017            Slight  ...          1151-1999cc            2-5\n",
              "\n",
              "[10 rows x 19 columns]"
            ]
          },
          "metadata": {
            "tags": []
          },
          "execution_count": 41
        }
      ]
    },
    {
      "cell_type": "code",
      "metadata": {
        "id": "eeAroQQ97DcC"
      },
      "source": [
        "merged.to_csv(r'UK_accidents_preprocessed.csv', index = False, header=True)"
      ],
      "execution_count": null,
      "outputs": []
    }
  ]
}