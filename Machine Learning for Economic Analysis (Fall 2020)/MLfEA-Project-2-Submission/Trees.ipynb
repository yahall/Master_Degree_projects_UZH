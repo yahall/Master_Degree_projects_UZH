{
 "cells": [
  {
   "cell_type": "markdown",
   "metadata": {
    "id": "ZN24quNN6oZk"
   },
   "source": [
    "## Introduction\n",
    "\n",
    "In this notebook, we calculate the optimal tree for the prediction of accident severity and then estimate a random forest that consists of the optimal tree to calculate the feature importance, in order to draw conclusions on which of the predictors has a strong influence. \n",
    "We are using the already pre-processed accidents data. For the preprocessing, we refer to the corresponding notebook "
   ]
  },
  {
   "cell_type": "code",
   "execution_count": 1,
   "metadata": {
    "colab": {
     "base_uri": "https://localhost:8080/"
    },
    "id": "wH4BDQPc_ExC",
    "outputId": "57245cbc-ce44-49a7-859c-c699ff08040f"
   },
   "outputs": [
    {
     "name": "stdout",
     "output_type": "stream",
     "text": [
      "Mounted at /content/drive\n"
     ]
    }
   ],
   "source": [
    "from google.colab import drive\n",
    "drive.mount('/content/drive')"
   ]
  },
  {
   "cell_type": "code",
   "execution_count": 2,
   "metadata": {
    "colab": {
     "base_uri": "https://localhost:8080/"
    },
    "id": "J4S0GMMD6oZm",
    "outputId": "5e7ddf82-a90e-4233-8da7-8f81af1f6902"
   },
   "outputs": [
    {
     "name": "stderr",
     "output_type": "stream",
     "text": [
      "/usr/local/lib/python3.6/dist-packages/statsmodels/tools/_testing.py:19: FutureWarning: pandas.util.testing is deprecated. Use the functions in the public API at pandas.testing instead.\n",
      "  import pandas.util.testing as tm\n"
     ]
    }
   ],
   "source": [
    "import numpy as np\n",
    "import pandas as pd\n",
    "import matplotlib.pyplot as plt\n",
    "\n",
    "from sklearn.preprocessing import StandardScaler, OrdinalEncoder, OneHotEncoder\n",
    "\n",
    "from sklearn.model_selection import GridSearchCV\n",
    "\n",
    "import seaborn as sns\n",
    "import sklearn\n",
    "import matplotlib.lines as mlines\n",
    "import statsmodels.api as sm\n",
    "\n",
    "from sklearn.model_selection import cross_val_score\n",
    "from sklearn.model_selection import train_test_split\n",
    "from sklearn.linear_model import LinearRegression\n",
    "from sklearn.metrics import mean_squared_error\n",
    "from sklearn.metrics import accuracy_score\n",
    "\n",
    "from sklearn.preprocessing import MinMaxScaler, StandardScaler, PolynomialFeatures \n",
    "from sklearn.model_selection import train_test_split, KFold\n",
    "from sklearn.linear_model import LinearRegression, Ridge, Lasso\n",
    "from sklearn import datasets\n",
    "from sklearn.metrics import confusion_matrix\n",
    "from sklearn.metrics import classification_report\n",
    "from sklearn.metrics import plot_confusion_matrix\n",
    "\n",
    "from sklearn.ensemble import RandomForestRegressor\n",
    "from sklearn.ensemble import RandomForestClassifier\n",
    "from sklearn.tree import DecisionTreeRegressor, DecisionTreeClassifier, plot_tree\n",
    "\n",
    "from sklearn.linear_model import LogisticRegression\n",
    "\n",
    "from scipy import stats\n",
    "from scipy.stats import norm, bernoulli\n",
    "\n",
    "import seaborn as sns"
   ]
  },
  {
   "cell_type": "markdown",
   "metadata": {
    "id": "7v-boP0k6oZo"
   },
   "source": [
    "## Data preparation\n",
    "\n",
    "In this part, we load the data and prepare it to the extent that we can use it to calculate our tree"
   ]
  },
  {
   "cell_type": "code",
   "execution_count": 3,
   "metadata": {
    "colab": {
     "base_uri": "https://localhost:8080/"
    },
    "id": "vlMki8QC6oZo",
    "outputId": "7cd57cb2-aecf-490f-bee6-6b267ec48e8c"
   },
   "outputs": [
    {
     "data": {
      "text/plain": [
       "Accident_Index                1482372\n",
       "Accident_Severity             1482372\n",
       "Road_Class                    1482372\n",
       "Speed_limit                   1482372\n",
       "Junction_Detail               1482372\n",
       "Light_Conditions              1482372\n",
       "Weather_Conditions            1482372\n",
       "Road_Surface_Conditions       1482372\n",
       "Hour_of_Day                   1482372\n",
       "Year                          1482372\n",
       "Month                         1482372\n",
       "Day_of_Week                   1482372\n",
       "Multiple_Vehicles_involved    1482372\n",
       "Urban_Area                    1482372\n",
       "Vehicle_Type                  1482372\n",
       "Sex_of_Driver                 1482372\n",
       "Age_of_Driver                 1482372\n",
       "Engine_Capacity_(CC)          1482372\n",
       "Age_of_Vehicle                1482372\n",
       "dtype: int64"
      ]
     },
     "execution_count": 3,
     "metadata": {
      "tags": []
     },
     "output_type": "execute_result"
    }
   ],
   "source": [
    "acc = pd.read_csv('UK_accidents_preprocessed.csv')\n",
    "acc.count()"
   ]
  },
  {
   "cell_type": "code",
   "execution_count": 4,
   "metadata": {
    "colab": {
     "base_uri": "https://localhost:8080/"
    },
    "id": "Ihgno9PC6oZq",
    "outputId": "f4579568-4f36-484f-fdce-e7f58680a013"
   },
   "outputs": [
    {
     "name": "stderr",
     "output_type": "stream",
     "text": [
      "/usr/local/lib/python3.6/dist-packages/pandas/core/indexing.py:670: SettingWithCopyWarning: \n",
      "A value is trying to be set on a copy of a slice from a DataFrame\n",
      "\n",
      "See the caveats in the documentation: https://pandas.pydata.org/pandas-docs/stable/user_guide/indexing.html#returning-a-view-versus-a-copy\n",
      "  iloc._setitem_with_indexer(indexer, value)\n"
     ]
    }
   ],
   "source": [
    "# First, the variables which were already in the correct order as characters are transformed  is transformed into characters of 1 to 3. Here, 1 stands for slight and 3 for lethal accident\n",
    "\n",
    "# re-assign the only nan value\n",
    "\n",
    "acc['Age_of_Vehicle'] = np.where(acc['Age_of_Vehicle'].isna() == True, 'New (0-1)', acc['Age_of_Vehicle'])\n",
    "acc['Day_of_Week'] = np.where(acc['Day_of_Week'] == 'We', 'Wednesday', acc['Day_of_Week'])\n",
    "acc['Age_of_Driver'] = np.where(acc['Age_of_Driver'].isna() == True, '21-25', acc['Age_of_Driver'])\n",
    "acc['Engine_Capacity_(CC)'] = np.where(acc['Engine_Capacity_(CC)'].isna() == True, '0-125cc', acc['Engine_Capacity_(CC)'])\n",
    "\n",
    "var = ['Accident_Severity', 'Road_Class', 'Junction_Detail', 'Light_Conditions', 'Weather_Conditions', 'Road_Surface_Conditions', 'Vehicle_Type', 'Sex_of_Driver'] \n",
    "\n",
    "for i in acc[var]: \n",
    "  acc[i + '_Code'] = pd.factorize(acc[i])[0] + 1\n",
    "\n",
    "# Then, we assign the day of the week codes back: \n",
    "\n",
    "acc['Day_of_Week_Code'] = np.zeros\n",
    "acc['Day_of_Week_Code'].loc[acc['Day_of_Week'] == 'Monday'] = 1\n",
    "acc['Day_of_Week_Code'].loc[acc['Day_of_Week'] == 'Tuesday'] = 2\n",
    "acc['Day_of_Week_Code'].loc[acc['Day_of_Week'] == 'Wednesday'] = 3\n",
    "acc['Day_of_Week_Code'].loc[acc['Day_of_Week'] == 'Thursday'] = 4\n",
    "acc['Day_of_Week_Code'].loc[acc['Day_of_Week'] == 'Friday'] = 5\n",
    "acc['Day_of_Week_Code'].loc[acc['Day_of_Week'] == 'Saturday'] = 6\n",
    "acc['Day_of_Week_Code'].loc[acc['Day_of_Week'] == 'Sunday'] = 7\n",
    "\n",
    "acc['Day_of_Week_Code'] = acc['Day_of_Week_Code'].astype(int)\n",
    "\n",
    "# Next, we do the same for Age of Vehicle\n",
    "\n",
    "acc['Age_of_Vehicle_Code'] = np.zeros\n",
    "acc['Age_of_Vehicle_Code'].loc[acc['Age_of_Vehicle'] == 'New (0-1)'] = 1\n",
    "acc['Age_of_Vehicle_Code'].loc[acc['Age_of_Vehicle'] == '2-5'] = 2\n",
    "acc['Age_of_Vehicle_Code'].loc[acc['Age_of_Vehicle'] == '6-10'] = 3\n",
    "acc['Age_of_Vehicle_Code'].loc[acc['Age_of_Vehicle'] == '>10'] = 4\n",
    "\n",
    "acc['Age_of_Vehicle_Code'] = acc['Age_of_Vehicle_Code'].astype(int)\n",
    "\n",
    "# And for Age of Driver bins\n",
    "\n",
    "acc['Age_of_Driver_Code'] = np.zeros\n",
    "acc['Age_of_Driver_Code'].loc[acc['Age_of_Driver'] == '<18'] = 1\n",
    "acc['Age_of_Driver_Code'].loc[acc['Age_of_Driver'] == '18-20'] = 2\n",
    "acc['Age_of_Driver_Code'].loc[acc['Age_of_Driver'] == '21-25'] = 3\n",
    "acc['Age_of_Driver_Code'].loc[acc['Age_of_Driver'] == '26-35'] = 4\n",
    "acc['Age_of_Driver_Code'].loc[acc['Age_of_Driver'] == '36-45'] = 5\n",
    "acc['Age_of_Driver_Code'].loc[acc['Age_of_Driver'] == '46-55'] = 6\n",
    "acc['Age_of_Driver_Code'].loc[acc['Age_of_Driver'] == '56-65'] = 7\n",
    "acc['Age_of_Driver_Code'].loc[acc['Age_of_Driver'] == '66-75'] = 8\n",
    "acc['Age_of_Driver_Code'].loc[acc['Age_of_Driver'] == '>75'] = 9\n",
    "\n",
    "acc['Age_of_Driver_Code'] = acc['Age_of_Driver_Code'].astype(int)\n",
    "\n",
    "\n",
    "# As well as for Engine Capacity \n",
    "\n",
    "acc['Engine_Capacity_(CC)_Code'] = np.zeros\n",
    "acc['Engine_Capacity_(CC)_Code'].loc[acc['Engine_Capacity_(CC)'] == '0-125cc'] = 1\n",
    "acc['Engine_Capacity_(CC)_Code'].loc[acc['Engine_Capacity_(CC)'] == '126-350cc'] = 2\n",
    "acc['Engine_Capacity_(CC)_Code'].loc[acc['Engine_Capacity_(CC)'] == '351-600cc'] = 3\n",
    "acc['Engine_Capacity_(CC)_Code'].loc[acc['Engine_Capacity_(CC)'] == '601-1150cc'] = 4\n",
    "acc['Engine_Capacity_(CC)_Code'].loc[acc['Engine_Capacity_(CC)'] == '1151-1999cc'] = 5\n",
    "acc['Engine_Capacity_(CC)_Code'].loc[acc['Engine_Capacity_(CC)'] == '2000-2999cc'] = 6\n",
    "acc['Engine_Capacity_(CC)_Code'].loc[acc['Engine_Capacity_(CC)'] == '3000-3999cc'] = 7\n",
    "acc['Engine_Capacity_(CC)_Code'].loc[acc['Engine_Capacity_(CC)'] == '>4000cc'] = 8\n",
    "\n",
    "acc['Engine_Capacity_(CC)_Code'] = acc['Engine_Capacity_(CC)_Code'].astype(int)"
   ]
  },
  {
   "cell_type": "code",
   "execution_count": 5,
   "metadata": {
    "colab": {
     "base_uri": "https://localhost:8080/",
     "height": 317
    },
    "id": "qTcq_fxX6oZr",
    "outputId": "e4d01331-4bbe-42cf-bd7f-2f6e4f19108e",
    "scrolled": true
   },
   "outputs": [
    {
     "data": {
      "text/html": [
       "<div>\n",
       "<style scoped>\n",
       "    .dataframe tbody tr th:only-of-type {\n",
       "        vertical-align: middle;\n",
       "    }\n",
       "\n",
       "    .dataframe tbody tr th {\n",
       "        vertical-align: top;\n",
       "    }\n",
       "\n",
       "    .dataframe thead th {\n",
       "        text-align: right;\n",
       "    }\n",
       "</style>\n",
       "<table border=\"1\" class=\"dataframe\">\n",
       "  <thead>\n",
       "    <tr style=\"text-align: right;\">\n",
       "      <th></th>\n",
       "      <th>Speed_limit</th>\n",
       "      <th>Hour_of_Day</th>\n",
       "      <th>Year</th>\n",
       "      <th>Month</th>\n",
       "      <th>Multiple_Vehicles_involved</th>\n",
       "      <th>Urban_Area</th>\n",
       "      <th>Accident_Severity_Code</th>\n",
       "      <th>Road_Class_Code</th>\n",
       "      <th>Junction_Detail_Code</th>\n",
       "      <th>Light_Conditions_Code</th>\n",
       "      <th>Weather_Conditions_Code</th>\n",
       "      <th>Road_Surface_Conditions_Code</th>\n",
       "      <th>Vehicle_Type_Code</th>\n",
       "      <th>Sex_of_Driver_Code</th>\n",
       "      <th>Day_of_Week_Code</th>\n",
       "      <th>Age_of_Vehicle_Code</th>\n",
       "      <th>Age_of_Driver_Code</th>\n",
       "      <th>Engine_Capacity_(CC)_Code</th>\n",
       "    </tr>\n",
       "  </thead>\n",
       "  <tbody>\n",
       "    <tr>\n",
       "      <th>count</th>\n",
       "      <td>1.482372e+06</td>\n",
       "      <td>1.482372e+06</td>\n",
       "      <td>1.482372e+06</td>\n",
       "      <td>1.482372e+06</td>\n",
       "      <td>1.482372e+06</td>\n",
       "      <td>1.482372e+06</td>\n",
       "      <td>1.482372e+06</td>\n",
       "      <td>1.482372e+06</td>\n",
       "      <td>1.482372e+06</td>\n",
       "      <td>1.482372e+06</td>\n",
       "      <td>1.482372e+06</td>\n",
       "      <td>1.482372e+06</td>\n",
       "      <td>1.482372e+06</td>\n",
       "      <td>1.482372e+06</td>\n",
       "      <td>1.482372e+06</td>\n",
       "      <td>1.482372e+06</td>\n",
       "      <td>1.482372e+06</td>\n",
       "      <td>1.482372e+06</td>\n",
       "    </tr>\n",
       "    <tr>\n",
       "      <th>mean</th>\n",
       "      <td>3.922839e+01</td>\n",
       "      <td>1.362957e+01</td>\n",
       "      <td>2.011485e+03</td>\n",
       "      <td>6.617869e+00</td>\n",
       "      <td>7.076746e-01</td>\n",
       "      <td>6.281608e-01</td>\n",
       "      <td>1.177874e+00</td>\n",
       "      <td>1.960208e+00</td>\n",
       "      <td>1.655555e+00</td>\n",
       "      <td>1.674603e+00</td>\n",
       "      <td>1.417309e+00</td>\n",
       "      <td>1.362196e+00</td>\n",
       "      <td>1.085856e+00</td>\n",
       "      <td>1.666635e+00</td>\n",
       "      <td>3.929747e+00</td>\n",
       "      <td>2.906279e+00</td>\n",
       "      <td>4.698292e+00</td>\n",
       "      <td>4.824370e+00</td>\n",
       "    </tr>\n",
       "    <tr>\n",
       "      <th>std</th>\n",
       "      <td>1.429680e+01</td>\n",
       "      <td>5.193850e+00</td>\n",
       "      <td>4.273592e+00</td>\n",
       "      <td>3.444451e+00</td>\n",
       "      <td>4.548312e-01</td>\n",
       "      <td>4.832959e-01</td>\n",
       "      <td>4.175724e-01</td>\n",
       "      <td>1.125635e+00</td>\n",
       "      <td>6.472355e-01</td>\n",
       "      <td>1.177433e+00</td>\n",
       "      <td>1.071775e+00</td>\n",
       "      <td>5.769500e-01</td>\n",
       "      <td>2.801509e-01</td>\n",
       "      <td>4.714159e-01</td>\n",
       "      <td>1.937186e+00</td>\n",
       "      <td>9.644327e-01</td>\n",
       "      <td>1.889562e+00</td>\n",
       "      <td>1.019235e+00</td>\n",
       "    </tr>\n",
       "    <tr>\n",
       "      <th>min</th>\n",
       "      <td>1.000000e+01</td>\n",
       "      <td>0.000000e+00</td>\n",
       "      <td>2.005000e+03</td>\n",
       "      <td>1.000000e+00</td>\n",
       "      <td>0.000000e+00</td>\n",
       "      <td>0.000000e+00</td>\n",
       "      <td>1.000000e+00</td>\n",
       "      <td>1.000000e+00</td>\n",
       "      <td>1.000000e+00</td>\n",
       "      <td>1.000000e+00</td>\n",
       "      <td>1.000000e+00</td>\n",
       "      <td>1.000000e+00</td>\n",
       "      <td>1.000000e+00</td>\n",
       "      <td>1.000000e+00</td>\n",
       "      <td>1.000000e+00</td>\n",
       "      <td>1.000000e+00</td>\n",
       "      <td>1.000000e+00</td>\n",
       "      <td>1.000000e+00</td>\n",
       "    </tr>\n",
       "    <tr>\n",
       "      <th>25%</th>\n",
       "      <td>3.000000e+01</td>\n",
       "      <td>1.000000e+01</td>\n",
       "      <td>2.008000e+03</td>\n",
       "      <td>4.000000e+00</td>\n",
       "      <td>0.000000e+00</td>\n",
       "      <td>0.000000e+00</td>\n",
       "      <td>1.000000e+00</td>\n",
       "      <td>1.000000e+00</td>\n",
       "      <td>1.000000e+00</td>\n",
       "      <td>1.000000e+00</td>\n",
       "      <td>1.000000e+00</td>\n",
       "      <td>1.000000e+00</td>\n",
       "      <td>1.000000e+00</td>\n",
       "      <td>1.000000e+00</td>\n",
       "      <td>2.000000e+00</td>\n",
       "      <td>2.000000e+00</td>\n",
       "      <td>3.000000e+00</td>\n",
       "      <td>5.000000e+00</td>\n",
       "    </tr>\n",
       "    <tr>\n",
       "      <th>50%</th>\n",
       "      <td>3.000000e+01</td>\n",
       "      <td>1.400000e+01</td>\n",
       "      <td>2.011000e+03</td>\n",
       "      <td>7.000000e+00</td>\n",
       "      <td>1.000000e+00</td>\n",
       "      <td>1.000000e+00</td>\n",
       "      <td>1.000000e+00</td>\n",
       "      <td>2.000000e+00</td>\n",
       "      <td>2.000000e+00</td>\n",
       "      <td>1.000000e+00</td>\n",
       "      <td>1.000000e+00</td>\n",
       "      <td>1.000000e+00</td>\n",
       "      <td>1.000000e+00</td>\n",
       "      <td>2.000000e+00</td>\n",
       "      <td>4.000000e+00</td>\n",
       "      <td>3.000000e+00</td>\n",
       "      <td>5.000000e+00</td>\n",
       "      <td>5.000000e+00</td>\n",
       "    </tr>\n",
       "    <tr>\n",
       "      <th>75%</th>\n",
       "      <td>5.000000e+01</td>\n",
       "      <td>1.700000e+01</td>\n",
       "      <td>2.015000e+03</td>\n",
       "      <td>1.000000e+01</td>\n",
       "      <td>1.000000e+00</td>\n",
       "      <td>1.000000e+00</td>\n",
       "      <td>1.000000e+00</td>\n",
       "      <td>3.000000e+00</td>\n",
       "      <td>2.000000e+00</td>\n",
       "      <td>3.000000e+00</td>\n",
       "      <td>1.000000e+00</td>\n",
       "      <td>2.000000e+00</td>\n",
       "      <td>1.000000e+00</td>\n",
       "      <td>2.000000e+00</td>\n",
       "      <td>6.000000e+00</td>\n",
       "      <td>4.000000e+00</td>\n",
       "      <td>6.000000e+00</td>\n",
       "      <td>5.000000e+00</td>\n",
       "    </tr>\n",
       "    <tr>\n",
       "      <th>max</th>\n",
       "      <td>7.000000e+01</td>\n",
       "      <td>2.300000e+01</td>\n",
       "      <td>2.019000e+03</td>\n",
       "      <td>1.200000e+01</td>\n",
       "      <td>1.000000e+00</td>\n",
       "      <td>1.000000e+00</td>\n",
       "      <td>3.000000e+00</td>\n",
       "      <td>5.000000e+00</td>\n",
       "      <td>3.000000e+00</td>\n",
       "      <td>5.000000e+00</td>\n",
       "      <td>8.000000e+00</td>\n",
       "      <td>5.000000e+00</td>\n",
       "      <td>2.000000e+00</td>\n",
       "      <td>2.000000e+00</td>\n",
       "      <td>7.000000e+00</td>\n",
       "      <td>4.000000e+00</td>\n",
       "      <td>9.000000e+00</td>\n",
       "      <td>8.000000e+00</td>\n",
       "    </tr>\n",
       "  </tbody>\n",
       "</table>\n",
       "</div>"
      ],
      "text/plain": [
       "        Speed_limit  ...  Engine_Capacity_(CC)_Code\n",
       "count  1.482372e+06  ...               1.482372e+06\n",
       "mean   3.922839e+01  ...               4.824370e+00\n",
       "std    1.429680e+01  ...               1.019235e+00\n",
       "min    1.000000e+01  ...               1.000000e+00\n",
       "25%    3.000000e+01  ...               5.000000e+00\n",
       "50%    3.000000e+01  ...               5.000000e+00\n",
       "75%    5.000000e+01  ...               5.000000e+00\n",
       "max    7.000000e+01  ...               8.000000e+00\n",
       "\n",
       "[8 rows x 18 columns]"
      ]
     },
     "execution_count": 5,
     "metadata": {
      "tags": []
     },
     "output_type": "execute_result"
    }
   ],
   "source": [
    "acc.describe()"
   ]
  },
  {
   "cell_type": "markdown",
   "metadata": {
    "id": "0Msn-gVJ6oZr"
   },
   "source": [
    "### Final Data Preparation\n",
    "\n",
    "In this step, we reformat our data into indicator variables and the outcome variable to a numeric scale, needed for the DecisionTreeClassifier"
   ]
  },
  {
   "cell_type": "code",
   "execution_count": 6,
   "metadata": {
    "colab": {
     "base_uri": "https://localhost:8080/"
    },
    "id": "vwi34n1u6oZs",
    "outputId": "79a02b84-fd22-45ce-db17-d9fb8918d360",
    "scrolled": false
   },
   "outputs": [
    {
     "name": "stdout",
     "output_type": "stream",
     "text": [
      "<class 'pandas.core.frame.DataFrame'>\n",
      "RangeIndex: 1482372 entries, 0 to 1482371\n",
      "Data columns (total 17 columns):\n",
      " #   Column                      Non-Null Count    Dtype \n",
      "---  ------                      --------------    ----- \n",
      " 0   Road_Class                  1482372 non-null  object\n",
      " 1   Speed_limit                 1482372 non-null  object\n",
      " 2   Junction_Detail             1482372 non-null  object\n",
      " 3   Light_Conditions            1482372 non-null  object\n",
      " 4   Weather_Conditions          1482372 non-null  object\n",
      " 5   Road_Surface_Conditions     1482372 non-null  object\n",
      " 6   Hour_of_Day                 1482372 non-null  object\n",
      " 7   Year                        1482372 non-null  object\n",
      " 8   Month                       1482372 non-null  object\n",
      " 9   Day_of_Week                 1482372 non-null  object\n",
      " 10  Multiple_Vehicles_involved  1482372 non-null  int64 \n",
      " 11  Urban_Area                  1482372 non-null  int64 \n",
      " 12  Vehicle_Type                1482372 non-null  object\n",
      " 13  Sex_of_Driver               1482372 non-null  object\n",
      " 14  Age_of_Driver               1482372 non-null  object\n",
      " 15  Engine_Capacity_(CC)        1482372 non-null  object\n",
      " 16  Age_of_Vehicle              1482372 non-null  object\n",
      "dtypes: int64(2), object(15)\n",
      "memory usage: 192.3+ MB\n"
     ]
    }
   ],
   "source": [
    "# Get the features\n",
    "acc_dt = acc[acc.columns[acc.columns.isin(['Accident_Severity', 'Road_Class', 'Junction_Detail', 'Light_Conditions', \n",
    "                                                 'Weather_Conditions', 'Road_Surface_Conditions', 'Vehicle_Type', 'Sex_of_Driver', \n",
    "                                                 'Day_of_Week', 'Engine_Capacity_(CC)', 'Age_of_Driver', 'Age_of_Vehicle',\n",
    "                                                 'Multiple_Vehicles_involved', 'Urban_Area', 'Month', 'Year', 'Hour_of_Day', 'Speed_limit'])]]\n",
    "# Bring them into the desired format\n",
    "features = acc_dt[acc_dt.columns[~acc_dt.columns.isin(['Accident_Severity'])]]\n",
    "features = features.astype(object)\n",
    "features[['Multiple_Vehicles_involved','Urban_Area']] = features[['Multiple_Vehicles_involved','Urban_Area']].astype(int)\n",
    "features.info()\n",
    "\n",
    "# Apply one hot encoding to get category-indicating variables for each categorical feature\n",
    "X = pd.get_dummies(features, drop_first=False)\n",
    "X = X.to_numpy()\n",
    "\n",
    "#Keep Accident_Severity as integer\n",
    "y1 = acc['Accident_Severity_Code']"
   ]
  },
  {
   "cell_type": "markdown",
   "metadata": {
    "id": "ZfRqT4526oZt"
   },
   "source": [
    "## Building the optimal Tree\n",
    "\n",
    "We build the tree in the following way: \n",
    "<br>\n",
    "1) Determine the optimal depth of the tree\n",
    "<br>\n",
    "2) Find the optimal minimum number of samples per split\n",
    "<br>\n",
    "3) Find the optimal minimum nubers of samples per leaf\n",
    "<br>\n",
    "4) Find the optimal maximum number of features\n",
    "<br>\n",
    "<br>\n",
    "The procedure is based on a 10-fold Cross-Validation in order to determine the optimal attributes. "
   ]
  },
  {
   "cell_type": "code",
   "execution_count": null,
   "metadata": {
    "colab": {
     "base_uri": "https://localhost:8080/"
    },
    "id": "lE_RQQeT6oZt",
    "outputId": "5f96f332-93dd-4241-ab26-7950a462bb86"
   },
   "outputs": [
    {
     "name": "stdout",
     "output_type": "stream",
     "text": [
      "y = 0          1\n",
      "1          1\n",
      "2          1\n",
      "3          1\n",
      "4          1\n",
      "          ..\n",
      "1482367    1\n",
      "1482368    1\n",
      "1482369    1\n",
      "1482370    1\n",
      "1482371    2\n",
      "Name: Accident_Severity_Code, Length: 1482372, dtype: int64\n"
     ]
    }
   ],
   "source": [
    "print(\"y =\", y1) "
   ]
  },
  {
   "cell_type": "code",
   "execution_count": null,
   "metadata": {
    "colab": {
     "base_uri": "https://localhost:8080/",
     "height": 295
    },
    "id": "oqeKw0_L6oZu",
    "outputId": "df1b20c7-3744-46f5-92fd-6e8ecfc7b2a9",
    "scrolled": false
   },
   "outputs": [
    {
     "data": {
      "image/png": "[encoded data removed]",
      "text/plain": [
       "<Figure size 432x288 with 1 Axes>"
      ]
     },
     "metadata": {
      "needs_background": "light",
      "tags": []
     },
     "output_type": "display_data"
    }
   ],
   "source": [
    "from sklearn.metrics import roc_curve, auc\n",
    "max_depths = 32\n",
    "range_depths = range(1,32)\n",
    "X_train, X_test, y_train, y_test = train_test_split(X, y1, test_size = 0.2, random_state = 0)\n",
    "train_results = []\n",
    "\n",
    "\n",
    "for i in range(1,32):\n",
    "    clf = DecisionTreeClassifier(max_depth=i, splitter = 'random', random_state = 1)\n",
    "    scores_train = cross_val_score(estimator=clf, X=X_train, y=y_train, cv=10, scoring='accuracy')\n",
    "    train_results.append((scores_train.mean()))\n",
    "\n",
    "    \n",
    "fig = plt.figure()\n",
    "ax = plt.subplot(111)\n",
    "ax.plot(range_depths, np.array(train_results), 'b', label = \"Accuracy train\")\n",
    "plt.title('Legend outside')\n",
    "chartBox = ax.get_position()\n",
    "ax.set_position([chartBox.x0, chartBox.y0, chartBox.width*0.6, chartBox.height])\n",
    "ax.legend(loc='upper center', bbox_to_anchor=(1.45, 0.8), shadow=True, ncol=1)\n",
    "plt.xlabel('Depth')\n",
    "plt.ylabel('Accuracy')\n",
    "plt.title('Accuracy for training set for different forms of max_depths')\n",
    "plt.show()\n"
   ]
  },
  {
   "cell_type": "code",
   "execution_count": null,
   "metadata": {
    "colab": {
     "base_uri": "https://localhost:8080/"
    },
    "id": "Mz09499E6oZv",
    "outputId": "bc116c23-b574-4534-8d36-ba5ab1aab0e5",
    "scrolled": false
   },
   "outputs": [
    {
     "data": {
      "text/plain": [
       "[0.8363323290555489,\n",
       " 0.8363323290555489,\n",
       " 0.8363323290555489,\n",
       " 0.8370448698544518,\n",
       " 0.837255680813859,\n",
       " 0.8371890645639122,\n",
       " 0.8372539944945634,\n",
       " 0.8371089566716741,\n",
       " 0.8370288484025732,\n",
       " 0.8367404587916656,\n",
       " 0.8362083719552927,\n",
       " 0.8356231610445608,\n",
       " 0.8347554636252772,\n",
       " 0.8337553769190773,\n",
       " 0.8325006303512085,\n",
       " 0.8309321965885216,\n",
       " 0.8291546398282768,\n",
       " 0.8270262927956532,\n",
       " 0.8248726489683982,\n",
       " 0.8220039339069182,\n",
       " 0.8190736622146664,\n",
       " 0.8157664610530379,\n",
       " 0.8121919518564094,\n",
       " 0.8085348044602118,\n",
       " 0.8047680352314426,\n",
       " 0.8008511685890518,\n",
       " 0.7964991892672721,\n",
       " 0.7925840082544466,\n",
       " 0.7884892186608082,\n",
       " 0.7842384276979174,\n",
       " 0.7799910095300516]"
      ]
     },
     "execution_count": 9,
     "metadata": {
      "tags": []
     },
     "output_type": "execute_result"
    }
   ],
   "source": [
    "train_results"
   ]
  },
  {
   "cell_type": "markdown",
   "metadata": {
    "id": "K2YmJAwU6oZv"
   },
   "source": [
    "Maximum at 5\n",
    "<br>\n",
    "Now turn to min_split:"
   ]
  },
  {
   "cell_type": "code",
   "execution_count": null,
   "metadata": {
    "id": "RGlwiMOa6oZv"
   },
   "outputs": [],
   "source": [
    "min_splits = 1.0\n",
    "range_depths = np.arange(0.01,1.0, 0.05)\n",
    "\n",
    "train_results = []\n",
    "\n",
    "\n",
    "for i in np.arange(0.01,1.0, 0.05):\n",
    "    clf = DecisionTreeClassifier(max_depth=5, min_samples_split=i, splitter = 'random', random_state = 1)\n",
    "    scores_train = cross_val_score(estimator=clf, X=X_train, y=y_train, cv=10, scoring='accuracy')\n",
    "    train_results.append((scores_train.mean()))\n"
   ]
  },
  {
   "cell_type": "code",
   "execution_count": null,
   "metadata": {
    "colab": {
     "base_uri": "https://localhost:8080/"
    },
    "id": "a2ulvHSK6oZw",
    "outputId": "a2995616-2196-4975-8916-43270bb463cf"
   },
   "outputs": [
    {
     "data": {
      "text/plain": [
       "[0.8372573672966992,\n",
       " 0.8363323290555489,\n",
       " 0.8363323290555489,\n",
       " 0.8363323290555489,\n",
       " 0.8363323290555489,\n",
       " 0.8363323290555489,\n",
       " 0.8363323290555489,\n",
       " 0.8363323290555489,\n",
       " 0.8363323290555489,\n",
       " 0.8363323290555489,\n",
       " 0.8363323290555489,\n",
       " 0.8363323290555489,\n",
       " 0.8363323290555489,\n",
       " 0.8363323290555489,\n",
       " 0.8363323290555489,\n",
       " 0.8363323290555489,\n",
       " 0.8363323290555489,\n",
       " 0.8363323290555489,\n",
       " 0.8363323290555489,\n",
       " 0.8363323290555489]"
      ]
     },
     "execution_count": 12,
     "metadata": {
      "tags": []
     },
     "output_type": "execute_result"
    }
   ],
   "source": [
    "train_results"
   ]
  },
  {
   "cell_type": "code",
   "execution_count": null,
   "metadata": {
    "colab": {
     "base_uri": "https://localhost:8080/",
     "height": 295
    },
    "id": "wFwgWbAm6oZw",
    "outputId": "358e1c3b-717f-4258-db79-93afea86491f"
   },
   "outputs": [
    {
     "data": {
      "image/png": "[encoded data removed]",
      "text/plain": [
       "<Figure size 432x288 with 1 Axes>"
      ]
     },
     "metadata": {
      "needs_background": "light",
      "tags": []
     },
     "output_type": "display_data"
    }
   ],
   "source": [
    "range_min = np.arange(0.01,0.1, 0.01)\n",
    "\n",
    "train_results = []\n",
    "\n",
    "for i in np.arange(0.01,0.1, 0.01):\n",
    "    clf = DecisionTreeClassifier(max_depth=5, min_samples_split=i, splitter = 'random', random_state = 1)\n",
    "    scores_train = cross_val_score(estimator=clf, X=X_train, y=y_train, cv=10, scoring='accuracy')\n",
    "    train_results.append((scores_train.mean()))\n",
    "\n",
    "fig = plt.figure()\n",
    "ax = plt.subplot(111)\n",
    "ax.plot(range_min, np.array(train_results), 'b', label = \"Accuracy train\")\n",
    "plt.title('Legend outside')\n",
    "chartBox = ax.get_position()\n",
    "ax.set_position([chartBox.x0, chartBox.y0, chartBox.width*0.6, chartBox.height])\n",
    "ax.legend(loc='upper center', bbox_to_anchor=(1.45, 0.8), shadow=True, ncol=1)\n",
    "plt.xlabel('Samples per split')\n",
    "plt.ylabel('Accuracy')\n",
    "plt.title('Accuracy for training set for different forms of Samples per split')\n",
    "plt.show()"
   ]
  },
  {
   "cell_type": "code",
   "execution_count": null,
   "metadata": {
    "colab": {
     "base_uri": "https://localhost:8080/"
    },
    "id": "1p6Z-9ok6oZw",
    "outputId": "5fd65dbd-00e1-4fe7-d377-acb7e6ec54f5"
   },
   "outputs": [
    {
     "data": {
      "text/plain": [
       "[0.8364246563791213,\n",
       " 0.8364246563791213,\n",
       " 0.8362222784383169,\n",
       " 0.8356320094443039,\n",
       " 0.8356320094443039,\n",
       " 0.8356320094443039,\n",
       " 0.8356320094443039,\n",
       " 0.8356320094443039,\n",
       " 0.8356320094443039,\n",
       " 0.8356320094443039]"
      ]
     },
     "execution_count": 14,
     "metadata": {
      "tags": []
     },
     "output_type": "execute_result"
    }
   ],
   "source": [
    "test_accuracy = []\n",
    "\n",
    "for i in np.arange(0.0001,0.1, 0.01):\n",
    "    \n",
    "    clf = DecisionTreeClassifier(max_depth=5, min_samples_split=i,splitter = 'random', random_state = 1)\n",
    "    clf.fit(X_train, y_train)\n",
    "    preds = clf.predict(X_test)\n",
    "    acc = accuracy_score(y_test, preds)\n",
    "    test_accuracy.append(acc)\n",
    "\n",
    "test_accuracy"
   ]
  },
  {
   "cell_type": "markdown",
   "metadata": {
    "id": "MoUBTYcU6oZx"
   },
   "source": [
    "We see that the first choice, 0.0001 is the best option\n",
    "\n",
    "Now: min_sample_leaf"
   ]
  },
  {
   "cell_type": "code",
   "execution_count": null,
   "metadata": {
    "colab": {
     "base_uri": "https://localhost:8080/",
     "height": 295
    },
    "id": "G3Z4QUX76oZx",
    "outputId": "377b06c8-f264-4f64-83af-7247bcb8b0e7"
   },
   "outputs": [
    {
     "data": {
      "image/png": "[encoded data removed]",
      "text/plain": [
       "<Figure size 432x288 with 1 Axes>"
      ]
     },
     "metadata": {
      "needs_background": "light",
      "tags": []
     },
     "output_type": "display_data"
    }
   ],
   "source": [
    "range_tree_nodes = np.arange(0.001, 0.5, 0.05)\n",
    "\n",
    "train_results = []\n",
    "\n",
    "for i in np.arange(0.001,0.5, 0.05):\n",
    "    clf = DecisionTreeClassifier(max_depth=5, min_samples_split=0.0001, min_samples_leaf = i, splitter = 'random', random_state = 1)\n",
    "    scores_train = cross_val_score(estimator=clf, X=X_train, y=y_train, cv=10, scoring='accuracy')\n",
    "    train_results.append((scores_train.mean()))\n",
    "\n",
    "fig = plt.figure()\n",
    "ax = plt.subplot(111)\n",
    "ax.plot(range_tree_nodes, np.array(train_results), 'b', label = \"Accuracy train\")\n",
    "plt.title('Legend outside')\n",
    "chartBox = ax.get_position()\n",
    "ax.set_position([chartBox.x0, chartBox.y0, chartBox.width*0.6, chartBox.height])\n",
    "ax.legend(loc='upper center', bbox_to_anchor=(1.45, 0.8), shadow=True, ncol=1)\n",
    "plt.xlabel('Samples per leaf')\n",
    "plt.ylabel('Accuracy')\n",
    "plt.title('Accuracy for train and test set for different forms of min_samples_leaf')\n",
    "plt.show()"
   ]
  },
  {
   "cell_type": "markdown",
   "metadata": {
    "id": "AQ1qkz4H6oZy"
   },
   "source": [
    "Test accuracy"
   ]
  },
  {
   "cell_type": "code",
   "execution_count": null,
   "metadata": {
    "colab": {
     "base_uri": "https://localhost:8080/"
    },
    "id": "Kzd8af636oZy",
    "outputId": "248338fc-8775-4846-a647-8bccc53aca5c"
   },
   "outputs": [
    {
     "data": {
      "text/plain": [
       "0.8364246563791213"
      ]
     },
     "execution_count": 16,
     "metadata": {
      "tags": []
     },
     "output_type": "execute_result"
    }
   ],
   "source": [
    "test_accuracy = []\n",
    "\n",
    "for i in np.arange(0.0001,0.5, 0.05):\n",
    "    \n",
    "    clf = DecisionTreeClassifier(max_depth=5, min_samples_split=0.0001,min_samples_leaf = i, splitter = 'random', random_state = 1)\n",
    "    clf.fit(X_train, y_train)\n",
    "    preds = clf.predict(X_test)\n",
    "    acc = accuracy_score(y_test, preds)\n",
    "    test_accuracy.append(acc)\n",
    "\n",
    "np.asarray(test_accuracy).max()"
   ]
  },
  {
   "cell_type": "markdown",
   "metadata": {
    "id": "IPzn2ZcZ6oZy"
   },
   "source": [
    "Min_sample_leaf at minimum of sample leaf of 0.0001"
   ]
  },
  {
   "cell_type": "code",
   "execution_count": 8,
   "metadata": {
    "colab": {
     "base_uri": "https://localhost:8080/",
     "height": 295
    },
    "id": "1pubqf6L6oZz",
    "outputId": "80f046ac-d703-4610-d9b4-24e5475e7669"
   },
   "outputs": [
    {
     "data": {
      "image/png": "[encoded data removed]",
      "text/plain": [
       "<Figure size 432x288 with 1 Axes>"
      ]
     },
     "metadata": {
      "needs_background": "light",
      "tags": []
     },
     "output_type": "display_data"
    }
   ],
   "source": [
    "max_features = np.arange(1, X_train.shape[1])\n",
    "\n",
    "train_results = []\n",
    "\n",
    "for i in np.arange(1, X_train.shape[1]):\n",
    "    clf = DecisionTreeClassifier(max_depth=5, min_samples_split=0.0001, min_samples_leaf = 0.0001, max_features = i, splitter = 'random', random_state = 1)\n",
    "    scores_train = cross_val_score(estimator=clf, X=X_train, y=y_train, cv=10, scoring='accuracy')\n",
    "    train_results.append((scores_train.mean()))\n",
    "\n",
    "fig = plt.figure()\n",
    "ax = plt.subplot(111)\n",
    "ax.plot(max_features, np.array(train_results), 'b', label = \"Accuracy train\")\n",
    "plt.title('Legend outside')\n",
    "chartBox = ax.get_position()\n",
    "ax.set_position([chartBox.x0, chartBox.y0, chartBox.width*0.6, chartBox.height])\n",
    "ax.legend(loc='upper center', bbox_to_anchor=(1.45, 0.8), shadow=True, ncol=1)\n",
    "plt.xlabel('Features')\n",
    "plt.ylabel('Accuracy')\n",
    "plt.title('Accuracy for training set for different forms of max_features')\n",
    "plt.show()"
   ]
  },
  {
   "cell_type": "code",
   "execution_count": null,
   "metadata": {
    "colab": {
     "base_uri": "https://localhost:8080/"
    },
    "id": "3xX80Dmd6oZz",
    "outputId": "4df2dcd7-6c93-4837-a622-9677301aa9a2"
   },
   "outputs": [
    {
     "name": "stdout",
     "output_type": "stream",
     "text": [
      "For a Decision Tree Regressor we obtain that a combination of maximum depth of = 5.0e+00, minimum sample split of 1.00e-04, minimum sample leaf of = 1.00e-04 as well as maximum number of features of = 1.19e+02 leads to the accuracy = 0.8371 among the set.\n"
     ]
    }
   ],
   "source": [
    "max_depth=5\n",
    "min_samples_split=0.0001\n",
    "min_samples_leaf = 0.0001\n",
    "max_features = 119\n",
    "\n",
    "clf = DecisionTreeClassifier(max_depth=5, min_samples_split=0.0001,min_samples_leaf = 0.0001, max_features = 119, splitter = 'random', random_state = 1)\n",
    "clf.fit(X, y1)\n",
    "preds = clf.predict(X)\n",
    "acc = accuracy_score(y1, preds)\n",
    "print('For a Decision Tree Regressor we obtain that a combination of maximum depth of = %.1e, minimum sample split of %.2e, minimum sample leaf of = %.2e as well as maximum number of features of = %.2e leads to the accuracy = %.4f among the set.' % (max_depth, min_samples_split, min_samples_leaf, max_features, acc))"
   ]
  },
  {
   "cell_type": "markdown",
   "metadata": {
    "id": "xA2FsgMR6oZ1"
   },
   "source": [
    "### Confusion Matrix and Classification Report"
   ]
  },
  {
   "cell_type": "code",
   "execution_count": null,
   "metadata": {
    "colab": {
     "base_uri": "https://localhost:8080/",
     "height": 296
    },
    "id": "ZUIvL3_a6oZ2",
    "outputId": "38339750-6cad-4df6-a845-0fa60136f51f",
    "scrolled": true
   },
   "outputs": [
    {
     "data": {
      "text/plain": [
       "<sklearn.metrics._plot.confusion_matrix.ConfusionMatrixDisplay at 0x7fa8119155f8>"
      ]
     },
     "execution_count": 19,
     "metadata": {
      "tags": []
     },
     "output_type": "execute_result"
    },
    {
     "data": {
      "image/png": "[encoded data removed]",
      "text/plain": [
       "<Figure size 432x288 with 2 Axes>"
      ]
     },
     "metadata": {
      "needs_background": "light",
      "tags": []
     },
     "output_type": "display_data"
    }
   ],
   "source": [
    "plot_confusion_matrix(clf, X_test, y_test, cmap = 'cividis')"
   ]
  },
  {
   "cell_type": "code",
   "execution_count": null,
   "metadata": {
    "colab": {
     "base_uri": "https://localhost:8080/"
    },
    "id": "a5cc2qHBlRz4",
    "outputId": "1dc0b6d2-5168-48c0-b871-46d84e9e55f0"
   },
   "outputs": [
    {
     "data": {
      "text/plain": [
       "array([[246543,   1201,      0],\n",
       "       [ 43051,   1436,      0],\n",
       "       [  3983,    261,      0]])"
      ]
     },
     "execution_count": 21,
     "metadata": {
      "tags": []
     },
     "output_type": "execute_result"
    }
   ],
   "source": [
    "yhat_clf = clf.predict(X_test)\n",
    "\n",
    "confusion = confusion_matrix(y_test, yhat_clf)\n",
    "confusion"
   ]
  },
  {
   "cell_type": "markdown",
   "metadata": {
    "id": "pTHB45DP6oZ2"
   },
   "source": [
    "Here we see that the prediction of the trees are only giving the outcomes 1 and 2, which are the least severe accident classification. This is somewhat surprising, as there are literally no predictions for the lethal accidents category. However, the accuracy remains relatively high, as there are still a little over 83%  of the predictions correct. This has to be consumed with a large portion of caution, as an attentive reader might has already seen, that most of the observations are in the first category. This means that for every observed accident that has an accident severity of \"severe\" or \"lethal\", there are more than five \"light\" accidents. Hence, a plausible explanation for the prediction of only \"light\" accidents could be, that there are so many of this kind, that the regression tree cannot accurately distingusih the different severities. It is likely, that on every road where there was a fatal accident, there were also many minor accidents. Also, for harsh weather conditions, it might be that there were too many \"light\" accidents relative to more severe ones, that the model predicts the most observed accident in this specific category, which is allways the \"light\" accident severity."
   ]
  },
  {
   "cell_type": "code",
   "execution_count": null,
   "metadata": {
    "colab": {
     "base_uri": "https://localhost:8080/"
    },
    "id": "bCdIhdaqkx3o",
    "outputId": "550026e1-7a09-42e5-cd7a-0ac388a409ea"
   },
   "outputs": [
    {
     "name": "stderr",
     "output_type": "stream",
     "text": [
      "/usr/local/lib/python3.6/dist-packages/sklearn/metrics/_classification.py:1272: UndefinedMetricWarning: Precision and F-score are ill-defined and being set to 0.0 in labels with no predicted samples. Use `zero_division` parameter to control this behavior.\n",
      "  _warn_prf(average, modifier, msg_start, len(result))\n"
     ]
    },
    {
     "name": "stdout",
     "output_type": "stream",
     "text": [
      "              precision    recall  f1-score   support\n",
      "\n",
      "           1       0.84      1.00      0.91    247744\n",
      "           2       0.50      0.03      0.06     44487\n",
      "           3       0.00      0.00      0.00      4244\n",
      "\n",
      "    accuracy                           0.84    296475\n",
      "   macro avg       0.45      0.34      0.32    296475\n",
      "weighted avg       0.78      0.84      0.77    296475\n",
      "\n"
     ]
    }
   ],
   "source": [
    "print(classification_report(y_test, yhat_clf))\n"
   ]
  }
 ],
 "metadata": {
  "colab": {
   "collapsed_sections": [],
   "name": "Assignment 2 Trees Marco.ipynb",
   "provenance": [],
   "toc_visible": true
  },
  "kernelspec": {
   "display_name": "Python 3",
   "language": "python",
   "name": "python3"
  },
  "language_info": {
   "codemirror_mode": {
    "name": "ipython",
    "version": 3
   },
   "file_extension": ".py",
   "mimetype": "text/x-python",
   "name": "python",
   "nbconvert_exporter": "python",
   "pygments_lexer": "ipython3",
   "version": "3.8.3"
  }
 },
 "nbformat": 4,
 "nbformat_minor": 1
}
